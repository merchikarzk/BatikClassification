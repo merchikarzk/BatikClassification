{
 "cells": [
  {
   "cell_type": "code",
   "execution_count": 1,
   "metadata": {
    "executionInfo": {
     "elapsed": 608,
     "status": "ok",
     "timestamp": 1708405742502,
     "user": {
      "displayName": "Henry Si",
      "userId": "17719448117276295977"
     },
     "user_tz": -480
    },
    "id": "0CoFPyu93R3q"
   },
   "outputs": [
    {
     "name": "stderr",
     "output_type": "stream",
     "text": [
      "2024-06-07 17:23:19.565649: I tensorflow/core/platform/cpu_feature_guard.cc:182] This TensorFlow binary is optimized to use available CPU instructions in performance-critical operations.\n",
      "To enable the following instructions: AVX2 FMA, in other operations, rebuild TensorFlow with the appropriate compiler flags.\n"
     ]
    }
   ],
   "source": [
    "# from google.colab import drive\n",
    "import zipfile\n",
    "import sys\n",
    "import h5py\n",
    "import numpy as np\n",
    "import os\n",
    "from PIL import Image\n",
    "import pandas as pd\n",
    "import logging\n",
    "import json\n",
    "import tensorflow as tf\n",
    "import itertools\n",
    "from tensorflow.keras.preprocessing.image import ImageDataGenerator\n",
    "from tensorflow.keras.optimizers import Adam\n",
    "from tensorflow.keras.layers import Conv2D, Dense, MaxPooling2D, Dropout, Flatten, BatchNormalization, Activation, GlobalAveragePooling2D, AveragePooling2D\n",
    "from tensorflow.keras.models import Sequential\n",
    "from tensorflow.keras.metrics import Precision, Accuracy, Recall\n",
    "from tensorflow.keras.callbacks import EarlyStopping, ModelCheckpoint, Callback\n",
    "from tensorflow.keras.applications import ResNet50, ResNet50V2\n",
    "from tensorflow.keras import layers, Model\n",
    "from tensorflow.keras.applications.resnet50 import preprocess_input\n",
    "from tensorflow.keras.models import load_model\n",
    "\n",
    "# import keras\n",
    "from keras.utils import to_categorical\n",
    "from keras.models import load_model\n",
    "from keras.preprocessing.image import array_to_img\n",
    "# from keras.callbacks import EarlyStopping, ModelCheckpoint, Callback\n",
    "# from keras.applications.mobilenet_v2 import MobileNetV2, preprocess_input\n",
    "\n",
    "# import sklearn\n",
    "from sklearn.metrics import classification_report\n",
    "from sklearn.metrics import precision_score, accuracy_score, f1_score, recall_score, confusion_matrix\n",
    "from sklearn.preprocessing import OneHotEncoder\n",
    "\n",
    "# import matplotlib\n",
    "%matplotlib inline\n",
    "import matplotlib.image as mpimg\n",
    "import matplotlib.pyplot as plt\n",
    "import seaborn as sns\n",
    "\n",
    "import csv\n",
    "import visualkeras\n",
    "np.random.seed(42)"
   ]
  },
  {
   "cell_type": "code",
   "execution_count": 2,
   "metadata": {
    "colab": {
     "base_uri": "https://localhost:8080/"
    },
    "executionInfo": {
     "elapsed": 531,
     "status": "ok",
     "timestamp": 1708347056463,
     "user": {
      "displayName": "Henry Si",
      "userId": "17719448117276295977"
     },
     "user_tz": -480
    },
    "id": "ehxXM0T9WL_A",
    "outputId": "856fe9c8-3252-42c9-bfd3-b57997945c50"
   },
   "outputs": [
    {
     "name": "stdout",
     "output_type": "stream",
     "text": [
      "Python version: 3.10.12 (main, Jul  5 2023, 15:34:07) [Clang 14.0.6 ]\n",
      "Numpy version: 1.25.2\n",
      "Pillow version: 9.4.0\n",
      "pandas version: 1.5.3\n",
      "h5py version: 3.9.0\n",
      "TensorFlow version: 2.15.0\n",
      "seaborn version: 0.13.1\n"
     ]
    }
   ],
   "source": [
    "print(\"Python version:\", sys.version) # needs to import sys\n",
    "print(\"Numpy version:\", np.__version__)\n",
    "print(\"Pillow version:\", Image.__version__)\n",
    "print(\"pandas version:\", pd.__version__)\n",
    "print(\"h5py version:\", h5py.__version__)\n",
    "print(\"TensorFlow version:\", tf.__version__)\n",
    "# print(\"Itertools version:\", itertools.__version__)  # part of python library\n",
    "# print(\"Keras version:\", keras.__version__)  # needs to import keras\n",
    "# print(\"sklearn version:\", sklearn.__version__)  # needs to import sklearn\n",
    "# print(\"matplotlib version:\", matplotlib.__version__)  # needs to import matplotlib\n",
    "print(\"seaborn version:\", sns.__version__)"
   ]
  },
  {
   "cell_type": "markdown",
   "metadata": {
    "id": "A5Od3aoCxPaL"
   },
   "source": [
    "# Create Constants"
   ]
  },
  {
   "cell_type": "code",
   "execution_count": 2,
   "metadata": {
    "executionInfo": {
     "elapsed": 11,
     "status": "ok",
     "timestamp": 1708405762563,
     "user": {
      "displayName": "Henry Si",
      "userId": "17719448117276295977"
     },
     "user_tz": -480
    },
    "id": "Jy9Bqgd602Iq"
   },
   "outputs": [],
   "source": [
    "# LABEL_NAMES = ['Aceh_Pintu_Aceh', 'Bali_Barong', 'Bali_Merak', 'DKI_Ondel_Ondel', 'JawaBarat_Megamendung', 'JawaTimur_Pring', 'Kalimantan_Dayak', 'Lampung_Gajah', 'Madura_Mataketeran', 'Maluku_Pala', 'NTB_Lumbung', 'Papua_Asmat', 'Papua_Cendrawasih', 'Papua_Tifa', 'Solo_Parang', 'SulawesiSelatan_Lontara', 'SumateraBarat_Rumah_Minang', 'SumateraUtara_Boraspati', 'Yogyakarta_Kawung', 'Yogyakarta_Parang']\n",
    "# LABEL_NAMES = ['Aceh PintuAceh', 'Bali Barong', 'Bali Merak', 'DKI OndelOndel', 'JawaBarat Megamendung', 'JawaTimur Pring', 'Kalimantan Dayak', 'Lampung Gajah', 'Madura Mataketeran', 'Maluku Pala', 'NTB Lumbung', 'Papua Asmat', 'Papua Cendrawasih', 'Papua Tifa', 'Solo Parang', 'SulawesiSelatan Lontara', 'SumateraBarat Rumah Minang', 'SumateraUtara Boraspati', 'Yogyakarta Kawung', 'Yogyakarta Parang']\n",
    "LABEL_NAMES = ['Aceh', 'Bali', 'Betawi', 'Ciamis', 'Cirebon', 'Garut', 'Kalimantan_Dayak', 'Kalimantan_Pontianak', 'Kulon Progo_Geblek Renteng', 'Madura', 'Maluku_Pala Cengkeh', 'Papua_Cendrawasih', 'Pati', 'Pekalongan', 'Solo_Sidoluhur', 'Solo_Sogan', 'Tasikmalaya_Priyangan', 'Yogyakarta_Kawung', 'Yogyakarta_Sekar Jagad', 'Yogyakarta_Tambal']\n",
    "IMAGE_WIDTH = 224\n",
    "IMAGE_HEIGHT = 224\n",
    "IMAGE_PIXELS = IMAGE_WIDTH * IMAGE_HEIGHT\n",
    "COLOR_CHANNELS = 3\n",
    "TOTAL_INPUTS = IMAGE_PIXELS * COLOR_CHANNELS\n",
    "NO_CLASSES = 20\n",
    "BATCH_SIZE = 32\n",
    "\n",
    "VALIDATION_SIZE = 6\n",
    "TESTING_SIZE = 8\n"
   ]
  },
  {
   "cell_type": "markdown",
   "metadata": {
    "id": "DGBSN6zST49V"
   },
   "source": [
    "# Data Gathering"
   ]
  },
  {
   "cell_type": "code",
   "execution_count": 3,
   "metadata": {
    "colab": {
     "base_uri": "https://localhost:8080/"
    },
    "executionInfo": {
     "elapsed": 438,
     "status": "ok",
     "timestamp": 1708405770725,
     "user": {
      "displayName": "Henry Si",
      "userId": "17719448117276295977"
     },
     "user_tz": -480
    },
    "id": "B15AAJIJCoZE",
    "outputId": "7d85be45-c01d-4b1e-fd74-443a75b83256"
   },
   "outputs": [
    {
     "name": "stdout",
     "output_type": "stream",
     "text": [
      "Found 12817 images belonging to 20 classes.\n",
      "Found 1266 images belonging to 20 classes.\n",
      "Found 1582 images belonging to 20 classes.\n",
      "Class labels:\n",
      "{'Aceh': 0, 'Bali': 1, 'Betawi': 2, 'Ciamis': 3, 'Cirebon': 4, 'Garut': 5, 'Kalimantan_Dayak': 6, 'Kalimantan_Pontianak': 7, 'Kulon Progo_Geblek Renteng': 8, 'Madura': 9, 'Maluku_Pala Cengkeh': 10, 'Papua_Cendrawasih': 11, 'Pati': 12, 'Pekalongan': 13, 'Solo_Sidoluhur': 14, 'Solo_Sogan': 15, 'Tasikmalaya_Priyangan': 16, 'Yogyakarta_Kawung': 17, 'Yogyakarta_Sekar Jagad': 18, 'Yogyakarta_Tambal': 19}\n"
     ]
    }
   ],
   "source": [
    "# Directory containing the data\n",
    "# DATA_DIR = \"/content/aug_batik_v2\"\n",
    "DATA_DIR = \"/Users/merchika/chikaData/TA/another_dataset/undersampling_augmented_dataset\"\n",
    "\n",
    "# rescale pixel values to [0, 1] at later stage\n",
    "# common_datagen = ImageDataGenerator()\n",
    "\n",
    "common_datagen = ImageDataGenerator()\n",
    "\n",
    "# Set up data generators for training, validation, and testing\n",
    "train_generator = common_datagen.flow_from_directory(\n",
    "    directory=os.path.join(DATA_DIR, \"train\"),\n",
    "    target_size=(IMAGE_HEIGHT, IMAGE_WIDTH),  # Set the target image size\n",
    "    color_mode='rgb', # Set color mode to RGB\n",
    "    class_mode='categorical'  # For multi classes\n",
    ")\n",
    "\n",
    "validation_generator = common_datagen.flow_from_directory(\n",
    "    directory=os.path.join(DATA_DIR, \"validation\"),\n",
    "    target_size=(IMAGE_HEIGHT, IMAGE_WIDTH),\n",
    "    color_mode='rgb', # Set color mode to RGB\n",
    "    class_mode='categorical'\n",
    ")\n",
    "\n",
    "test_generator = common_datagen.flow_from_directory(\n",
    "    directory=os.path.join(DATA_DIR, \"test\"),\n",
    "    target_size=(IMAGE_HEIGHT, IMAGE_WIDTH),\n",
    "    color_mode='rgb', # Set color mode to RGB\n",
    "    class_mode='categorical'\n",
    ")\n",
    "\n",
    "# Print class labels\n",
    "print(\"Class labels:\")\n",
    "print(train_generator.class_indices)"
   ]
  },
  {
   "cell_type": "markdown",
   "metadata": {
    "id": "VEtm_WgRz-yf"
   },
   "source": [
    "# Data Exploration"
   ]
  },
  {
   "cell_type": "markdown",
   "metadata": {
    "id": "A2dawAb2Ciaa"
   },
   "source": [
    "## Train Dataset"
   ]
  },
  {
   "cell_type": "code",
   "execution_count": 4,
   "metadata": {
    "colab": {
     "base_uri": "https://localhost:8080/"
    },
    "executionInfo": {
     "elapsed": 640,
     "status": "ok",
     "timestamp": 1708405782655,
     "user": {
      "displayName": "Henry Si",
      "userId": "17719448117276295977"
     },
     "user_tz": -480
    },
    "id": "moKj8eI53SQe",
    "outputId": "099578db-4bbc-48d0-9aa0-ef40dfd9603a"
   },
   "outputs": [
    {
     "name": "stdout",
     "output_type": "stream",
     "text": [
      "Number of images: 12817\n",
      "Number of classes:20\n"
     ]
    }
   ],
   "source": [
    "num_images = train_generator.n\n",
    "num_classes = train_generator.num_classes\n",
    "print(f\"Number of images: {train_generator.n}\")\n",
    "print(f\"Number of classes:{train_generator.num_classes}\")"
   ]
  },
  {
   "cell_type": "code",
   "execution_count": 5,
   "metadata": {
    "colab": {
     "base_uri": "https://localhost:8080/"
    },
    "executionInfo": {
     "elapsed": 557,
     "status": "ok",
     "timestamp": 1708405787049,
     "user": {
      "displayName": "Henry Si",
      "userId": "17719448117276295977"
     },
     "user_tz": -480
    },
    "id": "bhXWIbl7fcZZ",
    "outputId": "bebe40a8-5ae5-4f45-e85d-dbe943a85b7e"
   },
   "outputs": [
    {
     "name": "stdout",
     "output_type": "stream",
     "text": [
      "Class names: {0: 'Aceh', 1: 'Bali', 2: 'Betawi', 3: 'Ciamis', 4: 'Cirebon', 5: 'Garut', 6: 'Kalimantan_Dayak', 7: 'Kalimantan_Pontianak', 8: 'Kulon Progo_Geblek Renteng', 9: 'Madura', 10: 'Maluku_Pala Cengkeh', 11: 'Papua_Cendrawasih', 12: 'Pati', 13: 'Pekalongan', 14: 'Solo_Sidoluhur', 15: 'Solo_Sogan', 16: 'Tasikmalaya_Priyangan', 17: 'Yogyakarta_Kawung', 18: 'Yogyakarta_Sekar Jagad', 19: 'Yogyakarta_Tambal'}\n"
     ]
    }
   ],
   "source": [
    "class_indices = train_generator.class_indices\n",
    "y_train_class_names = {v: k for k, v in class_indices.items()}\n",
    "print(\"Class names:\", y_train_class_names)"
   ]
  },
  {
   "cell_type": "code",
   "execution_count": 6,
   "metadata": {
    "colab": {
     "base_uri": "https://localhost:8080/"
    },
    "executionInfo": {
     "elapsed": 12,
     "status": "ok",
     "timestamp": 1708405789549,
     "user": {
      "displayName": "Henry Si",
      "userId": "17719448117276295977"
     },
     "user_tz": -480
    },
    "id": "Wifg15prLRhS",
    "outputId": "404ea4c4-3047-4c94-a0f0-a3eb2f05f7b4"
   },
   "outputs": [
    {
     "name": "stdout",
     "output_type": "stream",
     "text": [
      "['Aceh', 'Bali', 'Betawi', 'Ciamis', 'Cirebon', 'Garut', 'Kalimantan_Dayak', 'Kalimantan_Pontianak', 'Kulon Progo_Geblek Renteng', 'Madura', 'Maluku_Pala Cengkeh', 'Papua_Cendrawasih', 'Pati', 'Pekalongan', 'Solo_Sidoluhur', 'Solo_Sogan', 'Tasikmalaya_Priyangan', 'Yogyakarta_Kawung', 'Yogyakarta_Sekar Jagad', 'Yogyakarta_Tambal']\n"
     ]
    }
   ],
   "source": [
    "num_classes = len(class_indices)\n",
    "y_train_labels = [y_train_class_names[i] for i in range(num_classes)]\n",
    "print(y_train_labels)"
   ]
  },
  {
   "cell_type": "code",
   "execution_count": 7,
   "metadata": {
    "colab": {
     "base_uri": "https://localhost:8080/"
    },
    "executionInfo": {
     "elapsed": 10817,
     "status": "ok",
     "timestamp": 1708405802732,
     "user": {
      "displayName": "Henry Si",
      "userId": "17719448117276295977"
     },
     "user_tz": -480
    },
    "id": "_iO0Y9zLZqns",
    "outputId": "1161e90a-d5bd-4a24-8ad5-1ee8aec99c8e"
   },
   "outputs": [
    {
     "name": "stdout",
     "output_type": "stream",
     "text": [
      "x_train shape: (12817, 224, 224, 3)\n",
      "y_train shape: (12817, 20)\n"
     ]
    }
   ],
   "source": [
    "x_train_all = []\n",
    "y_train_all = []\n",
    "\n",
    "# Looping\n",
    "for _ in range(num_images // BATCH_SIZE + 1):\n",
    "    x_batch, y_batch = next(train_generator)\n",
    "    x_train_all.append(x_batch)\n",
    "    y_train_all.append(y_batch)\n",
    "\n",
    "# Concatenate\n",
    "x_train = np.concatenate(x_train_all, axis=0)\n",
    "y_train = np.concatenate(y_train_all, axis=0)\n",
    "\n",
    "# Display the shapes of x and y_train\n",
    "print(\"x_train shape:\", x_train.shape)\n",
    "print(\"y_train shape:\", y_train.shape)"
   ]
  },
  {
   "cell_type": "code",
   "execution_count": 8,
   "metadata": {
    "colab": {
     "base_uri": "https://localhost:8080/"
    },
    "executionInfo": {
     "elapsed": 16,
     "status": "ok",
     "timestamp": 1708405810900,
     "user": {
      "displayName": "Henry Si",
      "userId": "17719448117276295977"
     },
     "user_tz": -480
    },
    "id": "ac_l0uZ5eXLx",
    "outputId": "953a8cd5-c1b2-4a2d-8d09-08497aef5a90"
   },
   "outputs": [
    {
     "name": "stdout",
     "output_type": "stream",
     "text": [
      "images = 12817 \t| width = 224 \t| height = 224 \t| channels = 3 \t\n"
     ]
    }
   ],
   "source": [
    "no_images, x, y, c = x_train.shape\n",
    "print(f\"images = {no_images} \\t| width = {x} \\t| height = {y} \\t| channels = {c} \\t\")"
   ]
  },
  {
   "cell_type": "markdown",
   "metadata": {
    "id": "orij-kxOCU_L"
   },
   "source": [
    "## Validation Dataset"
   ]
  },
  {
   "cell_type": "code",
   "execution_count": 9,
   "metadata": {
    "colab": {
     "base_uri": "https://localhost:8080/"
    },
    "executionInfo": {
     "elapsed": 745,
     "status": "ok",
     "timestamp": 1708405849979,
     "user": {
      "displayName": "Henry Si",
      "userId": "17719448117276295977"
     },
     "user_tz": -480
    },
    "id": "H4iUN1xpBvKJ",
    "outputId": "9b60618b-02fe-4178-810c-690a48b06914"
   },
   "outputs": [
    {
     "name": "stdout",
     "output_type": "stream",
     "text": [
      "Number of images: 1266\n",
      "Number of classes:20\n"
     ]
    }
   ],
   "source": [
    "val_num_images = validation_generator.n\n",
    "val_num_classes = validation_generator.num_classes\n",
    "print(f\"Number of images: {validation_generator.n}\")\n",
    "print(f\"Number of classes:{validation_generator.num_classes}\")"
   ]
  },
  {
   "cell_type": "code",
   "execution_count": 10,
   "metadata": {
    "colab": {
     "base_uri": "https://localhost:8080/"
    },
    "executionInfo": {
     "elapsed": 17,
     "status": "ok",
     "timestamp": 1708405858020,
     "user": {
      "displayName": "Henry Si",
      "userId": "17719448117276295977"
     },
     "user_tz": -480
    },
    "id": "xphwlOTfnINQ",
    "outputId": "edb395e4-4e80-47ac-cc6e-a6a9ca18f918"
   },
   "outputs": [
    {
     "name": "stdout",
     "output_type": "stream",
     "text": [
      "Class names: {0: 'Aceh', 1: 'Bali', 2: 'Betawi', 3: 'Ciamis', 4: 'Cirebon', 5: 'Garut', 6: 'Kalimantan_Dayak', 7: 'Kalimantan_Pontianak', 8: 'Kulon Progo_Geblek Renteng', 9: 'Madura', 10: 'Maluku_Pala Cengkeh', 11: 'Papua_Cendrawasih', 12: 'Pati', 13: 'Pekalongan', 14: 'Solo_Sidoluhur', 15: 'Solo_Sogan', 16: 'Tasikmalaya_Priyangan', 17: 'Yogyakarta_Kawung', 18: 'Yogyakarta_Sekar Jagad', 19: 'Yogyakarta_Tambal'}\n"
     ]
    }
   ],
   "source": [
    "class_indices = validation_generator.class_indices\n",
    "y_val_class_names = {v: k for k, v in class_indices.items()}\n",
    "print(\"Class names:\", y_val_class_names)"
   ]
  },
  {
   "cell_type": "code",
   "execution_count": 11,
   "metadata": {
    "colab": {
     "base_uri": "https://localhost:8080/"
    },
    "executionInfo": {
     "elapsed": 450,
     "status": "ok",
     "timestamp": 1708405865378,
     "user": {
      "displayName": "Henry Si",
      "userId": "17719448117276295977"
     },
     "user_tz": -480
    },
    "id": "am22y0-AZXi0",
    "outputId": "5283077d-f750-4b55-ef82-f2c39a367ddd"
   },
   "outputs": [
    {
     "name": "stdout",
     "output_type": "stream",
     "text": [
      "['Aceh', 'Bali', 'Betawi', 'Ciamis', 'Cirebon', 'Garut', 'Kalimantan_Dayak', 'Kalimantan_Pontianak', 'Kulon Progo_Geblek Renteng', 'Madura', 'Maluku_Pala Cengkeh', 'Papua_Cendrawasih', 'Pati', 'Pekalongan', 'Solo_Sidoluhur', 'Solo_Sogan', 'Tasikmalaya_Priyangan', 'Yogyakarta_Kawung', 'Yogyakarta_Sekar Jagad', 'Yogyakarta_Tambal']\n"
     ]
    }
   ],
   "source": [
    "num_classes = len(class_indices)\n",
    "y_val_labels = [y_val_class_names[i] for i in range(num_classes)]\n",
    "print(y_val_labels)"
   ]
  },
  {
   "cell_type": "code",
   "execution_count": 12,
   "metadata": {
    "colab": {
     "base_uri": "https://localhost:8080/"
    },
    "executionInfo": {
     "elapsed": 2137,
     "status": "ok",
     "timestamp": 1708405891664,
     "user": {
      "displayName": "Henry Si",
      "userId": "17719448117276295977"
     },
     "user_tz": -480
    },
    "id": "xfAu5ciPDIn0",
    "outputId": "f2baa635-485b-4877-870b-69af5f0275d1"
   },
   "outputs": [
    {
     "name": "stdout",
     "output_type": "stream",
     "text": [
      "x_val shape: (1266, 224, 224, 3)\n",
      "y_val shape: (1266, 20)\n"
     ]
    }
   ],
   "source": [
    "x_val_all = []\n",
    "y_val_all = []\n",
    "\n",
    "# print(val_num_images)\n",
    "# print(val_num_images // BATCH_SIZE + 1)\n",
    "\n",
    "# Looping\n",
    "for _ in range(val_num_images // BATCH_SIZE + 1):\n",
    "    x_val_batch, y_val_batch = next(validation_generator)\n",
    "    x_val_all.append(x_val_batch)\n",
    "    y_val_all.append(y_val_batch)\n",
    "\n",
    "# Concatenate\n",
    "x_val = np.concatenate(x_val_all, axis=0)\n",
    "y_val = np.concatenate(y_val_all, axis=0)\n",
    "\n",
    "# Display the shapes of x and y_train\n",
    "print(\"x_val shape:\", x_val.shape)\n",
    "print(\"y_val shape:\", y_val.shape)"
   ]
  },
  {
   "cell_type": "code",
   "execution_count": 13,
   "metadata": {
    "colab": {
     "base_uri": "https://localhost:8080/"
    },
    "executionInfo": {
     "elapsed": 568,
     "status": "ok",
     "timestamp": 1708405911063,
     "user": {
      "displayName": "Henry Si",
      "userId": "17719448117276295977"
     },
     "user_tz": -480
    },
    "id": "H4RvE3TyBvSP",
    "outputId": "b88b2b8d-45f6-407b-ffd9-531daf4510db"
   },
   "outputs": [
    {
     "name": "stdout",
     "output_type": "stream",
     "text": [
      "images = 1266 \t| width = 224 \t| height = 224 \t| channels = 3 \t\n"
     ]
    }
   ],
   "source": [
    "no_images, x, y, c = x_val.shape\n",
    "print(f\"images = {no_images} \\t| width = {x} \\t| height = {y} \\t| channels = {c} \\t\")"
   ]
  },
  {
   "cell_type": "markdown",
   "metadata": {
    "id": "FhMMni2SOuIO"
   },
   "source": [
    "## Test Dataset"
   ]
  },
  {
   "cell_type": "code",
   "execution_count": 14,
   "metadata": {
    "colab": {
     "base_uri": "https://localhost:8080/"
    },
    "executionInfo": {
     "elapsed": 438,
     "status": "ok",
     "timestamp": 1708405928638,
     "user": {
      "displayName": "Henry Si",
      "userId": "17719448117276295977"
     },
     "user_tz": -480
    },
    "id": "KhBbpBv2OsRM",
    "outputId": "4c9c0539-d9ec-4964-90e8-703096d15876"
   },
   "outputs": [
    {
     "name": "stdout",
     "output_type": "stream",
     "text": [
      "Number of images: 1582\n",
      "Number of classes:20\n"
     ]
    }
   ],
   "source": [
    "test_num_images = test_generator.n\n",
    "test_num_classes = test_generator.num_classes\n",
    "print(f\"Number of images: {test_generator.n}\")\n",
    "print(f\"Number of classes:{test_generator.num_classes}\")"
   ]
  },
  {
   "cell_type": "code",
   "execution_count": 15,
   "metadata": {
    "colab": {
     "base_uri": "https://localhost:8080/"
    },
    "executionInfo": {
     "elapsed": 16,
     "status": "ok",
     "timestamp": 1708405935842,
     "user": {
      "displayName": "Henry Si",
      "userId": "17719448117276295977"
     },
     "user_tz": -480
    },
    "id": "LXlWaexYnmEZ",
    "outputId": "d91ab418-e5df-4a6a-8356-8ea8859ebd7b"
   },
   "outputs": [
    {
     "name": "stdout",
     "output_type": "stream",
     "text": [
      "Class names: {0: 'Aceh', 1: 'Bali', 2: 'Betawi', 3: 'Ciamis', 4: 'Cirebon', 5: 'Garut', 6: 'Kalimantan_Dayak', 7: 'Kalimantan_Pontianak', 8: 'Kulon Progo_Geblek Renteng', 9: 'Madura', 10: 'Maluku_Pala Cengkeh', 11: 'Papua_Cendrawasih', 12: 'Pati', 13: 'Pekalongan', 14: 'Solo_Sidoluhur', 15: 'Solo_Sogan', 16: 'Tasikmalaya_Priyangan', 17: 'Yogyakarta_Kawung', 18: 'Yogyakarta_Sekar Jagad', 19: 'Yogyakarta_Tambal'}\n"
     ]
    }
   ],
   "source": [
    "class_indices = test_generator.class_indices\n",
    "y_test_class_names = {v: k for k, v in class_indices.items()}\n",
    "print(\"Class names:\", y_test_class_names)"
   ]
  },
  {
   "cell_type": "code",
   "execution_count": 16,
   "metadata": {
    "colab": {
     "base_uri": "https://localhost:8080/"
    },
    "executionInfo": {
     "elapsed": 448,
     "status": "ok",
     "timestamp": 1708405946072,
     "user": {
      "displayName": "Henry Si",
      "userId": "17719448117276295977"
     },
     "user_tz": -480
    },
    "id": "2iiywvb8ZzS9",
    "outputId": "846169a4-4632-408f-96a8-2f1750afe0a6"
   },
   "outputs": [
    {
     "name": "stdout",
     "output_type": "stream",
     "text": [
      "['Aceh', 'Bali', 'Betawi', 'Ciamis', 'Cirebon', 'Garut', 'Kalimantan_Dayak', 'Kalimantan_Pontianak', 'Kulon Progo_Geblek Renteng', 'Madura', 'Maluku_Pala Cengkeh', 'Papua_Cendrawasih', 'Pati', 'Pekalongan', 'Solo_Sidoluhur', 'Solo_Sogan', 'Tasikmalaya_Priyangan', 'Yogyakarta_Kawung', 'Yogyakarta_Sekar Jagad', 'Yogyakarta_Tambal']\n"
     ]
    }
   ],
   "source": [
    "num_classes = len(class_indices)\n",
    "y_test_labels = [y_test_class_names[i] for i in range(num_classes)]\n",
    "print(y_train_labels)"
   ]
  },
  {
   "cell_type": "code",
   "execution_count": 17,
   "metadata": {
    "colab": {
     "base_uri": "https://localhost:8080/"
    },
    "executionInfo": {
     "elapsed": 3658,
     "status": "ok",
     "timestamp": 1708405973174,
     "user": {
      "displayName": "Henry Si",
      "userId": "17719448117276295977"
     },
     "user_tz": -480
    },
    "id": "GVeouqNmYT39",
    "outputId": "5600d901-c283-40e8-ad18-1c0f56eac63b"
   },
   "outputs": [
    {
     "name": "stdout",
     "output_type": "stream",
     "text": [
      "x_test shape: (1568, 224, 224, 3)\n",
      "y_test shape: (1568, 20)\n"
     ]
    }
   ],
   "source": [
    "x_test_all = []\n",
    "y_test_all = []\n",
    "# print(test_num_images)\n",
    "# print(test_num_images // BATCH_SIZE + 1)\n",
    "\n",
    "# TO TEST: Calculate the total number of images in the test dataset as alternative\n",
    "# total_test_samples = len(test_generator.filenames)\n",
    "# print(total_test_samples)\n",
    "\n",
    "# Looping CAREFUL WITH + 1, either using total_test_samples or test_num_images, same issue\n",
    "# for _ in range(total_test_samples // BATCH_SIZE ):\n",
    "# for _ in range(test_num_images // BATCH_SIZE + 1):\n",
    "for _ in range(test_num_images // BATCH_SIZE):\n",
    "    x_test_batch, y_test_batch = next(test_generator)\n",
    "    x_test_all.append(x_test_batch)\n",
    "    y_test_all.append(y_test_batch)\n",
    "\n",
    "# Concatenate\n",
    "x_test = np.concatenate(x_test_all, axis=0)\n",
    "y_test = np.concatenate(y_test_all, axis=0)\n",
    "\n",
    "# Display the shapes of x and y_train\n",
    "print(\"x_test shape:\", x_test.shape)\n",
    "print(\"y_test shape:\", y_test.shape)"
   ]
  },
  {
   "cell_type": "code",
   "execution_count": 18,
   "metadata": {
    "colab": {
     "base_uri": "https://localhost:8080/"
    },
    "executionInfo": {
     "elapsed": 495,
     "status": "ok",
     "timestamp": 1708404921206,
     "user": {
      "displayName": "Henry Si",
      "userId": "17719448117276295977"
     },
     "user_tz": -480
    },
    "id": "j_hch-gltKPY",
    "outputId": "339a5833-8284-4a2a-f165-d69ccd13f376"
   },
   "outputs": [
    {
     "name": "stdout",
     "output_type": "stream",
     "text": [
      "images = 1568 \t| width = 224 \t| height = 224 \t| channels = 3 \t\n"
     ]
    }
   ],
   "source": [
    "no_images, x, y, c = x_test.shape\n",
    "print(f\"images = {no_images} \\t| width = {x} \\t| height = {y} \\t| channels = {c} \\t\")"
   ]
  },
  {
   "cell_type": "markdown",
   "metadata": {
    "id": "Q_SNT3_L0NyC",
    "jp-MarkdownHeadingCollapsed": true
   },
   "source": [
    "## View Image"
   ]
  },
  {
   "cell_type": "code",
   "execution_count": null,
   "metadata": {
    "colab": {
     "base_uri": "https://localhost:8080/",
     "height": 241
    },
    "executionInfo": {
     "elapsed": 770,
     "status": "ok",
     "timestamp": 1708344885503,
     "user": {
      "displayName": "Henry Si",
      "userId": "17719448117276295977"
     },
     "user_tz": -480
    },
    "id": "eNZheNMh3ch9",
    "outputId": "d89b7aad-6271-4d83-e4b2-2c101a2f6590"
   },
   "outputs": [],
   "source": [
    "pic = array_to_img(x_train[7])\n",
    "display(pic)"
   ]
  },
  {
   "cell_type": "code",
   "execution_count": null,
   "metadata": {
    "colab": {
     "base_uri": "https://localhost:8080/",
     "height": 35
    },
    "executionInfo": {
     "elapsed": 426,
     "status": "ok",
     "timestamp": 1708344890306,
     "user": {
      "displayName": "Henry Si",
      "userId": "17719448117276295977"
     },
     "user_tz": -480
    },
    "id": "Sa08UwRl1rV4",
    "outputId": "12a28c77-1b38-4698-b8a4-7ea12d29040a"
   },
   "outputs": [],
   "source": [
    "# LABEL_NAMES[y_train[7]]  # used only if only non scalar index\n",
    "LABEL_NAMES[np.argmax(y_train[7])]"
   ]
  },
  {
   "cell_type": "code",
   "execution_count": null,
   "metadata": {
    "colab": {
     "base_uri": "https://localhost:8080/",
     "height": 241
    },
    "executionInfo": {
     "elapsed": 28,
     "status": "ok",
     "timestamp": 1708344917242,
     "user": {
      "displayName": "Henry Si",
      "userId": "17719448117276295977"
     },
     "user_tz": -480
    },
    "id": "RS5PPZ5k1lxj",
    "outputId": "64632756-2d4d-4f2b-c152-760f1f6cec71"
   },
   "outputs": [],
   "source": [
    "pic = array_to_img(x_val[27])\n",
    "display(pic)"
   ]
  },
  {
   "cell_type": "code",
   "execution_count": null,
   "metadata": {
    "colab": {
     "base_uri": "https://localhost:8080/",
     "height": 35
    },
    "executionInfo": {
     "elapsed": 450,
     "status": "ok",
     "timestamp": 1708344920905,
     "user": {
      "displayName": "Henry Si",
      "userId": "17719448117276295977"
     },
     "user_tz": -480
    },
    "id": "unT1esGFDJii",
    "outputId": "216ac3c5-8cef-4886-b544-665336d6cdd3"
   },
   "outputs": [],
   "source": [
    "# LABEL_NAMES[y_val[27]]\n",
    "LABEL_NAMES[np.argmax(y_val[27])]"
   ]
  },
  {
   "cell_type": "code",
   "execution_count": null,
   "metadata": {
    "colab": {
     "base_uri": "https://localhost:8080/",
     "height": 241
    },
    "executionInfo": {
     "elapsed": 897,
     "status": "ok",
     "timestamp": 1708344925551,
     "user": {
      "displayName": "Henry Si",
      "userId": "17719448117276295977"
     },
     "user_tz": -480
    },
    "id": "EHZ5U2EHMG9n",
    "outputId": "948eae0b-1370-40af-a5a7-3ff2f4584778"
   },
   "outputs": [],
   "source": [
    "pic = array_to_img(x_test[99])\n",
    "display(pic)"
   ]
  },
  {
   "cell_type": "code",
   "execution_count": null,
   "metadata": {
    "colab": {
     "base_uri": "https://localhost:8080/",
     "height": 35
    },
    "executionInfo": {
     "elapsed": 22,
     "status": "ok",
     "timestamp": 1708344928269,
     "user": {
      "displayName": "Henry Si",
      "userId": "17719448117276295977"
     },
     "user_tz": -480
    },
    "id": "m8KaUyUfcgVX",
    "outputId": "b3403470-4238-492a-b600-464da6430cd3"
   },
   "outputs": [],
   "source": [
    "# LABEL_NAMES[y_test[99]]\n",
    "LABEL_NAMES[np.argmax(y_test[99])]"
   ]
  },
  {
   "cell_type": "markdown",
   "metadata": {},
   "source": [
    "## Preprocessing MUST BE RUN for transfer learning"
   ]
  },
  {
   "cell_type": "code",
   "execution_count": 19,
   "metadata": {},
   "outputs": [],
   "source": [
    "x_train_preprocessed = preprocess_input(x_train)"
   ]
  },
  {
   "cell_type": "code",
   "execution_count": 20,
   "metadata": {},
   "outputs": [
    {
     "name": "stdout",
     "output_type": "stream",
     "text": [
      "x_train shape (preprocessed): (12817, 224, 224, 3)\n",
      "x_train shape (preprocessed): [-26.939003 -48.779    -59.68    ]\n",
      "y_train shape: (12817, 20)\n"
     ]
    }
   ],
   "source": [
    "print(\"x_train shape (preprocessed):\", x_train_preprocessed.shape)\n",
    "print(\"x_train shape (preprocessed):\", x_train_preprocessed[0, 0, 0, :])\n",
    "print(\"y_train shape:\", y_train.shape)"
   ]
  },
  {
   "cell_type": "code",
   "execution_count": 21,
   "metadata": {},
   "outputs": [
    {
     "name": "stdout",
     "output_type": "stream",
     "text": [
      "Shape of x_train_preprocessed:  (4100, 224, 224, 3)\n",
      "Minimum value of x_train_preprocessed:  -123.67999998337828\n",
      "Maximum value of x_train_preprocessed:  -102.93900000496843\n"
     ]
    }
   ],
   "source": [
    "x_train_test = np.random.rand(4100, 224, 224, 3)\n",
    "x_train_preprocessed_test = preprocess_input(x_train_test)\n",
    "print(\"Shape of x_train_preprocessed: \", x_train_preprocessed_test.shape)\n",
    "print(\"Minimum value of x_train_preprocessed: \", np.min(x_train_preprocessed_test))\n",
    "print(\"Maximum value of x_train_preprocessed: \", np.max(x_train_preprocessed_test))"
   ]
  },
  {
   "cell_type": "code",
   "execution_count": 22,
   "metadata": {},
   "outputs": [
    {
     "name": "stdout",
     "output_type": "stream",
     "text": [
      "x_val shape (preprocessed): (1266, 224, 224, 3)\n",
      "y_val shape: (1266, 20)\n"
     ]
    }
   ],
   "source": [
    "x_val_preprocessed = preprocess_input(x_val)\n",
    "print(\"x_val shape (preprocessed):\", x_val_preprocessed.shape)\n",
    "print(\"y_val shape:\", y_val.shape)"
   ]
  },
  {
   "cell_type": "code",
   "execution_count": 23,
   "metadata": {},
   "outputs": [
    {
     "name": "stdout",
     "output_type": "stream",
     "text": [
      "x_test shape (preprocessed): (1568, 224, 224, 3)\n",
      "y_test shape: (1568, 20)\n"
     ]
    }
   ],
   "source": [
    "x_test_preprocessed = preprocess_input(x_test)\n",
    "print(\"x_test shape (preprocessed):\", x_test_preprocessed.shape)\n",
    "print(\"y_test shape:\", y_test.shape)"
   ]
  },
  {
   "cell_type": "markdown",
   "metadata": {
    "id": "CPhtaKaUM5zm"
   },
   "source": [
    "# Normalization"
   ]
  },
  {
   "cell_type": "code",
   "execution_count": 24,
   "metadata": {},
   "outputs": [],
   "source": [
    "x_train_normalized, x_validation_normalized, x_test_normalized = x_train_preprocessed, x_val_preprocessed, x_test_preprocessed"
   ]
  },
  {
   "cell_type": "markdown",
   "metadata": {
    "id": "rDejxR78TdtR"
   },
   "source": [
    "# Modelling - Using ResNet50 Architecture"
   ]
  },
  {
   "cell_type": "code",
   "execution_count": 25,
   "metadata": {},
   "outputs": [
    {
     "name": "stdout",
     "output_type": "stream",
     "text": [
      "Model: \"resnet50\"\n",
      "__________________________________________________________________________________________________\n",
      " Layer (type)                Output Shape                 Param #   Connected to                  \n",
      "==================================================================================================\n",
      " input_1 (InputLayer)        [(None, 224, 224, 3)]        0         []                            \n",
      "                                                                                                  \n",
      " conv1_pad (ZeroPadding2D)   (None, 230, 230, 3)          0         ['input_1[0][0]']             \n",
      "                                                                                                  \n",
      " conv1_conv (Conv2D)         (None, 112, 112, 64)         9472      ['conv1_pad[0][0]']           \n",
      "                                                                                                  \n",
      " conv1_bn (BatchNormalizati  (None, 112, 112, 64)         256       ['conv1_conv[0][0]']          \n",
      " on)                                                                                              \n",
      "                                                                                                  \n",
      " conv1_relu (Activation)     (None, 112, 112, 64)         0         ['conv1_bn[0][0]']            \n",
      "                                                                                                  \n",
      " pool1_pad (ZeroPadding2D)   (None, 114, 114, 64)         0         ['conv1_relu[0][0]']          \n",
      "                                                                                                  \n",
      " pool1_pool (MaxPooling2D)   (None, 56, 56, 64)           0         ['pool1_pad[0][0]']           \n",
      "                                                                                                  \n",
      " conv2_block1_1_conv (Conv2  (None, 56, 56, 64)           4160      ['pool1_pool[0][0]']          \n",
      " D)                                                                                               \n",
      "                                                                                                  \n",
      " conv2_block1_1_bn (BatchNo  (None, 56, 56, 64)           256       ['conv2_block1_1_conv[0][0]'] \n",
      " rmalization)                                                                                     \n",
      "                                                                                                  \n",
      " conv2_block1_1_relu (Activ  (None, 56, 56, 64)           0         ['conv2_block1_1_bn[0][0]']   \n",
      " ation)                                                                                           \n",
      "                                                                                                  \n",
      " conv2_block1_2_conv (Conv2  (None, 56, 56, 64)           36928     ['conv2_block1_1_relu[0][0]'] \n",
      " D)                                                                                               \n",
      "                                                                                                  \n",
      " conv2_block1_2_bn (BatchNo  (None, 56, 56, 64)           256       ['conv2_block1_2_conv[0][0]'] \n",
      " rmalization)                                                                                     \n",
      "                                                                                                  \n",
      " conv2_block1_2_relu (Activ  (None, 56, 56, 64)           0         ['conv2_block1_2_bn[0][0]']   \n",
      " ation)                                                                                           \n",
      "                                                                                                  \n",
      " conv2_block1_0_conv (Conv2  (None, 56, 56, 256)          16640     ['pool1_pool[0][0]']          \n",
      " D)                                                                                               \n",
      "                                                                                                  \n",
      " conv2_block1_3_conv (Conv2  (None, 56, 56, 256)          16640     ['conv2_block1_2_relu[0][0]'] \n",
      " D)                                                                                               \n",
      "                                                                                                  \n",
      " conv2_block1_0_bn (BatchNo  (None, 56, 56, 256)          1024      ['conv2_block1_0_conv[0][0]'] \n",
      " rmalization)                                                                                     \n",
      "                                                                                                  \n",
      " conv2_block1_3_bn (BatchNo  (None, 56, 56, 256)          1024      ['conv2_block1_3_conv[0][0]'] \n",
      " rmalization)                                                                                     \n",
      "                                                                                                  \n",
      " conv2_block1_add (Add)      (None, 56, 56, 256)          0         ['conv2_block1_0_bn[0][0]',   \n",
      "                                                                     'conv2_block1_3_bn[0][0]']   \n",
      "                                                                                                  \n",
      " conv2_block1_out (Activati  (None, 56, 56, 256)          0         ['conv2_block1_add[0][0]']    \n",
      " on)                                                                                              \n",
      "                                                                                                  \n",
      " conv2_block2_1_conv (Conv2  (None, 56, 56, 64)           16448     ['conv2_block1_out[0][0]']    \n",
      " D)                                                                                               \n",
      "                                                                                                  \n",
      " conv2_block2_1_bn (BatchNo  (None, 56, 56, 64)           256       ['conv2_block2_1_conv[0][0]'] \n",
      " rmalization)                                                                                     \n",
      "                                                                                                  \n",
      " conv2_block2_1_relu (Activ  (None, 56, 56, 64)           0         ['conv2_block2_1_bn[0][0]']   \n",
      " ation)                                                                                           \n",
      "                                                                                                  \n",
      " conv2_block2_2_conv (Conv2  (None, 56, 56, 64)           36928     ['conv2_block2_1_relu[0][0]'] \n",
      " D)                                                                                               \n",
      "                                                                                                  \n",
      " conv2_block2_2_bn (BatchNo  (None, 56, 56, 64)           256       ['conv2_block2_2_conv[0][0]'] \n",
      " rmalization)                                                                                     \n",
      "                                                                                                  \n",
      " conv2_block2_2_relu (Activ  (None, 56, 56, 64)           0         ['conv2_block2_2_bn[0][0]']   \n",
      " ation)                                                                                           \n",
      "                                                                                                  \n",
      " conv2_block2_3_conv (Conv2  (None, 56, 56, 256)          16640     ['conv2_block2_2_relu[0][0]'] \n",
      " D)                                                                                               \n",
      "                                                                                                  \n",
      " conv2_block2_3_bn (BatchNo  (None, 56, 56, 256)          1024      ['conv2_block2_3_conv[0][0]'] \n",
      " rmalization)                                                                                     \n",
      "                                                                                                  \n",
      " conv2_block2_add (Add)      (None, 56, 56, 256)          0         ['conv2_block1_out[0][0]',    \n",
      "                                                                     'conv2_block2_3_bn[0][0]']   \n",
      "                                                                                                  \n",
      " conv2_block2_out (Activati  (None, 56, 56, 256)          0         ['conv2_block2_add[0][0]']    \n",
      " on)                                                                                              \n",
      "                                                                                                  \n",
      " conv2_block3_1_conv (Conv2  (None, 56, 56, 64)           16448     ['conv2_block2_out[0][0]']    \n",
      " D)                                                                                               \n",
      "                                                                                                  \n",
      " conv2_block3_1_bn (BatchNo  (None, 56, 56, 64)           256       ['conv2_block3_1_conv[0][0]'] \n",
      " rmalization)                                                                                     \n",
      "                                                                                                  \n",
      " conv2_block3_1_relu (Activ  (None, 56, 56, 64)           0         ['conv2_block3_1_bn[0][0]']   \n",
      " ation)                                                                                           \n",
      "                                                                                                  \n",
      " conv2_block3_2_conv (Conv2  (None, 56, 56, 64)           36928     ['conv2_block3_1_relu[0][0]'] \n",
      " D)                                                                                               \n",
      "                                                                                                  \n",
      " conv2_block3_2_bn (BatchNo  (None, 56, 56, 64)           256       ['conv2_block3_2_conv[0][0]'] \n",
      " rmalization)                                                                                     \n",
      "                                                                                                  \n",
      " conv2_block3_2_relu (Activ  (None, 56, 56, 64)           0         ['conv2_block3_2_bn[0][0]']   \n",
      " ation)                                                                                           \n",
      "                                                                                                  \n",
      " conv2_block3_3_conv (Conv2  (None, 56, 56, 256)          16640     ['conv2_block3_2_relu[0][0]'] \n",
      " D)                                                                                               \n",
      "                                                                                                  \n",
      " conv2_block3_3_bn (BatchNo  (None, 56, 56, 256)          1024      ['conv2_block3_3_conv[0][0]'] \n",
      " rmalization)                                                                                     \n",
      "                                                                                                  \n",
      " conv2_block3_add (Add)      (None, 56, 56, 256)          0         ['conv2_block2_out[0][0]',    \n",
      "                                                                     'conv2_block3_3_bn[0][0]']   \n",
      "                                                                                                  \n",
      " conv2_block3_out (Activati  (None, 56, 56, 256)          0         ['conv2_block3_add[0][0]']    \n",
      " on)                                                                                              \n",
      "                                                                                                  \n",
      " conv3_block1_1_conv (Conv2  (None, 28, 28, 128)          32896     ['conv2_block3_out[0][0]']    \n",
      " D)                                                                                               \n",
      "                                                                                                  \n",
      " conv3_block1_1_bn (BatchNo  (None, 28, 28, 128)          512       ['conv3_block1_1_conv[0][0]'] \n",
      " rmalization)                                                                                     \n",
      "                                                                                                  \n",
      " conv3_block1_1_relu (Activ  (None, 28, 28, 128)          0         ['conv3_block1_1_bn[0][0]']   \n",
      " ation)                                                                                           \n",
      "                                                                                                  \n",
      " conv3_block1_2_conv (Conv2  (None, 28, 28, 128)          147584    ['conv3_block1_1_relu[0][0]'] \n",
      " D)                                                                                               \n",
      "                                                                                                  \n",
      " conv3_block1_2_bn (BatchNo  (None, 28, 28, 128)          512       ['conv3_block1_2_conv[0][0]'] \n",
      " rmalization)                                                                                     \n",
      "                                                                                                  \n",
      " conv3_block1_2_relu (Activ  (None, 28, 28, 128)          0         ['conv3_block1_2_bn[0][0]']   \n",
      " ation)                                                                                           \n",
      "                                                                                                  \n",
      " conv3_block1_0_conv (Conv2  (None, 28, 28, 512)          131584    ['conv2_block3_out[0][0]']    \n",
      " D)                                                                                               \n",
      "                                                                                                  \n",
      " conv3_block1_3_conv (Conv2  (None, 28, 28, 512)          66048     ['conv3_block1_2_relu[0][0]'] \n",
      " D)                                                                                               \n",
      "                                                                                                  \n",
      " conv3_block1_0_bn (BatchNo  (None, 28, 28, 512)          2048      ['conv3_block1_0_conv[0][0]'] \n",
      " rmalization)                                                                                     \n",
      "                                                                                                  \n",
      " conv3_block1_3_bn (BatchNo  (None, 28, 28, 512)          2048      ['conv3_block1_3_conv[0][0]'] \n",
      " rmalization)                                                                                     \n",
      "                                                                                                  \n",
      " conv3_block1_add (Add)      (None, 28, 28, 512)          0         ['conv3_block1_0_bn[0][0]',   \n",
      "                                                                     'conv3_block1_3_bn[0][0]']   \n",
      "                                                                                                  \n",
      " conv3_block1_out (Activati  (None, 28, 28, 512)          0         ['conv3_block1_add[0][0]']    \n",
      " on)                                                                                              \n",
      "                                                                                                  \n",
      " conv3_block2_1_conv (Conv2  (None, 28, 28, 128)          65664     ['conv3_block1_out[0][0]']    \n",
      " D)                                                                                               \n",
      "                                                                                                  \n",
      " conv3_block2_1_bn (BatchNo  (None, 28, 28, 128)          512       ['conv3_block2_1_conv[0][0]'] \n",
      " rmalization)                                                                                     \n",
      "                                                                                                  \n",
      " conv3_block2_1_relu (Activ  (None, 28, 28, 128)          0         ['conv3_block2_1_bn[0][0]']   \n",
      " ation)                                                                                           \n",
      "                                                                                                  \n",
      " conv3_block2_2_conv (Conv2  (None, 28, 28, 128)          147584    ['conv3_block2_1_relu[0][0]'] \n",
      " D)                                                                                               \n",
      "                                                                                                  \n",
      " conv3_block2_2_bn (BatchNo  (None, 28, 28, 128)          512       ['conv3_block2_2_conv[0][0]'] \n",
      " rmalization)                                                                                     \n",
      "                                                                                                  \n",
      " conv3_block2_2_relu (Activ  (None, 28, 28, 128)          0         ['conv3_block2_2_bn[0][0]']   \n",
      " ation)                                                                                           \n",
      "                                                                                                  \n",
      " conv3_block2_3_conv (Conv2  (None, 28, 28, 512)          66048     ['conv3_block2_2_relu[0][0]'] \n",
      " D)                                                                                               \n",
      "                                                                                                  \n",
      " conv3_block2_3_bn (BatchNo  (None, 28, 28, 512)          2048      ['conv3_block2_3_conv[0][0]'] \n",
      " rmalization)                                                                                     \n",
      "                                                                                                  \n",
      " conv3_block2_add (Add)      (None, 28, 28, 512)          0         ['conv3_block1_out[0][0]',    \n",
      "                                                                     'conv3_block2_3_bn[0][0]']   \n",
      "                                                                                                  \n",
      " conv3_block2_out (Activati  (None, 28, 28, 512)          0         ['conv3_block2_add[0][0]']    \n",
      " on)                                                                                              \n",
      "                                                                                                  \n",
      " conv3_block3_1_conv (Conv2  (None, 28, 28, 128)          65664     ['conv3_block2_out[0][0]']    \n",
      " D)                                                                                               \n",
      "                                                                                                  \n",
      " conv3_block3_1_bn (BatchNo  (None, 28, 28, 128)          512       ['conv3_block3_1_conv[0][0]'] \n",
      " rmalization)                                                                                     \n",
      "                                                                                                  \n",
      " conv3_block3_1_relu (Activ  (None, 28, 28, 128)          0         ['conv3_block3_1_bn[0][0]']   \n",
      " ation)                                                                                           \n",
      "                                                                                                  \n",
      " conv3_block3_2_conv (Conv2  (None, 28, 28, 128)          147584    ['conv3_block3_1_relu[0][0]'] \n",
      " D)                                                                                               \n",
      "                                                                                                  \n",
      " conv3_block3_2_bn (BatchNo  (None, 28, 28, 128)          512       ['conv3_block3_2_conv[0][0]'] \n",
      " rmalization)                                                                                     \n",
      "                                                                                                  \n",
      " conv3_block3_2_relu (Activ  (None, 28, 28, 128)          0         ['conv3_block3_2_bn[0][0]']   \n",
      " ation)                                                                                           \n",
      "                                                                                                  \n",
      " conv3_block3_3_conv (Conv2  (None, 28, 28, 512)          66048     ['conv3_block3_2_relu[0][0]'] \n",
      " D)                                                                                               \n",
      "                                                                                                  \n",
      " conv3_block3_3_bn (BatchNo  (None, 28, 28, 512)          2048      ['conv3_block3_3_conv[0][0]'] \n",
      " rmalization)                                                                                     \n",
      "                                                                                                  \n",
      " conv3_block3_add (Add)      (None, 28, 28, 512)          0         ['conv3_block2_out[0][0]',    \n",
      "                                                                     'conv3_block3_3_bn[0][0]']   \n",
      "                                                                                                  \n",
      " conv3_block3_out (Activati  (None, 28, 28, 512)          0         ['conv3_block3_add[0][0]']    \n",
      " on)                                                                                              \n",
      "                                                                                                  \n",
      " conv3_block4_1_conv (Conv2  (None, 28, 28, 128)          65664     ['conv3_block3_out[0][0]']    \n",
      " D)                                                                                               \n",
      "                                                                                                  \n",
      " conv3_block4_1_bn (BatchNo  (None, 28, 28, 128)          512       ['conv3_block4_1_conv[0][0]'] \n",
      " rmalization)                                                                                     \n",
      "                                                                                                  \n",
      " conv3_block4_1_relu (Activ  (None, 28, 28, 128)          0         ['conv3_block4_1_bn[0][0]']   \n",
      " ation)                                                                                           \n",
      "                                                                                                  \n",
      " conv3_block4_2_conv (Conv2  (None, 28, 28, 128)          147584    ['conv3_block4_1_relu[0][0]'] \n",
      " D)                                                                                               \n",
      "                                                                                                  \n",
      " conv3_block4_2_bn (BatchNo  (None, 28, 28, 128)          512       ['conv3_block4_2_conv[0][0]'] \n",
      " rmalization)                                                                                     \n",
      "                                                                                                  \n",
      " conv3_block4_2_relu (Activ  (None, 28, 28, 128)          0         ['conv3_block4_2_bn[0][0]']   \n",
      " ation)                                                                                           \n",
      "                                                                                                  \n",
      " conv3_block4_3_conv (Conv2  (None, 28, 28, 512)          66048     ['conv3_block4_2_relu[0][0]'] \n",
      " D)                                                                                               \n",
      "                                                                                                  \n",
      " conv3_block4_3_bn (BatchNo  (None, 28, 28, 512)          2048      ['conv3_block4_3_conv[0][0]'] \n",
      " rmalization)                                                                                     \n",
      "                                                                                                  \n",
      " conv3_block4_add (Add)      (None, 28, 28, 512)          0         ['conv3_block3_out[0][0]',    \n",
      "                                                                     'conv3_block4_3_bn[0][0]']   \n",
      "                                                                                                  \n",
      " conv3_block4_out (Activati  (None, 28, 28, 512)          0         ['conv3_block4_add[0][0]']    \n",
      " on)                                                                                              \n",
      "                                                                                                  \n",
      " conv4_block1_1_conv (Conv2  (None, 14, 14, 256)          131328    ['conv3_block4_out[0][0]']    \n",
      " D)                                                                                               \n",
      "                                                                                                  \n",
      " conv4_block1_1_bn (BatchNo  (None, 14, 14, 256)          1024      ['conv4_block1_1_conv[0][0]'] \n",
      " rmalization)                                                                                     \n",
      "                                                                                                  \n",
      " conv4_block1_1_relu (Activ  (None, 14, 14, 256)          0         ['conv4_block1_1_bn[0][0]']   \n",
      " ation)                                                                                           \n",
      "                                                                                                  \n",
      " conv4_block1_2_conv (Conv2  (None, 14, 14, 256)          590080    ['conv4_block1_1_relu[0][0]'] \n",
      " D)                                                                                               \n",
      "                                                                                                  \n",
      " conv4_block1_2_bn (BatchNo  (None, 14, 14, 256)          1024      ['conv4_block1_2_conv[0][0]'] \n",
      " rmalization)                                                                                     \n",
      "                                                                                                  \n",
      " conv4_block1_2_relu (Activ  (None, 14, 14, 256)          0         ['conv4_block1_2_bn[0][0]']   \n",
      " ation)                                                                                           \n",
      "                                                                                                  \n",
      " conv4_block1_0_conv (Conv2  (None, 14, 14, 1024)         525312    ['conv3_block4_out[0][0]']    \n",
      " D)                                                                                               \n",
      "                                                                                                  \n",
      " conv4_block1_3_conv (Conv2  (None, 14, 14, 1024)         263168    ['conv4_block1_2_relu[0][0]'] \n",
      " D)                                                                                               \n",
      "                                                                                                  \n",
      " conv4_block1_0_bn (BatchNo  (None, 14, 14, 1024)         4096      ['conv4_block1_0_conv[0][0]'] \n",
      " rmalization)                                                                                     \n",
      "                                                                                                  \n",
      " conv4_block1_3_bn (BatchNo  (None, 14, 14, 1024)         4096      ['conv4_block1_3_conv[0][0]'] \n",
      " rmalization)                                                                                     \n",
      "                                                                                                  \n",
      " conv4_block1_add (Add)      (None, 14, 14, 1024)         0         ['conv4_block1_0_bn[0][0]',   \n",
      "                                                                     'conv4_block1_3_bn[0][0]']   \n",
      "                                                                                                  \n",
      " conv4_block1_out (Activati  (None, 14, 14, 1024)         0         ['conv4_block1_add[0][0]']    \n",
      " on)                                                                                              \n",
      "                                                                                                  \n",
      " conv4_block2_1_conv (Conv2  (None, 14, 14, 256)          262400    ['conv4_block1_out[0][0]']    \n",
      " D)                                                                                               \n",
      "                                                                                                  \n",
      " conv4_block2_1_bn (BatchNo  (None, 14, 14, 256)          1024      ['conv4_block2_1_conv[0][0]'] \n",
      " rmalization)                                                                                     \n",
      "                                                                                                  \n",
      " conv4_block2_1_relu (Activ  (None, 14, 14, 256)          0         ['conv4_block2_1_bn[0][0]']   \n",
      " ation)                                                                                           \n",
      "                                                                                                  \n",
      " conv4_block2_2_conv (Conv2  (None, 14, 14, 256)          590080    ['conv4_block2_1_relu[0][0]'] \n",
      " D)                                                                                               \n",
      "                                                                                                  \n",
      " conv4_block2_2_bn (BatchNo  (None, 14, 14, 256)          1024      ['conv4_block2_2_conv[0][0]'] \n",
      " rmalization)                                                                                     \n",
      "                                                                                                  \n",
      " conv4_block2_2_relu (Activ  (None, 14, 14, 256)          0         ['conv4_block2_2_bn[0][0]']   \n",
      " ation)                                                                                           \n",
      "                                                                                                  \n",
      " conv4_block2_3_conv (Conv2  (None, 14, 14, 1024)         263168    ['conv4_block2_2_relu[0][0]'] \n",
      " D)                                                                                               \n",
      "                                                                                                  \n",
      " conv4_block2_3_bn (BatchNo  (None, 14, 14, 1024)         4096      ['conv4_block2_3_conv[0][0]'] \n",
      " rmalization)                                                                                     \n",
      "                                                                                                  \n",
      " conv4_block2_add (Add)      (None, 14, 14, 1024)         0         ['conv4_block1_out[0][0]',    \n",
      "                                                                     'conv4_block2_3_bn[0][0]']   \n",
      "                                                                                                  \n",
      " conv4_block2_out (Activati  (None, 14, 14, 1024)         0         ['conv4_block2_add[0][0]']    \n",
      " on)                                                                                              \n",
      "                                                                                                  \n",
      " conv4_block3_1_conv (Conv2  (None, 14, 14, 256)          262400    ['conv4_block2_out[0][0]']    \n",
      " D)                                                                                               \n",
      "                                                                                                  \n",
      " conv4_block3_1_bn (BatchNo  (None, 14, 14, 256)          1024      ['conv4_block3_1_conv[0][0]'] \n",
      " rmalization)                                                                                     \n",
      "                                                                                                  \n",
      " conv4_block3_1_relu (Activ  (None, 14, 14, 256)          0         ['conv4_block3_1_bn[0][0]']   \n",
      " ation)                                                                                           \n",
      "                                                                                                  \n",
      " conv4_block3_2_conv (Conv2  (None, 14, 14, 256)          590080    ['conv4_block3_1_relu[0][0]'] \n",
      " D)                                                                                               \n",
      "                                                                                                  \n",
      " conv4_block3_2_bn (BatchNo  (None, 14, 14, 256)          1024      ['conv4_block3_2_conv[0][0]'] \n",
      " rmalization)                                                                                     \n",
      "                                                                                                  \n",
      " conv4_block3_2_relu (Activ  (None, 14, 14, 256)          0         ['conv4_block3_2_bn[0][0]']   \n",
      " ation)                                                                                           \n",
      "                                                                                                  \n",
      " conv4_block3_3_conv (Conv2  (None, 14, 14, 1024)         263168    ['conv4_block3_2_relu[0][0]'] \n",
      " D)                                                                                               \n",
      "                                                                                                  \n",
      " conv4_block3_3_bn (BatchNo  (None, 14, 14, 1024)         4096      ['conv4_block3_3_conv[0][0]'] \n",
      " rmalization)                                                                                     \n",
      "                                                                                                  \n",
      " conv4_block3_add (Add)      (None, 14, 14, 1024)         0         ['conv4_block2_out[0][0]',    \n",
      "                                                                     'conv4_block3_3_bn[0][0]']   \n",
      "                                                                                                  \n",
      " conv4_block3_out (Activati  (None, 14, 14, 1024)         0         ['conv4_block3_add[0][0]']    \n",
      " on)                                                                                              \n",
      "                                                                                                  \n",
      " conv4_block4_1_conv (Conv2  (None, 14, 14, 256)          262400    ['conv4_block3_out[0][0]']    \n",
      " D)                                                                                               \n",
      "                                                                                                  \n",
      " conv4_block4_1_bn (BatchNo  (None, 14, 14, 256)          1024      ['conv4_block4_1_conv[0][0]'] \n",
      " rmalization)                                                                                     \n",
      "                                                                                                  \n",
      " conv4_block4_1_relu (Activ  (None, 14, 14, 256)          0         ['conv4_block4_1_bn[0][0]']   \n",
      " ation)                                                                                           \n",
      "                                                                                                  \n",
      " conv4_block4_2_conv (Conv2  (None, 14, 14, 256)          590080    ['conv4_block4_1_relu[0][0]'] \n",
      " D)                                                                                               \n",
      "                                                                                                  \n",
      " conv4_block4_2_bn (BatchNo  (None, 14, 14, 256)          1024      ['conv4_block4_2_conv[0][0]'] \n",
      " rmalization)                                                                                     \n",
      "                                                                                                  \n",
      " conv4_block4_2_relu (Activ  (None, 14, 14, 256)          0         ['conv4_block4_2_bn[0][0]']   \n",
      " ation)                                                                                           \n",
      "                                                                                                  \n",
      " conv4_block4_3_conv (Conv2  (None, 14, 14, 1024)         263168    ['conv4_block4_2_relu[0][0]'] \n",
      " D)                                                                                               \n",
      "                                                                                                  \n",
      " conv4_block4_3_bn (BatchNo  (None, 14, 14, 1024)         4096      ['conv4_block4_3_conv[0][0]'] \n",
      " rmalization)                                                                                     \n",
      "                                                                                                  \n",
      " conv4_block4_add (Add)      (None, 14, 14, 1024)         0         ['conv4_block3_out[0][0]',    \n",
      "                                                                     'conv4_block4_3_bn[0][0]']   \n",
      "                                                                                                  \n",
      " conv4_block4_out (Activati  (None, 14, 14, 1024)         0         ['conv4_block4_add[0][0]']    \n",
      " on)                                                                                              \n",
      "                                                                                                  \n",
      " conv4_block5_1_conv (Conv2  (None, 14, 14, 256)          262400    ['conv4_block4_out[0][0]']    \n",
      " D)                                                                                               \n",
      "                                                                                                  \n",
      " conv4_block5_1_bn (BatchNo  (None, 14, 14, 256)          1024      ['conv4_block5_1_conv[0][0]'] \n",
      " rmalization)                                                                                     \n",
      "                                                                                                  \n",
      " conv4_block5_1_relu (Activ  (None, 14, 14, 256)          0         ['conv4_block5_1_bn[0][0]']   \n",
      " ation)                                                                                           \n",
      "                                                                                                  \n",
      " conv4_block5_2_conv (Conv2  (None, 14, 14, 256)          590080    ['conv4_block5_1_relu[0][0]'] \n",
      " D)                                                                                               \n",
      "                                                                                                  \n",
      " conv4_block5_2_bn (BatchNo  (None, 14, 14, 256)          1024      ['conv4_block5_2_conv[0][0]'] \n",
      " rmalization)                                                                                     \n",
      "                                                                                                  \n",
      " conv4_block5_2_relu (Activ  (None, 14, 14, 256)          0         ['conv4_block5_2_bn[0][0]']   \n",
      " ation)                                                                                           \n",
      "                                                                                                  \n",
      " conv4_block5_3_conv (Conv2  (None, 14, 14, 1024)         263168    ['conv4_block5_2_relu[0][0]'] \n",
      " D)                                                                                               \n",
      "                                                                                                  \n",
      " conv4_block5_3_bn (BatchNo  (None, 14, 14, 1024)         4096      ['conv4_block5_3_conv[0][0]'] \n",
      " rmalization)                                                                                     \n",
      "                                                                                                  \n",
      " conv4_block5_add (Add)      (None, 14, 14, 1024)         0         ['conv4_block4_out[0][0]',    \n",
      "                                                                     'conv4_block5_3_bn[0][0]']   \n",
      "                                                                                                  \n",
      " conv4_block5_out (Activati  (None, 14, 14, 1024)         0         ['conv4_block5_add[0][0]']    \n",
      " on)                                                                                              \n",
      "                                                                                                  \n",
      " conv4_block6_1_conv (Conv2  (None, 14, 14, 256)          262400    ['conv4_block5_out[0][0]']    \n",
      " D)                                                                                               \n",
      "                                                                                                  \n",
      " conv4_block6_1_bn (BatchNo  (None, 14, 14, 256)          1024      ['conv4_block6_1_conv[0][0]'] \n",
      " rmalization)                                                                                     \n",
      "                                                                                                  \n",
      " conv4_block6_1_relu (Activ  (None, 14, 14, 256)          0         ['conv4_block6_1_bn[0][0]']   \n",
      " ation)                                                                                           \n",
      "                                                                                                  \n",
      " conv4_block6_2_conv (Conv2  (None, 14, 14, 256)          590080    ['conv4_block6_1_relu[0][0]'] \n",
      " D)                                                                                               \n",
      "                                                                                                  \n",
      " conv4_block6_2_bn (BatchNo  (None, 14, 14, 256)          1024      ['conv4_block6_2_conv[0][0]'] \n",
      " rmalization)                                                                                     \n",
      "                                                                                                  \n",
      " conv4_block6_2_relu (Activ  (None, 14, 14, 256)          0         ['conv4_block6_2_bn[0][0]']   \n",
      " ation)                                                                                           \n",
      "                                                                                                  \n",
      " conv4_block6_3_conv (Conv2  (None, 14, 14, 1024)         263168    ['conv4_block6_2_relu[0][0]'] \n",
      " D)                                                                                               \n",
      "                                                                                                  \n",
      " conv4_block6_3_bn (BatchNo  (None, 14, 14, 1024)         4096      ['conv4_block6_3_conv[0][0]'] \n",
      " rmalization)                                                                                     \n",
      "                                                                                                  \n",
      " conv4_block6_add (Add)      (None, 14, 14, 1024)         0         ['conv4_block5_out[0][0]',    \n",
      "                                                                     'conv4_block6_3_bn[0][0]']   \n",
      "                                                                                                  \n",
      " conv4_block6_out (Activati  (None, 14, 14, 1024)         0         ['conv4_block6_add[0][0]']    \n",
      " on)                                                                                              \n",
      "                                                                                                  \n",
      " conv5_block1_1_conv (Conv2  (None, 7, 7, 512)            524800    ['conv4_block6_out[0][0]']    \n",
      " D)                                                                                               \n",
      "                                                                                                  \n",
      " conv5_block1_1_bn (BatchNo  (None, 7, 7, 512)            2048      ['conv5_block1_1_conv[0][0]'] \n",
      " rmalization)                                                                                     \n",
      "                                                                                                  \n",
      " conv5_block1_1_relu (Activ  (None, 7, 7, 512)            0         ['conv5_block1_1_bn[0][0]']   \n",
      " ation)                                                                                           \n",
      "                                                                                                  \n",
      " conv5_block1_2_conv (Conv2  (None, 7, 7, 512)            2359808   ['conv5_block1_1_relu[0][0]'] \n",
      " D)                                                                                               \n",
      "                                                                                                  \n",
      " conv5_block1_2_bn (BatchNo  (None, 7, 7, 512)            2048      ['conv5_block1_2_conv[0][0]'] \n",
      " rmalization)                                                                                     \n",
      "                                                                                                  \n",
      " conv5_block1_2_relu (Activ  (None, 7, 7, 512)            0         ['conv5_block1_2_bn[0][0]']   \n",
      " ation)                                                                                           \n",
      "                                                                                                  \n",
      " conv5_block1_0_conv (Conv2  (None, 7, 7, 2048)           2099200   ['conv4_block6_out[0][0]']    \n",
      " D)                                                                                               \n",
      "                                                                                                  \n",
      " conv5_block1_3_conv (Conv2  (None, 7, 7, 2048)           1050624   ['conv5_block1_2_relu[0][0]'] \n",
      " D)                                                                                               \n",
      "                                                                                                  \n",
      " conv5_block1_0_bn (BatchNo  (None, 7, 7, 2048)           8192      ['conv5_block1_0_conv[0][0]'] \n",
      " rmalization)                                                                                     \n",
      "                                                                                                  \n",
      " conv5_block1_3_bn (BatchNo  (None, 7, 7, 2048)           8192      ['conv5_block1_3_conv[0][0]'] \n",
      " rmalization)                                                                                     \n",
      "                                                                                                  \n",
      " conv5_block1_add (Add)      (None, 7, 7, 2048)           0         ['conv5_block1_0_bn[0][0]',   \n",
      "                                                                     'conv5_block1_3_bn[0][0]']   \n",
      "                                                                                                  \n",
      " conv5_block1_out (Activati  (None, 7, 7, 2048)           0         ['conv5_block1_add[0][0]']    \n",
      " on)                                                                                              \n",
      "                                                                                                  \n",
      " conv5_block2_1_conv (Conv2  (None, 7, 7, 512)            1049088   ['conv5_block1_out[0][0]']    \n",
      " D)                                                                                               \n",
      "                                                                                                  \n",
      " conv5_block2_1_bn (BatchNo  (None, 7, 7, 512)            2048      ['conv5_block2_1_conv[0][0]'] \n",
      " rmalization)                                                                                     \n",
      "                                                                                                  \n",
      " conv5_block2_1_relu (Activ  (None, 7, 7, 512)            0         ['conv5_block2_1_bn[0][0]']   \n",
      " ation)                                                                                           \n",
      "                                                                                                  \n",
      " conv5_block2_2_conv (Conv2  (None, 7, 7, 512)            2359808   ['conv5_block2_1_relu[0][0]'] \n",
      " D)                                                                                               \n",
      "                                                                                                  \n",
      " conv5_block2_2_bn (BatchNo  (None, 7, 7, 512)            2048      ['conv5_block2_2_conv[0][0]'] \n",
      " rmalization)                                                                                     \n",
      "                                                                                                  \n",
      " conv5_block2_2_relu (Activ  (None, 7, 7, 512)            0         ['conv5_block2_2_bn[0][0]']   \n",
      " ation)                                                                                           \n",
      "                                                                                                  \n",
      " conv5_block2_3_conv (Conv2  (None, 7, 7, 2048)           1050624   ['conv5_block2_2_relu[0][0]'] \n",
      " D)                                                                                               \n",
      "                                                                                                  \n",
      " conv5_block2_3_bn (BatchNo  (None, 7, 7, 2048)           8192      ['conv5_block2_3_conv[0][0]'] \n",
      " rmalization)                                                                                     \n",
      "                                                                                                  \n",
      " conv5_block2_add (Add)      (None, 7, 7, 2048)           0         ['conv5_block1_out[0][0]',    \n",
      "                                                                     'conv5_block2_3_bn[0][0]']   \n",
      "                                                                                                  \n",
      " conv5_block2_out (Activati  (None, 7, 7, 2048)           0         ['conv5_block2_add[0][0]']    \n",
      " on)                                                                                              \n",
      "                                                                                                  \n",
      " conv5_block3_1_conv (Conv2  (None, 7, 7, 512)            1049088   ['conv5_block2_out[0][0]']    \n",
      " D)                                                                                               \n",
      "                                                                                                  \n",
      " conv5_block3_1_bn (BatchNo  (None, 7, 7, 512)            2048      ['conv5_block3_1_conv[0][0]'] \n",
      " rmalization)                                                                                     \n",
      "                                                                                                  \n",
      " conv5_block3_1_relu (Activ  (None, 7, 7, 512)            0         ['conv5_block3_1_bn[0][0]']   \n",
      " ation)                                                                                           \n",
      "                                                                                                  \n",
      " conv5_block3_2_conv (Conv2  (None, 7, 7, 512)            2359808   ['conv5_block3_1_relu[0][0]'] \n",
      " D)                                                                                               \n",
      "                                                                                                  \n",
      " conv5_block3_2_bn (BatchNo  (None, 7, 7, 512)            2048      ['conv5_block3_2_conv[0][0]'] \n",
      " rmalization)                                                                                     \n",
      "                                                                                                  \n",
      " conv5_block3_2_relu (Activ  (None, 7, 7, 512)            0         ['conv5_block3_2_bn[0][0]']   \n",
      " ation)                                                                                           \n",
      "                                                                                                  \n",
      " conv5_block3_3_conv (Conv2  (None, 7, 7, 2048)           1050624   ['conv5_block3_2_relu[0][0]'] \n",
      " D)                                                                                               \n",
      "                                                                                                  \n",
      " conv5_block3_3_bn (BatchNo  (None, 7, 7, 2048)           8192      ['conv5_block3_3_conv[0][0]'] \n",
      " rmalization)                                                                                     \n",
      "                                                                                                  \n",
      " conv5_block3_add (Add)      (None, 7, 7, 2048)           0         ['conv5_block2_out[0][0]',    \n",
      "                                                                     'conv5_block3_3_bn[0][0]']   \n",
      "                                                                                                  \n",
      " conv5_block3_out (Activati  (None, 7, 7, 2048)           0         ['conv5_block3_add[0][0]']    \n",
      " on)                                                                                              \n",
      "                                                                                                  \n",
      "==================================================================================================\n",
      "Total params: 23587712 (89.98 MB)\n",
      "Trainable params: 23534592 (89.78 MB)\n",
      "Non-trainable params: 53120 (207.50 KB)\n",
      "__________________________________________________________________________________________________\n"
     ]
    }
   ],
   "source": [
    "tf.random.set_seed(42)\n",
    "# res_model_1 = tf.keras.applications.resnet50.ResNet50()\n",
    "res_model = tf.keras.applications.resnet50.ResNet50(weights='imagenet',\n",
    "                                                            include_top=False,\n",
    "                   input_shape=(IMAGE_WIDTH, IMAGE_HEIGHT, COLOR_CHANNELS))\n",
    "res_model.summary()"
   ]
  },
  {
   "cell_type": "markdown",
   "metadata": {},
   "source": [
    "### To double check layers with summary"
   ]
  },
  {
   "cell_type": "code",
   "execution_count": 26,
   "metadata": {},
   "outputs": [
    {
     "name": "stdout",
     "output_type": "stream",
     "text": [
      "Number of layers: 175\n",
      "Total number of parameters: 23587712\n",
      "Total trainable parameters: 23534592\n",
      "Total non-trainable parameters: 53120\n"
     ]
    }
   ],
   "source": [
    "total_params = res_model.count_params()\n",
    "num_layers = len(res_model.layers)\n",
    "print(\"Number of layers:\", num_layers)\n",
    "print(\"Total number of parameters:\", total_params)\n",
    "\n",
    "trainable_params = sum([tf.keras.backend.count_params(p) for p in res_model.trainable_weights])\n",
    "non_trainable_params = sum([tf.keras.backend.count_params(p) for p in res_model.non_trainable_weights])\n",
    "\n",
    "print(\"Total trainable parameters:\", trainable_params)\n",
    "print(\"Total non-trainable parameters:\", non_trainable_params)"
   ]
  },
  {
   "cell_type": "markdown",
   "metadata": {},
   "source": [
    "## Self-Defined ResNet"
   ]
  },
  {
   "cell_type": "markdown",
   "metadata": {},
   "source": [
    "#### To instruct: loaded layers for not trainable (non-trainable) BUT all weights are intact"
   ]
  },
  {
   "cell_type": "code",
   "execution_count": 27,
   "metadata": {},
   "outputs": [],
   "source": [
    "# all those layers will be false (exlcuded) > Standard\n",
    "for layer in res_model.layers:\n",
    "    layer.trainable = False\n",
    "    \n",
    "# res_model_1.summary()"
   ]
  },
  {
   "cell_type": "markdown",
   "metadata": {},
   "source": [
    "#### Manual"
   ]
  },
  {
   "cell_type": "markdown",
   "metadata": {},
   "source": [
    "#### Flatten the output of the ResNet model, through Global Average Pooling(GAP)"
   ]
  },
  {
   "cell_type": "code",
   "execution_count": 28,
   "metadata": {},
   "outputs": [
    {
     "name": "stdout",
     "output_type": "stream",
     "text": [
      "Model: \"model\"\n",
      "__________________________________________________________________________________________________\n",
      " Layer (type)                Output Shape                 Param #   Connected to                  \n",
      "==================================================================================================\n",
      " input_1 (InputLayer)        [(None, 224, 224, 3)]        0         []                            \n",
      "                                                                                                  \n",
      " conv1_pad (ZeroPadding2D)   (None, 230, 230, 3)          0         ['input_1[0][0]']             \n",
      "                                                                                                  \n",
      " conv1_conv (Conv2D)         (None, 112, 112, 64)         9472      ['conv1_pad[0][0]']           \n",
      "                                                                                                  \n",
      " conv1_bn (BatchNormalizati  (None, 112, 112, 64)         256       ['conv1_conv[0][0]']          \n",
      " on)                                                                                              \n",
      "                                                                                                  \n",
      " conv1_relu (Activation)     (None, 112, 112, 64)         0         ['conv1_bn[0][0]']            \n",
      "                                                                                                  \n",
      " pool1_pad (ZeroPadding2D)   (None, 114, 114, 64)         0         ['conv1_relu[0][0]']          \n",
      "                                                                                                  \n",
      " pool1_pool (MaxPooling2D)   (None, 56, 56, 64)           0         ['pool1_pad[0][0]']           \n",
      "                                                                                                  \n",
      " conv2_block1_1_conv (Conv2  (None, 56, 56, 64)           4160      ['pool1_pool[0][0]']          \n",
      " D)                                                                                               \n",
      "                                                                                                  \n",
      " conv2_block1_1_bn (BatchNo  (None, 56, 56, 64)           256       ['conv2_block1_1_conv[0][0]'] \n",
      " rmalization)                                                                                     \n",
      "                                                                                                  \n",
      " conv2_block1_1_relu (Activ  (None, 56, 56, 64)           0         ['conv2_block1_1_bn[0][0]']   \n",
      " ation)                                                                                           \n",
      "                                                                                                  \n",
      " conv2_block1_2_conv (Conv2  (None, 56, 56, 64)           36928     ['conv2_block1_1_relu[0][0]'] \n",
      " D)                                                                                               \n",
      "                                                                                                  \n",
      " conv2_block1_2_bn (BatchNo  (None, 56, 56, 64)           256       ['conv2_block1_2_conv[0][0]'] \n",
      " rmalization)                                                                                     \n",
      "                                                                                                  \n",
      " conv2_block1_2_relu (Activ  (None, 56, 56, 64)           0         ['conv2_block1_2_bn[0][0]']   \n",
      " ation)                                                                                           \n",
      "                                                                                                  \n",
      " conv2_block1_0_conv (Conv2  (None, 56, 56, 256)          16640     ['pool1_pool[0][0]']          \n",
      " D)                                                                                               \n",
      "                                                                                                  \n",
      " conv2_block1_3_conv (Conv2  (None, 56, 56, 256)          16640     ['conv2_block1_2_relu[0][0]'] \n",
      " D)                                                                                               \n",
      "                                                                                                  \n",
      " conv2_block1_0_bn (BatchNo  (None, 56, 56, 256)          1024      ['conv2_block1_0_conv[0][0]'] \n",
      " rmalization)                                                                                     \n",
      "                                                                                                  \n",
      " conv2_block1_3_bn (BatchNo  (None, 56, 56, 256)          1024      ['conv2_block1_3_conv[0][0]'] \n",
      " rmalization)                                                                                     \n",
      "                                                                                                  \n",
      " conv2_block1_add (Add)      (None, 56, 56, 256)          0         ['conv2_block1_0_bn[0][0]',   \n",
      "                                                                     'conv2_block1_3_bn[0][0]']   \n",
      "                                                                                                  \n",
      " conv2_block1_out (Activati  (None, 56, 56, 256)          0         ['conv2_block1_add[0][0]']    \n",
      " on)                                                                                              \n",
      "                                                                                                  \n",
      " conv2_block2_1_conv (Conv2  (None, 56, 56, 64)           16448     ['conv2_block1_out[0][0]']    \n",
      " D)                                                                                               \n",
      "                                                                                                  \n",
      " conv2_block2_1_bn (BatchNo  (None, 56, 56, 64)           256       ['conv2_block2_1_conv[0][0]'] \n",
      " rmalization)                                                                                     \n",
      "                                                                                                  \n",
      " conv2_block2_1_relu (Activ  (None, 56, 56, 64)           0         ['conv2_block2_1_bn[0][0]']   \n",
      " ation)                                                                                           \n",
      "                                                                                                  \n",
      " conv2_block2_2_conv (Conv2  (None, 56, 56, 64)           36928     ['conv2_block2_1_relu[0][0]'] \n",
      " D)                                                                                               \n",
      "                                                                                                  \n",
      " conv2_block2_2_bn (BatchNo  (None, 56, 56, 64)           256       ['conv2_block2_2_conv[0][0]'] \n",
      " rmalization)                                                                                     \n",
      "                                                                                                  \n",
      " conv2_block2_2_relu (Activ  (None, 56, 56, 64)           0         ['conv2_block2_2_bn[0][0]']   \n",
      " ation)                                                                                           \n",
      "                                                                                                  \n",
      " conv2_block2_3_conv (Conv2  (None, 56, 56, 256)          16640     ['conv2_block2_2_relu[0][0]'] \n",
      " D)                                                                                               \n",
      "                                                                                                  \n",
      " conv2_block2_3_bn (BatchNo  (None, 56, 56, 256)          1024      ['conv2_block2_3_conv[0][0]'] \n",
      " rmalization)                                                                                     \n",
      "                                                                                                  \n",
      " conv2_block2_add (Add)      (None, 56, 56, 256)          0         ['conv2_block1_out[0][0]',    \n",
      "                                                                     'conv2_block2_3_bn[0][0]']   \n",
      "                                                                                                  \n",
      " conv2_block2_out (Activati  (None, 56, 56, 256)          0         ['conv2_block2_add[0][0]']    \n",
      " on)                                                                                              \n",
      "                                                                                                  \n",
      " conv2_block3_1_conv (Conv2  (None, 56, 56, 64)           16448     ['conv2_block2_out[0][0]']    \n",
      " D)                                                                                               \n",
      "                                                                                                  \n",
      " conv2_block3_1_bn (BatchNo  (None, 56, 56, 64)           256       ['conv2_block3_1_conv[0][0]'] \n",
      " rmalization)                                                                                     \n",
      "                                                                                                  \n",
      " conv2_block3_1_relu (Activ  (None, 56, 56, 64)           0         ['conv2_block3_1_bn[0][0]']   \n",
      " ation)                                                                                           \n",
      "                                                                                                  \n",
      " conv2_block3_2_conv (Conv2  (None, 56, 56, 64)           36928     ['conv2_block3_1_relu[0][0]'] \n",
      " D)                                                                                               \n",
      "                                                                                                  \n",
      " conv2_block3_2_bn (BatchNo  (None, 56, 56, 64)           256       ['conv2_block3_2_conv[0][0]'] \n",
      " rmalization)                                                                                     \n",
      "                                                                                                  \n",
      " conv2_block3_2_relu (Activ  (None, 56, 56, 64)           0         ['conv2_block3_2_bn[0][0]']   \n",
      " ation)                                                                                           \n",
      "                                                                                                  \n",
      " conv2_block3_3_conv (Conv2  (None, 56, 56, 256)          16640     ['conv2_block3_2_relu[0][0]'] \n",
      " D)                                                                                               \n",
      "                                                                                                  \n",
      " conv2_block3_3_bn (BatchNo  (None, 56, 56, 256)          1024      ['conv2_block3_3_conv[0][0]'] \n",
      " rmalization)                                                                                     \n",
      "                                                                                                  \n",
      " conv2_block3_add (Add)      (None, 56, 56, 256)          0         ['conv2_block2_out[0][0]',    \n",
      "                                                                     'conv2_block3_3_bn[0][0]']   \n",
      "                                                                                                  \n",
      " conv2_block3_out (Activati  (None, 56, 56, 256)          0         ['conv2_block3_add[0][0]']    \n",
      " on)                                                                                              \n",
      "                                                                                                  \n",
      " conv3_block1_1_conv (Conv2  (None, 28, 28, 128)          32896     ['conv2_block3_out[0][0]']    \n",
      " D)                                                                                               \n",
      "                                                                                                  \n",
      " conv3_block1_1_bn (BatchNo  (None, 28, 28, 128)          512       ['conv3_block1_1_conv[0][0]'] \n",
      " rmalization)                                                                                     \n",
      "                                                                                                  \n",
      " conv3_block1_1_relu (Activ  (None, 28, 28, 128)          0         ['conv3_block1_1_bn[0][0]']   \n",
      " ation)                                                                                           \n",
      "                                                                                                  \n",
      " conv3_block1_2_conv (Conv2  (None, 28, 28, 128)          147584    ['conv3_block1_1_relu[0][0]'] \n",
      " D)                                                                                               \n",
      "                                                                                                  \n",
      " conv3_block1_2_bn (BatchNo  (None, 28, 28, 128)          512       ['conv3_block1_2_conv[0][0]'] \n",
      " rmalization)                                                                                     \n",
      "                                                                                                  \n",
      " conv3_block1_2_relu (Activ  (None, 28, 28, 128)          0         ['conv3_block1_2_bn[0][0]']   \n",
      " ation)                                                                                           \n",
      "                                                                                                  \n",
      " conv3_block1_0_conv (Conv2  (None, 28, 28, 512)          131584    ['conv2_block3_out[0][0]']    \n",
      " D)                                                                                               \n",
      "                                                                                                  \n",
      " conv3_block1_3_conv (Conv2  (None, 28, 28, 512)          66048     ['conv3_block1_2_relu[0][0]'] \n",
      " D)                                                                                               \n",
      "                                                                                                  \n",
      " conv3_block1_0_bn (BatchNo  (None, 28, 28, 512)          2048      ['conv3_block1_0_conv[0][0]'] \n",
      " rmalization)                                                                                     \n",
      "                                                                                                  \n",
      " conv3_block1_3_bn (BatchNo  (None, 28, 28, 512)          2048      ['conv3_block1_3_conv[0][0]'] \n",
      " rmalization)                                                                                     \n",
      "                                                                                                  \n",
      " conv3_block1_add (Add)      (None, 28, 28, 512)          0         ['conv3_block1_0_bn[0][0]',   \n",
      "                                                                     'conv3_block1_3_bn[0][0]']   \n",
      "                                                                                                  \n",
      " conv3_block1_out (Activati  (None, 28, 28, 512)          0         ['conv3_block1_add[0][0]']    \n",
      " on)                                                                                              \n",
      "                                                                                                  \n",
      " conv3_block2_1_conv (Conv2  (None, 28, 28, 128)          65664     ['conv3_block1_out[0][0]']    \n",
      " D)                                                                                               \n",
      "                                                                                                  \n",
      " conv3_block2_1_bn (BatchNo  (None, 28, 28, 128)          512       ['conv3_block2_1_conv[0][0]'] \n",
      " rmalization)                                                                                     \n",
      "                                                                                                  \n",
      " conv3_block2_1_relu (Activ  (None, 28, 28, 128)          0         ['conv3_block2_1_bn[0][0]']   \n",
      " ation)                                                                                           \n",
      "                                                                                                  \n",
      " conv3_block2_2_conv (Conv2  (None, 28, 28, 128)          147584    ['conv3_block2_1_relu[0][0]'] \n",
      " D)                                                                                               \n",
      "                                                                                                  \n",
      " conv3_block2_2_bn (BatchNo  (None, 28, 28, 128)          512       ['conv3_block2_2_conv[0][0]'] \n",
      " rmalization)                                                                                     \n",
      "                                                                                                  \n",
      " conv3_block2_2_relu (Activ  (None, 28, 28, 128)          0         ['conv3_block2_2_bn[0][0]']   \n",
      " ation)                                                                                           \n",
      "                                                                                                  \n",
      " conv3_block2_3_conv (Conv2  (None, 28, 28, 512)          66048     ['conv3_block2_2_relu[0][0]'] \n",
      " D)                                                                                               \n",
      "                                                                                                  \n",
      " conv3_block2_3_bn (BatchNo  (None, 28, 28, 512)          2048      ['conv3_block2_3_conv[0][0]'] \n",
      " rmalization)                                                                                     \n",
      "                                                                                                  \n",
      " conv3_block2_add (Add)      (None, 28, 28, 512)          0         ['conv3_block1_out[0][0]',    \n",
      "                                                                     'conv3_block2_3_bn[0][0]']   \n",
      "                                                                                                  \n",
      " conv3_block2_out (Activati  (None, 28, 28, 512)          0         ['conv3_block2_add[0][0]']    \n",
      " on)                                                                                              \n",
      "                                                                                                  \n",
      " conv3_block3_1_conv (Conv2  (None, 28, 28, 128)          65664     ['conv3_block2_out[0][0]']    \n",
      " D)                                                                                               \n",
      "                                                                                                  \n",
      " conv3_block3_1_bn (BatchNo  (None, 28, 28, 128)          512       ['conv3_block3_1_conv[0][0]'] \n",
      " rmalization)                                                                                     \n",
      "                                                                                                  \n",
      " conv3_block3_1_relu (Activ  (None, 28, 28, 128)          0         ['conv3_block3_1_bn[0][0]']   \n",
      " ation)                                                                                           \n",
      "                                                                                                  \n",
      " conv3_block3_2_conv (Conv2  (None, 28, 28, 128)          147584    ['conv3_block3_1_relu[0][0]'] \n",
      " D)                                                                                               \n",
      "                                                                                                  \n",
      " conv3_block3_2_bn (BatchNo  (None, 28, 28, 128)          512       ['conv3_block3_2_conv[0][0]'] \n",
      " rmalization)                                                                                     \n",
      "                                                                                                  \n",
      " conv3_block3_2_relu (Activ  (None, 28, 28, 128)          0         ['conv3_block3_2_bn[0][0]']   \n",
      " ation)                                                                                           \n",
      "                                                                                                  \n",
      " conv3_block3_3_conv (Conv2  (None, 28, 28, 512)          66048     ['conv3_block3_2_relu[0][0]'] \n",
      " D)                                                                                               \n",
      "                                                                                                  \n",
      " conv3_block3_3_bn (BatchNo  (None, 28, 28, 512)          2048      ['conv3_block3_3_conv[0][0]'] \n",
      " rmalization)                                                                                     \n",
      "                                                                                                  \n",
      " conv3_block3_add (Add)      (None, 28, 28, 512)          0         ['conv3_block2_out[0][0]',    \n",
      "                                                                     'conv3_block3_3_bn[0][0]']   \n",
      "                                                                                                  \n",
      " conv3_block3_out (Activati  (None, 28, 28, 512)          0         ['conv3_block3_add[0][0]']    \n",
      " on)                                                                                              \n",
      "                                                                                                  \n",
      " conv3_block4_1_conv (Conv2  (None, 28, 28, 128)          65664     ['conv3_block3_out[0][0]']    \n",
      " D)                                                                                               \n",
      "                                                                                                  \n",
      " conv3_block4_1_bn (BatchNo  (None, 28, 28, 128)          512       ['conv3_block4_1_conv[0][0]'] \n",
      " rmalization)                                                                                     \n",
      "                                                                                                  \n",
      " conv3_block4_1_relu (Activ  (None, 28, 28, 128)          0         ['conv3_block4_1_bn[0][0]']   \n",
      " ation)                                                                                           \n",
      "                                                                                                  \n",
      " conv3_block4_2_conv (Conv2  (None, 28, 28, 128)          147584    ['conv3_block4_1_relu[0][0]'] \n",
      " D)                                                                                               \n",
      "                                                                                                  \n",
      " conv3_block4_2_bn (BatchNo  (None, 28, 28, 128)          512       ['conv3_block4_2_conv[0][0]'] \n",
      " rmalization)                                                                                     \n",
      "                                                                                                  \n",
      " conv3_block4_2_relu (Activ  (None, 28, 28, 128)          0         ['conv3_block4_2_bn[0][0]']   \n",
      " ation)                                                                                           \n",
      "                                                                                                  \n",
      " conv3_block4_3_conv (Conv2  (None, 28, 28, 512)          66048     ['conv3_block4_2_relu[0][0]'] \n",
      " D)                                                                                               \n",
      "                                                                                                  \n",
      " conv3_block4_3_bn (BatchNo  (None, 28, 28, 512)          2048      ['conv3_block4_3_conv[0][0]'] \n",
      " rmalization)                                                                                     \n",
      "                                                                                                  \n",
      " conv3_block4_add (Add)      (None, 28, 28, 512)          0         ['conv3_block3_out[0][0]',    \n",
      "                                                                     'conv3_block4_3_bn[0][0]']   \n",
      "                                                                                                  \n",
      " conv3_block4_out (Activati  (None, 28, 28, 512)          0         ['conv3_block4_add[0][0]']    \n",
      " on)                                                                                              \n",
      "                                                                                                  \n",
      " conv4_block1_1_conv (Conv2  (None, 14, 14, 256)          131328    ['conv3_block4_out[0][0]']    \n",
      " D)                                                                                               \n",
      "                                                                                                  \n",
      " conv4_block1_1_bn (BatchNo  (None, 14, 14, 256)          1024      ['conv4_block1_1_conv[0][0]'] \n",
      " rmalization)                                                                                     \n",
      "                                                                                                  \n",
      " conv4_block1_1_relu (Activ  (None, 14, 14, 256)          0         ['conv4_block1_1_bn[0][0]']   \n",
      " ation)                                                                                           \n",
      "                                                                                                  \n",
      " conv4_block1_2_conv (Conv2  (None, 14, 14, 256)          590080    ['conv4_block1_1_relu[0][0]'] \n",
      " D)                                                                                               \n",
      "                                                                                                  \n",
      " conv4_block1_2_bn (BatchNo  (None, 14, 14, 256)          1024      ['conv4_block1_2_conv[0][0]'] \n",
      " rmalization)                                                                                     \n",
      "                                                                                                  \n",
      " conv4_block1_2_relu (Activ  (None, 14, 14, 256)          0         ['conv4_block1_2_bn[0][0]']   \n",
      " ation)                                                                                           \n",
      "                                                                                                  \n",
      " conv4_block1_0_conv (Conv2  (None, 14, 14, 1024)         525312    ['conv3_block4_out[0][0]']    \n",
      " D)                                                                                               \n",
      "                                                                                                  \n",
      " conv4_block1_3_conv (Conv2  (None, 14, 14, 1024)         263168    ['conv4_block1_2_relu[0][0]'] \n",
      " D)                                                                                               \n",
      "                                                                                                  \n",
      " conv4_block1_0_bn (BatchNo  (None, 14, 14, 1024)         4096      ['conv4_block1_0_conv[0][0]'] \n",
      " rmalization)                                                                                     \n",
      "                                                                                                  \n",
      " conv4_block1_3_bn (BatchNo  (None, 14, 14, 1024)         4096      ['conv4_block1_3_conv[0][0]'] \n",
      " rmalization)                                                                                     \n",
      "                                                                                                  \n",
      " conv4_block1_add (Add)      (None, 14, 14, 1024)         0         ['conv4_block1_0_bn[0][0]',   \n",
      "                                                                     'conv4_block1_3_bn[0][0]']   \n",
      "                                                                                                  \n",
      " conv4_block1_out (Activati  (None, 14, 14, 1024)         0         ['conv4_block1_add[0][0]']    \n",
      " on)                                                                                              \n",
      "                                                                                                  \n",
      " conv4_block2_1_conv (Conv2  (None, 14, 14, 256)          262400    ['conv4_block1_out[0][0]']    \n",
      " D)                                                                                               \n",
      "                                                                                                  \n",
      " conv4_block2_1_bn (BatchNo  (None, 14, 14, 256)          1024      ['conv4_block2_1_conv[0][0]'] \n",
      " rmalization)                                                                                     \n",
      "                                                                                                  \n",
      " conv4_block2_1_relu (Activ  (None, 14, 14, 256)          0         ['conv4_block2_1_bn[0][0]']   \n",
      " ation)                                                                                           \n",
      "                                                                                                  \n",
      " conv4_block2_2_conv (Conv2  (None, 14, 14, 256)          590080    ['conv4_block2_1_relu[0][0]'] \n",
      " D)                                                                                               \n",
      "                                                                                                  \n",
      " conv4_block2_2_bn (BatchNo  (None, 14, 14, 256)          1024      ['conv4_block2_2_conv[0][0]'] \n",
      " rmalization)                                                                                     \n",
      "                                                                                                  \n",
      " conv4_block2_2_relu (Activ  (None, 14, 14, 256)          0         ['conv4_block2_2_bn[0][0]']   \n",
      " ation)                                                                                           \n",
      "                                                                                                  \n",
      " conv4_block2_3_conv (Conv2  (None, 14, 14, 1024)         263168    ['conv4_block2_2_relu[0][0]'] \n",
      " D)                                                                                               \n",
      "                                                                                                  \n",
      " conv4_block2_3_bn (BatchNo  (None, 14, 14, 1024)         4096      ['conv4_block2_3_conv[0][0]'] \n",
      " rmalization)                                                                                     \n",
      "                                                                                                  \n",
      " conv4_block2_add (Add)      (None, 14, 14, 1024)         0         ['conv4_block1_out[0][0]',    \n",
      "                                                                     'conv4_block2_3_bn[0][0]']   \n",
      "                                                                                                  \n",
      " conv4_block2_out (Activati  (None, 14, 14, 1024)         0         ['conv4_block2_add[0][0]']    \n",
      " on)                                                                                              \n",
      "                                                                                                  \n",
      " conv4_block3_1_conv (Conv2  (None, 14, 14, 256)          262400    ['conv4_block2_out[0][0]']    \n",
      " D)                                                                                               \n",
      "                                                                                                  \n",
      " conv4_block3_1_bn (BatchNo  (None, 14, 14, 256)          1024      ['conv4_block3_1_conv[0][0]'] \n",
      " rmalization)                                                                                     \n",
      "                                                                                                  \n",
      " conv4_block3_1_relu (Activ  (None, 14, 14, 256)          0         ['conv4_block3_1_bn[0][0]']   \n",
      " ation)                                                                                           \n",
      "                                                                                                  \n",
      " conv4_block3_2_conv (Conv2  (None, 14, 14, 256)          590080    ['conv4_block3_1_relu[0][0]'] \n",
      " D)                                                                                               \n",
      "                                                                                                  \n",
      " conv4_block3_2_bn (BatchNo  (None, 14, 14, 256)          1024      ['conv4_block3_2_conv[0][0]'] \n",
      " rmalization)                                                                                     \n",
      "                                                                                                  \n",
      " conv4_block3_2_relu (Activ  (None, 14, 14, 256)          0         ['conv4_block3_2_bn[0][0]']   \n",
      " ation)                                                                                           \n",
      "                                                                                                  \n",
      " conv4_block3_3_conv (Conv2  (None, 14, 14, 1024)         263168    ['conv4_block3_2_relu[0][0]'] \n",
      " D)                                                                                               \n",
      "                                                                                                  \n",
      " conv4_block3_3_bn (BatchNo  (None, 14, 14, 1024)         4096      ['conv4_block3_3_conv[0][0]'] \n",
      " rmalization)                                                                                     \n",
      "                                                                                                  \n",
      " conv4_block3_add (Add)      (None, 14, 14, 1024)         0         ['conv4_block2_out[0][0]',    \n",
      "                                                                     'conv4_block3_3_bn[0][0]']   \n",
      "                                                                                                  \n",
      " conv4_block3_out (Activati  (None, 14, 14, 1024)         0         ['conv4_block3_add[0][0]']    \n",
      " on)                                                                                              \n",
      "                                                                                                  \n",
      " conv4_block4_1_conv (Conv2  (None, 14, 14, 256)          262400    ['conv4_block3_out[0][0]']    \n",
      " D)                                                                                               \n",
      "                                                                                                  \n",
      " conv4_block4_1_bn (BatchNo  (None, 14, 14, 256)          1024      ['conv4_block4_1_conv[0][0]'] \n",
      " rmalization)                                                                                     \n",
      "                                                                                                  \n",
      " conv4_block4_1_relu (Activ  (None, 14, 14, 256)          0         ['conv4_block4_1_bn[0][0]']   \n",
      " ation)                                                                                           \n",
      "                                                                                                  \n",
      " conv4_block4_2_conv (Conv2  (None, 14, 14, 256)          590080    ['conv4_block4_1_relu[0][0]'] \n",
      " D)                                                                                               \n",
      "                                                                                                  \n",
      " conv4_block4_2_bn (BatchNo  (None, 14, 14, 256)          1024      ['conv4_block4_2_conv[0][0]'] \n",
      " rmalization)                                                                                     \n",
      "                                                                                                  \n",
      " conv4_block4_2_relu (Activ  (None, 14, 14, 256)          0         ['conv4_block4_2_bn[0][0]']   \n",
      " ation)                                                                                           \n",
      "                                                                                                  \n",
      " conv4_block4_3_conv (Conv2  (None, 14, 14, 1024)         263168    ['conv4_block4_2_relu[0][0]'] \n",
      " D)                                                                                               \n",
      "                                                                                                  \n",
      " conv4_block4_3_bn (BatchNo  (None, 14, 14, 1024)         4096      ['conv4_block4_3_conv[0][0]'] \n",
      " rmalization)                                                                                     \n",
      "                                                                                                  \n",
      " conv4_block4_add (Add)      (None, 14, 14, 1024)         0         ['conv4_block3_out[0][0]',    \n",
      "                                                                     'conv4_block4_3_bn[0][0]']   \n",
      "                                                                                                  \n",
      " conv4_block4_out (Activati  (None, 14, 14, 1024)         0         ['conv4_block4_add[0][0]']    \n",
      " on)                                                                                              \n",
      "                                                                                                  \n",
      " conv4_block5_1_conv (Conv2  (None, 14, 14, 256)          262400    ['conv4_block4_out[0][0]']    \n",
      " D)                                                                                               \n",
      "                                                                                                  \n",
      " conv4_block5_1_bn (BatchNo  (None, 14, 14, 256)          1024      ['conv4_block5_1_conv[0][0]'] \n",
      " rmalization)                                                                                     \n",
      "                                                                                                  \n",
      " conv4_block5_1_relu (Activ  (None, 14, 14, 256)          0         ['conv4_block5_1_bn[0][0]']   \n",
      " ation)                                                                                           \n",
      "                                                                                                  \n",
      " conv4_block5_2_conv (Conv2  (None, 14, 14, 256)          590080    ['conv4_block5_1_relu[0][0]'] \n",
      " D)                                                                                               \n",
      "                                                                                                  \n",
      " conv4_block5_2_bn (BatchNo  (None, 14, 14, 256)          1024      ['conv4_block5_2_conv[0][0]'] \n",
      " rmalization)                                                                                     \n",
      "                                                                                                  \n",
      " conv4_block5_2_relu (Activ  (None, 14, 14, 256)          0         ['conv4_block5_2_bn[0][0]']   \n",
      " ation)                                                                                           \n",
      "                                                                                                  \n",
      " conv4_block5_3_conv (Conv2  (None, 14, 14, 1024)         263168    ['conv4_block5_2_relu[0][0]'] \n",
      " D)                                                                                               \n",
      "                                                                                                  \n",
      " conv4_block5_3_bn (BatchNo  (None, 14, 14, 1024)         4096      ['conv4_block5_3_conv[0][0]'] \n",
      " rmalization)                                                                                     \n",
      "                                                                                                  \n",
      " conv4_block5_add (Add)      (None, 14, 14, 1024)         0         ['conv4_block4_out[0][0]',    \n",
      "                                                                     'conv4_block5_3_bn[0][0]']   \n",
      "                                                                                                  \n",
      " conv4_block5_out (Activati  (None, 14, 14, 1024)         0         ['conv4_block5_add[0][0]']    \n",
      " on)                                                                                              \n",
      "                                                                                                  \n",
      " conv4_block6_1_conv (Conv2  (None, 14, 14, 256)          262400    ['conv4_block5_out[0][0]']    \n",
      " D)                                                                                               \n",
      "                                                                                                  \n",
      " conv4_block6_1_bn (BatchNo  (None, 14, 14, 256)          1024      ['conv4_block6_1_conv[0][0]'] \n",
      " rmalization)                                                                                     \n",
      "                                                                                                  \n",
      " conv4_block6_1_relu (Activ  (None, 14, 14, 256)          0         ['conv4_block6_1_bn[0][0]']   \n",
      " ation)                                                                                           \n",
      "                                                                                                  \n",
      " conv4_block6_2_conv (Conv2  (None, 14, 14, 256)          590080    ['conv4_block6_1_relu[0][0]'] \n",
      " D)                                                                                               \n",
      "                                                                                                  \n",
      " conv4_block6_2_bn (BatchNo  (None, 14, 14, 256)          1024      ['conv4_block6_2_conv[0][0]'] \n",
      " rmalization)                                                                                     \n",
      "                                                                                                  \n",
      " conv4_block6_2_relu (Activ  (None, 14, 14, 256)          0         ['conv4_block6_2_bn[0][0]']   \n",
      " ation)                                                                                           \n",
      "                                                                                                  \n",
      " conv4_block6_3_conv (Conv2  (None, 14, 14, 1024)         263168    ['conv4_block6_2_relu[0][0]'] \n",
      " D)                                                                                               \n",
      "                                                                                                  \n",
      " conv4_block6_3_bn (BatchNo  (None, 14, 14, 1024)         4096      ['conv4_block6_3_conv[0][0]'] \n",
      " rmalization)                                                                                     \n",
      "                                                                                                  \n",
      " conv4_block6_add (Add)      (None, 14, 14, 1024)         0         ['conv4_block5_out[0][0]',    \n",
      "                                                                     'conv4_block6_3_bn[0][0]']   \n",
      "                                                                                                  \n",
      " conv4_block6_out (Activati  (None, 14, 14, 1024)         0         ['conv4_block6_add[0][0]']    \n",
      " on)                                                                                              \n",
      "                                                                                                  \n",
      " conv5_block1_1_conv (Conv2  (None, 7, 7, 512)            524800    ['conv4_block6_out[0][0]']    \n",
      " D)                                                                                               \n",
      "                                                                                                  \n",
      " conv5_block1_1_bn (BatchNo  (None, 7, 7, 512)            2048      ['conv5_block1_1_conv[0][0]'] \n",
      " rmalization)                                                                                     \n",
      "                                                                                                  \n",
      " conv5_block1_1_relu (Activ  (None, 7, 7, 512)            0         ['conv5_block1_1_bn[0][0]']   \n",
      " ation)                                                                                           \n",
      "                                                                                                  \n",
      " conv5_block1_2_conv (Conv2  (None, 7, 7, 512)            2359808   ['conv5_block1_1_relu[0][0]'] \n",
      " D)                                                                                               \n",
      "                                                                                                  \n",
      " conv5_block1_2_bn (BatchNo  (None, 7, 7, 512)            2048      ['conv5_block1_2_conv[0][0]'] \n",
      " rmalization)                                                                                     \n",
      "                                                                                                  \n",
      " conv5_block1_2_relu (Activ  (None, 7, 7, 512)            0         ['conv5_block1_2_bn[0][0]']   \n",
      " ation)                                                                                           \n",
      "                                                                                                  \n",
      " conv5_block1_0_conv (Conv2  (None, 7, 7, 2048)           2099200   ['conv4_block6_out[0][0]']    \n",
      " D)                                                                                               \n",
      "                                                                                                  \n",
      " conv5_block1_3_conv (Conv2  (None, 7, 7, 2048)           1050624   ['conv5_block1_2_relu[0][0]'] \n",
      " D)                                                                                               \n",
      "                                                                                                  \n",
      " conv5_block1_0_bn (BatchNo  (None, 7, 7, 2048)           8192      ['conv5_block1_0_conv[0][0]'] \n",
      " rmalization)                                                                                     \n",
      "                                                                                                  \n",
      " conv5_block1_3_bn (BatchNo  (None, 7, 7, 2048)           8192      ['conv5_block1_3_conv[0][0]'] \n",
      " rmalization)                                                                                     \n",
      "                                                                                                  \n",
      " conv5_block1_add (Add)      (None, 7, 7, 2048)           0         ['conv5_block1_0_bn[0][0]',   \n",
      "                                                                     'conv5_block1_3_bn[0][0]']   \n",
      "                                                                                                  \n",
      " conv5_block1_out (Activati  (None, 7, 7, 2048)           0         ['conv5_block1_add[0][0]']    \n",
      " on)                                                                                              \n",
      "                                                                                                  \n",
      " conv5_block2_1_conv (Conv2  (None, 7, 7, 512)            1049088   ['conv5_block1_out[0][0]']    \n",
      " D)                                                                                               \n",
      "                                                                                                  \n",
      " conv5_block2_1_bn (BatchNo  (None, 7, 7, 512)            2048      ['conv5_block2_1_conv[0][0]'] \n",
      " rmalization)                                                                                     \n",
      "                                                                                                  \n",
      " conv5_block2_1_relu (Activ  (None, 7, 7, 512)            0         ['conv5_block2_1_bn[0][0]']   \n",
      " ation)                                                                                           \n",
      "                                                                                                  \n",
      " conv5_block2_2_conv (Conv2  (None, 7, 7, 512)            2359808   ['conv5_block2_1_relu[0][0]'] \n",
      " D)                                                                                               \n",
      "                                                                                                  \n",
      " conv5_block2_2_bn (BatchNo  (None, 7, 7, 512)            2048      ['conv5_block2_2_conv[0][0]'] \n",
      " rmalization)                                                                                     \n",
      "                                                                                                  \n",
      " conv5_block2_2_relu (Activ  (None, 7, 7, 512)            0         ['conv5_block2_2_bn[0][0]']   \n",
      " ation)                                                                                           \n",
      "                                                                                                  \n",
      " conv5_block2_3_conv (Conv2  (None, 7, 7, 2048)           1050624   ['conv5_block2_2_relu[0][0]'] \n",
      " D)                                                                                               \n",
      "                                                                                                  \n",
      " conv5_block2_3_bn (BatchNo  (None, 7, 7, 2048)           8192      ['conv5_block2_3_conv[0][0]'] \n",
      " rmalization)                                                                                     \n",
      "                                                                                                  \n",
      " conv5_block2_add (Add)      (None, 7, 7, 2048)           0         ['conv5_block1_out[0][0]',    \n",
      "                                                                     'conv5_block2_3_bn[0][0]']   \n",
      "                                                                                                  \n",
      " conv5_block2_out (Activati  (None, 7, 7, 2048)           0         ['conv5_block2_add[0][0]']    \n",
      " on)                                                                                              \n",
      "                                                                                                  \n",
      " conv5_block3_1_conv (Conv2  (None, 7, 7, 512)            1049088   ['conv5_block2_out[0][0]']    \n",
      " D)                                                                                               \n",
      "                                                                                                  \n",
      " conv5_block3_1_bn (BatchNo  (None, 7, 7, 512)            2048      ['conv5_block3_1_conv[0][0]'] \n",
      " rmalization)                                                                                     \n",
      "                                                                                                  \n",
      " conv5_block3_1_relu (Activ  (None, 7, 7, 512)            0         ['conv5_block3_1_bn[0][0]']   \n",
      " ation)                                                                                           \n",
      "                                                                                                  \n",
      " conv5_block3_2_conv (Conv2  (None, 7, 7, 512)            2359808   ['conv5_block3_1_relu[0][0]'] \n",
      " D)                                                                                               \n",
      "                                                                                                  \n",
      " conv5_block3_2_bn (BatchNo  (None, 7, 7, 512)            2048      ['conv5_block3_2_conv[0][0]'] \n",
      " rmalization)                                                                                     \n",
      "                                                                                                  \n",
      " conv5_block3_2_relu (Activ  (None, 7, 7, 512)            0         ['conv5_block3_2_bn[0][0]']   \n",
      " ation)                                                                                           \n",
      "                                                                                                  \n",
      " conv5_block3_3_conv (Conv2  (None, 7, 7, 2048)           1050624   ['conv5_block3_2_relu[0][0]'] \n",
      " D)                                                                                               \n",
      "                                                                                                  \n",
      " conv5_block3_3_bn (BatchNo  (None, 7, 7, 2048)           8192      ['conv5_block3_3_conv[0][0]'] \n",
      " rmalization)                                                                                     \n",
      "                                                                                                  \n",
      " conv5_block3_add (Add)      (None, 7, 7, 2048)           0         ['conv5_block2_out[0][0]',    \n",
      "                                                                     'conv5_block3_3_bn[0][0]']   \n",
      "                                                                                                  \n",
      " conv5_block3_out (Activati  (None, 7, 7, 2048)           0         ['conv5_block3_add[0][0]']    \n",
      " on)                                                                                              \n",
      "                                                                                                  \n",
      " global_average_pooling2d (  (None, 2048)                 0         ['conv5_block3_out[0][0]']    \n",
      " GlobalAveragePooling2D)                                                                          \n",
      "                                                                                                  \n",
      " dense (Dense)               (None, 1024)                 2098176   ['global_average_pooling2d[0][\n",
      "                                                                    0]']                          \n",
      "                                                                                                  \n",
      " dropout (Dropout)           (None, 1024)                 0         ['dense[0][0]']               \n",
      "                                                                                                  \n",
      " dense_1 (Dense)             (None, 20)                   20500     ['dropout[0][0]']             \n",
      "                                                                                                  \n",
      "==================================================================================================\n",
      "Total params: 25706388 (98.06 MB)\n",
      "Trainable params: 2118676 (8.08 MB)\n",
      "Non-trainable params: 23587712 (89.98 MB)\n",
      "__________________________________________________________________________________________________\n"
     ]
    }
   ],
   "source": [
    "# Define input layer\n",
    "inputs = res_model.input\n",
    "# Output of the pre-trained ResNet model (Standard)\n",
    "x = res_model.output\n",
    "\n",
    "# Add a global average pooling layer to reduce the spatial dimensions\n",
    "# x = AveragePooling2D(pool_size=(7, 7))(x)\n",
    "# x = Flatten(name='flatten')(x)\n",
    "# x = Dense(128, activation='relu')(x)\n",
    "# x = Dropout(0.2)(x)\n",
    "\n",
    "x = GlobalAveragePooling2D()(x)\n",
    "x = Dense(1024, activation='relu')(x)\n",
    "x = Dropout(0.3)(x)\n",
    "\n",
    "# Add the output layer with softmax activation for classification\n",
    "outputs = tf.keras.layers.Dense(20, activation='softmax')(x)\n",
    "\n",
    "# Define the model with inputs and outputs\n",
    "model_4_3 = tf.keras.Model(inputs=inputs, outputs=outputs)\n",
    "\n",
    "model_4_3.summary()"
   ]
  },
  {
   "cell_type": "code",
   "execution_count": 29,
   "metadata": {},
   "outputs": [
    {
     "name": "stdout",
     "output_type": "stream",
     "text": [
      "Number of layers: 179\n",
      "Total number of parameters: 25706388\n",
      "Total trainable parameters: 2118676\n",
      "Total non-trainable parameters: 23587712\n"
     ]
    }
   ],
   "source": [
    "total_params = model_4_3.count_params()\n",
    "num_layers = len(model_4_3.layers)\n",
    "print(\"Number of layers:\", num_layers)\n",
    "print(\"Total number of parameters:\", total_params)\n",
    "\n",
    "trainable_params = sum([tf.keras.backend.count_params(p) for p in model_4_3.trainable_weights])\n",
    "non_trainable_params = sum([tf.keras.backend.count_params(p) for p in model_4_3.non_trainable_weights])\n",
    "\n",
    "print(\"Total trainable parameters:\", trainable_params)\n",
    "print(\"Total non-trainable parameters:\", non_trainable_params)"
   ]
  },
  {
   "cell_type": "code",
   "execution_count": 29,
   "metadata": {},
   "outputs": [],
   "source": [
    "# Initialize counters for different types of layers\n",
    "num_conv_layers = 0\n",
    "num_pooling_layers = 0\n",
    "num_fc_layers = 0\n",
    "num_padding_layers = 0\n",
    "num_batch_norm_layers = 0\n",
    "num_activation_layers = 0\n",
    "num_input_layers = 0\n",
    "num_dropout_layers = 0\n",
    "num_reshape_layers = 0\n",
    "num_flatten_layers = 0\n",
    "num_permute_layers = 0\n",
    "num_concat_layers = 0\n",
    "num_add_layers = 0\n",
    "num_average_layers = 0\n",
    "num_multiply_layers = 0\n",
    "num_relu_layers = 0"
   ]
  },
  {
   "cell_type": "code",
   "execution_count": 30,
   "metadata": {},
   "outputs": [],
   "source": [
    "# Dictionary to count different types of pooling layers\n",
    "pooling_layers_count = {\n",
    "    'MaxPooling2D': 0,\n",
    "    'AveragePooling2D': 0,\n",
    "    'GlobalMaxPooling2D': 0,\n",
    "    'GlobalAveragePooling2D': 0\n",
    "}"
   ]
  },
  {
   "cell_type": "code",
   "execution_count": 31,
   "metadata": {},
   "outputs": [],
   "source": [
    "# Iterate through the layers and count the types\n",
    "for layer in model_4_3.layers:  # Note the change here to iterate through model_7_1 layers\n",
    "    if isinstance(layer, tf.keras.layers.InputLayer):\n",
    "        num_input_layers += 1\n",
    "    elif isinstance(layer, tf.keras.layers.Conv2D):\n",
    "        num_conv_layers += 1\n",
    "    elif isinstance(layer, tf.keras.layers.MaxPooling2D):\n",
    "        num_pooling_layers += 1\n",
    "        pooling_layers_count['MaxPooling2D'] += 1\n",
    "    elif isinstance(layer, tf.keras.layers.AveragePooling2D):\n",
    "        num_pooling_layers += 1\n",
    "        pooling_layers_count['AveragePooling2D'] += 1\n",
    "    elif isinstance(layer, tf.keras.layers.GlobalMaxPooling2D):\n",
    "        num_pooling_layers += 1\n",
    "        pooling_layers_count['GlobalMaxPooling2D'] += 1\n",
    "    elif isinstance(layer, tf.keras.layers.GlobalAveragePooling2D):\n",
    "        num_pooling_layers += 1\n",
    "        pooling_layers_count['GlobalAveragePooling2D'] += 1\n",
    "    elif isinstance(layer, tf.keras.layers.Dense):\n",
    "        num_fc_layers += 1\n",
    "    elif isinstance(layer, tf.keras.layers.ZeroPadding2D):\n",
    "        num_padding_layers += 1\n",
    "    elif isinstance(layer, tf.keras.layers.BatchNormalization):\n",
    "        num_batch_norm_layers += 1\n",
    "    elif isinstance(layer, tf.keras.layers.Activation):\n",
    "        num_activation_layers += 1\n",
    "    elif isinstance(layer, tf.keras.layers.Dropout):\n",
    "        num_dropout_layers += 1\n",
    "    elif isinstance(layer, tf.keras.layers.Reshape):\n",
    "        num_reshape_layers += 1\n",
    "    elif isinstance(layer, tf.keras.layers.Flatten):\n",
    "        num_flatten_layers += 1\n",
    "    elif isinstance(layer, tf.keras.layers.Permute):\n",
    "        num_permute_layers += 1\n",
    "    elif isinstance(layer, tf.keras.layers.Concatenate):\n",
    "        num_concat_layers += 1\n",
    "    elif isinstance(layer, tf.keras.layers.Add):\n",
    "        num_add_layers += 1\n",
    "    elif isinstance(layer, tf.keras.layers.Average):\n",
    "        num_average_layers += 1\n",
    "    elif isinstance(layer, tf.keras.layers.Multiply):\n",
    "        num_multiply_layers += 1\n",
    "    elif isinstance(layer, tf.keras.layers.ReLU):\n",
    "        num_relu_layers += 1"
   ]
  },
  {
   "cell_type": "code",
   "execution_count": 32,
   "metadata": {},
   "outputs": [],
   "source": [
    "# Count the total number of layers and parameters\n",
    "total_params = model_4_3.count_params()\n",
    "num_layers = len(model_4_3.layers)\n",
    "trainable_params = sum([tf.keras.backend.count_params(p) for p in model_4_3.trainable_weights])\n",
    "non_trainable_params = sum([tf.keras.backend.count_params(p) for p in model_4_3.non_trainable_weights])"
   ]
  },
  {
   "cell_type": "code",
   "execution_count": 33,
   "metadata": {},
   "outputs": [
    {
     "name": "stdout",
     "output_type": "stream",
     "text": [
      "Total number of parameters: 25706388\n",
      "Total trainable parameters: 2118676\n",
      "Total non-trainable parameters: 23587712\n",
      "\n",
      "Number of convolutional layers: 53\n",
      "Number of pooling layers: 2\n",
      "Number of MaxPooling2D layers: 1\n",
      "Number of AveragePooling2D layers: 0\n",
      "Number of GlobalMaxPooling2D layers: 0\n",
      "Number of GlobalAveragePooling2D layers: 1\n",
      "Number of fully connected (Dense) layers: 2\n",
      "Number of padding layers: 2\n",
      "Number of batch normalization layers: 53\n",
      "Number of activation layers: 49\n",
      "Number of input layers: 1\n",
      "Number of dropout layers: 1\n",
      "Number of reshape layers: 0\n",
      "Number of flatten layers: 0\n",
      "Number of permute layers: 0\n",
      "Number of concatenate layers: 0\n",
      "Number of add layers: 16\n",
      "Number of average layers: 0\n",
      "Number of multiply layers: 0\n",
      "Number of ReLU layers: 0\n",
      "Number of layers: 179\n"
     ]
    }
   ],
   "source": [
    "# Print the counts\n",
    "print(\"Total number of parameters:\", total_params)\n",
    "print(\"Total trainable parameters:\", trainable_params)\n",
    "print(\"Total non-trainable parameters:\", non_trainable_params)\n",
    "print(\"\\nNumber of convolutional layers:\", num_conv_layers)\n",
    "print(\"Number of pooling layers:\", num_pooling_layers)\n",
    "for pooling_type, count in pooling_layers_count.items():\n",
    "    print(f\"Number of {pooling_type} layers:\", count)\n",
    "print(\"Number of fully connected (Dense) layers:\", num_fc_layers)\n",
    "print(\"Number of padding layers:\", num_padding_layers)\n",
    "print(\"Number of batch normalization layers:\", num_batch_norm_layers)\n",
    "print(\"Number of activation layers:\", num_activation_layers)\n",
    "print(\"Number of input layers:\", num_input_layers)\n",
    "print(\"Number of dropout layers:\", num_dropout_layers)\n",
    "print(\"Number of reshape layers:\", num_reshape_layers)\n",
    "print(\"Number of flatten layers:\", num_flatten_layers)\n",
    "print(\"Number of permute layers:\", num_permute_layers)\n",
    "print(\"Number of concatenate layers:\", num_concat_layers)\n",
    "print(\"Number of add layers:\", num_add_layers)\n",
    "print(\"Number of average layers:\", num_average_layers)\n",
    "print(\"Number of multiply layers:\", num_multiply_layers)\n",
    "print(\"Number of ReLU layers:\", num_relu_layers)\n",
    "print(\"Number of layers:\", num_layers)"
   ]
  },
  {
   "cell_type": "markdown",
   "metadata": {
    "id": "2-iU7OrZmt8C"
   },
   "source": [
    "# Compile"
   ]
  },
  {
   "cell_type": "code",
   "execution_count": 34,
   "metadata": {
    "executionInfo": {
     "elapsed": 16,
     "status": "ok",
     "timestamp": 1708405522159,
     "user": {
      "displayName": "Henry Si",
      "userId": "17719448117276295977"
     },
     "user_tz": -480
    },
    "id": "IYaeIWfcUFlf"
   },
   "outputs": [],
   "source": [
    "# INIT_LRATE = 1e-4\n",
    "EPOCHS = 20\n",
    "# optimizer = tf.keras.optimizers.Adam(learning_rate=INIT_LRATE, weight_decay=INIT_LRATE / EPOCHS )\n",
    "# optimizer = tf.keras.optimizers.RMSprop(learning_rate=0.001)  # Testing Optimizer Adjust the learning rate \n",
    "model_4_3.compile(optimizer = 'Adam',\n",
    "              loss = 'categorical_crossentropy',\n",
    "              metrics = ['accuracy'])"
   ]
  },
  {
   "cell_type": "markdown",
   "metadata": {
    "id": "iZt37Kz9Lv4g"
   },
   "source": [
    "# 1st Training"
   ]
  },
  {
   "cell_type": "markdown",
   "metadata": {},
   "source": [
    "# Fit Model"
   ]
  },
  {
   "cell_type": "markdown",
   "metadata": {},
   "source": [
    "## Add new folder first inside the google COLAB like `saved_models`"
   ]
  },
  {
   "cell_type": "markdown",
   "metadata": {},
   "source": [
    "### Using Logging Method and passed into callback"
   ]
  },
  {
   "cell_type": "code",
   "execution_count": 35,
   "metadata": {},
   "outputs": [],
   "source": [
    "class SaveHistoryCallback(Callback):\n",
    "    # def __init__(self, model_name):  # with model_name\n",
    "    def __init__(self):    # without model_name\n",
    "        super(SaveHistoryCallback, self).__init__()\n",
    "        self.base_path = '/Users/merchika/chikaData/TA/assets/new_json'  # Define the base path here - JNB\n",
    "        # self.base_path = '/content/saved_models/'  # Define the base path here - COLAB\n",
    "        # self.model_name = aug_cnn_model1  # Could be omitted if not needed\n",
    "\n",
    "    def on_epoch_end(self, epoch, logs=None):\n",
    "        if logs is None:\n",
    "            logs = {}\n",
    "        # file_path = os.path.join(self.base_path, f'{self.model_name}_history.json')  # if using model name\n",
    "        file_path = os.path.join(self.base_path, 'NEW_UNDERSAMPLING_RESNET_model_2.json')\n",
    "        with open(file_path, 'a') as file:\n",
    "            json.dump(logs, file)\n",
    "            file.write('\\n')"
   ]
  },
  {
   "cell_type": "code",
   "execution_count": 36,
   "metadata": {},
   "outputs": [
    {
     "name": "stdout",
     "output_type": "stream",
     "text": [
      "Epoch 1/20\n",
      "400/400 [==============================] - ETA: 0s - loss: 1.1270 - accuracy: 0.6744"
     ]
    },
    {
     "name": "stderr",
     "output_type": "stream",
     "text": [
      "/Users/merchika/anaconda3/envs/bachelorThesis/lib/python3.10/site-packages/keras/src/engine/training.py:3103: UserWarning: You are saving your model as an HDF5 file via `model.save()`. This file format is considered legacy. We recommend using instead the native Keras format, e.g. `model.save('my_model.keras')`.\n",
      "  saving_api.save_model(\n"
     ]
    },
    {
     "name": "stdout",
     "output_type": "stream",
     "text": [
      "400/400 [==============================] - 2026s 5s/step - loss: 1.1270 - accuracy: 0.6744 - val_loss: 0.8076 - val_accuracy: 0.7620\n",
      "Epoch 2/20\n",
      "400/400 [==============================] - 1901s 5s/step - loss: 0.4793 - accuracy: 0.8521 - val_loss: 0.7398 - val_accuracy: 0.7965\n",
      "Epoch 3/20\n",
      "400/400 [==============================] - 1860s 5s/step - loss: 0.3227 - accuracy: 0.8995 - val_loss: 0.6090 - val_accuracy: 0.8462\n",
      "Epoch 4/20\n",
      "400/400 [==============================] - 1964s 5s/step - loss: 0.2631 - accuracy: 0.9168 - val_loss: 0.6843 - val_accuracy: 0.8277\n",
      "Epoch 5/20\n",
      "400/400 [==============================] - 2377s 6s/step - loss: 0.2368 - accuracy: 0.9231 - val_loss: 0.6358 - val_accuracy: 0.8654\n",
      "Epoch 6/20\n",
      "400/400 [==============================] - 2390s 6s/step - loss: 0.2153 - accuracy: 0.9316 - val_loss: 0.7484 - val_accuracy: 0.8518\n",
      "Epoch 7/20\n",
      "400/400 [==============================] - 2053s 5s/step - loss: 0.1873 - accuracy: 0.9414 - val_loss: 0.6589 - val_accuracy: 0.8702\n",
      "Epoch 7: early stopping\n",
      "CPU times: user 10h 9min 57s, sys: 2h 33s, total: 12h 10min 30s\n",
      "Wall time: 4h 4min 6s\n"
     ]
    }
   ],
   "source": [
    "%%time\n",
    "# EPOCHS = 20\n",
    "\n",
    "# Define the path to save the model\n",
    "# filepath = '/content/saved_models/hist4_aug_model.h5'\n",
    "# filepath='/Users/hendrysi/Data_w/Dev/py/machine_learning/batik/hist1_w_improvement_{epoch:02d}_{val_accuracy:.2f}.hdf5'\n",
    "\n",
    "filepath = '/Users/merchika/chikaData/TA/assets/new_models/NEW_UNSERSAMPLING_RESNET_model_2.h5'\n",
    "\n",
    "checkpoint_callback = ModelCheckpoint(filepath, monitor='val_accuracy', verbose=0, save_best_only=True, mode='max')\n",
    "# checkpoint_callback = ModelCheckpoint(filepath, save_best_only=True)\n",
    "                                      \n",
    "# Define EarlyStop\n",
    "# early_stop = EarlyStopping(monitor='val_loss', patience=8, verbose=1, restore_best_weights=True)\n",
    "early_stop = EarlyStopping(monitor='val_loss', patience=4, verbose=1)\n",
    "\n",
    "# Pass the model name when instantiating SaveHistoryCallback\n",
    "# save_history_callback = SaveHistoryCallback(model_name='aug_cnn')\n",
    "save_history_callback = SaveHistoryCallback()\n",
    "\n",
    "# Define callbacks\n",
    "callbacks = [checkpoint_callback, early_stop, save_history_callback]\n",
    "\n",
    "# Train the model\n",
    "history1 = model_4_3.fit(x_train_normalized, y_train,\n",
    "                         steps_per_epoch = len(x_train_normalized) // BATCH_SIZE,\n",
    "                         batch_size=BATCH_SIZE, \n",
    "                         verbose=1,\n",
    "                         callbacks=callbacks,\n",
    "                         validation_data=(x_validation_normalized, y_val),\n",
    "                         validation_steps = len(x_validation_normalized) // BATCH_SIZE,\n",
    "                         epochs=EPOCHS\n",
    "                        )\n",
    "\n",
    "# model.save('/Users/hendrysi/Data_w/Dev/py/machine_learning/batik/hist1_aug_model.h5')\n",
    "# model.save('/content/saved_models/hist1_aug_model.h5')"
   ]
  },
  {
   "cell_type": "markdown",
   "metadata": {
    "id": "0i7CK9Pmm2KZ"
   },
   "source": [
    "## Plotting Graphs - Right After Training"
   ]
  },
  {
   "cell_type": "code",
   "execution_count": 37,
   "metadata": {
    "colab": {
     "base_uri": "https://localhost:8080/",
     "height": 927
    },
    "executionInfo": {
     "elapsed": 882,
     "status": "ok",
     "timestamp": 1707966828254,
     "user": {
      "displayName": "Henry Si",
      "userId": "17719448117276295977"
     },
     "user_tz": -480
    },
    "id": "vSAjTzuq81KW",
    "outputId": "5985cc1f-9b45-41fa-f65a-0abe771af015"
   },
   "outputs": [
    {
     "data": {
      "image/png": "[encoded data removed]",
      "text/plain": [
       "<Figure size 1200x600 with 2 Axes>"
      ]
     },
     "metadata": {},
     "output_type": "display_data"
    }
   ],
   "source": [
    "acc = history1.history['accuracy']\n",
    "val_acc = history1.history['val_accuracy']\n",
    "loss = history1.history['loss']\n",
    "val_loss = history1.history['val_loss']\n",
    "\n",
    "epochs = range(len(acc))\n",
    "\n",
    "fig, axs = plt.subplots(1, 2, figsize=(12, 6))\n",
    "\n",
    "# To plot side-by-side graph\n",
    "# Plot accuracy\n",
    "axs[0].plot(epochs, acc, 'g', label='Training accuracy')\n",
    "axs[0].plot(epochs, val_acc, 'orange', label='Validation accuracy')\n",
    "axs[0].set_title('Training and Validation Accuracy')\n",
    "axs[0].set_xlabel('Epochs')\n",
    "axs[0].set_ylabel('Accuracy')\n",
    "axs[0].legend()\n",
    "\n",
    "# Plot loss\n",
    "axs[1].plot(epochs, loss, 'g', label='Training loss')\n",
    "axs[1].plot(epochs, val_loss, 'orange', label='Validation loss')\n",
    "axs[1].set_title('Training and Validation Loss')\n",
    "axs[1].set_xlabel('Epochs')\n",
    "axs[1].set_ylabel('Loss')\n",
    "axs[1].legend()\n",
    "\n",
    "plt.tight_layout()\n",
    "plt.show()\n",
    "\n",
    "# # To plot top down graph\n",
    "# plt.plot(epochs, acc, 'b')\n",
    "# plt.plot(epochs, val_acc, 'g')\n",
    "# plt.title('Training and Validation Accuracy CNN Augmented')\n",
    "# plt.ylabel('accuracy')\n",
    "# plt.xlabel('epoch')\n",
    "# plt.legend(['train', 'val'], loc='upper left')\n",
    "# plt.show()\n",
    "\n",
    "# plt.plot(epochs, loss, 'b')\n",
    "# plt.plot(epochs, val_loss, 'r')\n",
    "# plt.ylabel('loss')\n",
    "# plt.xlabel('epoch')\n",
    "# plt.legend(['train', 'val'], loc='upper left')\n",
    "# plt.title('Training and Validation Loss CNN Augmented')\n",
    "# plt.show()"
   ]
  },
  {
   "cell_type": "markdown",
   "metadata": {},
   "source": [
    "# Re-Plotting Graph Without running fit or using saved json"
   ]
  },
  {
   "cell_type": "code",
   "execution_count": 38,
   "metadata": {},
   "outputs": [
    {
     "data": {
      "image/png": "[encoded data removed]",
      "text/plain": [
       "<Figure size 1200x600 with 2 Axes>"
      ]
     },
     "metadata": {},
     "output_type": "display_data"
    }
   ],
   "source": [
    "# Load the training history data from the JSON files\n",
    "# history_file1 = '/content/saved_models/aug_cnn_history1.json'  # COLAB\n",
    "history_file1 = '/Users/merchika/chikaData/TA/assets/new_json/NEW_UNDERSAMPLING_RESNET_model_2.json'  # Jupyter NB\n",
    "\n",
    "def load_history_data(file_path):\n",
    "    with open(file_path, 'r') as file:\n",
    "        history_data = [json.loads(line) for line in file]\n",
    "    return history_data\n",
    "\n",
    "history_data1 = load_history_data(history_file1)\n",
    "# print(history_data1)\n",
    "\n",
    "# Extract metrics data from the first training session\n",
    "acc_1 = [epoch['accuracy'] for epoch in history_data1]\n",
    "val_acc_1 = [epoch['val_accuracy'] for epoch in history_data1]\n",
    "loss_1 = [epoch['loss'] for epoch in history_data1]\n",
    "val_loss_1 = [epoch['val_loss'] for epoch in history_data1]\n",
    "epochs_1 = range(1, len(acc_1) + 1)\n",
    "\n",
    "fig, axs = plt.subplots(1, 2, figsize=(12, 6))\n",
    "\n",
    "# To plot side-by-side graph\n",
    "# Plot accuracy\n",
    "axs[0].plot(epochs_1, acc_1, 'g', label='Training accuracy')\n",
    "axs[0].plot(epochs_1, val_acc_1, 'orange', label='Validation accuracy')\n",
    "axs[0].set_title('Training and Validation Accuracy')\n",
    "axs[0].set_xlabel('Epochs')\n",
    "axs[0].set_ylabel('Accuracy')\n",
    "axs[0].legend()\n",
    "\n",
    "# Plot loss\n",
    "axs[1].plot(epochs_1, loss_1, 'g', label='Training loss')\n",
    "axs[1].plot(epochs_1, val_loss_1, 'orange', label='Validation loss')\n",
    "axs[1].set_title('Training and Validation Loss')\n",
    "axs[1].set_xlabel('Epochs')\n",
    "axs[1].set_ylabel('Loss')\n",
    "axs[1].legend()\n",
    "\n",
    "plt.tight_layout()\n",
    "\n",
    "save_path = '/Users/merchika/chikaData/TA/assets/image/NEW_UNDERSAMPLING_RESNET_model_2.png'\n",
    "plt.savefig(save_path)\n",
    "\n",
    "plt.show()\n",
    "\n",
    "# # To plot top down graph\n",
    "# # Plot accuracy\n",
    "# plt.plot(epochs_1, acc_1, 'b', label='Training accuracy')\n",
    "# plt.plot(epochs_1, val_acc_1, 'g', label='Validation accuracy')\n",
    "# plt.title('Training and Validation Accuracy')\n",
    "# plt.xlabel('Epochs')\n",
    "# plt.ylabel('Accuracy')\n",
    "# plt.legend()\n",
    "# plt.show()\n",
    "\n",
    "# # Plot loss\n",
    "# plt.plot(epochs_1, loss_1, 'b', label='Training loss')\n",
    "# plt.plot(epochs_1, val_loss_1, 'r', label='Validation loss')\n",
    "# plt.title('Training and Validation Loss')\n",
    "# plt.xlabel('Epochs')\n",
    "# plt.ylabel('Loss')\n",
    "# plt.legend()\n",
    "# plt.show()"
   ]
  },
  {
   "cell_type": "markdown",
   "metadata": {},
   "source": [
    "# Predictions"
   ]
  },
  {
   "cell_type": "code",
   "execution_count": null,
   "metadata": {
    "colab": {
     "base_uri": "https://localhost:8080/"
    },
    "executionInfo": {
     "elapsed": 324,
     "status": "ok",
     "timestamp": 1707967002480,
     "user": {
      "displayName": "Henry Si",
      "userId": "17719448117276295977"
     },
     "user_tz": -480
    },
    "id": "jzUM3hyD81ha",
    "outputId": "79199c32-81ec-469b-9f14-21ca9f312bb3"
   },
   "outputs": [],
   "source": [
    "x_validation_normalized.shape"
   ]
  },
  {
   "cell_type": "code",
   "execution_count": null,
   "metadata": {
    "colab": {
     "base_uri": "https://localhost:8080/"
    },
    "executionInfo": {
     "elapsed": 14,
     "status": "ok",
     "timestamp": 1707967041321,
     "user": {
      "displayName": "Henry Si",
      "userId": "17719448117276295977"
     },
     "user_tz": -480
    },
    "id": "xmgpu7AUxJ8l",
    "outputId": "b6381c36-0b10-446a-a981-0313a28b9a4e"
   },
   "outputs": [],
   "source": [
    "x_validation_normalized[0].shape"
   ]
  },
  {
   "cell_type": "code",
   "execution_count": null,
   "metadata": {},
   "outputs": [],
   "source": [
    "224*224*3"
   ]
  },
  {
   "cell_type": "code",
   "execution_count": null,
   "metadata": {
    "colab": {
     "base_uri": "https://localhost:8080/"
    },
    "executionInfo": {
     "elapsed": 372,
     "status": "ok",
     "timestamp": 1707967189180,
     "user": {
      "displayName": "Henry Si",
      "userId": "17719448117276295977"
     },
     "user_tz": -480
    },
    "id": "hZUVqXHN888l",
    "outputId": "af67a65c-aec5-43b9-b2b1-308250b99645"
   },
   "outputs": [],
   "source": [
    "# Checking validation accuracy\n",
    "np.set_printoptions(precision=3)\n",
    "my_test = np.expand_dims(x_validation_normalized[0], axis=0)\n",
    "my_test.shape"
   ]
  },
  {
   "cell_type": "code",
   "execution_count": null,
   "metadata": {
    "colab": {
     "base_uri": "https://localhost:8080/"
    },
    "executionInfo": {
     "elapsed": 20,
     "status": "ok",
     "timestamp": 1707967191987,
     "user": {
      "displayName": "Henry Si",
      "userId": "17719448117276295977"
     },
     "user_tz": -480
    },
    "id": "JmQD-ttj89h6",
    "outputId": "f3194b41-159e-49e5-a996-9b7f4e5702ff"
   },
   "outputs": [],
   "source": [
    "model_4_3.predict(my_test)"
   ]
  },
  {
   "cell_type": "code",
   "execution_count": null,
   "metadata": {
    "colab": {
     "base_uri": "https://localhost:8080/"
    },
    "executionInfo": {
     "elapsed": 317,
     "status": "ok",
     "timestamp": 1707967199582,
     "user": {
      "displayName": "Henry Si",
      "userId": "17719448117276295977"
     },
     "user_tz": -480
    },
    "id": "ssIKpCTV9KJW",
    "outputId": "4cea61e5-3732-447b-a670-2b83bcf14f52"
   },
   "outputs": [],
   "source": [
    "model_4_3.predict(my_test).sum()"
   ]
  },
  {
   "cell_type": "code",
   "execution_count": null,
   "metadata": {
    "id": "cR2Ua4AE9KmY"
   },
   "outputs": [],
   "source": [
    "np.set_printoptions(precision=3)"
   ]
  },
  {
   "cell_type": "code",
   "execution_count": null,
   "metadata": {
    "colab": {
     "base_uri": "https://localhost:8080/"
    },
    "executionInfo": {
     "elapsed": 861,
     "status": "ok",
     "timestamp": 1707967213697,
     "user": {
      "displayName": "Henry Si",
      "userId": "17719448117276295977"
     },
     "user_tz": -480
    },
    "id": "YzJ4EBAB9fch",
    "outputId": "1221be4a-f71d-477d-8ea5-3e3b3008e197"
   },
   "outputs": [],
   "source": [
    "# all prob. for validation\n",
    "model_4_3.predict(x_validation_normalized)"
   ]
  },
  {
   "cell_type": "code",
   "execution_count": null,
   "metadata": {
    "colab": {
     "base_uri": "https://localhost:8080/"
    },
    "executionInfo": {
     "elapsed": 485,
     "status": "ok",
     "timestamp": 1707967218544,
     "user": {
      "displayName": "Henry Si",
      "userId": "17719448117276295977"
     },
     "user_tz": -480
    },
    "id": "3VQlK_sZ9lQS",
    "outputId": "10307e51-0bc6-4494-ea2b-29ca202d73b1"
   },
   "outputs": [],
   "source": [
    "# To check number of classes prediction\n",
    "model_4_3.predict(x_validation_normalized).shape"
   ]
  },
  {
   "cell_type": "code",
   "execution_count": null,
   "metadata": {},
   "outputs": [],
   "source": [
    "# prob. for validation for the class\n",
    "# model.predict_classes(my_test) # predict_classes function has been removed from tf version 2.0\n",
    "\n",
    "# axis=1, it means that the operation (in this case, argmax()) is applied along the columns of the array.\n",
    "# axis=0 is applied along the rows of the array (axis=0 means that the function will find the index of the maximum value). \n",
    "class_predictions = model_4_3.predict(my_test)\n",
    "predicted_classes = np.argmax(class_predictions, axis=1)\n",
    "print(predicted_classes)"
   ]
  },
  {
   "cell_type": "code",
   "execution_count": null,
   "metadata": {
    "colab": {
     "base_uri": "https://localhost:8080/"
    },
    "executionInfo": {
     "elapsed": 320,
     "status": "ok",
     "timestamp": 1707967222098,
     "user": {
      "displayName": "Henry Si",
      "userId": "17719448117276295977"
     },
     "user_tz": -480
    },
    "id": "nVIo1Uq79qAK",
    "outputId": "5f638bcf-c1d2-47b1-dded-294b1835602f"
   },
   "outputs": [],
   "source": [
    "# or simplified with below\n",
    "# np.argmax(model.predict(my_test), axis=1)"
   ]
  },
  {
   "cell_type": "code",
   "execution_count": null,
   "metadata": {},
   "outputs": [],
   "source": [
    "print(y_val.dtype)"
   ]
  },
  {
   "cell_type": "code",
   "execution_count": null,
   "metadata": {
    "colab": {
     "base_uri": "https://localhost:8080/"
    },
    "executionInfo": {
     "elapsed": 444,
     "status": "ok",
     "timestamp": 1707967231820,
     "user": {
      "displayName": "Henry Si",
      "userId": "17719448117276295977"
     },
     "user_tz": -480
    },
    "id": "XCHqm2rM9xrA",
    "outputId": "7dfa4fcd-8694-4fff-9a51-ede6fe5ca760"
   },
   "outputs": [],
   "source": [
    "np.argmax(y_val[0])"
   ]
  },
  {
   "cell_type": "code",
   "execution_count": null,
   "metadata": {},
   "outputs": [],
   "source": [
    "class_label = np.uint8(np.argmax(y_val[0]))\n",
    "print(class_label)"
   ]
  },
  {
   "cell_type": "code",
   "execution_count": null,
   "metadata": {},
   "outputs": [],
   "source": [
    "if y_val.dtype == np.float32:\n",
    "    print(\"Labels are not one-hot encoded.\")\n",
    "    class_index = np.argmax(y_val[0])\n",
    "    predicted_label = np.array([class_index], dtype=np.uint8)\n",
    "    print(predicted_label) "
   ]
  },
  {
   "cell_type": "markdown",
   "metadata": {
    "id": "M-FUl2Ia94eB"
   },
   "source": [
    "## Actual vs Predicted (Predict for the first 10 images)"
   ]
  },
  {
   "cell_type": "code",
   "execution_count": null,
   "metadata": {},
   "outputs": [],
   "source": [
    "# Initialize lists to store actual and predicted labels\n",
    "actual_labels = []\n",
    "predicted_labels = []\n",
    "\n",
    "# Iterate over the first 10 images in the validation set\n",
    "for i in range(10):\n",
    "    # Get the input image for prediction\n",
    "    input_image = np.expand_dims(x_validation_normalized[i], axis=0)\n",
    "    \n",
    "    # Predict the class probabilities for the input image\n",
    "    raw_predictions = model_4_3.predict(input_image, verbose=0)\n",
    "    \n",
    "    # Get the predicted class index\n",
    "    predicted_class_index = np.argmax(raw_predictions, axis=1)[0]\n",
    "    \n",
    "    # Get the actual class label\n",
    "    actual_class_index = np.argmax(y_val[i])\n",
    "    \n",
    "    # Append the actual and predicted labels to the lists\n",
    "    actual_labels.append(actual_class_index)\n",
    "    predicted_labels.append(predicted_class_index)\n",
    "\n",
    "# Print the actual and predicted labels for the first 10 images\n",
    "# print(f\"Actual labels: {actual_labels} vs. Predicted labels: {predicted_labels}\")\n",
    "# print(\"Predicted labels:\", predicted_labels)\n",
    "for i in range(10):\n",
    "    print(f\"For Validation {i + 1}: Actual label: {actual_labels[i]} vs. Predicted label: {predicted_labels[i]}\")"
   ]
  },
  {
   "cell_type": "markdown",
   "metadata": {
    "id": "C5m7rTF5-PXw"
   },
   "source": [
    "## To check details actual vs predicted"
   ]
  },
  {
   "cell_type": "markdown",
   "metadata": {
    "colab": {
     "base_uri": "https://localhost:8080/"
    },
    "executionInfo": {
     "elapsed": 3492,
     "status": "ok",
     "timestamp": 1707967259182,
     "user": {
      "displayName": "Henry Si",
      "userId": "17719448117276295977"
     },
     "user_tz": -480
    },
    "id": "j-uExqvncuVd",
    "outputId": "73590f06-6f7b-4937-9713-5c91be4637a5"
   },
   "source": [
    "## Actual vs Predicted with x samples (Validation dataset - By Classes)"
   ]
  },
  {
   "cell_type": "code",
   "execution_count": null,
   "metadata": {
    "id": "kj4DOtLacInp"
   },
   "outputs": [],
   "source": [
    "# Define the number of samples to use for each class\n",
    "num_samples_per_class = 7\n",
    "\n",
    "# Initialize a dictionary to store actual and predicted labels for each class\n",
    "class_labels = {i: {'actual': [], 'predicted': []} for i in range(num_classes)}\n",
    "\n",
    "# Iterate over each class\n",
    "for class_index in range(num_classes):\n",
    "    # Initialize a counter for the number of samples predicted for the current class\n",
    "    num_samples_predicted = 0\n",
    "    \n",
    "    # Iterate over all samples\n",
    "    for i in range(len(y_val)):\n",
    "        # Check if the actual label matches the current class index\n",
    "        if np.argmax(y_val[i]) == class_index:\n",
    "            # Get the input image for prediction\n",
    "            input_image = np.expand_dims(x_validation_normalized[i], axis=0)\n",
    "            \n",
    "            # Predict the class probabilities for the input image\n",
    "            raw_predictions = model_4_3.predict(input_image, verbose=0)\n",
    "            \n",
    "            # Get the predicted class index\n",
    "            predicted_class_index = np.argmax(raw_predictions, axis=1)[0]\n",
    "            \n",
    "            # Append the actual and predicted labels to the lists for the current class\n",
    "            class_labels[class_index]['actual'].append(class_index)\n",
    "            class_labels[class_index]['predicted'].append(predicted_class_index)\n",
    "            \n",
    "            # Increment the counter for the number of samples predicted for the current class\n",
    "            num_samples_predicted += 1\n",
    "            \n",
    "            # Break out of the loop if the desired number of samples is reached for the current class\n",
    "            if num_samples_predicted >= num_samples_per_class:\n",
    "                break\n",
    "\n",
    "# Print the actual and predicted labels for each class\n",
    "for class_index in range(num_classes):\n",
    "    actual_labels = class_labels[class_index]['actual']\n",
    "    predicted_labels = class_labels[class_index]['predicted']\n",
    "    class_name = LABEL_NAMES[class_index]  # Get the class name\n",
    "    print(f\"Class {class_name}:\")\n",
    "    for actual, predicted in zip(actual_labels, predicted_labels):\n",
    "        print(f\"Actual label: {actual} vs. Predicted label: {predicted}\")"
   ]
  },
  {
   "cell_type": "markdown",
   "metadata": {},
   "source": [
    "## Actual vs Predicted with all samples (Validation dataset - By Classes)"
   ]
  },
  {
   "cell_type": "code",
   "execution_count": null,
   "metadata": {},
   "outputs": [],
   "source": [
    "# # Initialize a dictionary to store actual and predicted labels for each class\n",
    "# class_labels = {i: {'actual': [], 'predicted': []} for i in range(num_classes)}\n",
    "\n",
    "# # Iterate over each class\n",
    "# for class_index in range(num_classes):\n",
    "#     # Iterate over all samples\n",
    "#     for i in range(len(y_val)):\n",
    "#         # Check if the actual label matches the current class index\n",
    "#         if np.argmax(y_val[i]) == class_index:\n",
    "#             # Get the input image for prediction\n",
    "#             input_image = np.expand_dims(x_validation_normalized[i], axis=0)\n",
    "            \n",
    "#             # Predict the class probabilities for the input image\n",
    "#             raw_predictions = model_3_1.predict(input_image, verbose=0)\n",
    "            \n",
    "#             # Get the predicted class index\n",
    "#             predicted_class_index = np.argmax(raw_predictions, axis=1)[0]\n",
    "            \n",
    "#             # Append the actual and predicted labels to the lists for the current class\n",
    "#             class_labels[class_index]['actual'].append(class_index)\n",
    "#             class_labels[class_index]['predicted'].append(predicted_class_index)\n",
    "\n",
    "# # Print the actual and predicted labels for each class\n",
    "# for class_index in range(num_classes):\n",
    "#     actual_labels = class_labels[class_index]['actual']\n",
    "#     predicted_labels = class_labels[class_index]['predicted']\n",
    "#     class_name = LABEL_NAMES[class_index]  # Get the class name\n",
    "#     print(f\"Class {class_name}:\")\n",
    "#     for actual, predicted in zip(actual_labels, predicted_labels):\n",
    "#         print(f\"Actual label: {actual} vs. Predicted label: {predicted}\")"
   ]
  },
  {
   "cell_type": "markdown",
   "metadata": {},
   "source": [
    "### Actual vs Predicted with x samples (Test Dataset- By classes)"
   ]
  },
  {
   "cell_type": "code",
   "execution_count": null,
   "metadata": {},
   "outputs": [],
   "source": [
    "# Define the number of samples to use for each class\n",
    "num_samples_per_class = 7\n",
    "\n",
    "# Initialize a dictionary to store actual and predicted labels for each class\n",
    "class_labels = {i: {'actual': [], 'predicted': []} for i in range(num_classes)}\n",
    "\n",
    "# Iterate over each class\n",
    "for class_index in range(num_classes):\n",
    "    # Initialize a counter for the number of samples predicted for the current class\n",
    "    num_samples_predicted = 0\n",
    "    \n",
    "    # Iterate over all samples\n",
    "    for i in range(len(y_test)):\n",
    "        # Check if the actual label matches the current class index\n",
    "        if np.argmax(y_test[i]) == class_index:\n",
    "            # Get the input image for prediction\n",
    "            input_image = np.expand_dims(x_test_normalized[i], axis=0)\n",
    "            \n",
    "            # Predict the class probabilities for the input image\n",
    "            raw_predictions = model_4_3.predict(input_image, verbose=0)\n",
    "            \n",
    "            # Get the predicted class index\n",
    "            predicted_class_index = np.argmax(raw_predictions, axis=1)[0]\n",
    "            \n",
    "            # Append the actual and predicted labels to the lists for the current class\n",
    "            class_labels[class_index]['actual'].append(class_index)\n",
    "            class_labels[class_index]['predicted'].append(predicted_class_index)\n",
    "            \n",
    "            # Increment the counter for the number of samples predicted for the current class\n",
    "            num_samples_predicted += 1\n",
    "            \n",
    "            # Break out of the loop if the desired number of samples is reached for the current class\n",
    "            if num_samples_predicted >= num_samples_per_class:\n",
    "                break\n",
    "\n",
    "# Print the actual and predicted labels for each class\n",
    "for class_index in range(num_classes):\n",
    "    actual_labels = class_labels[class_index]['actual']\n",
    "    predicted_labels = class_labels[class_index]['predicted']\n",
    "    class_name = LABEL_NAMES[class_index]  # Get the class name\n",
    "    print(f\"Class {class_name}:\")\n",
    "    for actual, predicted in zip(actual_labels, predicted_labels):\n",
    "        print(f\"Actual label: {actual} vs. Predicted label: {predicted}\")"
   ]
  },
  {
   "cell_type": "markdown",
   "metadata": {
    "colab": {
     "base_uri": "https://localhost:8080/"
    },
    "executionInfo": {
     "elapsed": 3015,
     "status": "ok",
     "timestamp": 1707894436436,
     "user": {
      "displayName": "Henry Si",
      "userId": "17719448117276295977"
     },
     "user_tz": -480
    },
    "id": "EYAca1kT-JYo",
    "outputId": "02bcfad2-48d2-43ba-d02d-66b3f908f4de"
   },
   "source": [
    "# Evaluation"
   ]
  },
  {
   "cell_type": "markdown",
   "metadata": {},
   "source": [
    "## Validation Dataset"
   ]
  },
  {
   "cell_type": "code",
   "execution_count": 39,
   "metadata": {},
   "outputs": [
    {
     "data": {
      "text/plain": [
       "['loss', 'accuracy']"
      ]
     },
     "execution_count": 39,
     "metadata": {},
     "output_type": "execute_result"
    }
   ],
   "source": [
    "model_4_3.metrics_names"
   ]
  },
  {
   "cell_type": "code",
   "execution_count": 40,
   "metadata": {},
   "outputs": [
    {
     "name": "stdout",
     "output_type": "stream",
     "text": [
      "40/40 [==============================] - 220s 5s/step - loss: 0.6503 - accuracy: 0.8720\n",
      "Val loss : 0.65 and the Val accuracy: 87.20%\n"
     ]
    }
   ],
   "source": [
    "test_loss, test_accuracy = model_4_3.evaluate(x_validation_normalized, y_val)\n",
    "print(f\"Val loss : {test_loss:0.3} and the Val accuracy: {test_accuracy:0.2%}\")"
   ]
  },
  {
   "cell_type": "markdown",
   "metadata": {},
   "source": [
    "## Test Dataset"
   ]
  },
  {
   "cell_type": "code",
   "execution_count": 41,
   "metadata": {
    "colab": {
     "base_uri": "https://localhost:8080/"
    },
    "executionInfo": {
     "elapsed": 508,
     "status": "ok",
     "timestamp": 1707967265861,
     "user": {
      "displayName": "Henry Si",
      "userId": "17719448117276295977"
     },
     "user_tz": -480
    },
    "id": "nZy0XIE9-ZlB",
    "outputId": "77db39b2-d87a-4aad-8f8c-6e8ebb14574c"
   },
   "outputs": [
    {
     "data": {
      "text/plain": [
       "['loss', 'accuracy']"
      ]
     },
     "execution_count": 41,
     "metadata": {},
     "output_type": "execute_result"
    }
   ],
   "source": [
    "model_4_3.metrics_names"
   ]
  },
  {
   "cell_type": "code",
   "execution_count": 42,
   "metadata": {
    "colab": {
     "base_uri": "https://localhost:8080/"
    },
    "executionInfo": {
     "elapsed": 961,
     "status": "ok",
     "timestamp": 1707967272806,
     "user": {
      "displayName": "Henry Si",
      "userId": "17719448117276295977"
     },
     "user_tz": -480
    },
    "id": "ZIv0wDdF-erU",
    "outputId": "e3d5129d-7eac-4f91-d121-11518a260c85"
   },
   "outputs": [
    {
     "name": "stdout",
     "output_type": "stream",
     "text": [
      "49/49 [==============================] - 325s 7s/step - loss: 0.5968 - accuracy: 0.8584\n",
      "Test loss : 0.597 and the test accuracy: 85.84%\n"
     ]
    }
   ],
   "source": [
    "test_loss, test_accuracy = model_4_3.evaluate(x_test_normalized, y_test)\n",
    "print(f\"Test loss : {test_loss:0.3} and the test accuracy: {test_accuracy:0.2%}\")"
   ]
  },
  {
   "cell_type": "code",
   "execution_count": 43,
   "metadata": {
    "colab": {
     "base_uri": "https://localhost:8080/"
    },
    "executionInfo": {
     "elapsed": 508,
     "status": "ok",
     "timestamp": 1707967265861,
     "user": {
      "displayName": "Henry Si",
      "userId": "17719448117276295977"
     },
     "user_tz": -480
    },
    "id": "nZy0XIE9-ZlB",
    "outputId": "77db39b2-d87a-4aad-8f8c-6e8ebb14574c"
   },
   "outputs": [
    {
     "data": {
      "text/plain": [
       "['loss', 'accuracy']"
      ]
     },
     "execution_count": 43,
     "metadata": {},
     "output_type": "execute_result"
    }
   ],
   "source": [
    "model_4_3.metrics_names"
   ]
  },
  {
   "cell_type": "code",
   "execution_count": 44,
   "metadata": {
    "colab": {
     "base_uri": "https://localhost:8080/"
    },
    "executionInfo": {
     "elapsed": 961,
     "status": "ok",
     "timestamp": 1707967272806,
     "user": {
      "displayName": "Henry Si",
      "userId": "17719448117276295977"
     },
     "user_tz": -480
    },
    "id": "ZIv0wDdF-erU",
    "outputId": "e3d5129d-7eac-4f91-d121-11518a260c85"
   },
   "outputs": [
    {
     "name": "stdout",
     "output_type": "stream",
     "text": [
      "401/401 [==============================] - 1895s 5s/step - loss: 0.0859 - accuracy: 0.9740\n",
      "Train loss : 0.0859 and the train accuracy: 97.40%\n"
     ]
    }
   ],
   "source": [
    "test_loss, test_accuracy = model_4_3.evaluate(x_train_normalized, y_train)\n",
    "print(f\"Train loss : {test_loss:0.3} and the train accuracy: {test_accuracy:0.2%}\")"
   ]
  },
  {
   "cell_type": "markdown",
   "metadata": {},
   "source": [
    "## Test Accuracies - By Classes ( Without Tables)"
   ]
  },
  {
   "cell_type": "code",
   "execution_count": 45,
   "metadata": {},
   "outputs": [
    {
     "name": "stdout",
     "output_type": "stream",
     "text": [
      "Overall test loss : 0.597 and the overall test accuracy: 85.84%\n",
      "Class Aceh: Test loss: 0.480, Test accuracy: 82.72%\n",
      "Class Bali: Test loss: 0.589, Test accuracy: 87.77%\n",
      "Class Betawi: Test loss: 2.729, Test accuracy: 55.56%\n",
      "Class Ciamis: Test loss: 3.373, Test accuracy: 30.00%\n",
      "Class Cirebon: Test loss: 0.105, Test accuracy: 94.69%\n",
      "Class Garut: Test loss: 2.555, Test accuracy: 40.00%\n",
      "Class Kalimantan_Dayak: Test loss: 2.182, Test accuracy: 50.00%\n",
      "Class Kalimantan_Pontianak: Test loss: 0.010, Test accuracy: 100.00%\n",
      "Class Kulon Progo_Geblek Renteng: Test loss: 0.198, Test accuracy: 93.18%\n",
      "Class Madura: Test loss: 0.687, Test accuracy: 77.78%\n",
      "Class Maluku_Pala Cengkeh: Test loss: 1.793, Test accuracy: 55.56%\n",
      "Class Papua_Cendrawasih: Test loss: 0.236, Test accuracy: 91.43%\n",
      "Class Pati: Test loss: 0.439, Test accuracy: 88.70%\n",
      "Class Pekalongan: Test loss: 5.540, Test accuracy: 30.00%\n",
      "Class Solo_Sidoluhur: Test loss: 1.435, Test accuracy: 60.00%\n",
      "Class Solo_Sogan: Test loss: 2.775, Test accuracy: 40.00%\n",
      "Class Tasikmalaya_Priyangan: Test loss: 7.014, Test accuracy: 10.00%\n",
      "Class Yogyakarta_Kawung: Test loss: 2.167, Test accuracy: 61.54%\n",
      "Class Yogyakarta_Sekar Jagad: Test loss: 0.186, Test accuracy: 95.45%\n",
      "Class Yogyakarta_Tambal: Test loss: 0.374, Test accuracy: 92.91%\n"
     ]
    }
   ],
   "source": [
    "# Initialize dictionaries to store metrics for each class\n",
    "class_metrics = {class_name: {'loss': 0.0, 'accuracy': 0.0} for class_name in LABEL_NAMES}\n",
    "\n",
    "# Evaluate the model on the test data\n",
    "test_metrics = model_4_3.evaluate(x_test_normalized, y_test, verbose=0)\n",
    "\n",
    "# Extract the loss and accuracy values from the test metrics\n",
    "test_loss = test_metrics[0]\n",
    "test_accuracy = test_metrics[1]\n",
    "\n",
    "# Print overall test metrics\n",
    "print(f\"Overall test loss : {test_loss:0.3} and the overall test accuracy: {test_accuracy:0.2%}\")\n",
    "\n",
    "# Calculate metrics for each class\n",
    "for i, class_name in enumerate(LABEL_NAMES):\n",
    "    # Get indices of test samples belonging to the current class\n",
    "    class_indices = np.where(np.argmax(y_test, axis=1) == i)[0]\n",
    "    \n",
    "    # Select test data and labels for the current class\n",
    "    x_class_test = x_test_normalized[class_indices]\n",
    "    y_class_test = y_test[class_indices]\n",
    "    \n",
    "    # Evaluate the model on the test data for the current class\n",
    "    class_metrics[class_name]['loss'], class_metrics[class_name]['accuracy'] = model_4_3.evaluate(x_class_test, y_class_test, verbose=0)\n",
    "    \n",
    "    # Print metrics for the current class\n",
    "    print(f\"Class {class_name}: Test loss: {class_metrics[class_name]['loss']:.3f}, Test accuracy: {class_metrics[class_name]['accuracy']:.2%}\")"
   ]
  },
  {
   "cell_type": "markdown",
   "metadata": {},
   "source": [
    "## Test Accuracies - By Classes (With Table)"
   ]
  },
  {
   "cell_type": "code",
   "execution_count": 46,
   "metadata": {},
   "outputs": [
    {
     "name": "stdout",
     "output_type": "stream",
     "text": [
      "Test Metrics for Each Class:\n",
      "Class                          Test Loss       Test Accuracy  \n",
      "------------------------------------------------------------\n",
      "Aceh                           0.480           82.72%         \n",
      "Bali                           0.589           87.77%         \n",
      "Betawi                         2.729           55.56%         \n",
      "Ciamis                         3.373           30.00%         \n",
      "Cirebon                        0.105           94.69%         \n",
      "Garut                          2.555           40.00%         \n",
      "Kalimantan_Dayak               2.182           50.00%         \n",
      "Kalimantan_Pontianak           0.010           100.00%        \n",
      "Kulon Progo_Geblek Renteng     0.198           93.18%         \n",
      "Madura                         0.687           77.78%         \n",
      "Maluku_Pala Cengkeh            1.793           55.56%         \n",
      "Papua_Cendrawasih              0.236           91.43%         \n",
      "Pati                           0.439           88.70%         \n",
      "Pekalongan                     5.540           30.00%         \n",
      "Solo_Sidoluhur                 1.435           60.00%         \n",
      "Solo_Sogan                     2.775           40.00%         \n",
      "Tasikmalaya_Priyangan          7.014           10.00%         \n",
      "Yogyakarta_Kawung              2.167           61.54%         \n",
      "Yogyakarta_Sekar Jagad         0.186           95.45%         \n",
      "Yogyakarta_Tambal              0.374           92.91%         \n",
      "\n",
      "Overall Test Metrics:\n",
      "Overall test loss : 1.74 and the overall test accuracy: 66.86%\n"
     ]
    }
   ],
   "source": [
    "# Initialize dictionaries to store metrics for each class\n",
    "class_metrics = {class_name: {'loss': 0.0, 'accuracy': 0.0} for class_name in LABEL_NAMES}\n",
    "\n",
    "# Initialize lists to store overall test loss and accuracy for each class\n",
    "overall_test_loss = []\n",
    "overall_test_accuracy = []\n",
    "\n",
    "# Calculate metrics for each class\n",
    "for i, class_name in enumerate(LABEL_NAMES):\n",
    "    # Get indices of test samples belonging to the current class\n",
    "    class_indices = np.where(np.argmax(y_test, axis=1) == i)[0]\n",
    "    \n",
    "    # Select test data and labels for the current class\n",
    "    x_class_test = x_test_normalized[class_indices]\n",
    "    y_class_test = y_test[class_indices]\n",
    "    \n",
    "    # Evaluate the model on the test data for the current class\n",
    "    class_metrics[class_name]['loss'], class_metrics[class_name]['accuracy'] = model_4_3.evaluate(x_class_test, y_class_test, verbose=0)\n",
    "    \n",
    "    # Append metrics to overall lists\n",
    "    overall_test_loss.append(class_metrics[class_name]['loss'])\n",
    "    overall_test_accuracy.append(class_metrics[class_name]['accuracy'])\n",
    "\n",
    "# Print table for metrics for each class\n",
    "print(\"Test Metrics for Each Class:\")\n",
    "print(\"{:<30} {:<15} {:<15}\".format(\"Class\", \"Test Loss\", \"Test Accuracy\"))\n",
    "print(\"-\" * 60)\n",
    "for class_name in LABEL_NAMES:\n",
    "    print(\"{:<30} {:<15.3f} {:<15.2%}\".format(class_name, class_metrics[class_name]['loss'], class_metrics[class_name]['accuracy']))\n",
    "\n",
    "# Print overall test metrics\n",
    "print(\"\\nOverall Test Metrics:\")\n",
    "print(f\"Overall test loss : {np.mean(overall_test_loss):0.3} and the overall test accuracy: {np.mean(overall_test_accuracy):0.2%}\")"
   ]
  },
  {
   "cell_type": "markdown",
   "metadata": {},
   "source": [
    "## Test Accuracies - (With Table - Grouped by Test Acc.)"
   ]
  },
  {
   "cell_type": "code",
   "execution_count": 47,
   "metadata": {},
   "outputs": [
    {
     "name": "stdout",
     "output_type": "stream",
     "text": [
      "Test Metrics for Each Class (Sorted by Test Accuracy):\n",
      "Class                          Test Loss       Test Accuracy  \n",
      "------------------------------------------------------------\n",
      "Kalimantan_Pontianak           0.010           100.00%        \n",
      "Yogyakarta_Sekar Jagad         0.186           95.45%         \n",
      "Cirebon                        0.105           94.69%         \n",
      "Kulon Progo_Geblek Renteng     0.198           93.18%         \n",
      "Yogyakarta_Tambal              0.374           92.91%         \n",
      "Papua_Cendrawasih              0.236           91.43%         \n",
      "Pati                           0.439           88.70%         \n",
      "Bali                           0.589           87.77%         \n",
      "Aceh                           0.480           82.72%         \n",
      "Madura                         0.687           77.78%         \n",
      "Yogyakarta_Kawung              2.167           61.54%         \n",
      "Solo_Sidoluhur                 1.435           60.00%         \n",
      "Betawi                         2.729           55.56%         \n",
      "Maluku_Pala Cengkeh            1.793           55.56%         \n",
      "Kalimantan_Dayak               2.182           50.00%         \n",
      "Garut                          2.555           40.00%         \n",
      "Solo_Sogan                     2.775           40.00%         \n",
      "Ciamis                         3.373           30.00%         \n",
      "Pekalongan                     5.540           30.00%         \n",
      "Tasikmalaya_Priyangan          7.014           10.00%         \n",
      "\n",
      "Overall Test Metrics:\n",
      "Overall test loss: 1.743 and the overall test accuracy: 66.86%\n"
     ]
    }
   ],
   "source": [
    "# Initialize dictionaries to store metrics for each class\n",
    "class_metrics = {class_name: {'loss': 0.0, 'accuracy': 0.0} for class_name in LABEL_NAMES}\n",
    "\n",
    "# Initialize lists to store overall test loss and accuracy for each class\n",
    "overall_test_loss = []\n",
    "overall_test_accuracy = []\n",
    "\n",
    "# Calculate metrics for each class\n",
    "for i, class_name in enumerate(LABEL_NAMES):\n",
    "    # Get indices of test samples belonging to the current class\n",
    "    class_indices = np.where(np.argmax(y_test, axis=1) == i)[0]\n",
    "    \n",
    "    # Select test data and labels for the current class\n",
    "    x_class_test = x_test_normalized[class_indices]\n",
    "    y_class_test = y_test[class_indices]\n",
    "    \n",
    "    # Evaluate the model on the test data for the current class  \n",
    "    class_metrics[class_name]['loss'], class_metrics[class_name]['accuracy'] = model_4_3.evaluate(x_class_test, y_class_test, verbose=0)\n",
    "    \n",
    "    # Append metrics to overall lists\n",
    "    overall_test_loss.append(class_metrics[class_name]['loss'])\n",
    "    overall_test_accuracy.append(class_metrics[class_name]['accuracy'])\n",
    "\n",
    "# Sort class metrics by test accuracy\n",
    "sorted_class_metrics = sorted(class_metrics.items(), key=lambda x: x[1]['accuracy'], reverse=True)\n",
    "\n",
    "# Print table for metrics for each class sorted by test accuracy\n",
    "print(\"Test Metrics for Each Class (Sorted by Test Accuracy):\")\n",
    "print(\"{:<30} {:<15} {:<15}\".format(\"Class\", \"Test Loss\", \"Test Accuracy\"))\n",
    "print(\"-\" * 60)\n",
    "for class_name, metrics in sorted_class_metrics:\n",
    "    print(\"{:<30} {:<15.3f} {:<15.2%}\".format(class_name, metrics['loss'], metrics['accuracy']))\n",
    "\n",
    "# Print overall test metrics\n",
    "print(\"\\nOverall Test Metrics:\")\n",
    "print(f\"Overall test loss: {np.mean(overall_test_loss):.3f} and the overall test accuracy: {np.mean(overall_test_accuracy):.2%}\")"
   ]
  },
  {
   "cell_type": "markdown",
   "metadata": {},
   "source": [
    "# Confusion Matrix"
   ]
  },
  {
   "cell_type": "code",
   "execution_count": 48,
   "metadata": {
    "colab": {
     "base_uri": "https://localhost:8080/"
    },
    "executionInfo": {
     "elapsed": 936,
     "status": "ok",
     "timestamp": 1707967277880,
     "user": {
      "displayName": "Henry Si",
      "userId": "17719448117276295977"
     },
     "user_tz": -480
    },
    "id": "Ejpx7pME-mXM",
    "outputId": "9246ae3c-2275-47d7-edfe-4ea35f60acab"
   },
   "outputs": [
    {
     "name": "stdout",
     "output_type": "stream",
     "text": [
      "49/49 [==============================] - 220s 4s/step\n"
     ]
    }
   ],
   "source": [
    "predictions = model_4_3.predict(x_test_normalized)\n",
    "y_test_labels = np.argmax(y_test, axis=1)\n",
    "conf_matrix = confusion_matrix(y_true=y_test_labels, y_pred=predictions.argmax(axis=1))"
   ]
  },
  {
   "cell_type": "code",
   "execution_count": 49,
   "metadata": {
    "colab": {
     "base_uri": "https://localhost:8080/"
    },
    "executionInfo": {
     "elapsed": 407,
     "status": "ok",
     "timestamp": 1707967281284,
     "user": {
      "displayName": "Henry Si",
      "userId": "17719448117276295977"
     },
     "user_tz": -480
    },
    "id": "lWEmZLf4-pZz",
    "outputId": "4f962403-74e8-4732-b5c8-9758a0566ccd"
   },
   "outputs": [
    {
     "data": {
      "text/plain": [
       "(20, 20)"
      ]
     },
     "execution_count": 49,
     "metadata": {},
     "output_type": "execute_result"
    }
   ],
   "source": [
    "conf_matrix.shape"
   ]
  },
  {
   "cell_type": "code",
   "execution_count": 50,
   "metadata": {
    "id": "cQNoEDQA-r-9"
   },
   "outputs": [],
   "source": [
    "nr_rows = conf_matrix.shape[0]\n",
    "nr_cols = conf_matrix.shape[1]"
   ]
  },
  {
   "cell_type": "code",
   "execution_count": 51,
   "metadata": {},
   "outputs": [
    {
     "data": {
      "text/plain": [
       "40.0"
      ]
     },
     "execution_count": 51,
     "metadata": {},
     "output_type": "execute_result"
    }
   ],
   "source": [
    "1280/32"
   ]
  },
  {
   "cell_type": "code",
   "execution_count": 52,
   "metadata": {
    "colab": {
     "base_uri": "https://localhost:8080/",
     "height": 647
    },
    "executionInfo": {
     "elapsed": 1055,
     "status": "ok",
     "timestamp": 1707967290944,
     "user": {
      "displayName": "Henry Si",
      "userId": "17719448117276295977"
     },
     "user_tz": -480
    },
    "id": "wG27a0bb-zmU",
    "outputId": "131a133c-88ab-420e-c1c5-972fc32130d9"
   },
   "outputs": [
    {
     "data": {
      "image/png": "[encoded data removed]",
      "text/plain": [
       "<Figure size 665x665 with 2 Axes>"
      ]
     },
     "metadata": {},
     "output_type": "display_data"
    }
   ],
   "source": [
    "plt.figure(figsize=(7,7), dpi=95)\n",
    "plt.imshow(conf_matrix, cmap=plt.cm.Blues)\n",
    "\n",
    "plt.title('Confusion Matrix', fontsize=9)\n",
    "plt.ylabel('Actual Labels', fontsize=6)\n",
    "plt.xlabel('Predicted Labels', fontsize=6)\n",
    "\n",
    "\n",
    "tick_marks = np.arange(test_num_classes)\n",
    "plt.yticks(tick_marks, LABEL_NAMES, fontsize=6)\n",
    "plt.xticks(tick_marks, LABEL_NAMES, fontsize=6, rotation=85)\n",
    "\n",
    "plt.colorbar()\n",
    "\n",
    "for i, j in itertools.product(range(nr_rows), range(nr_cols)):\n",
    "    plt.text(j, i, conf_matrix[i, j], horizontalalignment='center',\n",
    "            color='white' if conf_matrix[i, j] > conf_matrix.max()/2 else 'black')\n",
    "\n",
    "\n",
    "plt.show()"
   ]
  },
  {
   "cell_type": "markdown",
   "metadata": {
    "id": "Ls_L2TWt-5CG"
   },
   "source": [
    "## True Positive, Recall, Precision, F1-Score"
   ]
  },
  {
   "cell_type": "code",
   "execution_count": 53,
   "metadata": {
    "colab": {
     "base_uri": "https://localhost:8080/"
    },
    "executionInfo": {
     "elapsed": 483,
     "status": "ok",
     "timestamp": 1707967338975,
     "user": {
      "displayName": "Henry Si",
      "userId": "17719448117276295977"
     },
     "user_tz": -480
    },
    "id": "6664tEW1-3hc",
    "outputId": "535eb4a6-60cb-4145-c42e-526b3cf14a2c"
   },
   "outputs": [
    {
     "data": {
      "text/plain": [
       "array([ 67, 122,  15,   3, 107,   4,   9, 113, 123, 154,  10, 128, 204,\n",
       "         3,   6,   4,   1,  16, 126, 131])"
      ]
     },
     "execution_count": 53,
     "metadata": {},
     "output_type": "execute_result"
    }
   ],
   "source": [
    "np.diag(conf_matrix)"
   ]
  },
  {
   "cell_type": "code",
   "execution_count": 54,
   "metadata": {
    "colab": {
     "base_uri": "https://localhost:8080/"
    },
    "executionInfo": {
     "elapsed": 338,
     "status": "ok",
     "timestamp": 1707967356604,
     "user": {
      "displayName": "Henry Si",
      "userId": "17719448117276295977"
     },
     "user_tz": -480
    },
    "id": "thlBYRPr_A1v",
    "outputId": "fc20249d-7e15-42a0-efdb-360ee9ef0a13"
   },
   "outputs": [
    {
     "data": {
      "text/plain": [
       "array([0.82716049, 0.87769784, 0.55555556, 0.3       , 0.94690265,\n",
       "       0.4       , 0.5       , 1.        , 0.93181818, 0.77777778,\n",
       "       0.55555556, 0.91428571, 0.88695652, 0.3       , 0.6       ,\n",
       "       0.4       , 0.1       , 0.61538462, 0.95454545, 0.92907801])"
      ]
     },
     "execution_count": 54,
     "metadata": {},
     "output_type": "execute_result"
    }
   ],
   "source": [
    "recall = np.diag(conf_matrix) / np.sum(conf_matrix, axis=1)\n",
    "recall"
   ]
  },
  {
   "cell_type": "code",
   "execution_count": 55,
   "metadata": {
    "colab": {
     "base_uri": "https://localhost:8080/"
    },
    "executionInfo": {
     "elapsed": 366,
     "status": "ok",
     "timestamp": 1707967361415,
     "user": {
      "displayName": "Henry Si",
      "userId": "17719448117276295977"
     },
     "user_tz": -480
    },
    "id": "7tJOpyIs_EEQ",
    "outputId": "65f2d82b-66ac-4251-e206-9e83a9d1b5c8"
   },
   "outputs": [
    {
     "data": {
      "text/plain": [
       "array([0.63809524, 0.96062992, 0.625     , 0.25      , 0.99074074,\n",
       "       0.5       , 0.64285714, 0.9826087 , 0.9389313 , 0.80628272,\n",
       "       0.41666667, 0.94814815, 0.87931034, 0.15      , 0.54545455,\n",
       "       0.4       , 0.1       , 0.84210526, 0.92647059, 0.96323529])"
      ]
     },
     "execution_count": 55,
     "metadata": {},
     "output_type": "execute_result"
    }
   ],
   "source": [
    "# axis=0 means the sum will be calculated along the vertical axis (column-wise)\n",
    "# axis=1 means the sum is calculated along the horizontal axis (row-wise)\n",
    "precision = np.diag(conf_matrix) / np.sum(conf_matrix, axis=0)\n",
    "precision = np.nan_to_num(precision, nan=0)  # assuming there is a NaN then replace with 0\n",
    "precision\n",
    "\n",
    "# Use this if there is no NaN\n",
    "# precision = np.diag(conf_matrix) / np.sum(conf_matrix, axis=0)\n",
    "# precision"
   ]
  },
  {
   "cell_type": "code",
   "execution_count": 56,
   "metadata": {
    "colab": {
     "base_uri": "https://localhost:8080/"
    },
    "executionInfo": {
     "elapsed": 309,
     "status": "ok",
     "timestamp": 1707967378575,
     "user": {
      "displayName": "Henry Si",
      "userId": "17719448117276295977"
     },
     "user_tz": -480
    },
    "id": "duxXLPe-_HfE",
    "outputId": "df05ee6c-66bb-4b1c-b25b-e678105e799f"
   },
   "outputs": [
    {
     "name": "stdout",
     "output_type": "stream",
     "text": [
      "Model recall score is 66.86%\n"
     ]
    }
   ],
   "source": [
    "avg_recall = np.mean(recall)\n",
    "print(f'Model recall score is {avg_recall:.2%}')"
   ]
  },
  {
   "cell_type": "code",
   "execution_count": 57,
   "metadata": {
    "colab": {
     "base_uri": "https://localhost:8080/"
    },
    "executionInfo": {
     "elapsed": 336,
     "status": "ok",
     "timestamp": 1707967385255,
     "user": {
      "displayName": "Henry Si",
      "userId": "17719448117276295977"
     },
     "user_tz": -480
    },
    "id": "OIcvMvM0_KpW",
    "outputId": "20030d2b-3850-45a8-b1bf-57545da77b8c"
   },
   "outputs": [
    {
     "name": "stdout",
     "output_type": "stream",
     "text": [
      "Model precision score is 67.53%\n",
      "Model f score is 67.20%\n"
     ]
    }
   ],
   "source": [
    "avg_precision = np.mean(precision)\n",
    "print(f'Model precision score is {avg_precision:.2%}')\n",
    "\n",
    "f1_score = 2 * (avg_precision * avg_recall) / (avg_precision + avg_recall)\n",
    "print(f'Model f score is {f1_score:.2%}')\n",
    "\n",
    "# f1_score_numpy = np.mean(2 * class_precision * class_recall / (class_precision + class_recall))\n",
    "# print(f'f1_score_numpy: {f1_score_numpy}')"
   ]
  },
  {
   "cell_type": "code",
   "execution_count": 58,
   "metadata": {},
   "outputs": [
    {
     "name": "stdout",
     "output_type": "stream",
     "text": [
      "Class                          Recall          Precision       F1 Score       \n",
      "---------------------------------------------------------------------------\n",
      "Kalimantan_Pontianak           100.00%         98.26%          99.12%         \n",
      "Cirebon                        94.69%          99.07%          96.83%         \n",
      "Yogyakarta_Tambal              92.91%          96.32%          94.58%         \n",
      "Yogyakarta_Sekar Jagad         95.45%          92.65%          94.03%         \n",
      "Kulon Progo_Geblek Renteng     93.18%          93.89%          93.54%         \n",
      "Papua_Cendrawasih              91.43%          94.81%          93.09%         \n",
      "Bali                           87.77%          96.06%          91.73%         \n",
      "Pati                           88.70%          87.93%          88.31%         \n",
      "Madura                         77.78%          80.63%          79.18%         \n",
      "Aceh                           82.72%          63.81%          72.04%         \n",
      "Yogyakarta_Kawung              61.54%          84.21%          71.11%         \n",
      "Betawi                         55.56%          62.50%          58.82%         \n",
      "Solo_Sidoluhur                 60.00%          54.55%          57.14%         \n",
      "Kalimantan_Dayak               50.00%          64.29%          56.25%         \n",
      "Maluku_Pala Cengkeh            55.56%          41.67%          47.62%         \n",
      "Garut                          40.00%          50.00%          44.44%         \n",
      "Solo_Sogan                     40.00%          40.00%          40.00%         \n",
      "Ciamis                         30.00%          25.00%          27.27%         \n",
      "Pekalongan                     30.00%          15.00%          20.00%         \n",
      "Tasikmalaya_Priyangan          10.00%          10.00%          10.00%         \n",
      "\n",
      "Overall Metrics:\n",
      "Recall: 66.86%\n",
      "Precision: 67.53%\n",
      "Overall F1 Score: 67.20%\n"
     ]
    }
   ],
   "source": [
    "# Calculate precision, recall, and F1 score for each class\n",
    "\n",
    "metrics_per_class = []\n",
    "for i in range(len(LABEL_NAMES)):\n",
    "    recall = conf_matrix[i, i] / np.sum(conf_matrix[i, :])\n",
    "    precision = conf_matrix[i, i] / np.sum(conf_matrix[:, i])\n",
    "    f1_score = 2 * (precision * recall) / (precision + recall) if (precision + recall) != 0 else 0\n",
    "    \n",
    "    metrics_per_class.append({'Class': LABEL_NAMES[i], 'Recall': recall, 'Precision': precision, 'F1 Score': f1_score})\n",
    "\n",
    "# Sort metrics by F1 Score\n",
    "metrics_per_class_sorted = sorted(metrics_per_class, key=lambda x: x['F1 Score'], reverse=True)\n",
    "\n",
    "# Print metrics for each class\n",
    "print(\"{:<30} {:<15} {:<15} {:<15}\".format('Class', 'Recall', 'Precision', 'F1 Score'))\n",
    "print(\"-\" * 75)\n",
    "for metric in metrics_per_class_sorted:\n",
    "    print(\"{:<30} {:<15.2%} {:<15.2%} {:<15.2%}\".format(metric['Class'], metric['Recall'], metric['Precision'], metric['F1 Score']))\n",
    "\n",
    "# Calculate overall F1 Score using the standard equation\n",
    "overall_precision = np.mean([metric['Precision'] for metric in metrics_per_class])\n",
    "overall_recall = np.mean([metric['Recall'] for metric in metrics_per_class])\n",
    "overall_f1_score = 2 * (overall_precision * overall_recall) / (overall_precision + overall_recall) if (overall_precision + overall_recall) != 0 else 0\n",
    "\n",
    "print(\"\\nOverall Metrics:\")\n",
    "print(f'Recall: {avg_recall:.2%}')\n",
    "print(f'Precision: {avg_precision:.2%}')\n",
    "print(f'Overall F1 Score: {overall_f1_score:.2%}')"
   ]
  },
  {
   "cell_type": "markdown",
   "metadata": {},
   "source": [
    "# ======================================="
   ]
  },
  {
   "cell_type": "markdown",
   "metadata": {},
   "source": [
    "# To Run Predictions and Confusion Matrix Using Load Model"
   ]
  },
  {
   "cell_type": "markdown",
   "metadata": {},
   "source": [
    "## Predictions"
   ]
  },
  {
   "cell_type": "code",
   "execution_count": 59,
   "metadata": {},
   "outputs": [],
   "source": [
    "# def save_results_to_csv(file_path, model_name, phase, loss, accuracy):\n",
    "#     # Check if file exists\n",
    "#     try:\n",
    "#         with open(file_path, 'x', newline='') as csvfile:\n",
    "#             writer = csv.writer(csvfile)\n",
    "#             writer.writerow(['Model', 'Phase', 'Loss', 'Accuracy'])\n",
    "#     except FileExistsError:\n",
    "#         pass\n",
    "\n",
    "#     # Append the results\n",
    "#     with open(file_path, 'a', newline='') as csvfile:\n",
    "#         writer = csv.writer(csvfile)\n",
    "#         writer.writerow([model_name, phase, f\"{loss:.4f}\", f\"{accuracy:.2%}\"])\n",
    "\n",
    "# # Load model\n",
    "# model_name = 'Undersampling_ResNet50'\n",
    "next1_model = load_model('/Users/merchika/chikaData/TA/assets/new_models/NEW_UNSERSAMPLING_RESNET_model_2.h5')\n",
    "\n",
    "# # Define file path\n",
    "# file_path = '/Users/merchika/chikaData/TA/assets/csv/undersampling/resnet50_accuracy_loss_result.csv'"
   ]
  },
  {
   "cell_type": "markdown",
   "metadata": {},
   "source": [
    "#### Train Dataset Phase"
   ]
  },
  {
   "cell_type": "code",
   "execution_count": 60,
   "metadata": {},
   "outputs": [
    {
     "name": "stdout",
     "output_type": "stream",
     "text": [
      "401/401 [==============================] - 1825s 5s/step - loss: 0.0859 - accuracy: 0.9740\n",
      "Train loss : 0.0859 and the Train accuracy: 97.40%\n"
     ]
    }
   ],
   "source": [
    "train_loss, train_accuracy = next1_model.evaluate(x_train_normalized, y_train)\n",
    "print(f\"Train loss : {train_loss:0.3} and the Train accuracy: {train_accuracy:0.2%}\")\n",
    "\n",
    "# save_results_to_csv(file_path, model_name, 'Train', train_loss, train_accuracy)"
   ]
  },
  {
   "cell_type": "markdown",
   "metadata": {},
   "source": [
    "#### Validation Dataset Phase"
   ]
  },
  {
   "cell_type": "code",
   "execution_count": 61,
   "metadata": {},
   "outputs": [
    {
     "name": "stdout",
     "output_type": "stream",
     "text": [
      "40/40 [==============================] - 188s 5s/step - loss: 0.6503 - accuracy: 0.8720\n",
      "Val loss : 0.65 and the Val accuracy: 87.20%\n"
     ]
    }
   ],
   "source": [
    "val_loss, val_accuracy = next1_model.evaluate(x_validation_normalized, y_val)\n",
    "print(f\"Val loss : {val_loss:0.3} and the Val accuracy: {val_accuracy:0.2%}\")\n",
    "\n",
    "# save_results_to_csv(file_path, model_name, 'Validation', val_loss, val_accuracy)"
   ]
  },
  {
   "cell_type": "markdown",
   "metadata": {},
   "source": [
    "#### Test Dataset Phase"
   ]
  },
  {
   "cell_type": "code",
   "execution_count": 62,
   "metadata": {},
   "outputs": [
    {
     "name": "stdout",
     "output_type": "stream",
     "text": [
      "49/49 [==============================] - 233s 5s/step - loss: 0.5968 - accuracy: 0.8584\n",
      "Test loss : 0.597 and the Test accuracy: 85.84%\n"
     ]
    }
   ],
   "source": [
    "test_loss, test_accuracy = next1_model.evaluate(x_test_normalized, y_test)\n",
    "print(f\"Test loss : {test_loss:0.3} and the Test accuracy: {test_accuracy:0.2%}\")\n",
    "\n",
    "# save_results_to_csv(file_path, model_name, 'Test', test_loss, test_accuracy)"
   ]
  },
  {
   "cell_type": "markdown",
   "metadata": {},
   "source": [
    "***"
   ]
  },
  {
   "cell_type": "code",
   "execution_count": 26,
   "metadata": {
    "id": "_1OOJsXtkXmj"
   },
   "outputs": [],
   "source": [
    "# next4_model = load_model('/content/saved_models/hist4_flat_raw_model.h5')\n",
    "next1_model = load_model('/Users/merchika/chikaData/TA/assets/new_models/NEW_UNSERSAMPLING_RESNET_model_2.h5')"
   ]
  },
  {
   "cell_type": "code",
   "execution_count": 27,
   "metadata": {
    "colab": {
     "base_uri": "https://localhost:8080/"
    },
    "executionInfo": {
     "elapsed": 889,
     "status": "ok",
     "timestamp": 1707968236550,
     "user": {
      "displayName": "Henry Si",
      "userId": "17719448117276295977"
     },
     "user_tz": -480
    },
    "id": "8mw5CsLx04dZ",
    "outputId": "43144399-fa4a-4b7a-8aed-e45d0d926da8"
   },
   "outputs": [
    {
     "name": "stdout",
     "output_type": "stream",
     "text": [
      "49/49 [==============================] - 548s 11s/step - loss: 0.6939 - accuracy: 0.8546\n",
      "Test loss : 0.694 and the test accuracy: 85.459%\n"
     ]
    }
   ],
   "source": [
    "np.set_printoptions(precision=3)\n",
    "test_loss, test_accuracy = next1_model.evaluate(x_test_normalized, y_test)\n",
    "print(f\"Test loss : {test_loss:0.3} and the test accuracy: {test_accuracy:0.3%}\")"
   ]
  },
  {
   "cell_type": "code",
   "execution_count": 28,
   "metadata": {},
   "outputs": [
    {
     "name": "stdout",
     "output_type": "stream",
     "text": [
      "(1266, 224, 224, 3)\n",
      "(1568, 224, 224, 3)\n"
     ]
    }
   ],
   "source": [
    "print(x_validation_normalized.shape)\n",
    "print(x_test_normalized.shape)"
   ]
  },
  {
   "cell_type": "code",
   "execution_count": 29,
   "metadata": {},
   "outputs": [
    {
     "name": "stdout",
     "output_type": "stream",
     "text": [
      "1/1 [==============================] - 6s 6s/step\n",
      "1/1 [==============================] - 0s 391ms/step\n",
      "1/1 [==============================] - 0s 386ms/step\n",
      "1/1 [==============================] - 0s 370ms/step\n",
      "1/1 [==============================] - 1s 508ms/step\n",
      "1/1 [==============================] - 1s 518ms/step\n",
      "1/1 [==============================] - 0s 341ms/step\n",
      "1/1 [==============================] - 0s 323ms/step\n",
      "1/1 [==============================] - 0s 376ms/step\n",
      "1/1 [==============================] - 0s 417ms/step\n",
      "For Validation 1: Actual label: 7 vs. Predicted label: 7\n",
      "For Validation 2: Actual label: 9 vs. Predicted label: 9\n",
      "For Validation 3: Actual label: 18 vs. Predicted label: 18\n",
      "For Validation 4: Actual label: 9 vs. Predicted label: 16\n",
      "For Validation 5: Actual label: 5 vs. Predicted label: 5\n",
      "For Validation 6: Actual label: 9 vs. Predicted label: 9\n",
      "For Validation 7: Actual label: 0 vs. Predicted label: 9\n",
      "For Validation 8: Actual label: 9 vs. Predicted label: 9\n",
      "For Validation 9: Actual label: 12 vs. Predicted label: 12\n",
      "For Validation 10: Actual label: 0 vs. Predicted label: 9\n"
     ]
    }
   ],
   "source": [
    "# Initialize lists to store actual and predicted labels\n",
    "actual_labels = []\n",
    "predicted_labels = []\n",
    "\n",
    "# Iterate over the first 10 images in the validation set\n",
    "for i in range(10):\n",
    "    # Get the input image for prediction\n",
    "    input_image = np.expand_dims(x_validation_normalized[i], axis=0)\n",
    "    \n",
    "    # Predict the class probabilities for the input image\n",
    "    raw_predictions = next1_model.predict(input_image)\n",
    "    \n",
    "    # Get the predicted class index\n",
    "    predicted_class_index = np.argmax(raw_predictions, axis=1)[0]\n",
    "    \n",
    "    # Get the actual class label\n",
    "    actual_class_index = np.argmax(y_val[i])\n",
    "    \n",
    "    # Append the actual and predicted labels to the lists\n",
    "    actual_labels.append(actual_class_index)\n",
    "    predicted_labels.append(predicted_class_index)\n",
    "\n",
    "# Print the actual and predicted labels for the first 10 images\n",
    "# print(f\"Actual labels: {actual_labels} vs. Predicted labels: {predicted_labels}\")\n",
    "# print(\"Predicted labels:\", predicted_labels)\n",
    "for i in range(10):\n",
    "    print(f\"For Validation {i + 1}: Actual label: {actual_labels[i]} vs. Predicted label: {predicted_labels[i]}\")"
   ]
  },
  {
   "cell_type": "markdown",
   "metadata": {},
   "source": [
    "***"
   ]
  },
  {
   "cell_type": "code",
   "execution_count": 63,
   "metadata": {},
   "outputs": [],
   "source": [
    "# Save class metrics to CSV\n",
    "file_path = '/Users/merchika/chikaData/TA/assets/csv/new/new_resnet50_undersampling_classes_test_accy_2.csv'  # Change to path\n",
    "dataset_type = 'Undersampling Dataset'  # Update with used dataset type\n",
    "model_architecture = 'ResNet50'  # Update with used model architecture\n",
    "\n",
    "def save_class_metrics_to_csv(file_path, dataset_type, model_architecture, sorted_class_metrics):\n",
    "    # Check if file exists\n",
    "    try:\n",
    "        with open(file_path, 'x', newline='') as csvfile:\n",
    "            writer = csv.writer(csvfile)\n",
    "            writer.writerow(['Dataset_Type', 'Model_Architecture', 'Class', 'Test_Loss', 'Test_Accuracy'])\n",
    "    except FileExistsError:\n",
    "        pass\n",
    "\n",
    "# Append sorted class metrics to the CSV file so that the same like print output\n",
    "with open(file_path, 'a', newline='') as csvfile:\n",
    "    writer = csv.writer(csvfile)\n",
    "    for class_name, metrics in sorted_class_metrics:\n",
    "        writer.writerow([\n",
    "            dataset_type,\n",
    "            model_architecture,\n",
    "            class_name,\n",
    "            f\"{metrics['loss']:.4f}\",\n",
    "            f\"{metrics['accuracy']:.2%}\"\n",
    "        ])"
   ]
  },
  {
   "cell_type": "code",
   "execution_count": 64,
   "metadata": {},
   "outputs": [
    {
     "name": "stdout",
     "output_type": "stream",
     "text": [
      "Test Metrics for Each Class (Sorted by Test Accuracy):\n",
      "Class                          Test Loss       Test Accuracy  \n",
      "------------------------------------------------------------\n",
      "Kalimantan_Pontianak           0.010           100.00%        \n",
      "Yogyakarta_Sekar Jagad         0.186           95.45%         \n",
      "Cirebon                        0.105           94.69%         \n",
      "Kulon Progo_Geblek Renteng     0.198           93.18%         \n",
      "Yogyakarta_Tambal              0.374           92.91%         \n",
      "Papua_Cendrawasih              0.236           91.43%         \n",
      "Pati                           0.439           88.70%         \n",
      "Bali                           0.589           87.77%         \n",
      "Aceh                           0.480           82.72%         \n",
      "Madura                         0.687           77.78%         \n",
      "Yogyakarta_Kawung              2.167           61.54%         \n",
      "Solo_Sidoluhur                 1.435           60.00%         \n",
      "Betawi                         2.729           55.56%         \n",
      "Maluku_Pala Cengkeh            1.793           55.56%         \n",
      "Kalimantan_Dayak               2.182           50.00%         \n",
      "Garut                          2.555           40.00%         \n",
      "Solo_Sogan                     2.775           40.00%         \n",
      "Ciamis                         3.373           30.00%         \n",
      "Pekalongan                     5.540           30.00%         \n",
      "Tasikmalaya_Priyangan          7.014           10.00%         \n",
      "\n",
      "Overall Test Metrics:\n",
      "Overall test loss: 1.743 and the overall test accuracy: 66.86%\n"
     ]
    }
   ],
   "source": [
    "# Initialize dictionaries to store metrics for each class\n",
    "class_metrics = {class_name: {'loss': 0.0, 'accuracy': 0.0} for class_name in LABEL_NAMES}\n",
    "\n",
    "# Initialize lists to store overall test loss and accuracy for each class\n",
    "overall_test_loss = []\n",
    "overall_test_accuracy = []\n",
    "\n",
    "# Calculate metrics for each class\n",
    "for i, class_name in enumerate(LABEL_NAMES):\n",
    "    # Get indices of test samples belonging to the current class\n",
    "    class_indices = np.where(np.argmax(y_test, axis=1) == i)[0]\n",
    "    \n",
    "    # Select test data and labels for the current class\n",
    "    x_class_test = x_test_normalized[class_indices]\n",
    "    y_class_test = y_test[class_indices]\n",
    "    \n",
    "    # Evaluate the model on the test data for the current class  \n",
    "    class_metrics[class_name]['loss'], class_metrics[class_name]['accuracy'] = next1_model.evaluate(x_class_test, y_class_test, verbose=0)\n",
    "    \n",
    "    # Append metrics to overall lists\n",
    "    overall_test_loss.append(class_metrics[class_name]['loss'])\n",
    "    overall_test_accuracy.append(class_metrics[class_name]['accuracy'])\n",
    "\n",
    "# Sort class metrics by test accuracy\n",
    "sorted_class_metrics = sorted(class_metrics.items(), key=lambda x: x[1]['accuracy'], reverse=True)\n",
    "\n",
    "# Print table for metrics for each class sorted by test accuracy\n",
    "print(\"Test Metrics for Each Class (Sorted by Test Accuracy):\")\n",
    "print(\"{:<30} {:<15} {:<15}\".format(\"Class\", \"Test Loss\", \"Test Accuracy\"))\n",
    "print(\"-\" * 60)\n",
    "for class_name, metrics in sorted_class_metrics:\n",
    "    print(\"{:<30} {:<15.3f} {:<15.2%}\".format(class_name, metrics['loss'], metrics['accuracy']))\n",
    "\n",
    "# Print overall test metrics\n",
    "print(\"\\nOverall Test Metrics:\")\n",
    "print(f\"Overall test loss: {np.mean(overall_test_loss):.3f} and the overall test accuracy: {np.mean(overall_test_accuracy):.2%}\")\n",
    "\n",
    "\n",
    "save_class_metrics_to_csv(file_path, dataset_type, model_architecture, sorted_class_metrics)"
   ]
  },
  {
   "cell_type": "markdown",
   "metadata": {},
   "source": [
    "## Confusion Matrix"
   ]
  },
  {
   "cell_type": "code",
   "execution_count": 65,
   "metadata": {},
   "outputs": [
    {
     "name": "stdout",
     "output_type": "stream",
     "text": [
      "49/49 [==============================] - 221s 4s/step\n"
     ]
    }
   ],
   "source": [
    "predictions = next1_model.predict(x_test_normalized)\n",
    "y_test_labels = np.argmax(y_test, axis=1)\n",
    "conf_matrix = confusion_matrix(y_true=y_test_labels, y_pred=predictions.argmax(axis=1))"
   ]
  },
  {
   "cell_type": "code",
   "execution_count": 66,
   "metadata": {
    "colab": {
     "base_uri": "https://localhost:8080/"
    },
    "executionInfo": {
     "elapsed": 407,
     "status": "ok",
     "timestamp": 1707967281284,
     "user": {
      "displayName": "Henry Si",
      "userId": "17719448117276295977"
     },
     "user_tz": -480
    },
    "id": "lWEmZLf4-pZz",
    "outputId": "4f962403-74e8-4732-b5c8-9758a0566ccd"
   },
   "outputs": [
    {
     "data": {
      "text/plain": [
       "(20, 20)"
      ]
     },
     "execution_count": 66,
     "metadata": {},
     "output_type": "execute_result"
    }
   ],
   "source": [
    "conf_matrix.shape"
   ]
  },
  {
   "cell_type": "code",
   "execution_count": 67,
   "metadata": {
    "id": "cQNoEDQA-r-9"
   },
   "outputs": [],
   "source": [
    "nr_rows = conf_matrix.shape[0]\n",
    "nr_cols = conf_matrix.shape[1]"
   ]
  },
  {
   "cell_type": "markdown",
   "metadata": {},
   "source": [
    "## Test Accuracies - By Classes (With Table - Grouped by Test Acc.) - Save to CSV"
   ]
  },
  {
   "cell_type": "code",
   "execution_count": 68,
   "metadata": {},
   "outputs": [],
   "source": [
    "# Save class metrics to CSV\n",
    "file_path = '/Users/merchika/chikaData/TA/assets/csv/new/new_resnet50_undersampling_classes_test_accy_2.csv'  # Change to path\n",
    "dataset_type = 'Undersampling Dataset'  # Update with used dataset type\n",
    "model_architecture = 'ResNet50'  # Update with used model architecture\n",
    "\n",
    "def save_metrics_to_csv(file_path, dataset_type, model_architecture, sorted_metrics, overall_metrics):\n",
    "    # Check if file exists\n",
    "    try:\n",
    "        with open(file_path, 'x', newline='') as csvfile:\n",
    "            writer = csv.writer(csvfile)\n",
    "            writer.writerow(['Dataset_Type', 'Model_Architecture', 'Class', 'Recall', 'Precision', 'F1 Score'])\n",
    "    except FileExistsError:\n",
    "        pass\n",
    "\n",
    "    # Append sorted class metrics to the CSV file\n",
    "    with open(file_path, 'a', newline='') as csvfile:\n",
    "        writer = csv.writer(csvfile)\n",
    "        for metric in sorted_metrics:\n",
    "            writer.writerow([\n",
    "                dataset_type,\n",
    "                model_architecture,\n",
    "                metric['Class'],\n",
    "                f\"{metric['Recall']:.2%}\",\n",
    "                f\"{metric['Precision']:.2%}\",\n",
    "                f\"{metric['F1 Score']:.2%}\"\n",
    "            ])\n",
    "\n",
    "        # Add a blank row before the overall metrics\n",
    "        writer.writerow([])\n",
    "\n",
    "        # Append overall metrics\n",
    "        writer.writerow([\n",
    "            dataset_type,\n",
    "            model_architecture,\n",
    "            'Overall',\n",
    "            f\"{overall_metrics['Recall']:.2%}\",\n",
    "            f\"{overall_metrics['Precision']:.2%}\",\n",
    "            f\"{overall_metrics['F1 Score']:.2%}\"\n",
    "        ])"
   ]
  },
  {
   "cell_type": "code",
   "execution_count": 69,
   "metadata": {},
   "outputs": [
    {
     "name": "stdout",
     "output_type": "stream",
     "text": [
      "Class                          Recall          Precision       F1 Score       \n",
      "---------------------------------------------------------------------------\n",
      "Kalimantan_Pontianak           100.00%         98.26%          99.12%         \n",
      "Cirebon                        94.69%          99.07%          96.83%         \n",
      "Yogyakarta_Tambal              92.91%          96.32%          94.58%         \n",
      "Yogyakarta_Sekar Jagad         95.45%          92.65%          94.03%         \n",
      "Kulon Progo_Geblek Renteng     93.18%          93.89%          93.54%         \n",
      "Papua_Cendrawasih              91.43%          94.81%          93.09%         \n",
      "Bali                           87.77%          96.06%          91.73%         \n",
      "Pati                           88.70%          87.93%          88.31%         \n",
      "Madura                         77.78%          80.63%          79.18%         \n",
      "Aceh                           82.72%          63.81%          72.04%         \n",
      "Yogyakarta_Kawung              61.54%          84.21%          71.11%         \n",
      "Betawi                         55.56%          62.50%          58.82%         \n",
      "Solo_Sidoluhur                 60.00%          54.55%          57.14%         \n",
      "Kalimantan_Dayak               50.00%          64.29%          56.25%         \n",
      "Maluku_Pala Cengkeh            55.56%          41.67%          47.62%         \n",
      "Garut                          40.00%          50.00%          44.44%         \n",
      "Solo_Sogan                     40.00%          40.00%          40.00%         \n",
      "Ciamis                         30.00%          25.00%          27.27%         \n",
      "Pekalongan                     30.00%          15.00%          20.00%         \n",
      "Tasikmalaya_Priyangan          10.00%          10.00%          10.00%         \n",
      "\n",
      "Overall Metrics:\n",
      "Recall: 66.86%\n",
      "Precision: 67.53%\n",
      "Overall F1 Score: 67.20%\n"
     ]
    }
   ],
   "source": [
    "# Initialize dictionaries to store metrics for each class\n",
    "metrics_per_class = []\n",
    "for i in range(len(LABEL_NAMES)):\n",
    "    recall = conf_matrix[i, i] / np.sum(conf_matrix[i, :])\n",
    "    precision = conf_matrix[i, i] / np.sum(conf_matrix[:, i])\n",
    "    f1_score = 2 * (precision * recall) / (precision + recall) if (precision + recall) != 0 else 0\n",
    "    \n",
    "    metrics_per_class.append({'Class': LABEL_NAMES[i], 'Recall': recall, 'Precision': precision, 'F1 Score': f1_score})\n",
    "\n",
    "# Sort metrics by F1 Score\n",
    "metrics_per_class_sorted = sorted(metrics_per_class, key=lambda x: x['F1 Score'], reverse=True)\n",
    "\n",
    "# Print metrics for each class\n",
    "print(\"{:<30} {:<15} {:<15} {:<15}\".format('Class', 'Recall', 'Precision', 'F1 Score'))\n",
    "print(\"-\" * 75)\n",
    "for metric in metrics_per_class_sorted:\n",
    "    print(\"{:<30} {:<15.2%} {:<15.2%} {:<15.2%}\".format(metric['Class'], metric['Recall'], metric['Precision'], metric['F1 Score']))\n",
    "\n",
    "# Calculate overall metrics\n",
    "overall_precision = np.mean([metric['Precision'] for metric in metrics_per_class])\n",
    "overall_recall = np.mean([metric['Recall'] for metric in metrics_per_class])\n",
    "overall_f1_score = 2 * (overall_precision * overall_recall) / (overall_precision + overall_recall) if (overall_precision + overall_recall) != 0 else 0\n",
    "\n",
    "overall_metrics = {\n",
    "    'Recall': overall_recall,\n",
    "    'Precision': overall_precision,\n",
    "    'F1 Score': overall_f1_score\n",
    "}\n",
    "\n",
    "print(\"\\nOverall Metrics:\")\n",
    "print(f\"Recall: {overall_recall:.2%}\")\n",
    "print(f\"Precision: {overall_precision:.2%}\")\n",
    "print(f\"Overall F1 Score: {overall_f1_score:.2%}\")\n",
    "# Save sorted class metrics and overall metrics to CSV\n",
    "\n",
    "\n",
    "# Calling the function\n",
    "save_metrics_to_csv(file_path, dataset_type, model_architecture, metrics_per_class_sorted, overall_metrics)"
   ]
  },
  {
   "cell_type": "code",
   "execution_count": 70,
   "metadata": {},
   "outputs": [
    {
     "data": {
      "text/plain": [
       "40.0"
      ]
     },
     "execution_count": 70,
     "metadata": {},
     "output_type": "execute_result"
    }
   ],
   "source": [
    "1280/32"
   ]
  },
  {
   "cell_type": "code",
   "execution_count": 71,
   "metadata": {
    "colab": {
     "base_uri": "https://localhost:8080/",
     "height": 647
    },
    "executionInfo": {
     "elapsed": 1055,
     "status": "ok",
     "timestamp": 1707967290944,
     "user": {
      "displayName": "Henry Si",
      "userId": "17719448117276295977"
     },
     "user_tz": -480
    },
    "id": "wG27a0bb-zmU",
    "outputId": "131a133c-88ab-420e-c1c5-972fc32130d9"
   },
   "outputs": [
    {
     "data": {
      "image/png": "[encoded data removed]",
      "text/plain": [
       "<Figure size 665x665 with 2 Axes>"
      ]
     },
     "metadata": {},
     "output_type": "display_data"
    }
   ],
   "source": [
    "plt.figure(figsize=(7,7), dpi=95)\n",
    "plt.imshow(conf_matrix, cmap=plt.cm.Blues)\n",
    "\n",
    "plt.title('Confusion Matrix', fontsize=9)\n",
    "plt.ylabel('Actual Labels', fontsize=6)\n",
    "plt.xlabel('Predicted Labels', fontsize=6)\n",
    "\n",
    "tick_marks = np.arange(test_num_classes)\n",
    "plt.yticks(tick_marks, LABEL_NAMES, fontsize=6)\n",
    "plt.xticks(tick_marks, LABEL_NAMES, fontsize=6, rotation=85)\n",
    "\n",
    "plt.colorbar()\n",
    "\n",
    "for i, j in itertools.product(range(nr_rows), range(nr_cols)):\n",
    "    plt.text(j, i, conf_matrix[i, j], horizontalalignment='center',\n",
    "            color='white' if conf_matrix[i, j] > conf_matrix.max()/2 else 'black')\n",
    "\n",
    "save_path = '/Users/merchika/chikaData/TA/assets/image/CONFUMATR_NEW_UNDERSAMPLING_RESNET_model_2.png'\n",
    "plt.savefig(save_path)\n",
    "\n",
    "plt.show()"
   ]
  },
  {
   "cell_type": "markdown",
   "metadata": {},
   "source": [
    "## True Positive, Recall, Precision, F1-Score"
   ]
  },
  {
   "cell_type": "code",
   "execution_count": 72,
   "metadata": {
    "colab": {
     "base_uri": "https://localhost:8080/"
    },
    "executionInfo": {
     "elapsed": 483,
     "status": "ok",
     "timestamp": 1707967338975,
     "user": {
      "displayName": "Henry Si",
      "userId": "17719448117276295977"
     },
     "user_tz": -480
    },
    "id": "6664tEW1-3hc",
    "outputId": "535eb4a6-60cb-4145-c42e-526b3cf14a2c"
   },
   "outputs": [
    {
     "data": {
      "text/plain": [
       "array([ 67, 122,  15,   3, 107,   4,   9, 113, 123, 154,  10, 128, 204,\n",
       "         3,   6,   4,   1,  16, 126, 131])"
      ]
     },
     "execution_count": 72,
     "metadata": {},
     "output_type": "execute_result"
    }
   ],
   "source": [
    "np.diag(conf_matrix)"
   ]
  },
  {
   "cell_type": "code",
   "execution_count": 73,
   "metadata": {
    "colab": {
     "base_uri": "https://localhost:8080/"
    },
    "executionInfo": {
     "elapsed": 338,
     "status": "ok",
     "timestamp": 1707967356604,
     "user": {
      "displayName": "Henry Si",
      "userId": "17719448117276295977"
     },
     "user_tz": -480
    },
    "id": "thlBYRPr_A1v",
    "outputId": "fc20249d-7e15-42a0-efdb-360ee9ef0a13"
   },
   "outputs": [
    {
     "data": {
      "text/plain": [
       "array([0.82716049, 0.87769784, 0.55555556, 0.3       , 0.94690265,\n",
       "       0.4       , 0.5       , 1.        , 0.93181818, 0.77777778,\n",
       "       0.55555556, 0.91428571, 0.88695652, 0.3       , 0.6       ,\n",
       "       0.4       , 0.1       , 0.61538462, 0.95454545, 0.92907801])"
      ]
     },
     "execution_count": 73,
     "metadata": {},
     "output_type": "execute_result"
    }
   ],
   "source": [
    "recall = np.diag(conf_matrix) / np.sum(conf_matrix, axis=1)\n",
    "recall"
   ]
  },
  {
   "cell_type": "code",
   "execution_count": 74,
   "metadata": {
    "colab": {
     "base_uri": "https://localhost:8080/"
    },
    "executionInfo": {
     "elapsed": 366,
     "status": "ok",
     "timestamp": 1707967361415,
     "user": {
      "displayName": "Henry Si",
      "userId": "17719448117276295977"
     },
     "user_tz": -480
    },
    "id": "7tJOpyIs_EEQ",
    "outputId": "65f2d82b-66ac-4251-e206-9e83a9d1b5c8"
   },
   "outputs": [
    {
     "data": {
      "text/plain": [
       "array([0.63809524, 0.96062992, 0.625     , 0.25      , 0.99074074,\n",
       "       0.5       , 0.64285714, 0.9826087 , 0.9389313 , 0.80628272,\n",
       "       0.41666667, 0.94814815, 0.87931034, 0.15      , 0.54545455,\n",
       "       0.4       , 0.1       , 0.84210526, 0.92647059, 0.96323529])"
      ]
     },
     "execution_count": 74,
     "metadata": {},
     "output_type": "execute_result"
    }
   ],
   "source": [
    "# axis=0 means the sum will be calculated along the vertical axis (column-wise)\n",
    "# axis=1 means the sum is calculated along the horizontal axis (row-wise)\n",
    "precision = np.diag(conf_matrix) / np.sum(conf_matrix, axis=0)\n",
    "precision = np.nan_to_num(precision, nan=0)  # assuming there is a NaN then replace with 0\n",
    "precision\n",
    "\n",
    "# Use this if there is no NaN\n",
    "# precision = np.diag(conf_matrix) / np.sum(conf_matrix, axis=0)\n",
    "# precision"
   ]
  },
  {
   "cell_type": "code",
   "execution_count": 75,
   "metadata": {
    "colab": {
     "base_uri": "https://localhost:8080/"
    },
    "executionInfo": {
     "elapsed": 309,
     "status": "ok",
     "timestamp": 1707967378575,
     "user": {
      "displayName": "Henry Si",
      "userId": "17719448117276295977"
     },
     "user_tz": -480
    },
    "id": "duxXLPe-_HfE",
    "outputId": "df05ee6c-66bb-4b1c-b25b-e678105e799f"
   },
   "outputs": [
    {
     "name": "stdout",
     "output_type": "stream",
     "text": [
      "Model recall score is 66.86%\n"
     ]
    }
   ],
   "source": [
    "avg_recall = np.mean(recall)\n",
    "print(f'Model recall score is {avg_recall:.2%}')"
   ]
  },
  {
   "cell_type": "code",
   "execution_count": 76,
   "metadata": {
    "colab": {
     "base_uri": "https://localhost:8080/"
    },
    "executionInfo": {
     "elapsed": 336,
     "status": "ok",
     "timestamp": 1707967385255,
     "user": {
      "displayName": "Henry Si",
      "userId": "17719448117276295977"
     },
     "user_tz": -480
    },
    "id": "OIcvMvM0_KpW",
    "outputId": "20030d2b-3850-45a8-b1bf-57545da77b8c"
   },
   "outputs": [
    {
     "name": "stdout",
     "output_type": "stream",
     "text": [
      "Model precision score is 67.53%\n",
      "Model f score is 67.20%\n"
     ]
    }
   ],
   "source": [
    "avg_precision = np.mean(precision)\n",
    "print(f'Model precision score is {avg_precision:.2%}')\n",
    "\n",
    "f1_score = 2 * (avg_precision * avg_recall) / (avg_precision + avg_recall)\n",
    "print(f'Model f score is {f1_score:.2%}')\n",
    "\n",
    "# f1_score_numpy = np.mean(2 * class_precision * class_recall / (class_precision + class_recall))\n",
    "# print(f'f1_score_numpy: {f1_score_numpy}')"
   ]
  },
  {
   "cell_type": "markdown",
   "metadata": {},
   "source": [
    "#### USING CLASSIFICATION REPORT"
   ]
  },
  {
   "cell_type": "code",
   "execution_count": 77,
   "metadata": {},
   "outputs": [
    {
     "name": "stdout",
     "output_type": "stream",
     "text": [
      "                            precision    recall  f1-score   support\n",
      "      Kalimantan_Pontianak     0.9826     1.0        0.9912     113\n",
      "                   Cirebon     0.9907     0.9469     0.9683     113\n",
      "         Yogyakarta_Tambal     0.9632     0.9291     0.9458     141\n",
      "    Yogyakarta_Sekar Jagad     0.9265     0.9545     0.9403     132\n",
      "Kulon Progo_Geblek Renteng     0.9389     0.9318     0.9354     132\n",
      "         Papua_Cendrawasih     0.9481     0.9143     0.9309     140\n",
      "                      Bali     0.9606     0.8777     0.9173     139\n",
      "                      Pati     0.8793     0.887      0.8831     230\n",
      "                    Madura     0.8063     0.7778     0.7918     198\n",
      "                      Aceh     0.6381     0.8272     0.7204     81\n",
      "         Yogyakarta_Kawung     0.8421     0.6154     0.7111     26\n",
      "                    Betawi     0.625      0.5556     0.5882     27\n",
      "            Solo_Sidoluhur     0.5455     0.6        0.5714     10\n",
      "          Kalimantan_Dayak     0.6429     0.5        0.5625     18\n",
      "       Maluku_Pala Cengkeh     0.4167     0.5556     0.4762     18\n",
      "                     Garut     0.5        0.4        0.4444     10\n",
      "                Solo_Sogan     0.4        0.4        0.4        10\n",
      "                    Ciamis     0.25       0.3        0.2727     10\n",
      "                Pekalongan     0.15       0.3        0.2        10\n",
      "     Tasikmalaya_Priyangan     0.1        0.1        0.1        10\n",
      "\n",
      "                  accuracy                         0.8584      1568\n",
      "                 macro avg     0.6753    0.6686    0.6676      1568\n",
      "              weighted avg     0.8687    0.8584    0.8619      1568\n"
     ]
    }
   ],
   "source": [
    "import re\n",
    "\n",
    "# Define a function to convert float to percentage\n",
    "def convert_to_percentage(value):\n",
    "    # return f\"{value * 100:.2f}%\"\n",
    "    return f\"{value}\"\n",
    "# Generate the classification report\n",
    "report = classification_report(y_test_labels, predictions.argmax(axis=1), target_names=LABEL_NAMES, zero_division=0, digits=4)\n",
    "\n",
    "# Separate the report into class metrics and summary metrics\n",
    "lines = report.split('\\n')\n",
    "class_metrics = []\n",
    "summary_metrics = []\n",
    "headings = None\n",
    "\n",
    "# Iterate through each line in the report\n",
    "for line in lines:\n",
    "    # Check for headings\n",
    "    if 'precision' in line and 'recall' in line and 'f1-score' in line and 'support' in line:\n",
    "        headings = line\n",
    "    \n",
    "    # Check for summary metrics\n",
    "    elif any(summary_key in line for summary_key in ['accuracy', 'macro avg', 'weighted avg']):\n",
    "        summary_metrics.append(line)\n",
    "    else:\n",
    "        # Separate class metric lines\n",
    "        if line.strip():\n",
    "            match = re.search(r\"^([\\w\\s]+)\\s+([\\d.]+)\\s+([\\d.]+)\\s+([\\d.]+)\\s+(\\d+)\", line)\n",
    "            if match:\n",
    "                label = match.group(1)\n",
    "                precision = float(match.group(2))\n",
    "                recall = float(match.group(3))\n",
    "                f1_score = float(match.group(4))\n",
    "                support = int(match.group(5))\n",
    "                class_metrics.append((label, precision, recall, f1_score, support))\n",
    "# Sort class metrics by F1-score in descending order\n",
    "class_metrics.sort(key=lambda x: x[3], reverse=True)\n",
    "\n",
    "# Combine sorted class metrics and summary metrics\n",
    "final_report = []\n",
    "if headings:\n",
    "    final_report.append(headings)\n",
    "\n",
    "# Add sorted class metrics with percentages to the report\n",
    "for label, precision, recall, f1_score, support in class_metrics:\n",
    "    precision_percentage = convert_to_percentage(precision)\n",
    "    recall_percentage = convert_to_percentage(recall)\n",
    "    f1_score_percentage = convert_to_percentage(f1_score)\n",
    "    final_report.append(f\"{label:<30} {precision_percentage:<10} {recall_percentage:<10} {f1_score_percentage:<10} {support}\")\n",
    "\n",
    "# Add an extra blank line before the summary metrics\n",
    "final_report.append('')\n",
    "\n",
    "# Add summary metrics at the bottom\n",
    "final_report.extend(summary_metrics)\n",
    "\n",
    "# Join the report lines and print\n",
    "print('\\n'.join(final_report))"
   ]
  },
  {
   "cell_type": "markdown",
   "metadata": {},
   "source": [
    "#### USING MANUAL"
   ]
  },
  {
   "cell_type": "code",
   "execution_count": 78,
   "metadata": {},
   "outputs": [
    {
     "name": "stdout",
     "output_type": "stream",
     "text": [
      "Class                          Precision    Recall       F1 Score     Support     \n",
      "------------------------------------------------------------------------------\n",
      "Kalimantan_Pontianak           98.26%       100.00%      99.12%       113         \n",
      "Cirebon                        99.07%       94.69%       96.83%       113         \n",
      "Yogyakarta_Tambal              96.32%       92.91%       94.58%       141         \n",
      "Yogyakarta_Sekar Jagad         92.65%       95.45%       94.03%       132         \n",
      "Kulon Progo_Geblek Renteng     93.89%       93.18%       93.54%       132         \n",
      "Papua_Cendrawasih              94.81%       91.43%       93.09%       140         \n",
      "Bali                           96.06%       87.77%       91.73%       139         \n",
      "Pati                           87.93%       88.70%       88.31%       230         \n",
      "Madura                         80.63%       77.78%       79.18%       198         \n",
      "Aceh                           63.81%       82.72%       72.04%       81          \n",
      "Yogyakarta_Kawung              84.21%       61.54%       71.11%       26          \n",
      "Betawi                         62.50%       55.56%       58.82%       27          \n",
      "Solo_Sidoluhur                 54.55%       60.00%       57.14%       10          \n",
      "Kalimantan_Dayak               64.29%       50.00%       56.25%       18          \n",
      "Maluku_Pala Cengkeh            41.67%       55.56%       47.62%       18          \n",
      "Garut                          50.00%       40.00%       44.44%       10          \n",
      "Solo_Sogan                     40.00%       40.00%       40.00%       10          \n",
      "Ciamis                         25.00%       30.00%       27.27%       10          \n",
      "Pekalongan                     15.00%       30.00%       20.00%       10          \n",
      "Tasikmalaya_Priyangan          10.00%       10.00%       10.00%       10          \n",
      "\n",
      "\n",
      "accuracy                                                 85.84%       1568\n",
      "macro avg                      67.53%       66.86%       66.76%       1568\n",
      "weighted avg                   86.87%       85.84%       86.19%       1568\n",
      "\n",
      "Overall Metrics:\n",
      "Recall: 66.86%\n",
      "Precision: 67.53%\n",
      "Overall F1 Score: 67.20%\n"
     ]
    }
   ],
   "source": [
    "# ============ then compared with the manual one that we had before Precision, Recall, F1, and modified a bit with Support  ========\n",
    "\n",
    "# Calculate metrics per class and add support\n",
    "metrics_per_class = []\n",
    "for i in range(len(LABEL_NAMES)):\n",
    "    recall = conf_matrix[i, i] / np.sum(conf_matrix[i, :])\n",
    "    precision = conf_matrix[i, i] / np.sum(conf_matrix[:, i])\n",
    "    f1_score = 2 * (precision * recall) / (precision + recall) if (precision + recall) != 0 else 0\n",
    "    \n",
    "    # Calculate support for each class, support is the number of images per class\n",
    "    support = np.sum(conf_matrix[i, :])  # Support is the sum of the row [i] in the confusion matrix\n",
    "    \n",
    "    # Add metrics and support to the list\n",
    "    metrics_per_class.append({\n",
    "        'Class': LABEL_NAMES[i],\n",
    "        'Precision': precision,\n",
    "        'Recall': recall,\n",
    "        'F1 Score': f1_score,\n",
    "        'Support': support\n",
    "    })\n",
    "\n",
    "# Sort metrics by F1 Score\n",
    "metrics_per_class_sorted = sorted(metrics_per_class, key=lambda x: x['F1 Score'], reverse=True)\n",
    "# To print metrics for each class including support\n",
    "print(\"{:<30} {:<12} {:<12} {:<12} {:<12}\".format('Class', 'Precision', 'Recall', 'F1 Score', 'Support'))\n",
    "print(\"-\" * 78)\n",
    "for metric in metrics_per_class_sorted:\n",
    "    print(\"{:<30} {:<12.2%} {:<12.2%} {:<12.2%} {:<12}\".format(\n",
    "        metric['Class'], metric['Precision'], metric['Recall'], metric['F1 Score'], metric['Support']))\n",
    "\n",
    "# Calculate overall F1 Score using the standard equation\n",
    "overall_precision = np.mean([metric['Precision'] for metric in metrics_per_class])\n",
    "overall_recall = np.mean([metric['Recall'] for metric in metrics_per_class])\n",
    "overall_f1_score = 2 * (overall_precision * overall_recall) / (overall_precision + overall_recall) if (overall_precision + overall_recall) != 0 else 0\n",
    "\n",
    "# =================\n",
    "# Adding Accuracy, Macro avg and Weighted avg \n",
    "# Total number of observations (number of classes x no. images / perclass)\n",
    "total_observations = np.sum(conf_matrix)\n",
    "\n",
    "# Calculate accuracy\n",
    "accuracy = np.sum(np.diag(conf_matrix)) / total_observations\n",
    "\n",
    "# Calculate macro average\n",
    "macro_avg_precision = np.mean([metric['Precision'] for metric in metrics_per_class])\n",
    "macro_avg_recall = np.mean([metric['Recall'] for metric in metrics_per_class])\n",
    "macro_avg_f1 = np.mean([metric['F1 Score'] for metric in metrics_per_class])\n",
    "\n",
    "# Calculate weighted average\n",
    "weighted_avg_precision = 0\n",
    "weighted_avg_recall = 0\n",
    "weighted_avg_f1 = 0\n",
    "\n",
    "\n",
    "for i, metric in enumerate(metrics_per_class):\n",
    "    support = np.sum(conf_matrix[i, :])\n",
    "    weight = support / total_observations\n",
    "    \n",
    "    weighted_avg_precision += metric['Precision'] * weight\n",
    "    weighted_avg_recall += metric['Recall'] * weight\n",
    "    weighted_avg_f1 += metric['F1 Score'] * weight\n",
    "\n",
    "print(\"\\n\")\n",
    "# print(f\"{'':<24} {'precision':>12} {'recall':>12} {'f1-score':>12}\")\n",
    "# print(f\"{'accuracy':<45}{accuracy:>12.2%}\")\n",
    "print(f\"{'accuracy':<25}{'':>26.4}{accuracy:>12.2%} {total_observations:>10}\")\n",
    "print(f\"{'macro avg':<25}{macro_avg_precision:>12.2%} {macro_avg_recall:>12.2%} {macro_avg_f1:>12.2%} {total_observations:>10}\")\n",
    "print(f\"{'weighted avg':<25}{weighted_avg_precision:>12.2%} {weighted_avg_recall:>12.2%} {weighted_avg_f1:>12.2%} {total_observations:>10}\")\n",
    "\n",
    "# =================\n",
    "\n",
    "print(\"\\nOverall Metrics:\")\n",
    "print(f\"Recall: {overall_recall:.2%}\")\n",
    "print(f\"Precision: {overall_precision:.2%}\")\n",
    "print(f\"Overall F1 Score: {overall_f1_score:.2%}\")"
   ]
  },
  {
   "cell_type": "markdown",
   "metadata": {},
   "source": [
    "#### COMPARISON MANUAL VS CLASSIFICATION REPORT"
   ]
  },
  {
   "cell_type": "code",
   "execution_count": 79,
   "metadata": {},
   "outputs": [
    {
     "name": "stdout",
     "output_type": "stream",
     "text": [
      "Class                      Precision  Recall     F1 Score   Support                                precision    recall  f1-score   support\n",
      "----------------------------------------------------------------------       Kalimantan_Pontianak     98.26%     100.00%    99.12%     113\n",
      "Kalimantan_Pontianak       98.26%     100.00%    99.12%     113                           Cirebon     99.07%     94.69%     96.83%     113\n",
      "Cirebon                    99.07%     94.69%     96.83%     113                 Yogyakarta_Tambal     96.32%     92.91%     94.58%     141\n",
      "Yogyakarta_Tambal          96.32%     92.91%     94.58%     141            Yogyakarta_Sekar Jagad     92.65%     95.45%     94.03%     132\n",
      "Yogyakarta_Sekar Jagad     92.65%     95.45%     94.03%     132        Kulon Progo_Geblek Renteng     93.89%     93.18%     93.54%     132\n",
      "Kulon Progo_Geblek Renteng 93.89%     93.18%     93.54%     132                 Papua_Cendrawasih     94.81%     91.43%     93.09%     140\n",
      "Papua_Cendrawasih          94.81%     91.43%     93.09%     140                              Bali     96.06%     87.77%     91.73%     139\n",
      "Bali                       96.06%     87.77%     91.73%     139                              Pati     87.93%     88.70%     88.31%     230\n",
      "Pati                       87.93%     88.70%     88.31%     230                            Madura     80.63%     77.78%     79.18%     198\n",
      "Madura                     80.63%     77.78%     79.18%     198                              Aceh     63.81%     82.72%     72.04%     81\n",
      "Aceh                       63.81%     82.72%     72.04%     81                  Yogyakarta_Kawung     84.21%     61.54%     71.11%     26\n",
      "Yogyakarta_Kawung          84.21%     61.54%     71.11%     26                             Betawi     62.50%     55.56%     58.82%     27\n",
      "Betawi                     62.50%     55.56%     58.82%     27                     Solo_Sidoluhur     54.55%     60.00%     57.14%     10\n",
      "Solo_Sidoluhur             54.55%     60.00%     57.14%     10                   Kalimantan_Dayak     64.29%     50.00%     56.25%     18\n",
      "Kalimantan_Dayak           64.29%     50.00%     56.25%     18                Maluku_Pala Cengkeh     41.67%     55.56%     47.62%     18\n",
      "Maluku_Pala Cengkeh        41.67%     55.56%     47.62%     18                              Garut     50.00%     40.00%     44.44%     10\n",
      "Garut                      50.00%     40.00%     44.44%     10                         Solo_Sogan     40.00%     40.00%     40.00%     10\n",
      "Solo_Sogan                 40.00%     40.00%     40.00%     10                             Ciamis     25.00%     30.00%     27.27%     10\n",
      "Ciamis                     25.00%     30.00%     27.27%     10                         Pekalongan     15.00%     30.00%     20.00%     10\n",
      "Pekalongan                 15.00%     30.00%     20.00%     10              Tasikmalaya_Priyangan     10.00%     10.00%     10.00%     10\n",
      "Tasikmalaya_Priyangan      10.00%     10.00%     10.00%     10         \n",
      "                                                                               accuracy                         0.8584      1568\n",
      "                                                                              macro avg     0.6753    0.6686    0.6676      1568\n",
      "                                                                           weighted avg     0.8687    0.8584    0.8619      1568\n"
     ]
    }
   ],
   "source": [
    "# Calculate metrics per class and add support\n",
    "metrics_per_class = []\n",
    "for i in range(len(LABEL_NAMES)):\n",
    "    recall = conf_matrix[i, i] / np.sum(conf_matrix[i, :])\n",
    "    precision = conf_matrix[i, i] / np.sum(conf_matrix[:, i])\n",
    "    f1_score = 2 * (precision * recall) / (precision + recall) if (precision + recall) != 0 else 0\n",
    "    \n",
    "    # Calculate support for each class\n",
    "    support = np.sum(conf_matrix[i, :])  # Support is the sum of the row i in the confusion matrix\n",
    "    \n",
    "    # Add metrics and support to the list\n",
    "    metrics_per_class.append({\n",
    "        'Class': LABEL_NAMES[i],\n",
    "        'Precision': precision,\n",
    "        'Recall': recall,\n",
    "        'F1 Score': f1_score,\n",
    "        'Support': support\n",
    "    })\n",
    "\n",
    "# Sort metrics by F1 Score\n",
    "metrics_per_class_sorted = sorted(metrics_per_class, key=lambda x: x['F1 Score'], reverse=True)\n",
    "\n",
    "# Prepare output for the first part\n",
    "output_left = []\n",
    "output_left.append(\"{:<26} {:<10} {:<10} {:<10} {:<10}\".format('Class', 'Precision', 'Recall', 'F1 Score', 'Support'))\n",
    "output_left.append(\"-\" * 70)\n",
    "for metric in metrics_per_class_sorted:\n",
    "    output_left.append(\"{:<26} {:<10.2%} {:<10.2%} {:<10.2%} {:<10}\".format(\n",
    "        metric['Class'], metric['Precision'], metric['Recall'], metric['F1 Score'], metric['Support']))\n",
    "\n",
    "output_left.append(\"\\n\")\n",
    "\n",
    "# Calculate overall F1 Score using the standard equation\n",
    "overall_precision = np.mean([metric['Precision'] for metric in metrics_per_class])\n",
    "overall_recall = np.mean([metric['Recall'] for metric in metrics_per_class])\n",
    "overall_f1_score = 2 * (overall_precision * overall_recall) / (overall_precision + overall_recall) if (overall_precision + overall_recall) != 0 else 0\n",
    "# Adding Accuracy, Macro avg and Weighted avg\n",
    "total_observations = np.sum(conf_matrix)\n",
    "\n",
    "accuracy = np.sum(np.diag(conf_matrix)) / total_observations\n",
    "\n",
    "macro_avg_precision = np.mean([metric['Precision'] for metric in metrics_per_class])\n",
    "macro_avg_recall = np.mean([metric['Recall'] for metric in metrics_per_class])\n",
    "macro_avg_f1 = np.mean([metric['F1 Score'] for metric in metrics_per_class])\n",
    "\n",
    "weighted_avg_precision = 0\n",
    "weighted_avg_recall = 0\n",
    "weighted_avg_f1 = 0\n",
    "\n",
    "for i, metric in enumerate(metrics_per_class):\n",
    "    support = np.sum(conf_matrix[i, :])\n",
    "    weight = support / total_observations\n",
    "    \n",
    "    weighted_avg_precision += metric['Precision'] * weight\n",
    "    weighted_avg_recall += metric['Recall'] * weight\n",
    "    weighted_avg_f1 += metric['F1 Score'] * weight\n",
    "\n",
    "output_left.append(\"\\n\")\n",
    "output_left.append(f\"{'accuracy':<25}{'':>26.4}{accuracy:>12.2%} {total_observations:>10}\")\n",
    "output_left.append(f\"{'macro avg':<25}{macro_avg_precision:>12.2%} {macro_avg_recall:>12.2%} {macro_avg_f1:>12.2%} {total_observations:>10}\")\n",
    "output_left.append(f\"{'weighted avg':<25}{weighted_avg_precision:>12.2%} {weighted_avg_recall:>12.2%} {weighted_avg_f1:>12.2%} {total_observations:>10}\")\n",
    "\n",
    "output_left.append(\"\\nOverall Metrics:\")\n",
    "output_left.append(f\"Recall: {overall_recall:.2%}\")\n",
    "output_left.append(f\"Precision: {overall_precision:.2%}\")\n",
    "output_left.append(f\"Overall F1 Score: {overall_f1_score:.2%}\")\n",
    "output_left = \"\\n\".join(output_left)\n",
    "\n",
    "# Define a function to convert float to percentage\n",
    "def convert_to_percentage(value):\n",
    "    return f\"{value * 100:.2f}%\"\n",
    "\n",
    "# Generate the classification report\n",
    "report = classification_report(y_test_labels, predictions.argmax(axis=1), target_names=LABEL_NAMES, zero_division=0, digits=4)\n",
    "\n",
    "# Separate the report into class metrics and summary metrics\n",
    "lines = report.split('\\n')\n",
    "class_metrics = []\n",
    "summary_metrics = []\n",
    "headings = None\n",
    "\n",
    "# Iterate through each line in the report\n",
    "for line in lines:\n",
    "    # Check for headings\n",
    "    if 'precision' in line and 'recall' in line and 'f1-score' in line and 'support' in line:\n",
    "        headings = line\n",
    "    \n",
    "    # Check for summary metrics\n",
    "    elif any(summary_key in line for summary_key in ['accuracy', 'macro avg', 'weighted avg']):\n",
    "        summary_metrics.append(line)\n",
    "    else:\n",
    "        # Separate class metric lines\n",
    "        if line.strip():\n",
    "            match = re.search(r\"^([\\w\\s]+)\\s+([\\d.]+)\\s+([\\d.]+)\\s+([\\d.]+)\\s+(\\d+)\", line)\n",
    "            if match:\n",
    "                label = match.group(1)\n",
    "                precision = float(match.group(2))\n",
    "                recall = float(match.group(3))\n",
    "                f1_score = float(match.group(4))\n",
    "                support = int(match.group(5))\n",
    "                class_metrics.append((label, precision, recall, f1_score, support))\n",
    "\n",
    "# Sort class metrics by F1-score in descending order\n",
    "class_metrics.sort(key=lambda x: x[3], reverse=True)\n",
    "\n",
    "# Prepare output for the second part\n",
    "output_right = []\n",
    "if headings:\n",
    "    output_right.append(headings)\n",
    "\n",
    "# Add sorted class metrics with percentages to the report\n",
    "for label, precision, recall, f1_score, support in class_metrics:\n",
    "    precision_percentage = convert_to_percentage(precision)\n",
    "    recall_percentage = convert_to_percentage(recall)\n",
    "    f1_score_percentage = convert_to_percentage(f1_score)\n",
    "    output_right.append(f\"{label:<30} {precision_percentage:<10} {recall_percentage:<10} {f1_score_percentage:<10} {support}\")\n",
    "\n",
    "# Add an extra blank line before the summary metrics\n",
    "output_right.append('')\n",
    "\n",
    "# Add summary metrics at the bottom\n",
    "output_right.extend(summary_metrics)\n",
    "\n",
    "# Convert output_right to a single string\n",
    "output_right = \"\\n\".join(output_right)\n",
    "\n",
    "# Combine the two outputs and print side by side\n",
    "import subprocess\n",
    "\n",
    "# Create a string with the combined output for the left and right parts\n",
    "combined_output = '\\n'.join(f\"{l:60} {r}\" for l, r in zip(output_left.split('\\n'), output_right.split('\\n')))\n",
    "\n",
    "# Print the combined output in two columns\n",
    "print(combined_output)"
   ]
  }
 ],
 "metadata": {
  "colab": {
   "authorship_tag": "ABX9TyP24dTbyMJaPaRu8wIlLodT",
   "provenance": [
    {
     "file_id": "1SEprQwc0DKAcOJJ1G5eXq8S1iP61IZMr",
     "timestamp": 1708336429531
    },
    {
     "file_id": "1heBOHdcTsqmNd1ElI_6KSby-WDZhDtj5",
     "timestamp": 1707813485946
    }
   ]
  },
  "kernelspec": {
   "display_name": "Python 3 (ipykernel)",
   "language": "python",
   "name": "python3"
  },
  "language_info": {
   "codemirror_mode": {
    "name": "ipython",
    "version": 3
   },
   "file_extension": ".py",
   "mimetype": "text/x-python",
   "name": "python",
   "nbconvert_exporter": "python",
   "pygments_lexer": "ipython3",
   "version": "3.10.12"
  }
 },
 "nbformat": 4,
 "nbformat_minor": 4
}
