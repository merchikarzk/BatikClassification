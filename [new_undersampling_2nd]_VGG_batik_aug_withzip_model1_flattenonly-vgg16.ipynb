{
 "cells": [
  {
   "cell_type": "code",
   "execution_count": 1,
   "metadata": {
    "executionInfo": {
     "elapsed": 608,
     "status": "ok",
     "timestamp": 1708405742502,
     "user": {
      "displayName": "Henry Si",
      "userId": "17719448117276295977"
     },
     "user_tz": -480
    },
    "id": "0CoFPyu93R3q"
   },
   "outputs": [
    {
     "name": "stderr",
     "output_type": "stream",
     "text": [
      "2024-06-07 23:20:38.831861: I tensorflow/core/platform/cpu_feature_guard.cc:182] This TensorFlow binary is optimized to use available CPU instructions in performance-critical operations.\n",
      "To enable the following instructions: AVX2 FMA, in other operations, rebuild TensorFlow with the appropriate compiler flags.\n"
     ]
    }
   ],
   "source": [
    "# from google.colab import drive\n",
    "import zipfile\n",
    "import sys\n",
    "import h5py\n",
    "import numpy as np\n",
    "import os\n",
    "from PIL import Image\n",
    "import pandas as pd\n",
    "import logging\n",
    "import json\n",
    "import tensorflow as tf\n",
    "import itertools\n",
    "from tensorflow.keras.preprocessing.image import ImageDataGenerator\n",
    "from tensorflow.keras.optimizers import Adam\n",
    "from tensorflow.keras.layers import Conv2D, Dense, MaxPooling2D, Dropout, Flatten, BatchNormalization, Activation, GlobalAveragePooling2D, AveragePooling2D\n",
    "from tensorflow.keras.models import Sequential\n",
    "from tensorflow.keras.metrics import Precision, Accuracy, Recall\n",
    "from tensorflow.keras.callbacks import EarlyStopping, ModelCheckpoint, Callback\n",
    "from tensorflow.keras.applications import VGG16, VGG19\n",
    "from tensorflow.keras import layers, Model\n",
    "# from tensorflow.keras.applications.imagenet_utils import preprocess_input\n",
    "from tensorflow.keras.applications.vgg16 import preprocess_input\n",
    "from tensorflow.keras.models import load_model\n",
    "\n",
    "# import keras\n",
    "from keras.utils import to_categorical\n",
    "from keras.models import load_model\n",
    "from keras.preprocessing.image import array_to_img\n",
    "# from keras.callbacks import EarlyStopping, ModelCheckpoint, Callback\n",
    "# from keras.applications.mobilenet_v2 import MobileNetV2, preprocess_input\n",
    "\n",
    "# import sklearn\n",
    "from sklearn.metrics import classification_report\n",
    "from sklearn.metrics import precision_score, accuracy_score, f1_score, recall_score, confusion_matrix\n",
    "from sklearn.preprocessing import OneHotEncoder\n",
    "\n",
    "# import matplotlib\n",
    "%matplotlib inline\n",
    "import matplotlib.image as mpimg\n",
    "import matplotlib.pyplot as plt\n",
    "import seaborn as sns\n",
    "\n",
    "import csv\n",
    "import visualkeras\n",
    "np.random.seed(42)"
   ]
  },
  {
   "cell_type": "code",
   "execution_count": 2,
   "metadata": {
    "colab": {
     "base_uri": "https://localhost:8080/"
    },
    "executionInfo": {
     "elapsed": 531,
     "status": "ok",
     "timestamp": 1708347056463,
     "user": {
      "displayName": "Henry Si",
      "userId": "17719448117276295977"
     },
     "user_tz": -480
    },
    "id": "ehxXM0T9WL_A",
    "outputId": "856fe9c8-3252-42c9-bfd3-b57997945c50"
   },
   "outputs": [
    {
     "name": "stdout",
     "output_type": "stream",
     "text": [
      "Python version: 3.10.12 (main, Jul  5 2023, 15:34:07) [Clang 14.0.6 ]\n",
      "Numpy version: 1.25.2\n",
      "Pillow version: 9.4.0\n",
      "pandas version: 1.5.3\n",
      "h5py version: 3.9.0\n",
      "TensorFlow version: 2.15.0\n",
      "seaborn version: 0.13.1\n"
     ]
    }
   ],
   "source": [
    "print(\"Python version:\", sys.version) # needs to import sys\n",
    "print(\"Numpy version:\", np.__version__)\n",
    "print(\"Pillow version:\", Image.__version__)\n",
    "print(\"pandas version:\", pd.__version__)\n",
    "print(\"h5py version:\", h5py.__version__)\n",
    "print(\"TensorFlow version:\", tf.__version__)\n",
    "# print(\"Itertools version:\", itertools.__version__)  # part of python library\n",
    "# print(\"Keras version:\", keras.__version__)  # needs to import keras\n",
    "# print(\"sklearn version:\", sklearn.__version__)  # needs to import sklearn\n",
    "# print(\"matplotlib version:\", matplotlib.__version__)  # needs to import matplotlib\n",
    "print(\"seaborn version:\", sns.__version__)"
   ]
  },
  {
   "cell_type": "markdown",
   "metadata": {
    "id": "A5Od3aoCxPaL"
   },
   "source": [
    "# Create Constants"
   ]
  },
  {
   "cell_type": "code",
   "execution_count": 2,
   "metadata": {
    "executionInfo": {
     "elapsed": 11,
     "status": "ok",
     "timestamp": 1708405762563,
     "user": {
      "displayName": "Henry Si",
      "userId": "17719448117276295977"
     },
     "user_tz": -480
    },
    "id": "Jy9Bqgd602Iq"
   },
   "outputs": [],
   "source": [
    "# LABEL_NAMES = ['Aceh_Pintu_Aceh', 'Bali_Barong', 'Bali_Merak', 'DKI_Ondel_Ondel', 'JawaBarat_Megamendung', 'JawaTimur_Pring', 'Kalimantan_Dayak', 'Lampung_Gajah', 'Madura_Mataketeran', 'Maluku_Pala', 'NTB_Lumbung', 'Papua_Asmat', 'Papua_Cendrawasih', 'Papua_Tifa', 'Solo_Parang', 'SulawesiSelatan_Lontara', 'SumateraBarat_Rumah_Minang', 'SumateraUtara_Boraspati', 'Yogyakarta_Kawung', 'Yogyakarta_Parang']\n",
    "LABEL_NAMES = ['Aceh', 'Bali', 'Betawi', 'Ciamis', 'Cirebon', 'Garut', 'Kalimantan_Dayak', 'Kalimantan_Pontianak', 'Kulon Progo_Geblek Renteng', 'Madura', 'Maluku_Pala Cengkeh', 'Papua_Cendrawasih', 'Pati', 'Pekalongan', 'Solo_Sidoluhur', 'Solo_Sogan', 'Tasikmalaya_Priyangan', 'Yogyakarta_Kawung', 'Yogyakarta_Sekar Jagad', 'Yogyakarta_Tambal']\n",
    "IMAGE_WIDTH = 224\n",
    "IMAGE_HEIGHT = 224\n",
    "IMAGE_PIXELS = IMAGE_WIDTH * IMAGE_HEIGHT\n",
    "COLOR_CHANNELS = 3\n",
    "TOTAL_INPUTS = IMAGE_PIXELS * COLOR_CHANNELS\n",
    "NO_CLASSES = 20\n",
    "BATCH_SIZE = 32\n",
    "\n",
    "VALIDATION_SIZE = 6\n",
    "TESTING_SIZE = 8\n"
   ]
  },
  {
   "cell_type": "markdown",
   "metadata": {
    "id": "DGBSN6zST49V"
   },
   "source": [
    "# Data Gathering"
   ]
  },
  {
   "cell_type": "code",
   "execution_count": 3,
   "metadata": {
    "colab": {
     "base_uri": "https://localhost:8080/"
    },
    "executionInfo": {
     "elapsed": 438,
     "status": "ok",
     "timestamp": 1708405770725,
     "user": {
      "displayName": "Henry Si",
      "userId": "17719448117276295977"
     },
     "user_tz": -480
    },
    "id": "B15AAJIJCoZE",
    "outputId": "7d85be45-c01d-4b1e-fd74-443a75b83256"
   },
   "outputs": [
    {
     "name": "stdout",
     "output_type": "stream",
     "text": [
      "Found 12817 images belonging to 20 classes.\n",
      "Found 1266 images belonging to 20 classes.\n",
      "Found 1582 images belonging to 20 classes.\n",
      "Class labels:\n",
      "{'Aceh': 0, 'Bali': 1, 'Betawi': 2, 'Ciamis': 3, 'Cirebon': 4, 'Garut': 5, 'Kalimantan_Dayak': 6, 'Kalimantan_Pontianak': 7, 'Kulon Progo_Geblek Renteng': 8, 'Madura': 9, 'Maluku_Pala Cengkeh': 10, 'Papua_Cendrawasih': 11, 'Pati': 12, 'Pekalongan': 13, 'Solo_Sidoluhur': 14, 'Solo_Sogan': 15, 'Tasikmalaya_Priyangan': 16, 'Yogyakarta_Kawung': 17, 'Yogyakarta_Sekar Jagad': 18, 'Yogyakarta_Tambal': 19}\n"
     ]
    }
   ],
   "source": [
    "# Directory containing the data\n",
    "# DATA_DIR = \"/content/aug_batik_v2\"\n",
    "DATA_DIR = \"/Users/merchika/chikaData/TA/another_dataset/undersampling_augmented_dataset\"\n",
    "\n",
    "# rescale pixel values to [0, 1] at later stage\n",
    "# common_datagen = ImageDataGenerator()\n",
    "\n",
    "common_datagen = ImageDataGenerator()\n",
    "\n",
    "# Set up data generators for training, validation, and testing\n",
    "train_generator = common_datagen.flow_from_directory(\n",
    "    directory=os.path.join(DATA_DIR, \"train\"),\n",
    "    target_size=(IMAGE_HEIGHT, IMAGE_WIDTH),  # Set the target image size\n",
    "    color_mode='rgb', # Set color mode to RGB\n",
    "    class_mode='categorical'  # For multi classes\n",
    ")\n",
    "\n",
    "validation_generator = common_datagen.flow_from_directory(\n",
    "    directory=os.path.join(DATA_DIR, \"validation\"),\n",
    "    target_size=(IMAGE_HEIGHT, IMAGE_WIDTH),\n",
    "    color_mode='rgb', # Set color mode to RGB\n",
    "    class_mode='categorical'\n",
    ")\n",
    "\n",
    "test_generator = common_datagen.flow_from_directory(\n",
    "    directory=os.path.join(DATA_DIR, \"test\"),\n",
    "    target_size=(IMAGE_HEIGHT, IMAGE_WIDTH),\n",
    "    color_mode='rgb', # Set color mode to RGB\n",
    "    class_mode='categorical'\n",
    ")\n",
    "\n",
    "# Print class labels\n",
    "print(\"Class labels:\")\n",
    "print(train_generator.class_indices)"
   ]
  },
  {
   "cell_type": "markdown",
   "metadata": {
    "id": "VEtm_WgRz-yf"
   },
   "source": [
    "# Data Exploration"
   ]
  },
  {
   "cell_type": "markdown",
   "metadata": {
    "id": "A2dawAb2Ciaa"
   },
   "source": [
    "## Train Dataset"
   ]
  },
  {
   "cell_type": "code",
   "execution_count": 4,
   "metadata": {
    "colab": {
     "base_uri": "https://localhost:8080/"
    },
    "executionInfo": {
     "elapsed": 640,
     "status": "ok",
     "timestamp": 1708405782655,
     "user": {
      "displayName": "Henry Si",
      "userId": "17719448117276295977"
     },
     "user_tz": -480
    },
    "id": "moKj8eI53SQe",
    "outputId": "099578db-4bbc-48d0-9aa0-ef40dfd9603a"
   },
   "outputs": [
    {
     "name": "stdout",
     "output_type": "stream",
     "text": [
      "Number of images: 12817\n",
      "Number of classes:20\n"
     ]
    }
   ],
   "source": [
    "num_images = train_generator.n\n",
    "num_classes = train_generator.num_classes\n",
    "print(f\"Number of images: {train_generator.n}\")\n",
    "print(f\"Number of classes:{train_generator.num_classes}\")"
   ]
  },
  {
   "cell_type": "code",
   "execution_count": 5,
   "metadata": {
    "colab": {
     "base_uri": "https://localhost:8080/"
    },
    "executionInfo": {
     "elapsed": 557,
     "status": "ok",
     "timestamp": 1708405787049,
     "user": {
      "displayName": "Henry Si",
      "userId": "17719448117276295977"
     },
     "user_tz": -480
    },
    "id": "bhXWIbl7fcZZ",
    "outputId": "bebe40a8-5ae5-4f45-e85d-dbe943a85b7e"
   },
   "outputs": [
    {
     "name": "stdout",
     "output_type": "stream",
     "text": [
      "Class names: {0: 'Aceh', 1: 'Bali', 2: 'Betawi', 3: 'Ciamis', 4: 'Cirebon', 5: 'Garut', 6: 'Kalimantan_Dayak', 7: 'Kalimantan_Pontianak', 8: 'Kulon Progo_Geblek Renteng', 9: 'Madura', 10: 'Maluku_Pala Cengkeh', 11: 'Papua_Cendrawasih', 12: 'Pati', 13: 'Pekalongan', 14: 'Solo_Sidoluhur', 15: 'Solo_Sogan', 16: 'Tasikmalaya_Priyangan', 17: 'Yogyakarta_Kawung', 18: 'Yogyakarta_Sekar Jagad', 19: 'Yogyakarta_Tambal'}\n"
     ]
    }
   ],
   "source": [
    "class_indices = train_generator.class_indices\n",
    "y_train_class_names = {v: k for k, v in class_indices.items()}\n",
    "print(\"Class names:\", y_train_class_names)"
   ]
  },
  {
   "cell_type": "code",
   "execution_count": 6,
   "metadata": {
    "colab": {
     "base_uri": "https://localhost:8080/"
    },
    "executionInfo": {
     "elapsed": 12,
     "status": "ok",
     "timestamp": 1708405789549,
     "user": {
      "displayName": "Henry Si",
      "userId": "17719448117276295977"
     },
     "user_tz": -480
    },
    "id": "Wifg15prLRhS",
    "outputId": "404ea4c4-3047-4c94-a0f0-a3eb2f05f7b4"
   },
   "outputs": [
    {
     "name": "stdout",
     "output_type": "stream",
     "text": [
      "['Aceh', 'Bali', 'Betawi', 'Ciamis', 'Cirebon', 'Garut', 'Kalimantan_Dayak', 'Kalimantan_Pontianak', 'Kulon Progo_Geblek Renteng', 'Madura', 'Maluku_Pala Cengkeh', 'Papua_Cendrawasih', 'Pati', 'Pekalongan', 'Solo_Sidoluhur', 'Solo_Sogan', 'Tasikmalaya_Priyangan', 'Yogyakarta_Kawung', 'Yogyakarta_Sekar Jagad', 'Yogyakarta_Tambal']\n"
     ]
    }
   ],
   "source": [
    "num_classes = len(class_indices)\n",
    "y_train_labels = [y_train_class_names[i] for i in range(num_classes)]\n",
    "print(y_train_labels)"
   ]
  },
  {
   "cell_type": "code",
   "execution_count": 7,
   "metadata": {
    "colab": {
     "base_uri": "https://localhost:8080/"
    },
    "executionInfo": {
     "elapsed": 10817,
     "status": "ok",
     "timestamp": 1708405802732,
     "user": {
      "displayName": "Henry Si",
      "userId": "17719448117276295977"
     },
     "user_tz": -480
    },
    "id": "_iO0Y9zLZqns",
    "outputId": "1161e90a-d5bd-4a24-8ad5-1ee8aec99c8e"
   },
   "outputs": [
    {
     "name": "stdout",
     "output_type": "stream",
     "text": [
      "x_train shape: (12817, 224, 224, 3)\n",
      "y_train shape: (12817, 20)\n"
     ]
    }
   ],
   "source": [
    "import PIL.Image\n",
    "from PIL import UnidentifiedImageError\n",
    "\n",
    "x_train_all = []\n",
    "y_train_all = []\n",
    "\n",
    "# Looping\n",
    "# for _ in range(num_images // BATCH_SIZE + 1):\n",
    "#     x_batch, y_batch = next(train_generator)\n",
    "#     x_train_all.append(x_batch)\n",
    "#     y_train_all.append(y_batch)\n",
    "\n",
    "for _ in range(num_images // BATCH_SIZE + 1):\n",
    "    try:\n",
    "        x_batch, y_batch = next(train_generator)\n",
    "        x_train_all.append(x_batch)\n",
    "        y_train_all.append(y_batch)\n",
    "    except UnidentifiedImageError as e:\n",
    "        print(\"Error loading image:\", e)\n",
    "\n",
    "# Concatenate\n",
    "x_train = np.concatenate(x_train_all, axis=0)\n",
    "y_train = np.concatenate(y_train_all, axis=0)\n",
    "\n",
    "# Display the shapes of x and y_train\n",
    "print(\"x_train shape:\", x_train.shape)\n",
    "print(\"y_train shape:\", y_train.shape)"
   ]
  },
  {
   "cell_type": "code",
   "execution_count": 8,
   "metadata": {
    "colab": {
     "base_uri": "https://localhost:8080/"
    },
    "executionInfo": {
     "elapsed": 16,
     "status": "ok",
     "timestamp": 1708405810900,
     "user": {
      "displayName": "Henry Si",
      "userId": "17719448117276295977"
     },
     "user_tz": -480
    },
    "id": "ac_l0uZ5eXLx",
    "outputId": "953a8cd5-c1b2-4a2d-8d09-08497aef5a90"
   },
   "outputs": [
    {
     "name": "stdout",
     "output_type": "stream",
     "text": [
      "images = 12817 \t| width = 224 \t| height = 224 \t| channels = 3 \t\n"
     ]
    }
   ],
   "source": [
    "no_images, x, y, c = x_train.shape\n",
    "print(f\"images = {no_images} \\t| width = {x} \\t| height = {y} \\t| channels = {c} \\t\")"
   ]
  },
  {
   "cell_type": "markdown",
   "metadata": {
    "id": "orij-kxOCU_L"
   },
   "source": [
    "## Validation Dataset"
   ]
  },
  {
   "cell_type": "code",
   "execution_count": 9,
   "metadata": {
    "colab": {
     "base_uri": "https://localhost:8080/"
    },
    "executionInfo": {
     "elapsed": 745,
     "status": "ok",
     "timestamp": 1708405849979,
     "user": {
      "displayName": "Henry Si",
      "userId": "17719448117276295977"
     },
     "user_tz": -480
    },
    "id": "H4iUN1xpBvKJ",
    "outputId": "9b60618b-02fe-4178-810c-690a48b06914"
   },
   "outputs": [
    {
     "name": "stdout",
     "output_type": "stream",
     "text": [
      "Number of images: 1266\n",
      "Number of classes:20\n"
     ]
    }
   ],
   "source": [
    "val_num_images = validation_generator.n\n",
    "val_num_classes = validation_generator.num_classes\n",
    "print(f\"Number of images: {validation_generator.n}\")\n",
    "print(f\"Number of classes:{validation_generator.num_classes}\")"
   ]
  },
  {
   "cell_type": "code",
   "execution_count": 10,
   "metadata": {
    "colab": {
     "base_uri": "https://localhost:8080/"
    },
    "executionInfo": {
     "elapsed": 17,
     "status": "ok",
     "timestamp": 1708405858020,
     "user": {
      "displayName": "Henry Si",
      "userId": "17719448117276295977"
     },
     "user_tz": -480
    },
    "id": "xphwlOTfnINQ",
    "outputId": "edb395e4-4e80-47ac-cc6e-a6a9ca18f918"
   },
   "outputs": [
    {
     "name": "stdout",
     "output_type": "stream",
     "text": [
      "Class names: {0: 'Aceh', 1: 'Bali', 2: 'Betawi', 3: 'Ciamis', 4: 'Cirebon', 5: 'Garut', 6: 'Kalimantan_Dayak', 7: 'Kalimantan_Pontianak', 8: 'Kulon Progo_Geblek Renteng', 9: 'Madura', 10: 'Maluku_Pala Cengkeh', 11: 'Papua_Cendrawasih', 12: 'Pati', 13: 'Pekalongan', 14: 'Solo_Sidoluhur', 15: 'Solo_Sogan', 16: 'Tasikmalaya_Priyangan', 17: 'Yogyakarta_Kawung', 18: 'Yogyakarta_Sekar Jagad', 19: 'Yogyakarta_Tambal'}\n"
     ]
    }
   ],
   "source": [
    "class_indices = validation_generator.class_indices\n",
    "y_val_class_names = {v: k for k, v in class_indices.items()}\n",
    "print(\"Class names:\", y_val_class_names)"
   ]
  },
  {
   "cell_type": "code",
   "execution_count": 11,
   "metadata": {
    "colab": {
     "base_uri": "https://localhost:8080/"
    },
    "executionInfo": {
     "elapsed": 450,
     "status": "ok",
     "timestamp": 1708405865378,
     "user": {
      "displayName": "Henry Si",
      "userId": "17719448117276295977"
     },
     "user_tz": -480
    },
    "id": "am22y0-AZXi0",
    "outputId": "5283077d-f750-4b55-ef82-f2c39a367ddd"
   },
   "outputs": [
    {
     "name": "stdout",
     "output_type": "stream",
     "text": [
      "['Aceh', 'Bali', 'Betawi', 'Ciamis', 'Cirebon', 'Garut', 'Kalimantan_Dayak', 'Kalimantan_Pontianak', 'Kulon Progo_Geblek Renteng', 'Madura', 'Maluku_Pala Cengkeh', 'Papua_Cendrawasih', 'Pati', 'Pekalongan', 'Solo_Sidoluhur', 'Solo_Sogan', 'Tasikmalaya_Priyangan', 'Yogyakarta_Kawung', 'Yogyakarta_Sekar Jagad', 'Yogyakarta_Tambal']\n"
     ]
    }
   ],
   "source": [
    "num_classes = len(class_indices)\n",
    "y_val_labels = [y_val_class_names[i] for i in range(num_classes)]\n",
    "print(y_val_labels)"
   ]
  },
  {
   "cell_type": "code",
   "execution_count": 12,
   "metadata": {
    "colab": {
     "base_uri": "https://localhost:8080/"
    },
    "executionInfo": {
     "elapsed": 2137,
     "status": "ok",
     "timestamp": 1708405891664,
     "user": {
      "displayName": "Henry Si",
      "userId": "17719448117276295977"
     },
     "user_tz": -480
    },
    "id": "xfAu5ciPDIn0",
    "outputId": "f2baa635-485b-4877-870b-69af5f0275d1"
   },
   "outputs": [
    {
     "name": "stdout",
     "output_type": "stream",
     "text": [
      "x_val shape: (1266, 224, 224, 3)\n",
      "y_val shape: (1266, 20)\n"
     ]
    }
   ],
   "source": [
    "x_val_all = []\n",
    "y_val_all = []\n",
    "\n",
    "# print(val_num_images)\n",
    "# print(val_num_images // BATCH_SIZE + 1)\n",
    "\n",
    "# Looping\n",
    "for _ in range(val_num_images // BATCH_SIZE + 1):\n",
    "    x_val_batch, y_val_batch = next(validation_generator)\n",
    "    x_val_all.append(x_val_batch)\n",
    "    y_val_all.append(y_val_batch)\n",
    "\n",
    "# Concatenate\n",
    "x_val = np.concatenate(x_val_all, axis=0)\n",
    "y_val = np.concatenate(y_val_all, axis=0)\n",
    "\n",
    "# Display the shapes of x and y_train\n",
    "print(\"x_val shape:\", x_val.shape)\n",
    "print(\"y_val shape:\", y_val.shape)"
   ]
  },
  {
   "cell_type": "code",
   "execution_count": 13,
   "metadata": {
    "colab": {
     "base_uri": "https://localhost:8080/"
    },
    "executionInfo": {
     "elapsed": 568,
     "status": "ok",
     "timestamp": 1708405911063,
     "user": {
      "displayName": "Henry Si",
      "userId": "17719448117276295977"
     },
     "user_tz": -480
    },
    "id": "H4RvE3TyBvSP",
    "outputId": "b88b2b8d-45f6-407b-ffd9-531daf4510db"
   },
   "outputs": [
    {
     "name": "stdout",
     "output_type": "stream",
     "text": [
      "images = 1266 \t| width = 224 \t| height = 224 \t| channels = 3 \t\n"
     ]
    }
   ],
   "source": [
    "no_images, x, y, c = x_val.shape\n",
    "print(f\"images = {no_images} \\t| width = {x} \\t| height = {y} \\t| channels = {c} \\t\")"
   ]
  },
  {
   "cell_type": "markdown",
   "metadata": {
    "id": "FhMMni2SOuIO"
   },
   "source": [
    "## Test Dataset"
   ]
  },
  {
   "cell_type": "code",
   "execution_count": 14,
   "metadata": {
    "colab": {
     "base_uri": "https://localhost:8080/"
    },
    "executionInfo": {
     "elapsed": 438,
     "status": "ok",
     "timestamp": 1708405928638,
     "user": {
      "displayName": "Henry Si",
      "userId": "17719448117276295977"
     },
     "user_tz": -480
    },
    "id": "KhBbpBv2OsRM",
    "outputId": "4c9c0539-d9ec-4964-90e8-703096d15876"
   },
   "outputs": [
    {
     "name": "stdout",
     "output_type": "stream",
     "text": [
      "Number of images: 1582\n",
      "Number of classes:20\n"
     ]
    }
   ],
   "source": [
    "test_num_images = test_generator.n\n",
    "test_num_classes = test_generator.num_classes\n",
    "print(f\"Number of images: {test_generator.n}\")\n",
    "print(f\"Number of classes:{test_generator.num_classes}\")"
   ]
  },
  {
   "cell_type": "code",
   "execution_count": 15,
   "metadata": {
    "colab": {
     "base_uri": "https://localhost:8080/"
    },
    "executionInfo": {
     "elapsed": 16,
     "status": "ok",
     "timestamp": 1708405935842,
     "user": {
      "displayName": "Henry Si",
      "userId": "17719448117276295977"
     },
     "user_tz": -480
    },
    "id": "LXlWaexYnmEZ",
    "outputId": "d91ab418-e5df-4a6a-8356-8ea8859ebd7b"
   },
   "outputs": [
    {
     "name": "stdout",
     "output_type": "stream",
     "text": [
      "Class names: {0: 'Aceh', 1: 'Bali', 2: 'Betawi', 3: 'Ciamis', 4: 'Cirebon', 5: 'Garut', 6: 'Kalimantan_Dayak', 7: 'Kalimantan_Pontianak', 8: 'Kulon Progo_Geblek Renteng', 9: 'Madura', 10: 'Maluku_Pala Cengkeh', 11: 'Papua_Cendrawasih', 12: 'Pati', 13: 'Pekalongan', 14: 'Solo_Sidoluhur', 15: 'Solo_Sogan', 16: 'Tasikmalaya_Priyangan', 17: 'Yogyakarta_Kawung', 18: 'Yogyakarta_Sekar Jagad', 19: 'Yogyakarta_Tambal'}\n"
     ]
    }
   ],
   "source": [
    "class_indices = test_generator.class_indices\n",
    "y_test_class_names = {v: k for k, v in class_indices.items()}\n",
    "print(\"Class names:\", y_test_class_names)"
   ]
  },
  {
   "cell_type": "code",
   "execution_count": 16,
   "metadata": {
    "colab": {
     "base_uri": "https://localhost:8080/"
    },
    "executionInfo": {
     "elapsed": 448,
     "status": "ok",
     "timestamp": 1708405946072,
     "user": {
      "displayName": "Henry Si",
      "userId": "17719448117276295977"
     },
     "user_tz": -480
    },
    "id": "2iiywvb8ZzS9",
    "outputId": "846169a4-4632-408f-96a8-2f1750afe0a6"
   },
   "outputs": [
    {
     "name": "stdout",
     "output_type": "stream",
     "text": [
      "['Aceh', 'Bali', 'Betawi', 'Ciamis', 'Cirebon', 'Garut', 'Kalimantan_Dayak', 'Kalimantan_Pontianak', 'Kulon Progo_Geblek Renteng', 'Madura', 'Maluku_Pala Cengkeh', 'Papua_Cendrawasih', 'Pati', 'Pekalongan', 'Solo_Sidoluhur', 'Solo_Sogan', 'Tasikmalaya_Priyangan', 'Yogyakarta_Kawung', 'Yogyakarta_Sekar Jagad', 'Yogyakarta_Tambal']\n"
     ]
    }
   ],
   "source": [
    "num_classes = len(class_indices)\n",
    "y_test_labels = [y_test_class_names[i] for i in range(num_classes)]\n",
    "print(y_train_labels)"
   ]
  },
  {
   "cell_type": "code",
   "execution_count": 17,
   "metadata": {
    "colab": {
     "base_uri": "https://localhost:8080/"
    },
    "executionInfo": {
     "elapsed": 3658,
     "status": "ok",
     "timestamp": 1708405973174,
     "user": {
      "displayName": "Henry Si",
      "userId": "17719448117276295977"
     },
     "user_tz": -480
    },
    "id": "GVeouqNmYT39",
    "outputId": "5600d901-c283-40e8-ad18-1c0f56eac63b"
   },
   "outputs": [
    {
     "name": "stdout",
     "output_type": "stream",
     "text": [
      "x_test shape: (1568, 224, 224, 3)\n",
      "y_test shape: (1568, 20)\n"
     ]
    }
   ],
   "source": [
    "x_test_all = []\n",
    "y_test_all = []\n",
    "# print(test_num_images)\n",
    "# print(test_num_images // BATCH_SIZE + 1)\n",
    "\n",
    "# TO TEST: Calculate the total number of images in the test dataset as alternative\n",
    "# total_test_samples = len(test_generator.filenames)\n",
    "# print(total_test_samples)\n",
    "\n",
    "# Looping CAREFUL WITH + 1, either using total_test_samples or test_num_images, same issue\n",
    "# for _ in range(total_test_samples // BATCH_SIZE ):\n",
    "# for _ in range(test_num_images // BATCH_SIZE + 1):\n",
    "for _ in range(test_num_images // BATCH_SIZE):\n",
    "    x_test_batch, y_test_batch = next(test_generator)\n",
    "    x_test_all.append(x_test_batch)\n",
    "    y_test_all.append(y_test_batch)\n",
    "\n",
    "# Concatenate\n",
    "x_test = np.concatenate(x_test_all, axis=0)\n",
    "y_test = np.concatenate(y_test_all, axis=0)\n",
    "\n",
    "# Display the shapes of x and y_train\n",
    "print(\"x_test shape:\", x_test.shape)\n",
    "print(\"y_test shape:\", y_test.shape)"
   ]
  },
  {
   "cell_type": "code",
   "execution_count": 18,
   "metadata": {
    "colab": {
     "base_uri": "https://localhost:8080/"
    },
    "executionInfo": {
     "elapsed": 495,
     "status": "ok",
     "timestamp": 1708404921206,
     "user": {
      "displayName": "Henry Si",
      "userId": "17719448117276295977"
     },
     "user_tz": -480
    },
    "id": "j_hch-gltKPY",
    "outputId": "339a5833-8284-4a2a-f165-d69ccd13f376"
   },
   "outputs": [
    {
     "name": "stdout",
     "output_type": "stream",
     "text": [
      "images = 1568 \t| width = 224 \t| height = 224 \t| channels = 3 \t\n"
     ]
    }
   ],
   "source": [
    "no_images, x, y, c = x_test.shape\n",
    "print(f\"images = {no_images} \\t| width = {x} \\t| height = {y} \\t| channels = {c} \\t\")"
   ]
  },
  {
   "cell_type": "markdown",
   "metadata": {
    "id": "Q_SNT3_L0NyC"
   },
   "source": [
    "## View Image"
   ]
  },
  {
   "cell_type": "code",
   "execution_count": null,
   "metadata": {
    "colab": {
     "base_uri": "https://localhost:8080/",
     "height": 241
    },
    "executionInfo": {
     "elapsed": 770,
     "status": "ok",
     "timestamp": 1708344885503,
     "user": {
      "displayName": "Henry Si",
      "userId": "17719448117276295977"
     },
     "user_tz": -480
    },
    "id": "eNZheNMh3ch9",
    "outputId": "d89b7aad-6271-4d83-e4b2-2c101a2f6590"
   },
   "outputs": [],
   "source": [
    "pic = array_to_img(x_train[7])\n",
    "display(pic)"
   ]
  },
  {
   "cell_type": "code",
   "execution_count": null,
   "metadata": {
    "colab": {
     "base_uri": "https://localhost:8080/",
     "height": 35
    },
    "executionInfo": {
     "elapsed": 426,
     "status": "ok",
     "timestamp": 1708344890306,
     "user": {
      "displayName": "Henry Si",
      "userId": "17719448117276295977"
     },
     "user_tz": -480
    },
    "id": "Sa08UwRl1rV4",
    "outputId": "12a28c77-1b38-4698-b8a4-7ea12d29040a"
   },
   "outputs": [],
   "source": [
    "# LABEL_NAMES[y_train[7]]  # used only if only non scalar index\n",
    "LABEL_NAMES[np.argmax(y_train[7])]"
   ]
  },
  {
   "cell_type": "code",
   "execution_count": null,
   "metadata": {
    "colab": {
     "base_uri": "https://localhost:8080/",
     "height": 241
    },
    "executionInfo": {
     "elapsed": 28,
     "status": "ok",
     "timestamp": 1708344917242,
     "user": {
      "displayName": "Henry Si",
      "userId": "17719448117276295977"
     },
     "user_tz": -480
    },
    "id": "RS5PPZ5k1lxj",
    "outputId": "64632756-2d4d-4f2b-c152-760f1f6cec71"
   },
   "outputs": [],
   "source": [
    "pic = array_to_img(x_val[27])\n",
    "display(pic)"
   ]
  },
  {
   "cell_type": "code",
   "execution_count": null,
   "metadata": {
    "colab": {
     "base_uri": "https://localhost:8080/",
     "height": 35
    },
    "executionInfo": {
     "elapsed": 450,
     "status": "ok",
     "timestamp": 1708344920905,
     "user": {
      "displayName": "Henry Si",
      "userId": "17719448117276295977"
     },
     "user_tz": -480
    },
    "id": "unT1esGFDJii",
    "outputId": "216ac3c5-8cef-4886-b544-665336d6cdd3"
   },
   "outputs": [],
   "source": [
    "# LABEL_NAMES[y_val[27]]\n",
    "LABEL_NAMES[np.argmax(y_val[27])]"
   ]
  },
  {
   "cell_type": "code",
   "execution_count": null,
   "metadata": {
    "colab": {
     "base_uri": "https://localhost:8080/",
     "height": 241
    },
    "executionInfo": {
     "elapsed": 897,
     "status": "ok",
     "timestamp": 1708344925551,
     "user": {
      "displayName": "Henry Si",
      "userId": "17719448117276295977"
     },
     "user_tz": -480
    },
    "id": "EHZ5U2EHMG9n",
    "outputId": "948eae0b-1370-40af-a5a7-3ff2f4584778"
   },
   "outputs": [],
   "source": [
    "pic = array_to_img(x_test[99])\n",
    "display(pic)"
   ]
  },
  {
   "cell_type": "code",
   "execution_count": null,
   "metadata": {
    "colab": {
     "base_uri": "https://localhost:8080/",
     "height": 35
    },
    "executionInfo": {
     "elapsed": 22,
     "status": "ok",
     "timestamp": 1708344928269,
     "user": {
      "displayName": "Henry Si",
      "userId": "17719448117276295977"
     },
     "user_tz": -480
    },
    "id": "m8KaUyUfcgVX",
    "outputId": "b3403470-4238-492a-b600-464da6430cd3"
   },
   "outputs": [],
   "source": [
    "# LABEL_NAMES[y_test[99]]\n",
    "LABEL_NAMES[np.argmax(y_test[99])]"
   ]
  },
  {
   "cell_type": "markdown",
   "metadata": {},
   "source": [
    "## Preprocessing MUST BE RUN for transfer learning"
   ]
  },
  {
   "cell_type": "code",
   "execution_count": 19,
   "metadata": {},
   "outputs": [],
   "source": [
    "x_train_preprocessed = preprocess_input(x_train)"
   ]
  },
  {
   "cell_type": "code",
   "execution_count": 20,
   "metadata": {},
   "outputs": [
    {
     "name": "stdout",
     "output_type": "stream",
     "text": [
      "x_train shape (preprocessed): (12817, 224, 224, 3)\n",
      "y_train shape: (12817, 20)\n"
     ]
    }
   ],
   "source": [
    "print(\"x_train shape (preprocessed):\", x_train_preprocessed.shape)\n",
    "print(\"y_train shape:\", y_train.shape)"
   ]
  },
  {
   "cell_type": "code",
   "execution_count": 21,
   "metadata": {},
   "outputs": [
    {
     "name": "stdout",
     "output_type": "stream",
     "text": [
      "x_val shape (preprocessed): (1266, 224, 224, 3)\n",
      "y_val shape: (1266, 20)\n"
     ]
    }
   ],
   "source": [
    "x_val_preprocessed = preprocess_input(x_val)\n",
    "print(\"x_val shape (preprocessed):\", x_val_preprocessed.shape)\n",
    "print(\"y_val shape:\", y_val.shape)"
   ]
  },
  {
   "cell_type": "code",
   "execution_count": 22,
   "metadata": {},
   "outputs": [
    {
     "name": "stdout",
     "output_type": "stream",
     "text": [
      "x_test shape (preprocessed): (1568, 224, 224, 3)\n",
      "y_test shape: (1568, 20)\n"
     ]
    }
   ],
   "source": [
    "x_test_preprocessed = preprocess_input(x_test)\n",
    "print(\"x_test shape (preprocessed):\", x_test_preprocessed.shape)\n",
    "print(\"y_test shape:\", y_test.shape)"
   ]
  },
  {
   "cell_type": "markdown",
   "metadata": {
    "id": "CPhtaKaUM5zm"
   },
   "source": [
    "# Normalization"
   ]
  },
  {
   "cell_type": "code",
   "execution_count": 23,
   "metadata": {
    "executionInfo": {
     "elapsed": 6394,
     "status": "ok",
     "timestamp": 1708406207657,
     "user": {
      "displayName": "Henry Si",
      "userId": "17719448117276295977"
     },
     "user_tz": -480
    },
    "id": "z1j5xrosNKXi"
   },
   "outputs": [],
   "source": [
    "x_train_normalized, x_validation_normalized, x_test_normalized = x_train_preprocessed / 255.0, x_val_preprocessed /255.0, x_test_preprocessed / 255.0"
   ]
  },
  {
   "cell_type": "markdown",
   "metadata": {
    "id": "rDejxR78TdtR"
   },
   "source": [
    "# Modelling - Using VGG16 Architecture"
   ]
  },
  {
   "cell_type": "code",
   "execution_count": 24,
   "metadata": {},
   "outputs": [
    {
     "name": "stdout",
     "output_type": "stream",
     "text": [
      "Model: \"vgg16\"\n",
      "_________________________________________________________________\n",
      " Layer (type)                Output Shape              Param #   \n",
      "=================================================================\n",
      " input_1 (InputLayer)        [(None, 224, 224, 3)]     0         \n",
      "                                                                 \n",
      " block1_conv1 (Conv2D)       (None, 224, 224, 64)      1792      \n",
      "                                                                 \n",
      " block1_conv2 (Conv2D)       (None, 224, 224, 64)      36928     \n",
      "                                                                 \n",
      " block1_pool (MaxPooling2D)  (None, 112, 112, 64)      0         \n",
      "                                                                 \n",
      " block2_conv1 (Conv2D)       (None, 112, 112, 128)     73856     \n",
      "                                                                 \n",
      " block2_conv2 (Conv2D)       (None, 112, 112, 128)     147584    \n",
      "                                                                 \n",
      " block2_pool (MaxPooling2D)  (None, 56, 56, 128)       0         \n",
      "                                                                 \n",
      " block3_conv1 (Conv2D)       (None, 56, 56, 256)       295168    \n",
      "                                                                 \n",
      " block3_conv2 (Conv2D)       (None, 56, 56, 256)       590080    \n",
      "                                                                 \n",
      " block3_conv3 (Conv2D)       (None, 56, 56, 256)       590080    \n",
      "                                                                 \n",
      " block3_pool (MaxPooling2D)  (None, 28, 28, 256)       0         \n",
      "                                                                 \n",
      " block4_conv1 (Conv2D)       (None, 28, 28, 512)       1180160   \n",
      "                                                                 \n",
      " block4_conv2 (Conv2D)       (None, 28, 28, 512)       2359808   \n",
      "                                                                 \n",
      " block4_conv3 (Conv2D)       (None, 28, 28, 512)       2359808   \n",
      "                                                                 \n",
      " block4_pool (MaxPooling2D)  (None, 14, 14, 512)       0         \n",
      "                                                                 \n",
      " block5_conv1 (Conv2D)       (None, 14, 14, 512)       2359808   \n",
      "                                                                 \n",
      " block5_conv2 (Conv2D)       (None, 14, 14, 512)       2359808   \n",
      "                                                                 \n",
      " block5_conv3 (Conv2D)       (None, 14, 14, 512)       2359808   \n",
      "                                                                 \n",
      " block5_pool (MaxPooling2D)  (None, 7, 7, 512)         0         \n",
      "                                                                 \n",
      "=================================================================\n",
      "Total params: 14714688 (56.13 MB)\n",
      "Trainable params: 14714688 (56.13 MB)\n",
      "Non-trainable params: 0 (0.00 Byte)\n",
      "_________________________________________________________________\n"
     ]
    }
   ],
   "source": [
    "tf.random.set_seed(42)\n",
    "# vgg16_model_1 = tf.keras.applications.vgg16.VGG16()\n",
    "vgg16_model_1 = tf.keras.applications.vgg16.VGG16(weights='imagenet',\n",
    "                                                include_top=False,\n",
    "                   input_shape=(IMAGE_WIDTH, IMAGE_HEIGHT, COLOR_CHANNELS))\n",
    "vgg16_model_1.summary()"
   ]
  },
  {
   "cell_type": "markdown",
   "metadata": {},
   "source": [
    "### To double check layers with summary"
   ]
  },
  {
   "cell_type": "code",
   "execution_count": 25,
   "metadata": {},
   "outputs": [
    {
     "name": "stdout",
     "output_type": "stream",
     "text": [
      "Number of layers: 19\n",
      "Total number of parameters: 14714688\n",
      "Total trainable parameters: 14714688\n",
      "Total non-trainable parameters: 0\n"
     ]
    }
   ],
   "source": [
    "total_params = vgg16_model_1.count_params()\n",
    "num_layers = len(vgg16_model_1.layers)\n",
    "print(\"Number of layers:\", num_layers)\n",
    "print(\"Total number of parameters:\", total_params)\n",
    "\n",
    "trainable_params = sum([tf.keras.backend.count_params(p) for p in vgg16_model_1.trainable_weights])\n",
    "non_trainable_params = sum([tf.keras.backend.count_params(p) for p in vgg16_model_1.non_trainable_weights])\n",
    "\n",
    "print(\"Total trainable parameters:\", trainable_params)\n",
    "print(\"Total non-trainable parameters:\", non_trainable_params)"
   ]
  },
  {
   "cell_type": "markdown",
   "metadata": {},
   "source": [
    "## Self-Defined VGG16"
   ]
  },
  {
   "cell_type": "markdown",
   "metadata": {},
   "source": [
    "#### To instruct: loaded layers for not trainable (non-trainable) BUT all weights are intact"
   ]
  },
  {
   "cell_type": "code",
   "execution_count": 26,
   "metadata": {},
   "outputs": [],
   "source": [
    "# All layers in here not to be updated during training (those layers will be false (exlcuded))\n",
    "for layer in vgg16_model_1.layers:\n",
    "    layer.trainable = False"
   ]
  },
  {
   "cell_type": "markdown",
   "metadata": {},
   "source": [
    "#### Manual"
   ]
  },
  {
   "cell_type": "markdown",
   "metadata": {},
   "source": [
    "#### Flatten the output of the VGG16 model, additional self-defined structure"
   ]
  },
  {
   "cell_type": "code",
   "execution_count": 27,
   "metadata": {},
   "outputs": [
    {
     "name": "stdout",
     "output_type": "stream",
     "text": [
      "Model: \"model\"\n",
      "_________________________________________________________________\n",
      " Layer (type)                Output Shape              Param #   \n",
      "=================================================================\n",
      " input_1 (InputLayer)        [(None, 224, 224, 3)]     0         \n",
      "                                                                 \n",
      " block1_conv1 (Conv2D)       (None, 224, 224, 64)      1792      \n",
      "                                                                 \n",
      " block1_conv2 (Conv2D)       (None, 224, 224, 64)      36928     \n",
      "                                                                 \n",
      " block1_pool (MaxPooling2D)  (None, 112, 112, 64)      0         \n",
      "                                                                 \n",
      " block2_conv1 (Conv2D)       (None, 112, 112, 128)     73856     \n",
      "                                                                 \n",
      " block2_conv2 (Conv2D)       (None, 112, 112, 128)     147584    \n",
      "                                                                 \n",
      " block2_pool (MaxPooling2D)  (None, 56, 56, 128)       0         \n",
      "                                                                 \n",
      " block3_conv1 (Conv2D)       (None, 56, 56, 256)       295168    \n",
      "                                                                 \n",
      " block3_conv2 (Conv2D)       (None, 56, 56, 256)       590080    \n",
      "                                                                 \n",
      " block3_conv3 (Conv2D)       (None, 56, 56, 256)       590080    \n",
      "                                                                 \n",
      " block3_pool (MaxPooling2D)  (None, 28, 28, 256)       0         \n",
      "                                                                 \n",
      " block4_conv1 (Conv2D)       (None, 28, 28, 512)       1180160   \n",
      "                                                                 \n",
      " block4_conv2 (Conv2D)       (None, 28, 28, 512)       2359808   \n",
      "                                                                 \n",
      " block4_conv3 (Conv2D)       (None, 28, 28, 512)       2359808   \n",
      "                                                                 \n",
      " block4_pool (MaxPooling2D)  (None, 14, 14, 512)       0         \n",
      "                                                                 \n",
      " block5_conv1 (Conv2D)       (None, 14, 14, 512)       2359808   \n",
      "                                                                 \n",
      " block5_conv2 (Conv2D)       (None, 14, 14, 512)       2359808   \n",
      "                                                                 \n",
      " block5_conv3 (Conv2D)       (None, 14, 14, 512)       2359808   \n",
      "                                                                 \n",
      " block5_pool (MaxPooling2D)  (None, 7, 7, 512)         0         \n",
      "                                                                 \n",
      " global_average_pooling2d (  (None, 512)               0         \n",
      " GlobalAveragePooling2D)                                         \n",
      "                                                                 \n",
      " dense (Dense)               (None, 1024)              525312    \n",
      "                                                                 \n",
      " dropout (Dropout)           (None, 1024)              0         \n",
      "                                                                 \n",
      " dense_1 (Dense)             (None, 20)                20500     \n",
      "                                                                 \n",
      "=================================================================\n",
      "Total params: 15260500 (58.21 MB)\n",
      "Trainable params: 545812 (2.08 MB)\n",
      "Non-trainable params: 14714688 (56.13 MB)\n",
      "_________________________________________________________________\n"
     ]
    }
   ],
   "source": [
    "# Define input layer\n",
    "inputs = vgg16_model_1.input\n",
    "\n",
    "# Output of the pre-trained VGG16 model (exclude the last x layers: None)\n",
    "x = vgg16_model_1.output\n",
    "\n",
    "# x = Flatten(name='flatten')(x)\n",
    "\n",
    "x = GlobalAveragePooling2D()(x)\n",
    "x = Dense(1024, activation='relu')(x)\n",
    "x = Dropout(0.3)(x)\n",
    "\n",
    "# Add the output layer with softmax activation for classification\n",
    "outputs = tf.keras.layers.Dense(20, activation='softmax')(x)\n",
    "\n",
    "# Define the model with inputs and outputs\n",
    "model_1_0 = tf.keras.Model(inputs=inputs, outputs=outputs)\n",
    "\n",
    "model_1_0.summary()"
   ]
  },
  {
   "cell_type": "code",
   "execution_count": 28,
   "metadata": {},
   "outputs": [
    {
     "name": "stdout",
     "output_type": "stream",
     "text": [
      "Number of layers: 23\n",
      "Total number of parameters: 15260500\n",
      "Total trainable parameters: 545812\n",
      "Total non-trainable parameters: 14714688\n"
     ]
    }
   ],
   "source": [
    "total_params = model_1_0.count_params()\n",
    "num_layers = len(model_1_0.layers)\n",
    "print(\"Number of layers:\", num_layers)\n",
    "print(\"Total number of parameters:\", total_params)\n",
    "\n",
    "trainable_params = sum([tf.keras.backend.count_params(p) for p in model_1_0.trainable_weights])\n",
    "non_trainable_params = sum([tf.keras.backend.count_params(p) for p in model_1_0.non_trainable_weights])\n",
    "\n",
    "print(\"Total trainable parameters:\", trainable_params)\n",
    "print(\"Total non-trainable parameters:\", non_trainable_params)"
   ]
  },
  {
   "cell_type": "code",
   "execution_count": 29,
   "metadata": {},
   "outputs": [],
   "source": [
    "visualkeras.layered_view(model_1_0, legend=True, to_file='vgg_undersampling_architecture.png').show()"
   ]
  },
  {
   "cell_type": "code",
   "execution_count": 30,
   "metadata": {},
   "outputs": [],
   "source": [
    "# Initialize counters for different types of layers\n",
    "num_conv_layers = 0\n",
    "num_pooling_layers = 0\n",
    "num_fc_layers = 0\n",
    "num_padding_layers = 0\n",
    "num_batch_norm_layers = 0\n",
    "num_activation_layers = 0\n",
    "num_input_layers = 0\n",
    "num_dropout_layers = 0\n",
    "num_reshape_layers = 0\n",
    "num_flatten_layers = 0\n",
    "num_permute_layers = 0\n",
    "num_concat_layers = 0\n",
    "num_add_layers = 0\n",
    "num_average_layers = 0\n",
    "num_multiply_layers = 0\n",
    "num_relu_layers = 0"
   ]
  },
  {
   "cell_type": "code",
   "execution_count": 31,
   "metadata": {},
   "outputs": [],
   "source": [
    "# Dictionary to count different types of pooling layers\n",
    "pooling_layers_count = {\n",
    "    'MaxPooling2D': 0,\n",
    "    'AveragePooling2D': 0,\n",
    "    'GlobalMaxPooling2D': 0,\n",
    "    'GlobalAveragePooling2D': 0\n",
    "}"
   ]
  },
  {
   "cell_type": "code",
   "execution_count": 32,
   "metadata": {},
   "outputs": [],
   "source": [
    "# Iterate through the layers and count the types\n",
    "for layer in model_1_0.layers:  # Note the change here to iterate through model_7_1 layers\n",
    "    if isinstance(layer, tf.keras.layers.InputLayer):\n",
    "        num_input_layers += 1\n",
    "    elif isinstance(layer, tf.keras.layers.Conv2D):\n",
    "        num_conv_layers += 1\n",
    "    elif isinstance(layer, tf.keras.layers.MaxPooling2D):\n",
    "        num_pooling_layers += 1\n",
    "        pooling_layers_count['MaxPooling2D'] += 1\n",
    "    elif isinstance(layer, tf.keras.layers.AveragePooling2D):\n",
    "        num_pooling_layers += 1\n",
    "        pooling_layers_count['AveragePooling2D'] += 1\n",
    "    elif isinstance(layer, tf.keras.layers.GlobalMaxPooling2D):\n",
    "        num_pooling_layers += 1\n",
    "        pooling_layers_count['GlobalMaxPooling2D'] += 1\n",
    "    elif isinstance(layer, tf.keras.layers.GlobalAveragePooling2D):\n",
    "        num_pooling_layers += 1\n",
    "        pooling_layers_count['GlobalAveragePooling2D'] += 1\n",
    "    elif isinstance(layer, tf.keras.layers.Dense):\n",
    "        num_fc_layers += 1\n",
    "    elif isinstance(layer, tf.keras.layers.ZeroPadding2D):\n",
    "        num_padding_layers += 1\n",
    "    elif isinstance(layer, tf.keras.layers.BatchNormalization):\n",
    "        num_batch_norm_layers += 1\n",
    "    elif isinstance(layer, tf.keras.layers.Activation):\n",
    "        num_activation_layers += 1\n",
    "    elif isinstance(layer, tf.keras.layers.Dropout):\n",
    "        num_dropout_layers += 1\n",
    "    elif isinstance(layer, tf.keras.layers.Reshape):\n",
    "        num_reshape_layers += 1\n",
    "    elif isinstance(layer, tf.keras.layers.Flatten):\n",
    "        num_flatten_layers += 1\n",
    "    elif isinstance(layer, tf.keras.layers.Permute):\n",
    "        num_permute_layers += 1\n",
    "    elif isinstance(layer, tf.keras.layers.Concatenate):\n",
    "        num_concat_layers += 1\n",
    "    elif isinstance(layer, tf.keras.layers.Add):\n",
    "        num_add_layers += 1\n",
    "    elif isinstance(layer, tf.keras.layers.Average):\n",
    "        num_average_layers += 1\n",
    "    elif isinstance(layer, tf.keras.layers.Multiply):\n",
    "        num_multiply_layers += 1\n",
    "    elif isinstance(layer, tf.keras.layers.ReLU):\n",
    "        num_relu_layers += 1"
   ]
  },
  {
   "cell_type": "code",
   "execution_count": 33,
   "metadata": {},
   "outputs": [],
   "source": [
    "# Count the total number of layers and parameters\n",
    "total_params = model_1_0.count_params()\n",
    "num_layers = len(model_1_0.layers)\n",
    "trainable_params = sum([tf.keras.backend.count_params(p) for p in model_1_0.trainable_weights])\n",
    "non_trainable_params = sum([tf.keras.backend.count_params(p) for p in model_1_0.non_trainable_weights])"
   ]
  },
  {
   "cell_type": "code",
   "execution_count": 34,
   "metadata": {},
   "outputs": [
    {
     "name": "stdout",
     "output_type": "stream",
     "text": [
      "Total number of parameters: 15260500\n",
      "Total trainable parameters: 545812\n",
      "Total non-trainable parameters: 14714688\n",
      "\n",
      "Number of convolutional layers: 13\n",
      "Number of pooling layers: 6\n",
      "Number of MaxPooling2D layers: 5\n",
      "Number of AveragePooling2D layers: 0\n",
      "Number of GlobalMaxPooling2D layers: 0\n",
      "Number of GlobalAveragePooling2D layers: 1\n",
      "Number of fully connected (Dense) layers: 2\n",
      "Number of padding layers: 0\n",
      "Number of batch normalization layers: 0\n",
      "Number of activation layers: 0\n",
      "Number of input layers: 1\n",
      "Number of dropout layers: 1\n",
      "Number of reshape layers: 0\n",
      "Number of flatten layers: 0\n",
      "Number of permute layers: 0\n",
      "Number of concatenate layers: 0\n",
      "Number of add layers: 0\n",
      "Number of average layers: 0\n",
      "Number of multiply layers: 0\n",
      "Number of ReLU layers: 0\n",
      "Number of layers: 23\n"
     ]
    }
   ],
   "source": [
    "# Print the counts\n",
    "print(\"Total number of parameters:\", total_params)\n",
    "print(\"Total trainable parameters:\", trainable_params)\n",
    "print(\"Total non-trainable parameters:\", non_trainable_params)\n",
    "print(\"\\nNumber of convolutional layers:\", num_conv_layers)\n",
    "print(\"Number of pooling layers:\", num_pooling_layers)\n",
    "for pooling_type, count in pooling_layers_count.items():\n",
    "    print(f\"Number of {pooling_type} layers:\", count)\n",
    "print(\"Number of fully connected (Dense) layers:\", num_fc_layers)\n",
    "print(\"Number of padding layers:\", num_padding_layers)\n",
    "print(\"Number of batch normalization layers:\", num_batch_norm_layers)\n",
    "print(\"Number of activation layers:\", num_activation_layers)\n",
    "print(\"Number of input layers:\", num_input_layers)\n",
    "print(\"Number of dropout layers:\", num_dropout_layers)\n",
    "print(\"Number of reshape layers:\", num_reshape_layers)\n",
    "print(\"Number of flatten layers:\", num_flatten_layers)\n",
    "print(\"Number of permute layers:\", num_permute_layers)\n",
    "print(\"Number of concatenate layers:\", num_concat_layers)\n",
    "print(\"Number of add layers:\", num_add_layers)\n",
    "print(\"Number of average layers:\", num_average_layers)\n",
    "print(\"Number of multiply layers:\", num_multiply_layers)\n",
    "print(\"Number of ReLU layers:\", num_relu_layers)\n",
    "print(\"Number of layers:\", num_layers)"
   ]
  },
  {
   "cell_type": "markdown",
   "metadata": {
    "id": "2-iU7OrZmt8C"
   },
   "source": [
    "# Compile"
   ]
  },
  {
   "cell_type": "code",
   "execution_count": 35,
   "metadata": {
    "executionInfo": {
     "elapsed": 16,
     "status": "ok",
     "timestamp": 1708405522159,
     "user": {
      "displayName": "Henry Si",
      "userId": "17719448117276295977"
     },
     "user_tz": -480
    },
    "id": "IYaeIWfcUFlf"
   },
   "outputs": [],
   "source": [
    "# optimizer = tf.keras.optimizers.Adam(learning_rate=0.0001)\n",
    "# # optimizer = tf.keras.optimizers.RMSprop(learning_rate=0.001)  # Testing Optimizer Adjust the learning rate \n",
    "# model_1_0.compile(optimizer =optimizer,\n",
    "#               loss = 'categorical_crossentropy',\n",
    "#               metrics = ['accuracy'])\n",
    "\n",
    "model_1_0.compile(optimizer = 'Adam',\n",
    "              loss = 'categorical_crossentropy',\n",
    "              metrics = ['accuracy'])"
   ]
  },
  {
   "cell_type": "markdown",
   "metadata": {
    "id": "iZt37Kz9Lv4g"
   },
   "source": [
    "# 1st Training"
   ]
  },
  {
   "cell_type": "markdown",
   "metadata": {},
   "source": [
    "# Fit Model"
   ]
  },
  {
   "cell_type": "markdown",
   "metadata": {},
   "source": [
    "## Add new folder first inside the google COLAB like `saved_models`"
   ]
  },
  {
   "cell_type": "markdown",
   "metadata": {},
   "source": [
    "### Using Logging Method and passed into callback"
   ]
  },
  {
   "cell_type": "code",
   "execution_count": 36,
   "metadata": {},
   "outputs": [],
   "source": [
    "class SaveHistoryCallback(Callback):\n",
    "    # def __init__(self, model_name):  # with model_name\n",
    "    def __init__(self):    # without model_name\n",
    "        super(SaveHistoryCallback, self).__init__()\n",
    "        self.base_path = '/Users/merchika/chikaData/TA/assets/new_json'  # Define the base path here - JNB\n",
    "        # self.base_path = '/content/saved_models/'  # Define the base path here - COLAB\n",
    "        # self.model_name = aug_cnn_model1  # Could be omitted if not needed\n",
    "\n",
    "    def on_epoch_end(self, epoch, logs=None):\n",
    "        if logs is None:\n",
    "            logs = {}\n",
    "        # file_path = os.path.join(self.base_path, f'{self.model_name}_history.json')  # if using model name\n",
    "        file_path = os.path.join(self.base_path, 'NEW_UNDERSAMPLING_VGG16_model_2.json')\n",
    "        with open(file_path, 'a') as file:\n",
    "            json.dump(logs, file)\n",
    "            file.write('\\n')"
   ]
  },
  {
   "cell_type": "code",
   "execution_count": 37,
   "metadata": {},
   "outputs": [
    {
     "name": "stdout",
     "output_type": "stream",
     "text": [
      "Epoch 1/20\n",
      "401/401 [==============================] - ETA: 0s - loss: 1.8588 - accuracy: 0.4427 "
     ]
    },
    {
     "name": "stderr",
     "output_type": "stream",
     "text": [
      "/Users/merchika/anaconda3/envs/bachelorThesis/lib/python3.10/site-packages/keras/src/engine/training.py:3103: UserWarning: You are saving your model as an HDF5 file via `model.save()`. This file format is considered legacy. We recommend using instead the native Keras format, e.g. `model.save('my_model.keras')`.\n",
      "  saving_api.save_model(\n"
     ]
    },
    {
     "name": "stdout",
     "output_type": "stream",
     "text": [
      "401/401 [==============================] - 5554s 14s/step - loss: 1.8588 - accuracy: 0.4427 - val_loss: 1.4639 - val_accuracy: 0.5632\n",
      "Epoch 2/20\n",
      "401/401 [==============================] - 4996s 12s/step - loss: 1.2884 - accuracy: 0.6066 - val_loss: 1.2253 - val_accuracy: 0.6256\n",
      "Epoch 3/20\n",
      "401/401 [==============================] - 4975s 12s/step - loss: 1.0226 - accuracy: 0.6829 - val_loss: 1.0804 - val_accuracy: 0.6793\n",
      "Epoch 4/20\n",
      "401/401 [==============================] - 4967s 12s/step - loss: 0.8517 - accuracy: 0.7435 - val_loss: 0.9571 - val_accuracy: 0.7133\n",
      "Epoch 5/20\n",
      "401/401 [==============================] - 4950s 12s/step - loss: 0.7188 - accuracy: 0.7821 - val_loss: 0.9493 - val_accuracy: 0.7204\n",
      "Epoch 6/20\n",
      "401/401 [==============================] - 5002s 12s/step - loss: 0.6261 - accuracy: 0.8087 - val_loss: 0.8806 - val_accuracy: 0.7306\n",
      "Epoch 7/20\n",
      "401/401 [==============================] - 5091s 13s/step - loss: 0.5505 - accuracy: 0.8318 - val_loss: 0.8417 - val_accuracy: 0.7607\n",
      "Epoch 8/20\n",
      "401/401 [==============================] - 5193s 13s/step - loss: 0.4896 - accuracy: 0.8508 - val_loss: 0.7990 - val_accuracy: 0.7638\n",
      "Epoch 9/20\n",
      "401/401 [==============================] - 10465s 26s/step - loss: 0.4399 - accuracy: 0.8638 - val_loss: 0.7872 - val_accuracy: 0.7694\n",
      "Epoch 10/20\n",
      "401/401 [==============================] - 12295s 31s/step - loss: 0.3934 - accuracy: 0.8802 - val_loss: 0.7695 - val_accuracy: 0.7836\n",
      "Epoch 11/20\n",
      "401/401 [==============================] - 5130s 13s/step - loss: 0.3615 - accuracy: 0.8902 - val_loss: 0.7388 - val_accuracy: 0.7954\n",
      "Epoch 12/20\n",
      "401/401 [==============================] - 5140s 13s/step - loss: 0.3301 - accuracy: 0.8997 - val_loss: 0.6951 - val_accuracy: 0.8041\n",
      "Epoch 13/20\n",
      "401/401 [==============================] - 5075s 13s/step - loss: 0.3020 - accuracy: 0.9089 - val_loss: 0.7064 - val_accuracy: 0.8152\n",
      "Epoch 14/20\n",
      "401/401 [==============================] - 5028s 13s/step - loss: 0.2789 - accuracy: 0.9143 - val_loss: 0.7072 - val_accuracy: 0.8207\n",
      "Epoch 15/20\n",
      "401/401 [==============================] - 5001s 12s/step - loss: 0.2513 - accuracy: 0.9231 - val_loss: 0.7297 - val_accuracy: 0.8112\n",
      "Epoch 16/20\n",
      "401/401 [==============================] - 4988s 12s/step - loss: 0.2346 - accuracy: 0.9284 - val_loss: 0.6623 - val_accuracy: 0.8286\n",
      "Epoch 17/20\n",
      "401/401 [==============================] - 4987s 12s/step - loss: 0.2196 - accuracy: 0.9321 - val_loss: 0.6808 - val_accuracy: 0.8246\n",
      "Epoch 18/20\n",
      "401/401 [==============================] - 4986s 12s/step - loss: 0.2095 - accuracy: 0.9339 - val_loss: 0.7033 - val_accuracy: 0.8262\n",
      "Epoch 19/20\n",
      "401/401 [==============================] - 4971s 12s/step - loss: 0.1935 - accuracy: 0.9400 - val_loss: 0.6885 - val_accuracy: 0.8239\n",
      "Epoch 20/20\n",
      "401/401 [==============================] - 4960s 12s/step - loss: 0.1899 - accuracy: 0.9423 - val_loss: 0.6703 - val_accuracy: 0.8381\n",
      "Epoch 20: early stopping\n",
      "CPU times: user 4d 1h 20min 35s, sys: 4h 14min, total: 4d 5h 34min 36s\n",
      "Wall time: 1d 7h 37min 27s\n"
     ]
    }
   ],
   "source": [
    "%%time\n",
    "EPOCHS = 20\n",
    "\n",
    "# Define the path to save the model\n",
    "# filepath = '/content/saved_models/hist4_aug_model.h5'\n",
    "# filepath='/Users/hendrysi/Data_w/Dev/py/machine_learning/batik/hist1_w_improvement_{epoch:02d}_{val_accuracy:.2f}.hdf5'\n",
    "\n",
    "filepath='/Users/merchika/chikaData/TA/assets/new_models/NEW_UNDERSAMPLING_VGG16_model_2.h5'\n",
    "\n",
    "checkpoint_callback = ModelCheckpoint(filepath, monitor='val_accuracy', verbose=0, save_best_only=True, mode='max')\n",
    "# checkpoint_callback = ModelCheckpoint(filepath, save_best_only=True)\n",
    "                                      \n",
    "# Define EarlyStop\n",
    "# early_stop = EarlyStopping(monitor='val_loss', patience=8, verbose=1, restore_best_weights=True)\n",
    "early_stop = EarlyStopping(monitor='val_loss', patience=4, verbose=1)\n",
    "\n",
    "# Pass the model name when instantiating SaveHistoryCallback\n",
    "# save_history_callback = SaveHistoryCallback(model_name='aug_cnn')\n",
    "save_history_callback = SaveHistoryCallback()\n",
    "\n",
    "# Define callbacks\n",
    "callbacks = [checkpoint_callback, early_stop, save_history_callback]\n",
    "\n",
    "# Train the model\n",
    "history1 = model_1_0.fit(x_train_normalized, y_train,\n",
    "                      batch_size=BATCH_SIZE, verbose=1,\n",
    "                      epochs=EPOCHS, callbacks=callbacks,\n",
    "                      validation_data=(x_validation_normalized, y_val))\n",
    "\n",
    "# model.save('/Users/hendrysi/Data_w/Dev/py/machine_learning/batik/hist1_aug_model.h5')\n",
    "# model.save('/content/saved_models/hist1_aug_model.h5')"
   ]
  },
  {
   "cell_type": "markdown",
   "metadata": {
    "id": "0i7CK9Pmm2KZ"
   },
   "source": [
    "## Plotting Graphs - Right After Training"
   ]
  },
  {
   "cell_type": "code",
   "execution_count": 38,
   "metadata": {
    "colab": {
     "base_uri": "https://localhost:8080/",
     "height": 927
    },
    "executionInfo": {
     "elapsed": 882,
     "status": "ok",
     "timestamp": 1707966828254,
     "user": {
      "displayName": "Henry Si",
      "userId": "17719448117276295977"
     },
     "user_tz": -480
    },
    "id": "vSAjTzuq81KW",
    "outputId": "5985cc1f-9b45-41fa-f65a-0abe771af015"
   },
   "outputs": [
    {
     "data": {
      "image/png": "[encoded data removed]",
      "text/plain": [
       "<Figure size 1200x600 with 2 Axes>"
      ]
     },
     "metadata": {},
     "output_type": "display_data"
    }
   ],
   "source": [
    "acc = history1.history['accuracy']\n",
    "val_acc = history1.history['val_accuracy']\n",
    "loss = history1.history['loss']\n",
    "val_loss = history1.history['val_loss']\n",
    "\n",
    "epochs = range(len(acc))\n",
    "\n",
    "fig, axs = plt.subplots(1, 2, figsize=(12, 6))\n",
    "\n",
    "# To plot side-by-side graph\n",
    "# Plot accuracy\n",
    "axs[0].plot(epochs, acc, 'g', label='Training accuracy')\n",
    "axs[0].plot(epochs, val_acc, 'orange', label='Validation accuracy')\n",
    "axs[0].set_title('Training and Validation Accuracy')\n",
    "axs[0].set_xlabel('Epochs')\n",
    "axs[0].set_ylabel('Accuracy')\n",
    "axs[0].legend()\n",
    "\n",
    "# Plot loss\n",
    "axs[1].plot(epochs, loss, 'g', label='Training loss')\n",
    "axs[1].plot(epochs, val_loss, 'orange', label='Validation loss')\n",
    "axs[1].set_title('Training and Validation Loss')\n",
    "axs[1].set_xlabel('Epochs')\n",
    "axs[1].set_ylabel('Loss')\n",
    "axs[1].legend()\n",
    "\n",
    "plt.tight_layout()\n",
    "plt.show()\n",
    "\n",
    "# # To plot top down graph\n",
    "# plt.plot(epochs, acc, 'b')\n",
    "# plt.plot(epochs, val_acc, 'g')\n",
    "# plt.title('Training and Validation Accuracy CNN Augmented')\n",
    "# plt.ylabel('accuracy')\n",
    "# plt.xlabel('epoch')\n",
    "# plt.legend(['train', 'val'], loc='upper left')\n",
    "# plt.show()\n",
    "\n",
    "# plt.plot(epochs, loss, 'b')\n",
    "# plt.plot(epochs, val_loss, 'r')\n",
    "# plt.ylabel('loss')\n",
    "# plt.xlabel('epoch')\n",
    "# plt.legend(['train', 'val'], loc='upper left')\n",
    "# plt.title('Training and Validation Loss CNN Augmented')\n",
    "# plt.show()"
   ]
  },
  {
   "cell_type": "markdown",
   "metadata": {},
   "source": [
    "# Re-Plotting Graph Without running fit or using saved json"
   ]
  },
  {
   "cell_type": "code",
   "execution_count": 39,
   "metadata": {},
   "outputs": [
    {
     "data": {
      "image/png": "[encoded data removed]",
      "text/plain": [
       "<Figure size 1200x600 with 2 Axes>"
      ]
     },
     "metadata": {},
     "output_type": "display_data"
    }
   ],
   "source": [
    "# Load the training history data from the JSON files\n",
    "# history_file1 = '/content/saved_models/aug_cnn_history1.json'  # COLAB\n",
    "history_file1 = '/Users/merchika/chikaData/TA/assets/new_json/NEW_UNDERSAMPLING_VGG16_model_2.json'  # Jupyter NB\n",
    "\n",
    "def load_history_data(file_path):\n",
    "    with open(file_path, 'r') as file:\n",
    "        history_data = [json.loads(line) for line in file]\n",
    "    return history_data\n",
    "\n",
    "history_data1 = load_history_data(history_file1)\n",
    "# print(history_data1)\n",
    "\n",
    "# Extract metrics data from the first training session\n",
    "acc_1 = [epoch['accuracy'] for epoch in history_data1]\n",
    "val_acc_1 = [epoch['val_accuracy'] for epoch in history_data1]\n",
    "loss_1 = [epoch['loss'] for epoch in history_data1]\n",
    "val_loss_1 = [epoch['val_loss'] for epoch in history_data1]\n",
    "epochs_1 = range(1, len(acc_1) + 1)\n",
    "\n",
    "fig, axs = plt.subplots(1, 2, figsize=(12, 6))\n",
    "\n",
    "# To plot side-by-side graph\n",
    "# Plot accuracy\n",
    "axs[0].plot(epochs_1, acc_1, 'g', label='Training accuracy')\n",
    "axs[0].plot(epochs_1, val_acc_1, 'orange', label='Validation accuracy')\n",
    "axs[0].set_title('Training and Validation Accuracy')\n",
    "axs[0].set_xlabel('Epochs')\n",
    "axs[0].set_ylabel('Accuracy')\n",
    "axs[0].legend()\n",
    "\n",
    "# Plot loss\n",
    "axs[1].plot(epochs_1, loss_1, 'g', label='Training loss')\n",
    "axs[1].plot(epochs_1, val_loss_1, 'orange', label='Validation loss')\n",
    "axs[1].set_title('Training and Validation Loss')\n",
    "axs[1].set_xlabel('Epochs')\n",
    "axs[1].set_ylabel('Loss')\n",
    "axs[1].legend()\n",
    "\n",
    "plt.tight_layout()\n",
    "save_path = '/Users/merchika/chikaData/TA/assets/image/NEW_UNDERSAMPLING_VGG16_model_2.png'\n",
    "plt.savefig(save_path)\n",
    "plt.show()\n",
    "\n",
    "# # To plot top down graph\n",
    "# # Plot accuracy\n",
    "# plt.plot(epochs_1, acc_1, 'b', label='Training accuracy')\n",
    "# plt.plot(epochs_1, val_acc_1, 'g', label='Validation accuracy')\n",
    "# plt.title('Training and Validation Accuracy')\n",
    "# plt.xlabel('Epochs')\n",
    "# plt.ylabel('Accuracy')\n",
    "# plt.legend()\n",
    "# plt.show()\n",
    "\n",
    "# # Plot loss\n",
    "# plt.plot(epochs_1, loss_1, 'b', label='Training loss')\n",
    "# plt.plot(epochs_1, val_loss_1, 'r', label='Validation loss')\n",
    "# plt.title('Training and Validation Loss')\n",
    "# plt.xlabel('Epochs')\n",
    "# plt.ylabel('Loss')\n",
    "# plt.legend()\n",
    "# plt.show()"
   ]
  },
  {
   "cell_type": "markdown",
   "metadata": {},
   "source": [
    "# Predictions"
   ]
  },
  {
   "cell_type": "code",
   "execution_count": null,
   "metadata": {
    "colab": {
     "base_uri": "https://localhost:8080/"
    },
    "executionInfo": {
     "elapsed": 324,
     "status": "ok",
     "timestamp": 1707967002480,
     "user": {
      "displayName": "Henry Si",
      "userId": "17719448117276295977"
     },
     "user_tz": -480
    },
    "id": "jzUM3hyD81ha",
    "outputId": "79199c32-81ec-469b-9f14-21ca9f312bb3"
   },
   "outputs": [],
   "source": [
    "x_validation_normalized.shape"
   ]
  },
  {
   "cell_type": "code",
   "execution_count": null,
   "metadata": {
    "colab": {
     "base_uri": "https://localhost:8080/"
    },
    "executionInfo": {
     "elapsed": 14,
     "status": "ok",
     "timestamp": 1707967041321,
     "user": {
      "displayName": "Henry Si",
      "userId": "17719448117276295977"
     },
     "user_tz": -480
    },
    "id": "xmgpu7AUxJ8l",
    "outputId": "b6381c36-0b10-446a-a981-0313a28b9a4e"
   },
   "outputs": [],
   "source": [
    "x_validation_normalized[0].shape"
   ]
  },
  {
   "cell_type": "code",
   "execution_count": null,
   "metadata": {},
   "outputs": [],
   "source": [
    "224*224*3"
   ]
  },
  {
   "cell_type": "code",
   "execution_count": null,
   "metadata": {
    "colab": {
     "base_uri": "https://localhost:8080/"
    },
    "executionInfo": {
     "elapsed": 372,
     "status": "ok",
     "timestamp": 1707967189180,
     "user": {
      "displayName": "Henry Si",
      "userId": "17719448117276295977"
     },
     "user_tz": -480
    },
    "id": "hZUVqXHN888l",
    "outputId": "af67a65c-aec5-43b9-b2b1-308250b99645"
   },
   "outputs": [],
   "source": [
    "# Checking validation accuracy\n",
    "np.set_printoptions(precision=3)\n",
    "my_test = np.expand_dims(x_validation_normalized[0], axis=0)\n",
    "my_test.shape"
   ]
  },
  {
   "cell_type": "code",
   "execution_count": null,
   "metadata": {
    "colab": {
     "base_uri": "https://localhost:8080/"
    },
    "executionInfo": {
     "elapsed": 20,
     "status": "ok",
     "timestamp": 1707967191987,
     "user": {
      "displayName": "Henry Si",
      "userId": "17719448117276295977"
     },
     "user_tz": -480
    },
    "id": "JmQD-ttj89h6",
    "outputId": "f3194b41-159e-49e5-a996-9b7f4e5702ff"
   },
   "outputs": [],
   "source": [
    "model_1_0.predict(my_test)"
   ]
  },
  {
   "cell_type": "code",
   "execution_count": null,
   "metadata": {
    "colab": {
     "base_uri": "https://localhost:8080/"
    },
    "executionInfo": {
     "elapsed": 317,
     "status": "ok",
     "timestamp": 1707967199582,
     "user": {
      "displayName": "Henry Si",
      "userId": "17719448117276295977"
     },
     "user_tz": -480
    },
    "id": "ssIKpCTV9KJW",
    "outputId": "4cea61e5-3732-447b-a670-2b83bcf14f52"
   },
   "outputs": [],
   "source": [
    "model_1_0.predict(my_test).sum()"
   ]
  },
  {
   "cell_type": "code",
   "execution_count": null,
   "metadata": {
    "id": "cR2Ua4AE9KmY"
   },
   "outputs": [],
   "source": [
    "np.set_printoptions(precision=3)"
   ]
  },
  {
   "cell_type": "code",
   "execution_count": null,
   "metadata": {
    "colab": {
     "base_uri": "https://localhost:8080/"
    },
    "executionInfo": {
     "elapsed": 861,
     "status": "ok",
     "timestamp": 1707967213697,
     "user": {
      "displayName": "Henry Si",
      "userId": "17719448117276295977"
     },
     "user_tz": -480
    },
    "id": "YzJ4EBAB9fch",
    "outputId": "1221be4a-f71d-477d-8ea5-3e3b3008e197"
   },
   "outputs": [],
   "source": [
    "# all prob. for validation\n",
    "model_1_0.predict(x_validation_normalized)"
   ]
  },
  {
   "cell_type": "code",
   "execution_count": null,
   "metadata": {
    "colab": {
     "base_uri": "https://localhost:8080/"
    },
    "executionInfo": {
     "elapsed": 485,
     "status": "ok",
     "timestamp": 1707967218544,
     "user": {
      "displayName": "Henry Si",
      "userId": "17719448117276295977"
     },
     "user_tz": -480
    },
    "id": "3VQlK_sZ9lQS",
    "outputId": "10307e51-0bc6-4494-ea2b-29ca202d73b1"
   },
   "outputs": [],
   "source": [
    "# To check number of classes prediction\n",
    "model_1_0.predict(x_validation_normalized).shape"
   ]
  },
  {
   "cell_type": "code",
   "execution_count": null,
   "metadata": {},
   "outputs": [],
   "source": [
    "# prob. for validation for the class\n",
    "# model.predict_classes(my_test) # predict_classes function has been removed from tf version 2.0\n",
    "\n",
    "# axis=1, it means that the operation (in this case, argmax()) is applied along the columns of the array.\n",
    "# axis=0 is applied along the rows of the array (axis=0 means that the function will find the index of the maximum value). \n",
    "class_predictions = model_1_0.predict(my_test)\n",
    "predicted_classes = np.argmax(class_predictions, axis=1)\n",
    "print(predicted_classes)"
   ]
  },
  {
   "cell_type": "code",
   "execution_count": null,
   "metadata": {
    "colab": {
     "base_uri": "https://localhost:8080/"
    },
    "executionInfo": {
     "elapsed": 320,
     "status": "ok",
     "timestamp": 1707967222098,
     "user": {
      "displayName": "Henry Si",
      "userId": "17719448117276295977"
     },
     "user_tz": -480
    },
    "id": "nVIo1Uq79qAK",
    "outputId": "5f638bcf-c1d2-47b1-dded-294b1835602f"
   },
   "outputs": [],
   "source": [
    "# or simplified with below\n",
    "# np.argmax(model.predict(my_test), axis=1)"
   ]
  },
  {
   "cell_type": "code",
   "execution_count": null,
   "metadata": {},
   "outputs": [],
   "source": [
    "print(y_val.dtype)"
   ]
  },
  {
   "cell_type": "code",
   "execution_count": null,
   "metadata": {
    "colab": {
     "base_uri": "https://localhost:8080/"
    },
    "executionInfo": {
     "elapsed": 444,
     "status": "ok",
     "timestamp": 1707967231820,
     "user": {
      "displayName": "Henry Si",
      "userId": "17719448117276295977"
     },
     "user_tz": -480
    },
    "id": "XCHqm2rM9xrA",
    "outputId": "7dfa4fcd-8694-4fff-9a51-ede6fe5ca760"
   },
   "outputs": [],
   "source": [
    "np.argmax(y_val[0])"
   ]
  },
  {
   "cell_type": "code",
   "execution_count": null,
   "metadata": {},
   "outputs": [],
   "source": [
    "class_label = np.uint8(np.argmax(y_val[0]))\n",
    "print(class_label)"
   ]
  },
  {
   "cell_type": "code",
   "execution_count": null,
   "metadata": {},
   "outputs": [],
   "source": [
    "if y_val.dtype == np.float32:\n",
    "    print(\"Labels are not one-hot encoded.\")\n",
    "    class_index = np.argmax(y_val[0])\n",
    "    predicted_label = np.array([class_index], dtype=np.uint8)\n",
    "    print(predicted_label) "
   ]
  },
  {
   "cell_type": "markdown",
   "metadata": {
    "id": "M-FUl2Ia94eB"
   },
   "source": [
    "## Actual vs Predicted (Predict for the first 10 images)"
   ]
  },
  {
   "cell_type": "code",
   "execution_count": null,
   "metadata": {},
   "outputs": [],
   "source": [
    "# Initialize lists to store actual and predicted labels\n",
    "actual_labels = []\n",
    "predicted_labels = []\n",
    "\n",
    "# Iterate over the first 10 images in the validation set\n",
    "for i in range(10):\n",
    "    # Get the input image for prediction\n",
    "    input_image = np.expand_dims(x_validation_normalized[i], axis=0)\n",
    "    \n",
    "    # Predict the class probabilities for the input image\n",
    "    raw_predictions = model_1_0.predict(input_image)\n",
    "    \n",
    "    # Get the predicted class index\n",
    "    predicted_class_index = np.argmax(raw_predictions, axis=1)[0]\n",
    "    \n",
    "    # Get the actual class label\n",
    "    actual_class_index = np.argmax(y_val[i])\n",
    "    \n",
    "    # Append the actual and predicted labels to the lists\n",
    "    actual_labels.append(actual_class_index)\n",
    "    predicted_labels.append(predicted_class_index)\n",
    "\n",
    "# Print the actual and predicted labels for the first 10 images\n",
    "# print(f\"Actual labels: {actual_labels} vs. Predicted labels: {predicted_labels}\")\n",
    "# print(\"Predicted labels:\", predicted_labels)\n",
    "for i in range(10):\n",
    "    print(f\"For Validation {i + 1}: Actual label: {actual_labels[i]} vs. Predicted label: {predicted_labels[i]}\")"
   ]
  },
  {
   "cell_type": "markdown",
   "metadata": {
    "id": "C5m7rTF5-PXw"
   },
   "source": [
    "## To check details actual vs predicted"
   ]
  },
  {
   "cell_type": "markdown",
   "metadata": {
    "colab": {
     "base_uri": "https://localhost:8080/"
    },
    "executionInfo": {
     "elapsed": 3492,
     "status": "ok",
     "timestamp": 1707967259182,
     "user": {
      "displayName": "Henry Si",
      "userId": "17719448117276295977"
     },
     "user_tz": -480
    },
    "id": "j-uExqvncuVd",
    "outputId": "73590f06-6f7b-4937-9713-5c91be4637a5"
   },
   "source": [
    "## Actual vs Predicted with x samples (Validation dataset - By Classes)"
   ]
  },
  {
   "cell_type": "code",
   "execution_count": 33,
   "metadata": {
    "id": "kj4DOtLacInp"
   },
   "outputs": [
    {
     "name": "stdout",
     "output_type": "stream",
     "text": [
      "Class Aceh:\n",
      "Actual label: 0 vs. Predicted label: 9\n",
      "Actual label: 0 vs. Predicted label: 12\n",
      "Actual label: 0 vs. Predicted label: 3\n",
      "Actual label: 0 vs. Predicted label: 3\n",
      "Actual label: 0 vs. Predicted label: 2\n",
      "Actual label: 0 vs. Predicted label: 0\n",
      "Actual label: 0 vs. Predicted label: 2\n",
      "Class Bali:\n",
      "Actual label: 1 vs. Predicted label: 1\n",
      "Actual label: 1 vs. Predicted label: 1\n",
      "Actual label: 1 vs. Predicted label: 1\n",
      "Actual label: 1 vs. Predicted label: 1\n",
      "Actual label: 1 vs. Predicted label: 1\n",
      "Actual label: 1 vs. Predicted label: 1\n",
      "Actual label: 1 vs. Predicted label: 1\n",
      "Class Betawi:\n",
      "Actual label: 2 vs. Predicted label: 2\n",
      "Actual label: 2 vs. Predicted label: 2\n",
      "Actual label: 2 vs. Predicted label: 10\n",
      "Actual label: 2 vs. Predicted label: 9\n",
      "Actual label: 2 vs. Predicted label: 2\n",
      "Actual label: 2 vs. Predicted label: 12\n",
      "Actual label: 2 vs. Predicted label: 2\n",
      "Class Ciamis:\n",
      "Actual label: 3 vs. Predicted label: 3\n",
      "Actual label: 3 vs. Predicted label: 13\n",
      "Actual label: 3 vs. Predicted label: 17\n",
      "Actual label: 3 vs. Predicted label: 15\n",
      "Actual label: 3 vs. Predicted label: 3\n",
      "Actual label: 3 vs. Predicted label: 3\n",
      "Actual label: 3 vs. Predicted label: 5\n",
      "Class Cirebon:\n",
      "Actual label: 4 vs. Predicted label: 4\n",
      "Actual label: 4 vs. Predicted label: 4\n",
      "Actual label: 4 vs. Predicted label: 4\n",
      "Actual label: 4 vs. Predicted label: 4\n",
      "Actual label: 4 vs. Predicted label: 4\n",
      "Actual label: 4 vs. Predicted label: 4\n",
      "Actual label: 4 vs. Predicted label: 4\n",
      "Class Garut:\n",
      "Actual label: 5 vs. Predicted label: 12\n",
      "Actual label: 5 vs. Predicted label: 16\n",
      "Actual label: 5 vs. Predicted label: 14\n",
      "Actual label: 5 vs. Predicted label: 17\n",
      "Actual label: 5 vs. Predicted label: 6\n",
      "Actual label: 5 vs. Predicted label: 12\n",
      "Actual label: 5 vs. Predicted label: 16\n",
      "Class Kalimantan_Dayak:\n",
      "Actual label: 6 vs. Predicted label: 18\n",
      "Actual label: 6 vs. Predicted label: 6\n",
      "Actual label: 6 vs. Predicted label: 6\n",
      "Actual label: 6 vs. Predicted label: 14\n",
      "Actual label: 6 vs. Predicted label: 6\n",
      "Actual label: 6 vs. Predicted label: 9\n",
      "Actual label: 6 vs. Predicted label: 4\n",
      "Class Kalimantan_Pontianak:\n",
      "Actual label: 7 vs. Predicted label: 7\n",
      "Actual label: 7 vs. Predicted label: 7\n",
      "Actual label: 7 vs. Predicted label: 7\n",
      "Actual label: 7 vs. Predicted label: 7\n",
      "Actual label: 7 vs. Predicted label: 7\n",
      "Actual label: 7 vs. Predicted label: 7\n",
      "Actual label: 7 vs. Predicted label: 7\n",
      "Class Kulon Progo_Geblek Renteng:\n",
      "Actual label: 8 vs. Predicted label: 8\n",
      "Actual label: 8 vs. Predicted label: 8\n",
      "Actual label: 8 vs. Predicted label: 8\n",
      "Actual label: 8 vs. Predicted label: 8\n",
      "Actual label: 8 vs. Predicted label: 8\n",
      "Actual label: 8 vs. Predicted label: 8\n",
      "Actual label: 8 vs. Predicted label: 8\n",
      "Class Madura:\n",
      "Actual label: 9 vs. Predicted label: 9\n",
      "Actual label: 9 vs. Predicted label: 16\n",
      "Actual label: 9 vs. Predicted label: 9\n",
      "Actual label: 9 vs. Predicted label: 9\n",
      "Actual label: 9 vs. Predicted label: 13\n",
      "Actual label: 9 vs. Predicted label: 0\n",
      "Actual label: 9 vs. Predicted label: 9\n",
      "Class Maluku_Pala Cengkeh:\n",
      "Actual label: 10 vs. Predicted label: 2\n",
      "Actual label: 10 vs. Predicted label: 10\n",
      "Actual label: 10 vs. Predicted label: 3\n",
      "Actual label: 10 vs. Predicted label: 10\n",
      "Actual label: 10 vs. Predicted label: 10\n",
      "Actual label: 10 vs. Predicted label: 12\n",
      "Actual label: 10 vs. Predicted label: 9\n",
      "Class Papua_Cendrawasih:\n",
      "Actual label: 11 vs. Predicted label: 11\n",
      "Actual label: 11 vs. Predicted label: 11\n",
      "Actual label: 11 vs. Predicted label: 11\n",
      "Actual label: 11 vs. Predicted label: 11\n",
      "Actual label: 11 vs. Predicted label: 11\n",
      "Actual label: 11 vs. Predicted label: 11\n",
      "Actual label: 11 vs. Predicted label: 11\n",
      "Class Pati:\n",
      "Actual label: 12 vs. Predicted label: 12\n",
      "Actual label: 12 vs. Predicted label: 12\n",
      "Actual label: 12 vs. Predicted label: 12\n",
      "Actual label: 12 vs. Predicted label: 12\n",
      "Actual label: 12 vs. Predicted label: 12\n",
      "Actual label: 12 vs. Predicted label: 12\n",
      "Actual label: 12 vs. Predicted label: 12\n",
      "Class Pekalongan:\n",
      "Actual label: 13 vs. Predicted label: 9\n",
      "Actual label: 13 vs. Predicted label: 9\n",
      "Actual label: 13 vs. Predicted label: 13\n",
      "Actual label: 13 vs. Predicted label: 0\n",
      "Actual label: 13 vs. Predicted label: 13\n",
      "Actual label: 13 vs. Predicted label: 9\n",
      "Actual label: 13 vs. Predicted label: 9\n",
      "Class Solo_Sidoluhur:\n",
      "Actual label: 14 vs. Predicted label: 5\n",
      "Actual label: 14 vs. Predicted label: 15\n",
      "Actual label: 14 vs. Predicted label: 14\n",
      "Actual label: 14 vs. Predicted label: 19\n",
      "Actual label: 14 vs. Predicted label: 12\n",
      "Actual label: 14 vs. Predicted label: 14\n",
      "Actual label: 14 vs. Predicted label: 14\n",
      "Class Solo_Sogan:\n",
      "Actual label: 15 vs. Predicted label: 12\n",
      "Actual label: 15 vs. Predicted label: 9\n",
      "Actual label: 15 vs. Predicted label: 9\n",
      "Actual label: 15 vs. Predicted label: 15\n",
      "Actual label: 15 vs. Predicted label: 15\n",
      "Actual label: 15 vs. Predicted label: 15\n",
      "Actual label: 15 vs. Predicted label: 15\n",
      "Class Tasikmalaya_Priyangan:\n",
      "Actual label: 16 vs. Predicted label: 3\n",
      "Actual label: 16 vs. Predicted label: 16\n",
      "Actual label: 16 vs. Predicted label: 8\n",
      "Actual label: 16 vs. Predicted label: 13\n",
      "Actual label: 16 vs. Predicted label: 9\n",
      "Actual label: 16 vs. Predicted label: 16\n",
      "Actual label: 16 vs. Predicted label: 11\n",
      "Class Yogyakarta_Kawung:\n",
      "Actual label: 17 vs. Predicted label: 1\n",
      "Actual label: 17 vs. Predicted label: 17\n",
      "Actual label: 17 vs. Predicted label: 17\n",
      "Actual label: 17 vs. Predicted label: 17\n",
      "Actual label: 17 vs. Predicted label: 17\n",
      "Actual label: 17 vs. Predicted label: 12\n",
      "Actual label: 17 vs. Predicted label: 17\n",
      "Class Yogyakarta_Sekar Jagad:\n",
      "Actual label: 18 vs. Predicted label: 1\n",
      "Actual label: 18 vs. Predicted label: 18\n",
      "Actual label: 18 vs. Predicted label: 18\n",
      "Actual label: 18 vs. Predicted label: 9\n",
      "Actual label: 18 vs. Predicted label: 18\n",
      "Actual label: 18 vs. Predicted label: 18\n",
      "Actual label: 18 vs. Predicted label: 18\n",
      "Class Yogyakarta Tambal:\n",
      "Actual label: 19 vs. Predicted label: 19\n",
      "Actual label: 19 vs. Predicted label: 19\n",
      "Actual label: 19 vs. Predicted label: 19\n",
      "Actual label: 19 vs. Predicted label: 19\n",
      "Actual label: 19 vs. Predicted label: 16\n",
      "Actual label: 19 vs. Predicted label: 19\n",
      "Actual label: 19 vs. Predicted label: 19\n"
     ]
    }
   ],
   "source": [
    "# Define the number of samples to use for each class\n",
    "num_samples_per_class = 7\n",
    "\n",
    "# Initialize a dictionary to store actual and predicted labels for each class\n",
    "class_labels = {i: {'actual': [], 'predicted': []} for i in range(num_classes)}\n",
    "\n",
    "# Iterate over each class\n",
    "for class_index in range(num_classes):\n",
    "    # Initialize a counter for the number of samples predicted for the current class\n",
    "    num_samples_predicted = 0\n",
    "    \n",
    "    # Iterate over all samples\n",
    "    for i in range(len(y_val)):\n",
    "        # Check if the actual label matches the current class index\n",
    "        if np.argmax(y_val[i]) == class_index:\n",
    "            # Get the input image for prediction\n",
    "            input_image = np.expand_dims(x_validation_normalized[i], axis=0)\n",
    "            \n",
    "            # Predict the class probabilities for the input image\n",
    "            raw_predictions = model_1_0.predict(input_image, verbose=0)\n",
    "            \n",
    "            # Get the predicted class index\n",
    "            predicted_class_index = np.argmax(raw_predictions, axis=1)[0]\n",
    "            \n",
    "            # Append the actual and predicted labels to the lists for the current class\n",
    "            class_labels[class_index]['actual'].append(class_index)\n",
    "            class_labels[class_index]['predicted'].append(predicted_class_index)\n",
    "            \n",
    "            # Increment the counter for the number of samples predicted for the current class\n",
    "            num_samples_predicted += 1\n",
    "            \n",
    "            # Break out of the loop if the desired number of samples is reached for the current class\n",
    "            if num_samples_predicted >= num_samples_per_class:\n",
    "                break\n",
    "\n",
    "# Print the actual and predicted labels for each class\n",
    "for class_index in range(num_classes):\n",
    "    actual_labels = class_labels[class_index]['actual']\n",
    "    predicted_labels = class_labels[class_index]['predicted']\n",
    "    class_name = LABEL_NAMES[class_index]  # Get the class name\n",
    "    print(f\"Class {class_name}:\")\n",
    "    for actual, predicted in zip(actual_labels, predicted_labels):\n",
    "        print(f\"Actual label: {actual} vs. Predicted label: {predicted}\")"
   ]
  },
  {
   "cell_type": "markdown",
   "metadata": {},
   "source": [
    "### Actual vs Predicted with x samples (Test Dataset- By classes)"
   ]
  },
  {
   "cell_type": "code",
   "execution_count": 34,
   "metadata": {},
   "outputs": [
    {
     "name": "stdout",
     "output_type": "stream",
     "text": [
      "Class Aceh:\n",
      "Actual label: 0 vs. Predicted label: 9\n",
      "Actual label: 0 vs. Predicted label: 0\n",
      "Actual label: 0 vs. Predicted label: 12\n",
      "Actual label: 0 vs. Predicted label: 8\n",
      "Actual label: 0 vs. Predicted label: 0\n",
      "Actual label: 0 vs. Predicted label: 9\n",
      "Actual label: 0 vs. Predicted label: 0\n",
      "Class Bali:\n",
      "Actual label: 1 vs. Predicted label: 1\n",
      "Actual label: 1 vs. Predicted label: 1\n",
      "Actual label: 1 vs. Predicted label: 1\n",
      "Actual label: 1 vs. Predicted label: 1\n",
      "Actual label: 1 vs. Predicted label: 1\n",
      "Actual label: 1 vs. Predicted label: 1\n",
      "Actual label: 1 vs. Predicted label: 1\n",
      "Class Betawi:\n",
      "Actual label: 2 vs. Predicted label: 9\n",
      "Actual label: 2 vs. Predicted label: 2\n",
      "Actual label: 2 vs. Predicted label: 2\n",
      "Actual label: 2 vs. Predicted label: 2\n",
      "Actual label: 2 vs. Predicted label: 2\n",
      "Actual label: 2 vs. Predicted label: 9\n",
      "Actual label: 2 vs. Predicted label: 2\n",
      "Class Ciamis:\n",
      "Actual label: 3 vs. Predicted label: 18\n",
      "Actual label: 3 vs. Predicted label: 13\n",
      "Actual label: 3 vs. Predicted label: 11\n",
      "Actual label: 3 vs. Predicted label: 9\n",
      "Actual label: 3 vs. Predicted label: 3\n",
      "Actual label: 3 vs. Predicted label: 18\n",
      "Actual label: 3 vs. Predicted label: 3\n",
      "Class Cirebon:\n",
      "Actual label: 4 vs. Predicted label: 4\n",
      "Actual label: 4 vs. Predicted label: 4\n",
      "Actual label: 4 vs. Predicted label: 4\n",
      "Actual label: 4 vs. Predicted label: 4\n",
      "Actual label: 4 vs. Predicted label: 4\n",
      "Actual label: 4 vs. Predicted label: 4\n",
      "Actual label: 4 vs. Predicted label: 4\n",
      "Class Garut:\n",
      "Actual label: 5 vs. Predicted label: 3\n",
      "Actual label: 5 vs. Predicted label: 16\n",
      "Actual label: 5 vs. Predicted label: 8\n",
      "Actual label: 5 vs. Predicted label: 12\n",
      "Actual label: 5 vs. Predicted label: 5\n",
      "Actual label: 5 vs. Predicted label: 5\n",
      "Actual label: 5 vs. Predicted label: 16\n",
      "Class Kalimantan_Dayak:\n",
      "Actual label: 6 vs. Predicted label: 6\n",
      "Actual label: 6 vs. Predicted label: 8\n",
      "Actual label: 6 vs. Predicted label: 10\n",
      "Actual label: 6 vs. Predicted label: 8\n",
      "Actual label: 6 vs. Predicted label: 6\n",
      "Actual label: 6 vs. Predicted label: 0\n",
      "Actual label: 6 vs. Predicted label: 6\n",
      "Class Kalimantan_Pontianak:\n",
      "Actual label: 7 vs. Predicted label: 7\n",
      "Actual label: 7 vs. Predicted label: 7\n",
      "Actual label: 7 vs. Predicted label: 7\n",
      "Actual label: 7 vs. Predicted label: 7\n",
      "Actual label: 7 vs. Predicted label: 7\n",
      "Actual label: 7 vs. Predicted label: 7\n",
      "Actual label: 7 vs. Predicted label: 7\n",
      "Class Kulon Progo_Geblek Renteng:\n",
      "Actual label: 8 vs. Predicted label: 8\n",
      "Actual label: 8 vs. Predicted label: 8\n",
      "Actual label: 8 vs. Predicted label: 8\n",
      "Actual label: 8 vs. Predicted label: 8\n",
      "Actual label: 8 vs. Predicted label: 8\n",
      "Actual label: 8 vs. Predicted label: 7\n",
      "Actual label: 8 vs. Predicted label: 8\n",
      "Class Madura:\n",
      "Actual label: 9 vs. Predicted label: 9\n",
      "Actual label: 9 vs. Predicted label: 9\n",
      "Actual label: 9 vs. Predicted label: 12\n",
      "Actual label: 9 vs. Predicted label: 9\n",
      "Actual label: 9 vs. Predicted label: 9\n",
      "Actual label: 9 vs. Predicted label: 9\n",
      "Actual label: 9 vs. Predicted label: 16\n",
      "Class Maluku_Pala Cengkeh:\n",
      "Actual label: 10 vs. Predicted label: 9\n",
      "Actual label: 10 vs. Predicted label: 3\n",
      "Actual label: 10 vs. Predicted label: 10\n",
      "Actual label: 10 vs. Predicted label: 10\n",
      "Actual label: 10 vs. Predicted label: 10\n",
      "Actual label: 10 vs. Predicted label: 19\n",
      "Actual label: 10 vs. Predicted label: 9\n",
      "Class Papua_Cendrawasih:\n",
      "Actual label: 11 vs. Predicted label: 11\n",
      "Actual label: 11 vs. Predicted label: 11\n",
      "Actual label: 11 vs. Predicted label: 9\n",
      "Actual label: 11 vs. Predicted label: 11\n",
      "Actual label: 11 vs. Predicted label: 11\n",
      "Actual label: 11 vs. Predicted label: 11\n",
      "Actual label: 11 vs. Predicted label: 11\n",
      "Class Pati:\n",
      "Actual label: 12 vs. Predicted label: 12\n",
      "Actual label: 12 vs. Predicted label: 12\n",
      "Actual label: 12 vs. Predicted label: 12\n",
      "Actual label: 12 vs. Predicted label: 12\n",
      "Actual label: 12 vs. Predicted label: 12\n",
      "Actual label: 12 vs. Predicted label: 12\n",
      "Actual label: 12 vs. Predicted label: 12\n",
      "Class Pekalongan:\n",
      "Actual label: 13 vs. Predicted label: 15\n",
      "Actual label: 13 vs. Predicted label: 9\n",
      "Actual label: 13 vs. Predicted label: 9\n",
      "Actual label: 13 vs. Predicted label: 9\n",
      "Actual label: 13 vs. Predicted label: 18\n",
      "Actual label: 13 vs. Predicted label: 17\n",
      "Actual label: 13 vs. Predicted label: 9\n",
      "Class Solo_Sidoluhur:\n",
      "Actual label: 14 vs. Predicted label: 14\n",
      "Actual label: 14 vs. Predicted label: 14\n",
      "Actual label: 14 vs. Predicted label: 3\n",
      "Actual label: 14 vs. Predicted label: 14\n",
      "Actual label: 14 vs. Predicted label: 6\n",
      "Actual label: 14 vs. Predicted label: 16\n",
      "Actual label: 14 vs. Predicted label: 14\n",
      "Class Solo_Sogan:\n",
      "Actual label: 15 vs. Predicted label: 12\n",
      "Actual label: 15 vs. Predicted label: 15\n",
      "Actual label: 15 vs. Predicted label: 15\n",
      "Actual label: 15 vs. Predicted label: 15\n",
      "Actual label: 15 vs. Predicted label: 13\n",
      "Actual label: 15 vs. Predicted label: 12\n",
      "Actual label: 15 vs. Predicted label: 19\n",
      "Class Tasikmalaya_Priyangan:\n",
      "Actual label: 16 vs. Predicted label: 9\n",
      "Actual label: 16 vs. Predicted label: 12\n",
      "Actual label: 16 vs. Predicted label: 9\n",
      "Actual label: 16 vs. Predicted label: 16\n",
      "Actual label: 16 vs. Predicted label: 3\n",
      "Actual label: 16 vs. Predicted label: 16\n",
      "Actual label: 16 vs. Predicted label: 13\n",
      "Class Yogyakarta_Kawung:\n",
      "Actual label: 17 vs. Predicted label: 9\n",
      "Actual label: 17 vs. Predicted label: 14\n",
      "Actual label: 17 vs. Predicted label: 17\n",
      "Actual label: 17 vs. Predicted label: 17\n",
      "Actual label: 17 vs. Predicted label: 17\n",
      "Actual label: 17 vs. Predicted label: 17\n",
      "Actual label: 17 vs. Predicted label: 17\n",
      "Class Yogyakarta_Sekar Jagad:\n",
      "Actual label: 18 vs. Predicted label: 18\n",
      "Actual label: 18 vs. Predicted label: 18\n",
      "Actual label: 18 vs. Predicted label: 1\n",
      "Actual label: 18 vs. Predicted label: 18\n",
      "Actual label: 18 vs. Predicted label: 18\n",
      "Actual label: 18 vs. Predicted label: 18\n",
      "Actual label: 18 vs. Predicted label: 18\n",
      "Class Yogyakarta Tambal:\n",
      "Actual label: 19 vs. Predicted label: 19\n",
      "Actual label: 19 vs. Predicted label: 15\n",
      "Actual label: 19 vs. Predicted label: 19\n",
      "Actual label: 19 vs. Predicted label: 19\n",
      "Actual label: 19 vs. Predicted label: 19\n",
      "Actual label: 19 vs. Predicted label: 19\n",
      "Actual label: 19 vs. Predicted label: 19\n"
     ]
    }
   ],
   "source": [
    "# Define the number of samples to use for each class\n",
    "num_samples_per_class = 7\n",
    "\n",
    "# Initialize a dictionary to store actual and predicted labels for each class\n",
    "class_labels = {i: {'actual': [], 'predicted': []} for i in range(num_classes)}\n",
    "\n",
    "# Iterate over each class\n",
    "for class_index in range(num_classes):\n",
    "    # Initialize a counter for the number of samples predicted for the current class\n",
    "    num_samples_predicted = 0\n",
    "    \n",
    "    # Iterate over all samples\n",
    "    for i in range(len(y_test)):\n",
    "        # Check if the actual label matches the current class index\n",
    "        if np.argmax(y_test[i]) == class_index:\n",
    "            # Get the input image for prediction\n",
    "            input_image = np.expand_dims(x_test_normalized[i], axis=0)\n",
    "            \n",
    "            # Predict the class probabilities for the input image\n",
    "            raw_predictions = model_1_0.predict(input_image, verbose=0)\n",
    "            \n",
    "            # Get the predicted class index\n",
    "            predicted_class_index = np.argmax(raw_predictions, axis=1)[0]\n",
    "            \n",
    "            # Append the actual and predicted labels to the lists for the current class\n",
    "            class_labels[class_index]['actual'].append(class_index)\n",
    "            class_labels[class_index]['predicted'].append(predicted_class_index)\n",
    "            \n",
    "            # Increment the counter for the number of samples predicted for the current class\n",
    "            num_samples_predicted += 1\n",
    "            \n",
    "            # Break out of the loop if the desired number of samples is reached for the current class\n",
    "            if num_samples_predicted >= num_samples_per_class:\n",
    "                break\n",
    "\n",
    "# Print the actual and predicted labels for each class\n",
    "for class_index in range(num_classes):\n",
    "    actual_labels = class_labels[class_index]['actual']\n",
    "    predicted_labels = class_labels[class_index]['predicted']\n",
    "    class_name = LABEL_NAMES[class_index]  # Get the class name\n",
    "    print(f\"Class {class_name}:\")\n",
    "    for actual, predicted in zip(actual_labels, predicted_labels):\n",
    "        print(f\"Actual label: {actual} vs. Predicted label: {predicted}\")"
   ]
  },
  {
   "cell_type": "markdown",
   "metadata": {
    "colab": {
     "base_uri": "https://localhost:8080/"
    },
    "executionInfo": {
     "elapsed": 3015,
     "status": "ok",
     "timestamp": 1707894436436,
     "user": {
      "displayName": "Henry Si",
      "userId": "17719448117276295977"
     },
     "user_tz": -480
    },
    "id": "EYAca1kT-JYo",
    "outputId": "02bcfad2-48d2-43ba-d02d-66b3f908f4de"
   },
   "source": [
    "# Evaluation"
   ]
  },
  {
   "cell_type": "markdown",
   "metadata": {},
   "source": [
    "## Training Dataset"
   ]
  },
  {
   "cell_type": "code",
   "execution_count": 40,
   "metadata": {},
   "outputs": [
    {
     "data": {
      "text/plain": [
       "['loss', 'accuracy']"
      ]
     },
     "execution_count": 40,
     "metadata": {},
     "output_type": "execute_result"
    }
   ],
   "source": [
    "model_1_0.metrics_names"
   ]
  },
  {
   "cell_type": "code",
   "execution_count": 41,
   "metadata": {},
   "outputs": [
    {
     "name": "stdout",
     "output_type": "stream",
     "text": [
      "401/401 [==============================] - 4635s 12s/step - loss: 0.1004 - accuracy: 0.9753\n",
      "Val loss : 0.1 and the Val accuracy: 97.53%\n"
     ]
    }
   ],
   "source": [
    "test_loss, test_accuracy = model_1_0.evaluate(x_train_normalized, y_train)\n",
    "print(f\"Val loss : {test_loss:0.3} and the Val accuracy: {test_accuracy:0.2%}\")"
   ]
  },
  {
   "cell_type": "markdown",
   "metadata": {},
   "source": [
    "## Validation Dataset"
   ]
  },
  {
   "cell_type": "code",
   "execution_count": 42,
   "metadata": {},
   "outputs": [
    {
     "data": {
      "text/plain": [
       "['loss', 'accuracy']"
      ]
     },
     "execution_count": 42,
     "metadata": {},
     "output_type": "execute_result"
    }
   ],
   "source": [
    "model_1_0.metrics_names"
   ]
  },
  {
   "cell_type": "code",
   "execution_count": 43,
   "metadata": {},
   "outputs": [
    {
     "name": "stdout",
     "output_type": "stream",
     "text": [
      "40/40 [==============================] - 463s 12s/step - loss: 0.6703 - accuracy: 0.8381\n",
      "Val loss : 0.67 and the Val accuracy: 83.81%\n"
     ]
    }
   ],
   "source": [
    "test_loss, test_accuracy = model_1_0.evaluate(x_validation_normalized, y_val)\n",
    "print(f\"Val loss : {test_loss:0.3} and the Val accuracy: {test_accuracy:0.2%}\")"
   ]
  },
  {
   "cell_type": "markdown",
   "metadata": {},
   "source": [
    "## Test Dataset"
   ]
  },
  {
   "cell_type": "code",
   "execution_count": 44,
   "metadata": {
    "colab": {
     "base_uri": "https://localhost:8080/"
    },
    "executionInfo": {
     "elapsed": 508,
     "status": "ok",
     "timestamp": 1707967265861,
     "user": {
      "displayName": "Henry Si",
      "userId": "17719448117276295977"
     },
     "user_tz": -480
    },
    "id": "nZy0XIE9-ZlB",
    "outputId": "77db39b2-d87a-4aad-8f8c-6e8ebb14574c"
   },
   "outputs": [
    {
     "data": {
      "text/plain": [
       "['loss', 'accuracy']"
      ]
     },
     "execution_count": 44,
     "metadata": {},
     "output_type": "execute_result"
    }
   ],
   "source": [
    "model_1_0.metrics_names"
   ]
  },
  {
   "cell_type": "code",
   "execution_count": 45,
   "metadata": {
    "colab": {
     "base_uri": "https://localhost:8080/"
    },
    "executionInfo": {
     "elapsed": 961,
     "status": "ok",
     "timestamp": 1707967272806,
     "user": {
      "displayName": "Henry Si",
      "userId": "17719448117276295977"
     },
     "user_tz": -480
    },
    "id": "ZIv0wDdF-erU",
    "outputId": "e3d5129d-7eac-4f91-d121-11518a260c85"
   },
   "outputs": [
    {
     "name": "stdout",
     "output_type": "stream",
     "text": [
      "49/49 [==============================] - 561s 11s/step - loss: 0.7034 - accuracy: 0.8342\n",
      "Test loss : 0.703 and the test accuracy: 83.42%\n"
     ]
    }
   ],
   "source": [
    "test_loss, test_accuracy = model_1_0.evaluate(x_test_normalized, y_test)\n",
    "print(f\"Test loss : {test_loss:0.3} and the test accuracy: {test_accuracy:0.2%}\")"
   ]
  },
  {
   "cell_type": "markdown",
   "metadata": {},
   "source": [
    "## Test Accuracies - By Classes ( Without Tables)"
   ]
  },
  {
   "cell_type": "code",
   "execution_count": 46,
   "metadata": {},
   "outputs": [
    {
     "name": "stdout",
     "output_type": "stream",
     "text": [
      "Overall test loss : 0.703 and the overall test accuracy: 83.42%\n",
      "Class Aceh: Test loss: 0.863, Test accuracy: 70.37%\n",
      "Class Bali: Test loss: 0.409, Test accuracy: 90.65%\n",
      "Class Betawi: Test loss: 2.490, Test accuracy: 51.85%\n",
      "Class Ciamis: Test loss: 6.979, Test accuracy: 30.00%\n",
      "Class Cirebon: Test loss: 0.186, Test accuracy: 93.81%\n",
      "Class Garut: Test loss: 3.013, Test accuracy: 30.00%\n",
      "Class Kalimantan_Dayak: Test loss: 2.042, Test accuracy: 66.67%\n",
      "Class Kalimantan_Pontianak: Test loss: 0.087, Test accuracy: 94.69%\n",
      "Class Kulon Progo_Geblek Renteng: Test loss: 0.424, Test accuracy: 87.12%\n",
      "Class Madura: Test loss: 0.564, Test accuracy: 79.80%\n",
      "Class Maluku_Pala Cengkeh: Test loss: 2.786, Test accuracy: 50.00%\n",
      "Class Papua_Cendrawasih: Test loss: 0.479, Test accuracy: 87.86%\n",
      "Class Pati: Test loss: 0.677, Test accuracy: 80.43%\n",
      "Class Pekalongan: Test loss: 7.364, Test accuracy: 10.00%\n",
      "Class Solo_Sidoluhur: Test loss: 2.404, Test accuracy: 70.00%\n",
      "Class Solo_Sogan: Test loss: 5.017, Test accuracy: 50.00%\n",
      "Class Tasikmalaya_Priyangan: Test loss: 5.455, Test accuracy: 10.00%\n",
      "Class Yogyakarta_Kawung: Test loss: 1.448, Test accuracy: 76.92%\n",
      "Class Yogyakarta_Sekar Jagad: Test loss: 0.171, Test accuracy: 93.94%\n",
      "Class Yogyakarta_Tambal: Test loss: 0.271, Test accuracy: 93.62%\n"
     ]
    }
   ],
   "source": [
    "# Initialize dictionaries to store metrics for each class\n",
    "class_metrics = {class_name: {'loss': 0.0, 'accuracy': 0.0} for class_name in LABEL_NAMES}\n",
    "\n",
    "# Evaluate the model on the test data\n",
    "test_metrics = model_1_0.evaluate(x_test_normalized, y_test, verbose=0)\n",
    "\n",
    "# Extract the loss and accuracy values from the test metrics\n",
    "test_loss = test_metrics[0]\n",
    "test_accuracy = test_metrics[1]\n",
    "\n",
    "# Print overall test metrics\n",
    "print(f\"Overall test loss : {test_loss:0.3} and the overall test accuracy: {test_accuracy:0.2%}\")\n",
    "\n",
    "# Calculate metrics for each class\n",
    "for i, class_name in enumerate(LABEL_NAMES):\n",
    "    # Get indices of test samples belonging to the current class\n",
    "    class_indices = np.where(np.argmax(y_test, axis=1) == i)[0]\n",
    "    \n",
    "    # Select test data and labels for the current class\n",
    "    x_class_test = x_test_normalized[class_indices]\n",
    "    y_class_test = y_test[class_indices]\n",
    "    \n",
    "    # Evaluate the model on the test data for the current class\n",
    "    class_metrics[class_name]['loss'], class_metrics[class_name]['accuracy'] = model_1_0.evaluate(x_class_test, y_class_test, verbose=0)\n",
    "    \n",
    "    # Print metrics for the current class\n",
    "    print(f\"Class {class_name}: Test loss: {class_metrics[class_name]['loss']:.3f}, Test accuracy: {class_metrics[class_name]['accuracy']:.2%}\")"
   ]
  },
  {
   "cell_type": "markdown",
   "metadata": {},
   "source": [
    "## Test Accuracies - By Classes (With Table)"
   ]
  },
  {
   "cell_type": "code",
   "execution_count": 47,
   "metadata": {},
   "outputs": [
    {
     "name": "stdout",
     "output_type": "stream",
     "text": [
      "Test Metrics for Each Class:\n",
      "Class                          Test Loss       Test Accuracy  \n",
      "------------------------------------------------------------\n",
      "Aceh                           0.863           70.37%         \n",
      "Bali                           0.409           90.65%         \n",
      "Betawi                         2.490           51.85%         \n",
      "Ciamis                         6.979           30.00%         \n",
      "Cirebon                        0.186           93.81%         \n",
      "Garut                          3.013           30.00%         \n",
      "Kalimantan_Dayak               2.042           66.67%         \n",
      "Kalimantan_Pontianak           0.087           94.69%         \n",
      "Kulon Progo_Geblek Renteng     0.424           87.12%         \n",
      "Madura                         0.564           79.80%         \n",
      "Maluku_Pala Cengkeh            2.786           50.00%         \n",
      "Papua_Cendrawasih              0.479           87.86%         \n",
      "Pati                           0.677           80.43%         \n",
      "Pekalongan                     7.364           10.00%         \n",
      "Solo_Sidoluhur                 2.404           70.00%         \n",
      "Solo_Sogan                     5.017           50.00%         \n",
      "Tasikmalaya_Priyangan          5.455           10.00%         \n",
      "Yogyakarta_Kawung              1.448           76.92%         \n",
      "Yogyakarta_Sekar Jagad         0.171           93.94%         \n",
      "Yogyakarta_Tambal              0.271           93.62%         \n",
      "\n",
      "Overall Test Metrics:\n",
      "Overall test loss : 2.16 and the overall test accuracy: 65.89%\n"
     ]
    }
   ],
   "source": [
    "# Initialize dictionaries to store metrics for each class\n",
    "class_metrics = {class_name: {'loss': 0.0, 'accuracy': 0.0} for class_name in LABEL_NAMES}\n",
    "\n",
    "# Initialize lists to store overall test loss and accuracy for each class\n",
    "overall_test_loss = []\n",
    "overall_test_accuracy = []\n",
    "\n",
    "# Calculate metrics for each class\n",
    "for i, class_name in enumerate(LABEL_NAMES):\n",
    "    # Get indices of test samples belonging to the current class\n",
    "    class_indices = np.where(np.argmax(y_test, axis=1) == i)[0]\n",
    "    \n",
    "    # Select test data and labels for the current class\n",
    "    x_class_test = x_test_normalized[class_indices]\n",
    "    y_class_test = y_test[class_indices]\n",
    "    \n",
    "    # Evaluate the model on the test data for the current class\n",
    "    class_metrics[class_name]['loss'], class_metrics[class_name]['accuracy'] = model_1_0.evaluate(x_class_test, y_class_test, verbose=0)\n",
    "    \n",
    "    # Append metrics to overall lists\n",
    "    overall_test_loss.append(class_metrics[class_name]['loss'])\n",
    "    overall_test_accuracy.append(class_metrics[class_name]['accuracy'])\n",
    "\n",
    "# Print table for metrics for each class\n",
    "print(\"Test Metrics for Each Class:\")\n",
    "print(\"{:<30} {:<15} {:<15}\".format(\"Class\", \"Test Loss\", \"Test Accuracy\"))\n",
    "print(\"-\" * 60)\n",
    "for class_name in LABEL_NAMES:\n",
    "    print(\"{:<30} {:<15.3f} {:<15.2%}\".format(class_name, class_metrics[class_name]['loss'], class_metrics[class_name]['accuracy']))\n",
    "\n",
    "# Print overall test metrics\n",
    "print(\"\\nOverall Test Metrics:\")\n",
    "print(f\"Overall test loss : {np.mean(overall_test_loss):0.3} and the overall test accuracy: {np.mean(overall_test_accuracy):0.2%}\")"
   ]
  },
  {
   "cell_type": "markdown",
   "metadata": {},
   "source": [
    "## Test Accuracies - By Classes (With Table - Grouped by Test Acc.)"
   ]
  },
  {
   "cell_type": "code",
   "execution_count": 48,
   "metadata": {},
   "outputs": [
    {
     "name": "stdout",
     "output_type": "stream",
     "text": [
      "Test Metrics for Each Class (Sorted by Test Accuracy):\n",
      "Class                          Test Loss       Test Accuracy  \n",
      "------------------------------------------------------------\n",
      "Kalimantan_Pontianak           0.087           94.69%         \n",
      "Yogyakarta_Sekar Jagad         0.171           93.94%         \n",
      "Cirebon                        0.186           93.81%         \n",
      "Yogyakarta_Tambal              0.271           93.62%         \n",
      "Bali                           0.409           90.65%         \n",
      "Papua_Cendrawasih              0.479           87.86%         \n",
      "Kulon Progo_Geblek Renteng     0.424           87.12%         \n",
      "Pati                           0.677           80.43%         \n",
      "Madura                         0.564           79.80%         \n",
      "Yogyakarta_Kawung              1.448           76.92%         \n",
      "Aceh                           0.863           70.37%         \n",
      "Solo_Sidoluhur                 2.404           70.00%         \n",
      "Kalimantan_Dayak               2.042           66.67%         \n",
      "Betawi                         2.490           51.85%         \n",
      "Maluku_Pala Cengkeh            2.786           50.00%         \n",
      "Solo_Sogan                     5.017           50.00%         \n",
      "Ciamis                         6.979           30.00%         \n",
      "Garut                          3.013           30.00%         \n",
      "Pekalongan                     7.364           10.00%         \n",
      "Tasikmalaya_Priyangan          5.455           10.00%         \n",
      "\n",
      "Overall Test Metrics:\n",
      "Overall test loss: 2.156 and the overall test accuracy: 65.89%\n"
     ]
    }
   ],
   "source": [
    "# Initialize dictionaries to store metrics for each class\n",
    "class_metrics = {class_name: {'loss': 0.0, 'accuracy': 0.0} for class_name in LABEL_NAMES}\n",
    "\n",
    "# Initialize lists to store overall test loss and accuracy for each class\n",
    "overall_test_loss = []\n",
    "overall_test_accuracy = []\n",
    "\n",
    "# Calculate metrics for each class\n",
    "for i, class_name in enumerate(LABEL_NAMES):\n",
    "    # Get indices of test samples belonging to the current class\n",
    "    class_indices = np.where(np.argmax(y_test, axis=1) == i)[0]\n",
    "    \n",
    "    # Select test data and labels for the current class\n",
    "    x_class_test = x_test_normalized[class_indices]\n",
    "    y_class_test = y_test[class_indices]\n",
    "    \n",
    "    # Evaluate the model on the test data for the current class  \n",
    "    class_metrics[class_name]['loss'], class_metrics[class_name]['accuracy'] = model_1_0.evaluate(x_class_test, y_class_test, verbose=0)\n",
    "    \n",
    "    # Append metrics to overall lists\n",
    "    overall_test_loss.append(class_metrics[class_name]['loss'])\n",
    "    overall_test_accuracy.append(class_metrics[class_name]['accuracy'])\n",
    "\n",
    "# Sort class metrics by test accuracy\n",
    "sorted_class_metrics = sorted(class_metrics.items(), key=lambda x: x[1]['accuracy'], reverse=True)\n",
    "\n",
    "# Print table for metrics for each class sorted by test accuracy\n",
    "print(\"Test Metrics for Each Class (Sorted by Test Accuracy):\")\n",
    "print(\"{:<30} {:<15} {:<15}\".format(\"Class\", \"Test Loss\", \"Test Accuracy\"))\n",
    "print(\"-\" * 60)\n",
    "for class_name, metrics in sorted_class_metrics:\n",
    "    print(\"{:<30} {:<15.3f} {:<15.2%}\".format(class_name, metrics['loss'], metrics['accuracy']))\n",
    "\n",
    "# Print overall test metrics\n",
    "print(\"\\nOverall Test Metrics:\")\n",
    "print(f\"Overall test loss: {np.mean(overall_test_loss):.3f} and the overall test accuracy: {np.mean(overall_test_accuracy):.2%}\")"
   ]
  },
  {
   "cell_type": "markdown",
   "metadata": {},
   "source": [
    "# Confusion Matrix"
   ]
  },
  {
   "cell_type": "code",
   "execution_count": 49,
   "metadata": {
    "colab": {
     "base_uri": "https://localhost:8080/"
    },
    "executionInfo": {
     "elapsed": 936,
     "status": "ok",
     "timestamp": 1707967277880,
     "user": {
      "displayName": "Henry Si",
      "userId": "17719448117276295977"
     },
     "user_tz": -480
    },
    "id": "Ejpx7pME-mXM",
    "outputId": "9246ae3c-2275-47d7-edfe-4ea35f60acab"
   },
   "outputs": [
    {
     "name": "stdout",
     "output_type": "stream",
     "text": [
      "49/49 [==============================] - 563s 11s/step\n"
     ]
    }
   ],
   "source": [
    "predictions = model_1_0.predict(x_test_normalized)\n",
    "y_test_labels = np.argmax(y_test, axis=1)\n",
    "conf_matrix = confusion_matrix(y_true=y_test_labels, y_pred=predictions.argmax(axis=1))"
   ]
  },
  {
   "cell_type": "code",
   "execution_count": 50,
   "metadata": {
    "colab": {
     "base_uri": "https://localhost:8080/"
    },
    "executionInfo": {
     "elapsed": 407,
     "status": "ok",
     "timestamp": 1707967281284,
     "user": {
      "displayName": "Henry Si",
      "userId": "17719448117276295977"
     },
     "user_tz": -480
    },
    "id": "lWEmZLf4-pZz",
    "outputId": "4f962403-74e8-4732-b5c8-9758a0566ccd"
   },
   "outputs": [
    {
     "data": {
      "text/plain": [
       "(20, 20)"
      ]
     },
     "execution_count": 50,
     "metadata": {},
     "output_type": "execute_result"
    }
   ],
   "source": [
    "conf_matrix.shape"
   ]
  },
  {
   "cell_type": "code",
   "execution_count": 51,
   "metadata": {
    "id": "cQNoEDQA-r-9"
   },
   "outputs": [],
   "source": [
    "nr_rows = conf_matrix.shape[0]\n",
    "nr_cols = conf_matrix.shape[1]"
   ]
  },
  {
   "cell_type": "code",
   "execution_count": 52,
   "metadata": {},
   "outputs": [
    {
     "data": {
      "text/plain": [
       "40.0"
      ]
     },
     "execution_count": 52,
     "metadata": {},
     "output_type": "execute_result"
    }
   ],
   "source": [
    "1280/32"
   ]
  },
  {
   "cell_type": "code",
   "execution_count": 53,
   "metadata": {
    "colab": {
     "base_uri": "https://localhost:8080/",
     "height": 647
    },
    "executionInfo": {
     "elapsed": 1055,
     "status": "ok",
     "timestamp": 1707967290944,
     "user": {
      "displayName": "Henry Si",
      "userId": "17719448117276295977"
     },
     "user_tz": -480
    },
    "id": "wG27a0bb-zmU",
    "outputId": "131a133c-88ab-420e-c1c5-972fc32130d9"
   },
   "outputs": [
    {
     "data": {
      "image/png": "[encoded data removed]",
      "text/plain": [
       "<Figure size 665x665 with 2 Axes>"
      ]
     },
     "metadata": {},
     "output_type": "display_data"
    }
   ],
   "source": [
    "plt.figure(figsize=(7,7), dpi=95)\n",
    "plt.imshow(conf_matrix, cmap=plt.cm.Blues)\n",
    "\n",
    "plt.title('Confusion Matrix', fontsize=9)\n",
    "plt.ylabel('Actual Labels', fontsize=6)\n",
    "plt.xlabel('Predicted Labels', fontsize=6)\n",
    "\n",
    "\n",
    "tick_marks = np.arange(test_num_classes)\n",
    "plt.yticks(tick_marks, LABEL_NAMES, fontsize=6)\n",
    "plt.xticks(tick_marks, LABEL_NAMES, fontsize=6, rotation=85)\n",
    "\n",
    "plt.colorbar()\n",
    "\n",
    "for i, j in itertools.product(range(nr_rows), range(nr_cols)):\n",
    "    plt.text(j, i, conf_matrix[i, j], horizontalalignment='center',\n",
    "            color='white' if conf_matrix[i, j] > conf_matrix.max()/2 else 'black')\n",
    "\n",
    "\n",
    "plt.show()"
   ]
  },
  {
   "cell_type": "markdown",
   "metadata": {
    "id": "Ls_L2TWt-5CG"
   },
   "source": [
    "## True Positive, Recall, Precision, F1-Score"
   ]
  },
  {
   "cell_type": "code",
   "execution_count": 54,
   "metadata": {
    "colab": {
     "base_uri": "https://localhost:8080/"
    },
    "executionInfo": {
     "elapsed": 483,
     "status": "ok",
     "timestamp": 1707967338975,
     "user": {
      "displayName": "Henry Si",
      "userId": "17719448117276295977"
     },
     "user_tz": -480
    },
    "id": "6664tEW1-3hc",
    "outputId": "535eb4a6-60cb-4145-c42e-526b3cf14a2c"
   },
   "outputs": [
    {
     "data": {
      "text/plain": [
       "array([ 57, 126,  14,   3, 106,   3,  12, 107, 115, 158,   9, 123, 185,\n",
       "         1,   7,   5,   1,  20, 124, 132])"
      ]
     },
     "execution_count": 54,
     "metadata": {},
     "output_type": "execute_result"
    }
   ],
   "source": [
    "np.diag(conf_matrix)"
   ]
  },
  {
   "cell_type": "code",
   "execution_count": 55,
   "metadata": {
    "colab": {
     "base_uri": "https://localhost:8080/"
    },
    "executionInfo": {
     "elapsed": 338,
     "status": "ok",
     "timestamp": 1707967356604,
     "user": {
      "displayName": "Henry Si",
      "userId": "17719448117276295977"
     },
     "user_tz": -480
    },
    "id": "thlBYRPr_A1v",
    "outputId": "fc20249d-7e15-42a0-efdb-360ee9ef0a13"
   },
   "outputs": [
    {
     "data": {
      "text/plain": [
       "array([0.7037037 , 0.90647482, 0.51851852, 0.3       , 0.9380531 ,\n",
       "       0.3       , 0.66666667, 0.94690265, 0.87121212, 0.7979798 ,\n",
       "       0.5       , 0.87857143, 0.80434783, 0.1       , 0.7       ,\n",
       "       0.5       , 0.1       , 0.76923077, 0.93939394, 0.93617021])"
      ]
     },
     "execution_count": 55,
     "metadata": {},
     "output_type": "execute_result"
    }
   ],
   "source": [
    "recall = np.diag(conf_matrix) / np.sum(conf_matrix, axis=1)\n",
    "recall"
   ]
  },
  {
   "cell_type": "code",
   "execution_count": 56,
   "metadata": {
    "colab": {
     "base_uri": "https://localhost:8080/"
    },
    "executionInfo": {
     "elapsed": 366,
     "status": "ok",
     "timestamp": 1707967361415,
     "user": {
      "displayName": "Henry Si",
      "userId": "17719448117276295977"
     },
     "user_tz": -480
    },
    "id": "7tJOpyIs_EEQ",
    "outputId": "65f2d82b-66ac-4251-e206-9e83a9d1b5c8"
   },
   "outputs": [
    {
     "data": {
      "text/plain": [
       "array([0.83823529, 0.88732394, 0.48275862, 0.6       , 0.98148148,\n",
       "       0.25      , 0.75      , 0.98165138, 0.91269841, 0.67811159,\n",
       "       0.5625    , 0.92481203, 0.93434343, 0.07142857, 0.5       ,\n",
       "       0.5       , 0.07142857, 0.90909091, 0.83783784, 0.87417219])"
      ]
     },
     "execution_count": 56,
     "metadata": {},
     "output_type": "execute_result"
    }
   ],
   "source": [
    "# axis=0 means the sum will be calculated along the vertical axis (column-wise)\n",
    "# axis=1 means the sum is calculated along the horizontal axis (row-wise)\n",
    "precision = np.diag(conf_matrix) / np.sum(conf_matrix, axis=0)\n",
    "precision = np.nan_to_num(precision, nan=0)  # assuming there is a NaN then replace with 0\n",
    "precision\n",
    "\n",
    "# Use this if there is no NaN\n",
    "# precision = np.diag(conf_matrix) / np.sum(conf_matrix, axis=0)\n",
    "# precision"
   ]
  },
  {
   "cell_type": "code",
   "execution_count": 57,
   "metadata": {
    "colab": {
     "base_uri": "https://localhost:8080/"
    },
    "executionInfo": {
     "elapsed": 309,
     "status": "ok",
     "timestamp": 1707967378575,
     "user": {
      "displayName": "Henry Si",
      "userId": "17719448117276295977"
     },
     "user_tz": -480
    },
    "id": "duxXLPe-_HfE",
    "outputId": "df05ee6c-66bb-4b1c-b25b-e678105e799f"
   },
   "outputs": [
    {
     "name": "stdout",
     "output_type": "stream",
     "text": [
      "Model recall score is 65.89%\n"
     ]
    }
   ],
   "source": [
    "avg_recall = np.mean(recall)\n",
    "print(f'Model recall score is {avg_recall:.2%}')"
   ]
  },
  {
   "cell_type": "code",
   "execution_count": 58,
   "metadata": {
    "colab": {
     "base_uri": "https://localhost:8080/"
    },
    "executionInfo": {
     "elapsed": 336,
     "status": "ok",
     "timestamp": 1707967385255,
     "user": {
      "displayName": "Henry Si",
      "userId": "17719448117276295977"
     },
     "user_tz": -480
    },
    "id": "OIcvMvM0_KpW",
    "outputId": "20030d2b-3850-45a8-b1bf-57545da77b8c"
   },
   "outputs": [
    {
     "name": "stdout",
     "output_type": "stream",
     "text": [
      "Model precision score is 67.74%\n",
      "Model f score is 66.80%\n"
     ]
    }
   ],
   "source": [
    "avg_precision = np.mean(precision)\n",
    "print(f'Model precision score is {avg_precision:.2%}')\n",
    "\n",
    "f1_score = 2 * (avg_precision * avg_recall) / (avg_precision + avg_recall)\n",
    "print(f'Model f score is {f1_score:.2%}')\n",
    "\n",
    "# f1_score_numpy = np.mean(2 * class_precision * class_recall / (class_precision + class_recall))\n",
    "# print(f'f1_score_numpy: {f1_score_numpy}')"
   ]
  },
  {
   "cell_type": "code",
   "execution_count": 59,
   "metadata": {},
   "outputs": [
    {
     "name": "stdout",
     "output_type": "stream",
     "text": [
      "Class                          Recall          Precision       F1 Score       \n",
      "---------------------------------------------------------------------------\n",
      "Kalimantan_Pontianak           94.69%          98.17%          96.40%         \n",
      "Cirebon                        93.81%          98.15%          95.93%         \n",
      "Yogyakarta_Tambal              93.62%          87.42%          90.41%         \n",
      "Papua_Cendrawasih              87.86%          92.48%          90.11%         \n",
      "Bali                           90.65%          88.73%          89.68%         \n",
      "Kulon Progo_Geblek Renteng     87.12%          91.27%          89.15%         \n",
      "Yogyakarta_Sekar Jagad         93.94%          83.78%          88.57%         \n",
      "Pati                           80.43%          93.43%          86.45%         \n",
      "Yogyakarta_Kawung              76.92%          90.91%          83.33%         \n",
      "Aceh                           70.37%          83.82%          76.51%         \n",
      "Madura                         79.80%          67.81%          73.32%         \n",
      "Kalimantan_Dayak               66.67%          75.00%          70.59%         \n",
      "Solo_Sidoluhur                 70.00%          50.00%          58.33%         \n",
      "Maluku_Pala Cengkeh            50.00%          56.25%          52.94%         \n",
      "Betawi                         51.85%          48.28%          50.00%         \n",
      "Solo_Sogan                     50.00%          50.00%          50.00%         \n",
      "Ciamis                         30.00%          60.00%          40.00%         \n",
      "Garut                          30.00%          25.00%          27.27%         \n",
      "Pekalongan                     10.00%          7.14%           8.33%          \n",
      "Tasikmalaya_Priyangan          10.00%          7.14%           8.33%          \n",
      "\n",
      "Overall Metrics:\n",
      "Recall: 65.89%\n",
      "Precision: 67.74%\n",
      "Overall F1 Score: 66.80%\n"
     ]
    }
   ],
   "source": [
    "# Calculate precision, recall, and F1 score for each class\n",
    "\n",
    "metrics_per_class = []\n",
    "for i in range(len(LABEL_NAMES)):\n",
    "    recall = conf_matrix[i, i] / np.sum(conf_matrix[i, :])\n",
    "    precision = conf_matrix[i, i] / np.sum(conf_matrix[:, i])\n",
    "    f1_score = 2 * (precision * recall) / (precision + recall) if (precision + recall) != 0 else 0\n",
    "    \n",
    "    metrics_per_class.append({'Class': LABEL_NAMES[i], 'Recall': recall, 'Precision': precision, 'F1 Score': f1_score})\n",
    "\n",
    "# Sort metrics by F1 Score\n",
    "metrics_per_class_sorted = sorted(metrics_per_class, key=lambda x: x['F1 Score'], reverse=True)\n",
    "\n",
    "# Print metrics for each class\n",
    "print(\"{:<30} {:<15} {:<15} {:<15}\".format('Class', 'Recall', 'Precision', 'F1 Score'))\n",
    "print(\"-\" * 75)\n",
    "for metric in metrics_per_class_sorted:\n",
    "    print(\"{:<30} {:<15.2%} {:<15.2%} {:<15.2%}\".format(metric['Class'], metric['Recall'], metric['Precision'], metric['F1 Score']))\n",
    "\n",
    "# Calculate overall F1 Score using the standard equation\n",
    "overall_precision = np.mean([metric['Precision'] for metric in metrics_per_class])\n",
    "overall_recall = np.mean([metric['Recall'] for metric in metrics_per_class])\n",
    "overall_f1_score = 2 * (overall_precision * overall_recall) / (overall_precision + overall_recall) if (overall_precision + overall_recall) != 0 else 0\n",
    "\n",
    "print(\"\\nOverall Metrics:\")\n",
    "print(f'Recall: {avg_recall:.2%}')\n",
    "print(f'Precision: {avg_precision:.2%}')\n",
    "print(f'Overall F1 Score: {overall_f1_score:.2%}')"
   ]
  },
  {
   "cell_type": "markdown",
   "metadata": {},
   "source": [
    "# ========================="
   ]
  },
  {
   "cell_type": "markdown",
   "metadata": {},
   "source": [
    "# To Run Predictions and Confusion Matrix Using Load Model"
   ]
  },
  {
   "cell_type": "markdown",
   "metadata": {},
   "source": [
    "## Predictions"
   ]
  },
  {
   "cell_type": "code",
   "execution_count": 60,
   "metadata": {},
   "outputs": [],
   "source": [
    "# def save_results_to_csv(file_path, model_name, phase, loss, accuracy):\n",
    "#     # Check if file exists\n",
    "#     try:\n",
    "#         with open(file_path, 'x', newline='') as csvfile:\n",
    "#             writer = csv.writer(csvfile)\n",
    "#             writer.writerow(['Model', 'Phase', 'Loss', 'Accuracy'])\n",
    "#     except FileExistsError:\n",
    "#         pass\n",
    "\n",
    "#     # Append the results\n",
    "#     with open(file_path, 'a', newline='') as csvfile:\n",
    "#         writer = csv.writer(csvfile)\n",
    "#         writer.writerow([model_name, phase, f\"{loss:.4f}\", f\"{accuracy:.2%}\"])\n",
    "\n",
    "# # Load model\n",
    "# model_name = 'Undersampling_VGG16'\n",
    "next1_model = load_model('/Users/merchika/chikaData/TA/assets/new_models/NEW_UNDERSAMPLING_VGG16_model_2.h5')\n",
    "\n",
    "# # Define file path\n",
    "# file_path = '/Users/merchika/chikaData/TA/assets/csv/undersampling/vgg16_accuracy_loss_result.csv'"
   ]
  },
  {
   "cell_type": "markdown",
   "metadata": {},
   "source": [
    "#### Train Dataset Phase"
   ]
  },
  {
   "cell_type": "code",
   "execution_count": 61,
   "metadata": {},
   "outputs": [
    {
     "name": "stdout",
     "output_type": "stream",
     "text": [
      "401/401 [==============================] - 4737s 12s/step - loss: 0.1004 - accuracy: 0.9753\n",
      "Train loss : 0.1 and the Train accuracy: 97.53%\n"
     ]
    }
   ],
   "source": [
    "train_loss, train_accuracy = next1_model.evaluate(x_train_normalized, y_train)\n",
    "print(f\"Train loss : {train_loss:0.3} and the Train accuracy: {train_accuracy:0.2%}\")\n",
    "\n",
    "# save_results_to_csv(file_path, model_name, 'Train', train_loss, train_accuracy)"
   ]
  },
  {
   "cell_type": "markdown",
   "metadata": {},
   "source": [
    "#### Validation Dataset Phase"
   ]
  },
  {
   "cell_type": "code",
   "execution_count": 62,
   "metadata": {},
   "outputs": [
    {
     "name": "stdout",
     "output_type": "stream",
     "text": [
      "40/40 [==============================] - 465s 12s/step - loss: 0.6703 - accuracy: 0.8381\n",
      "Val loss : 0.67 and the Val accuracy: 83.81%\n"
     ]
    }
   ],
   "source": [
    "val_loss, val_accuracy = next1_model.evaluate(x_validation_normalized, y_val)\n",
    "print(f\"Val loss : {val_loss:0.3} and the Val accuracy: {val_accuracy:0.2%}\")\n",
    "\n",
    "# save_results_to_csv(file_path, model_name, 'Validation', val_loss, val_accuracy)"
   ]
  },
  {
   "cell_type": "markdown",
   "metadata": {},
   "source": [
    "#### Test Dataset Phase"
   ]
  },
  {
   "cell_type": "code",
   "execution_count": 63,
   "metadata": {},
   "outputs": [
    {
     "name": "stdout",
     "output_type": "stream",
     "text": [
      "49/49 [==============================] - 578s 12s/step - loss: 0.7034 - accuracy: 0.8342\n",
      "Test loss : 0.703 and the Test accuracy: 83.42%\n"
     ]
    }
   ],
   "source": [
    "test_loss, test_accuracy = next1_model.evaluate(x_test_normalized, y_test)\n",
    "print(f\"Test loss : {test_loss:0.3} and the Test accuracy: {test_accuracy:0.2%}\")\n",
    "\n",
    "# save_results_to_csv(file_path, model_name, 'Test', test_loss, test_accuracy)"
   ]
  },
  {
   "cell_type": "markdown",
   "metadata": {},
   "source": [
    "***"
   ]
  },
  {
   "cell_type": "code",
   "execution_count": 25,
   "metadata": {
    "id": "_1OOJsXtkXmj"
   },
   "outputs": [],
   "source": [
    "# next4_model = load_model('/content/saved_models/hist4_flat_raw_model.h5')\n",
    "next1_model = load_model('/Users/merchika/chikaData/TA/assets/new_models/NEW_UNDERSAMPLING_VGG16_model_2.h5')"
   ]
  },
  {
   "cell_type": "code",
   "execution_count": 26,
   "metadata": {},
   "outputs": [
    {
     "data": {
      "text/plain": [
       "['loss', 'accuracy']"
      ]
     },
     "execution_count": 26,
     "metadata": {},
     "output_type": "execute_result"
    }
   ],
   "source": [
    "next1_model.metrics_names"
   ]
  },
  {
   "cell_type": "code",
   "execution_count": 27,
   "metadata": {},
   "outputs": [
    {
     "name": "stdout",
     "output_type": "stream",
     "text": [
      "396/396 [==============================] - 7230s 18s/step - loss: 0.1903 - accuracy: 0.9473\n",
      "train loss : 0.19 and the train accuracy: 94.73%\n"
     ]
    }
   ],
   "source": [
    "train_loss, train_accuracy = next1_model.evaluate(x_train_normalized, y_train)\n",
    "print(f\"train loss : {train_loss:0.3} and the train accuracy: {train_accuracy:0.2%}\")"
   ]
  },
  {
   "cell_type": "markdown",
   "metadata": {},
   "source": [
    "## Validation Dataset"
   ]
  },
  {
   "cell_type": "code",
   "execution_count": 28,
   "metadata": {},
   "outputs": [
    {
     "data": {
      "text/plain": [
       "['loss', 'accuracy']"
      ]
     },
     "execution_count": 28,
     "metadata": {},
     "output_type": "execute_result"
    }
   ],
   "source": [
    "next1_model.metrics_names"
   ]
  },
  {
   "cell_type": "code",
   "execution_count": 29,
   "metadata": {},
   "outputs": [
    {
     "name": "stdout",
     "output_type": "stream",
     "text": [
      "40/40 [==============================] - 483s 12s/step - loss: 0.6601 - accuracy: 0.8318\n",
      "Val loss : 0.66 and the Val accuracy: 83.18%\n"
     ]
    }
   ],
   "source": [
    "val_loss, val_accuracy = next1_model.evaluate(x_validation_normalized, y_val)\n",
    "print(f\"Val loss : {val_loss:0.3} and the Val accuracy: {val_accuracy:0.2%}\")"
   ]
  },
  {
   "cell_type": "markdown",
   "metadata": {},
   "source": [
    "## Test Dataset"
   ]
  },
  {
   "cell_type": "code",
   "execution_count": 30,
   "metadata": {
    "colab": {
     "base_uri": "https://localhost:8080/"
    },
    "executionInfo": {
     "elapsed": 508,
     "status": "ok",
     "timestamp": 1707967265861,
     "user": {
      "displayName": "Henry Si",
      "userId": "17719448117276295977"
     },
     "user_tz": -480
    },
    "id": "nZy0XIE9-ZlB",
    "outputId": "77db39b2-d87a-4aad-8f8c-6e8ebb14574c"
   },
   "outputs": [
    {
     "data": {
      "text/plain": [
       "['loss', 'accuracy']"
      ]
     },
     "execution_count": 30,
     "metadata": {},
     "output_type": "execute_result"
    }
   ],
   "source": [
    "next1_model.metrics_names"
   ]
  },
  {
   "cell_type": "code",
   "execution_count": 31,
   "metadata": {
    "colab": {
     "base_uri": "https://localhost:8080/"
    },
    "executionInfo": {
     "elapsed": 961,
     "status": "ok",
     "timestamp": 1707967272806,
     "user": {
      "displayName": "Henry Si",
      "userId": "17719448117276295977"
     },
     "user_tz": -480
    },
    "id": "ZIv0wDdF-erU",
    "outputId": "e3d5129d-7eac-4f91-d121-11518a260c85"
   },
   "outputs": [
    {
     "name": "stdout",
     "output_type": "stream",
     "text": [
      "49/49 [==============================] - 595s 12s/step - loss: 0.6873 - accuracy: 0.8284\n",
      "Test loss : 0.687 and the test accuracy: 82.84%\n"
     ]
    }
   ],
   "source": [
    "test_loss, test_accuracy = next1_model.evaluate(x_test_normalized, y_test)\n",
    "print(f\"Test loss : {test_loss:0.3} and the test accuracy: {test_accuracy:0.2%}\")"
   ]
  },
  {
   "cell_type": "code",
   "execution_count": 32,
   "metadata": {
    "colab": {
     "base_uri": "https://localhost:8080/"
    },
    "executionInfo": {
     "elapsed": 889,
     "status": "ok",
     "timestamp": 1707968236550,
     "user": {
      "displayName": "Henry Si",
      "userId": "17719448117276295977"
     },
     "user_tz": -480
    },
    "id": "8mw5CsLx04dZ",
    "outputId": "43144399-fa4a-4b7a-8aed-e45d0d926da8"
   },
   "outputs": [
    {
     "name": "stdout",
     "output_type": "stream",
     "text": [
      "49/49 [==============================] - 608s 12s/step - loss: 0.6873 - accuracy: 0.8284\n",
      "Test loss : 0.687 and the test accuracy: 82.844%\n"
     ]
    }
   ],
   "source": [
    "np.set_printoptions(precision=3)\n",
    "test_loss, test_accuracy = next1_model.evaluate(x_test_normalized, y_test)\n",
    "print(f\"Test loss : {test_loss:0.3} and the test accuracy: {test_accuracy:0.3%}\")"
   ]
  },
  {
   "cell_type": "code",
   "execution_count": 33,
   "metadata": {},
   "outputs": [
    {
     "name": "stdout",
     "output_type": "stream",
     "text": [
      "(1266, 224, 224, 3)\n",
      "(1568, 224, 224, 3)\n",
      "31.875\n",
      "40.0\n"
     ]
    }
   ],
   "source": [
    "print(x_validation_normalized.shape)\n",
    "print(x_test_normalized.shape)\n",
    "print(1020/32)\n",
    "print(1280/32)"
   ]
  },
  {
   "cell_type": "code",
   "execution_count": 34,
   "metadata": {},
   "outputs": [
    {
     "name": "stdout",
     "output_type": "stream",
     "text": [
      "1/1 [==============================] - 1s 885ms/step\n",
      "1/1 [==============================] - 0s 343ms/step\n",
      "1/1 [==============================] - 0s 357ms/step\n",
      "1/1 [==============================] - 0s 349ms/step\n",
      "1/1 [==============================] - 0s 425ms/step\n",
      "1/1 [==============================] - 0s 353ms/step\n",
      "1/1 [==============================] - 0s 368ms/step\n",
      "1/1 [==============================] - 0s 357ms/step\n",
      "1/1 [==============================] - 0s 351ms/step\n",
      "1/1 [==============================] - 0s 367ms/step\n",
      "For Validation 1: Actual label: 7 vs. Predicted label: 7\n",
      "For Validation 2: Actual label: 9 vs. Predicted label: 9\n",
      "For Validation 3: Actual label: 18 vs. Predicted label: 1\n",
      "For Validation 4: Actual label: 9 vs. Predicted label: 9\n",
      "For Validation 5: Actual label: 5 vs. Predicted label: 19\n",
      "For Validation 6: Actual label: 9 vs. Predicted label: 9\n",
      "For Validation 7: Actual label: 0 vs. Predicted label: 11\n",
      "For Validation 8: Actual label: 9 vs. Predicted label: 9\n",
      "For Validation 9: Actual label: 12 vs. Predicted label: 12\n",
      "For Validation 10: Actual label: 0 vs. Predicted label: 0\n"
     ]
    }
   ],
   "source": [
    "# Initialize lists to store actual and predicted labels\n",
    "actual_labels = []\n",
    "predicted_labels = []\n",
    "\n",
    "# Iterate over the first 10 images in the validation set\n",
    "for i in range(10):\n",
    "    # Get the input image for prediction\n",
    "    input_image = np.expand_dims(x_validation_normalized[i], axis=0)\n",
    "    \n",
    "    # Predict the class probabilities for the input image\n",
    "    raw_predictions = next1_model.predict(input_image)\n",
    "    \n",
    "    # Get the predicted class index\n",
    "    predicted_class_index = np.argmax(raw_predictions, axis=1)[0]\n",
    "    \n",
    "    # Get the actual class label\n",
    "    actual_class_index = np.argmax(y_val[i])\n",
    "    \n",
    "    # Append the actual and predicted labels to the lists\n",
    "    actual_labels.append(actual_class_index)\n",
    "    predicted_labels.append(predicted_class_index)\n",
    "\n",
    "# Print the actual and predicted labels for the first 10 images\n",
    "# print(f\"Actual labels: {actual_labels} vs. Predicted labels: {predicted_labels}\")\n",
    "# print(\"Predicted labels:\", predicted_labels)\n",
    "for i in range(10):\n",
    "    print(f\"For Validation {i + 1}: Actual label: {actual_labels[i]} vs. Predicted label: {predicted_labels[i]}\")"
   ]
  },
  {
   "cell_type": "markdown",
   "metadata": {},
   "source": [
    "***"
   ]
  },
  {
   "cell_type": "code",
   "execution_count": 64,
   "metadata": {},
   "outputs": [],
   "source": [
    "# Save class metrics to CSV\n",
    "file_path = '/Users/merchika/chikaData/TA/assets/csv/new/new_vgg16_undersampling_classes_test_accy_2.csv'  # Change to path\n",
    "dataset_type = 'Undersampling Dataset'  # Update with used dataset type\n",
    "model_architecture = 'VGG16'  # Update with used model architecture\n",
    "\n",
    "def save_class_metrics_to_csv(file_path, dataset_type, model_architecture, sorted_class_metrics):\n",
    "    # Check if file exists\n",
    "    try:\n",
    "        with open(file_path, 'x', newline='') as csvfile:\n",
    "            writer = csv.writer(csvfile)\n",
    "            writer.writerow(['Dataset_Type', 'Model_Architecture', 'Class', 'Test_Loss', 'Test_Accuracy'])\n",
    "    except FileExistsError:\n",
    "        pass\n",
    "\n",
    "# Append sorted class metrics to the CSV file so that the same like print output\n",
    "with open(file_path, 'a', newline='') as csvfile:\n",
    "    writer = csv.writer(csvfile)\n",
    "    for class_name, metrics in sorted_class_metrics:\n",
    "        writer.writerow([\n",
    "            dataset_type,\n",
    "            model_architecture,\n",
    "            class_name,\n",
    "            f\"{metrics['loss']:.4f}\",\n",
    "            f\"{metrics['accuracy']:.2%}\"\n",
    "        ])"
   ]
  },
  {
   "cell_type": "code",
   "execution_count": 65,
   "metadata": {},
   "outputs": [
    {
     "name": "stdout",
     "output_type": "stream",
     "text": [
      "Test Metrics for Each Class (Sorted by Test Accuracy):\n",
      "Class                          Test Loss       Test Accuracy  \n",
      "------------------------------------------------------------\n",
      "Kalimantan_Pontianak           0.087           94.69%         \n",
      "Yogyakarta_Sekar Jagad         0.171           93.94%         \n",
      "Cirebon                        0.186           93.81%         \n",
      "Yogyakarta_Tambal              0.271           93.62%         \n",
      "Bali                           0.409           90.65%         \n",
      "Papua_Cendrawasih              0.479           87.86%         \n",
      "Kulon Progo_Geblek Renteng     0.424           87.12%         \n",
      "Pati                           0.677           80.43%         \n",
      "Madura                         0.564           79.80%         \n",
      "Yogyakarta_Kawung              1.448           76.92%         \n",
      "Aceh                           0.863           70.37%         \n",
      "Solo_Sidoluhur                 2.404           70.00%         \n",
      "Kalimantan_Dayak               2.042           66.67%         \n",
      "Betawi                         2.490           51.85%         \n",
      "Maluku_Pala Cengkeh            2.786           50.00%         \n",
      "Solo_Sogan                     5.017           50.00%         \n",
      "Ciamis                         6.979           30.00%         \n",
      "Garut                          3.013           30.00%         \n",
      "Pekalongan                     7.364           10.00%         \n",
      "Tasikmalaya_Priyangan          5.455           10.00%         \n",
      "\n",
      "Overall Test Metrics:\n",
      "Overall test loss: 2.156 and the overall test accuracy: 65.89%\n"
     ]
    }
   ],
   "source": [
    "# Initialize dictionaries to store metrics for each class\n",
    "class_metrics = {class_name: {'loss': 0.0, 'accuracy': 0.0} for class_name in LABEL_NAMES}\n",
    "\n",
    "# Initialize lists to store overall test loss and accuracy for each class\n",
    "overall_test_loss = []\n",
    "overall_test_accuracy = []\n",
    "\n",
    "# Calculate metrics for each class\n",
    "for i, class_name in enumerate(LABEL_NAMES):\n",
    "    # Get indices of test samples belonging to the current class\n",
    "    class_indices = np.where(np.argmax(y_test, axis=1) == i)[0]\n",
    "    \n",
    "    # Select test data and labels for the current class\n",
    "    x_class_test = x_test_normalized[class_indices]\n",
    "    y_class_test = y_test[class_indices]\n",
    "    \n",
    "    # Evaluate the model on the test data for the current class  \n",
    "    class_metrics[class_name]['loss'], class_metrics[class_name]['accuracy'] = next1_model.evaluate(x_class_test, y_class_test, verbose=0)\n",
    "    \n",
    "    # Append metrics to overall lists\n",
    "    overall_test_loss.append(class_metrics[class_name]['loss'])\n",
    "    overall_test_accuracy.append(class_metrics[class_name]['accuracy'])\n",
    "\n",
    "# Sort class metrics by test accuracy\n",
    "sorted_class_metrics = sorted(class_metrics.items(), key=lambda x: x[1]['accuracy'], reverse=True)\n",
    "\n",
    "# Print table for metrics for each class sorted by test accuracy\n",
    "print(\"Test Metrics for Each Class (Sorted by Test Accuracy):\")\n",
    "print(\"{:<30} {:<15} {:<15}\".format(\"Class\", \"Test Loss\", \"Test Accuracy\"))\n",
    "print(\"-\" * 60)\n",
    "for class_name, metrics in sorted_class_metrics:\n",
    "    print(\"{:<30} {:<15.3f} {:<15.2%}\".format(class_name, metrics['loss'], metrics['accuracy']))\n",
    "\n",
    "# Print overall test metrics\n",
    "print(\"\\nOverall Test Metrics:\")\n",
    "print(f\"Overall test loss: {np.mean(overall_test_loss):.3f} and the overall test accuracy: {np.mean(overall_test_accuracy):.2%}\")\n",
    "\n",
    "save_class_metrics_to_csv(file_path, dataset_type, model_architecture, sorted_class_metrics)"
   ]
  },
  {
   "cell_type": "markdown",
   "metadata": {},
   "source": [
    "# Confusion Matrix"
   ]
  },
  {
   "cell_type": "code",
   "execution_count": 66,
   "metadata": {},
   "outputs": [
    {
     "name": "stdout",
     "output_type": "stream",
     "text": [
      "49/49 [==============================] - 574s 12s/step\n"
     ]
    }
   ],
   "source": [
    "predictions = next1_model.predict(x_test_normalized)\n",
    "y_test_labels = np.argmax(y_test, axis=1)\n",
    "conf_matrix = confusion_matrix(y_true=y_test_labels, y_pred=predictions.argmax(axis=1))"
   ]
  },
  {
   "cell_type": "code",
   "execution_count": 67,
   "metadata": {
    "colab": {
     "base_uri": "https://localhost:8080/"
    },
    "executionInfo": {
     "elapsed": 407,
     "status": "ok",
     "timestamp": 1707967281284,
     "user": {
      "displayName": "Henry Si",
      "userId": "17719448117276295977"
     },
     "user_tz": -480
    },
    "id": "lWEmZLf4-pZz",
    "outputId": "4f962403-74e8-4732-b5c8-9758a0566ccd"
   },
   "outputs": [
    {
     "data": {
      "text/plain": [
       "(20, 20)"
      ]
     },
     "execution_count": 67,
     "metadata": {},
     "output_type": "execute_result"
    }
   ],
   "source": [
    "conf_matrix.shape"
   ]
  },
  {
   "cell_type": "code",
   "execution_count": 68,
   "metadata": {
    "id": "cQNoEDQA-r-9"
   },
   "outputs": [],
   "source": [
    "nr_rows = conf_matrix.shape[0]\n",
    "nr_cols = conf_matrix.shape[1]"
   ]
  },
  {
   "cell_type": "markdown",
   "metadata": {},
   "source": [
    "## Test Accuracies - By Classes (With Table - Grouped by Test Acc.) - Save to CSV"
   ]
  },
  {
   "cell_type": "code",
   "execution_count": 71,
   "metadata": {},
   "outputs": [
    {
     "name": "stdout",
     "output_type": "stream",
     "text": [
      "Class                          Recall          Precision       F1 Score       \n",
      "---------------------------------------------------------------------------\n",
      "Kalimantan_Pontianak           94.69%          98.17%          96.40%         \n",
      "Cirebon                        93.81%          98.15%          95.93%         \n",
      "Yogyakarta_Tambal              93.62%          87.42%          90.41%         \n",
      "Papua_Cendrawasih              87.86%          92.48%          90.11%         \n",
      "Bali                           90.65%          88.73%          89.68%         \n",
      "Kulon Progo_Geblek Renteng     87.12%          91.27%          89.15%         \n",
      "Yogyakarta_Sekar Jagad         93.94%          83.78%          88.57%         \n",
      "Pati                           80.43%          93.43%          86.45%         \n",
      "Yogyakarta_Kawung              76.92%          90.91%          83.33%         \n",
      "Aceh                           70.37%          83.82%          76.51%         \n",
      "Madura                         79.80%          67.81%          73.32%         \n",
      "Kalimantan_Dayak               66.67%          75.00%          70.59%         \n",
      "Solo_Sidoluhur                 70.00%          50.00%          58.33%         \n",
      "Maluku_Pala Cengkeh            50.00%          56.25%          52.94%         \n",
      "Betawi                         51.85%          48.28%          50.00%         \n",
      "Solo_Sogan                     50.00%          50.00%          50.00%         \n",
      "Ciamis                         30.00%          60.00%          40.00%         \n",
      "Garut                          30.00%          25.00%          27.27%         \n",
      "Pekalongan                     10.00%          7.14%           8.33%          \n",
      "Tasikmalaya_Priyangan          10.00%          7.14%           8.33%          \n",
      "\n",
      "Overall Metrics:\n",
      "Recall: 65.89%\n",
      "Precision: 67.74%\n",
      "Overall F1 Score: 66.80%\n"
     ]
    }
   ],
   "source": [
    "# Initialize dictionaries to store metrics for each class\n",
    "metrics_per_class = []\n",
    "for i in range(len(LABEL_NAMES)):\n",
    "    recall = conf_matrix[i, i] / np.sum(conf_matrix[i, :])\n",
    "    precision = conf_matrix[i, i] / np.sum(conf_matrix[:, i])\n",
    "    f1_score = 2 * (precision * recall) / (precision + recall) if (precision + recall) != 0 else 0\n",
    "    \n",
    "    metrics_per_class.append({'Class': LABEL_NAMES[i], 'Recall': recall, 'Precision': precision, 'F1 Score': f1_score})\n",
    "\n",
    "# Sort metrics by F1 Score\n",
    "metrics_per_class_sorted = sorted(metrics_per_class, key=lambda x: x['F1 Score'], reverse=True)\n",
    "\n",
    "# Print metrics for each class\n",
    "print(\"{:<30} {:<15} {:<15} {:<15}\".format('Class', 'Recall', 'Precision', 'F1 Score'))\n",
    "print(\"-\" * 75)\n",
    "for metric in metrics_per_class_sorted:\n",
    "    print(\"{:<30} {:<15.2%} {:<15.2%} {:<15.2%}\".format(metric['Class'], metric['Recall'], metric['Precision'], metric['F1 Score']))\n",
    "\n",
    "# Calculate overall metrics\n",
    "overall_precision = np.mean([metric['Precision'] for metric in metrics_per_class])\n",
    "overall_recall = np.mean([metric['Recall'] for metric in metrics_per_class])\n",
    "overall_f1_score = 2 * (overall_precision * overall_recall) / (overall_precision + overall_recall) if (overall_precision + overall_recall) != 0 else 0\n",
    "\n",
    "overall_metrics = {\n",
    "    'Recall': overall_recall,\n",
    "    'Precision': overall_precision,\n",
    "    'F1 Score': overall_f1_score\n",
    "}\n",
    "\n",
    "print(\"\\nOverall Metrics:\")\n",
    "print(f\"Recall: {overall_recall:.2%}\")\n",
    "print(f\"Precision: {overall_precision:.2%}\")\n",
    "print(f\"Overall F1 Score: {overall_f1_score:.2%}\")\n",
    "# Save sorted class metrics and overall metrics to CSV\n",
    "\n",
    "# Calling the function\n",
    "save_metrics_to_csv(file_path, dataset_type, model_architecture, metrics_per_class_sorted, overall_metrics)"
   ]
  },
  {
   "cell_type": "code",
   "execution_count": 72,
   "metadata": {},
   "outputs": [],
   "source": [
    "# Save class metrics to CSV\n",
    "file_path = '/Users/merchika/chikaData/TA/assets/csv/new/new_vgg16_undersampling_classes_test_accy_2.csv'  # Change to path\n",
    "dataset_type = 'Undersampling Dataset'  # Update with used dataset type\n",
    "model_architecture = 'VGG16'  # Update with used model architecture\n",
    "\n",
    "def save_metrics_to_csv(file_path, dataset_type, model_architecture, sorted_metrics, overall_metrics):\n",
    "    # Check if file exists\n",
    "    try:\n",
    "        with open(file_path, 'x', newline='') as csvfile:\n",
    "            writer = csv.writer(csvfile)\n",
    "            writer.writerow(['Dataset_Type', 'Model_Architecture', 'Class', 'Recall', 'Precision', 'F1 Score'])\n",
    "    except FileExistsError:\n",
    "        pass\n",
    "\n",
    "    # Append sorted class metrics to the CSV file\n",
    "    with open(file_path, 'a', newline='') as csvfile:\n",
    "        writer = csv.writer(csvfile)\n",
    "        for metric in sorted_metrics:\n",
    "            writer.writerow([\n",
    "                dataset_type,\n",
    "                model_architecture,\n",
    "                metric['Class'],\n",
    "                f\"{metric['Recall']:.2%}\",\n",
    "                f\"{metric['Precision']:.2%}\",\n",
    "                f\"{metric['F1 Score']:.2%}\"\n",
    "            ])\n",
    "\n",
    "        # Add a blank row before the overall metrics\n",
    "        writer.writerow([])\n",
    "\n",
    "        # Append overall metrics\n",
    "        writer.writerow([\n",
    "            dataset_type,\n",
    "            model_architecture,\n",
    "            'Overall',\n",
    "            f\"{overall_metrics['Recall']:.2%}\",\n",
    "            f\"{overall_metrics['Precision']:.2%}\",\n",
    "            f\"{overall_metrics['F1 Score']:.2%}\"\n",
    "        ])"
   ]
  },
  {
   "cell_type": "code",
   "execution_count": 73,
   "metadata": {},
   "outputs": [
    {
     "data": {
      "text/plain": [
       "40.0"
      ]
     },
     "execution_count": 73,
     "metadata": {},
     "output_type": "execute_result"
    }
   ],
   "source": [
    "1280/32"
   ]
  },
  {
   "cell_type": "code",
   "execution_count": 74,
   "metadata": {
    "colab": {
     "base_uri": "https://localhost:8080/",
     "height": 647
    },
    "executionInfo": {
     "elapsed": 1055,
     "status": "ok",
     "timestamp": 1707967290944,
     "user": {
      "displayName": "Henry Si",
      "userId": "17719448117276295977"
     },
     "user_tz": -480
    },
    "id": "wG27a0bb-zmU",
    "outputId": "131a133c-88ab-420e-c1c5-972fc32130d9"
   },
   "outputs": [
    {
     "data": {
      "image/png": "[encoded data removed]",
      "text/plain": [
       "<Figure size 665x665 with 2 Axes>"
      ]
     },
     "metadata": {},
     "output_type": "display_data"
    }
   ],
   "source": [
    "plt.figure(figsize=(7,7), dpi=95)\n",
    "plt.imshow(conf_matrix, cmap=plt.cm.Blues)\n",
    "\n",
    "plt.title('Confusion Matrix', fontsize=9)\n",
    "plt.ylabel('Actual Labels', fontsize=6)\n",
    "plt.xlabel('Predicted Labels', fontsize=6)\n",
    "\n",
    "tick_marks = np.arange(test_num_classes)\n",
    "plt.yticks(tick_marks, LABEL_NAMES, fontsize=6)\n",
    "plt.xticks(tick_marks, LABEL_NAMES, fontsize=6, rotation=85)\n",
    "\n",
    "plt.colorbar()\n",
    "\n",
    "for i, j in itertools.product(range(nr_rows), range(nr_cols)):\n",
    "    plt.text(j, i, conf_matrix[i, j], horizontalalignment='center',\n",
    "            color='white' if conf_matrix[i, j] > conf_matrix.max()/2 else 'black')\n",
    "\n",
    "save_path = '/Users/merchika/chikaData/TA/assets/image/CONFUMATR_NEW_UNDERSAMPLING_VGG16_model_2.png'\n",
    "plt.savefig(save_path)\n",
    "\n",
    "plt.show()"
   ]
  },
  {
   "cell_type": "markdown",
   "metadata": {},
   "source": [
    "## True Positive, Recall, Precision, F1-Score"
   ]
  },
  {
   "cell_type": "code",
   "execution_count": 75,
   "metadata": {
    "colab": {
     "base_uri": "https://localhost:8080/"
    },
    "executionInfo": {
     "elapsed": 483,
     "status": "ok",
     "timestamp": 1707967338975,
     "user": {
      "displayName": "Henry Si",
      "userId": "17719448117276295977"
     },
     "user_tz": -480
    },
    "id": "6664tEW1-3hc",
    "outputId": "535eb4a6-60cb-4145-c42e-526b3cf14a2c"
   },
   "outputs": [
    {
     "data": {
      "text/plain": [
       "array([ 57, 126,  14,   3, 106,   3,  12, 107, 115, 158,   9, 123, 185,\n",
       "         1,   7,   5,   1,  20, 124, 132])"
      ]
     },
     "execution_count": 75,
     "metadata": {},
     "output_type": "execute_result"
    }
   ],
   "source": [
    "np.diag(conf_matrix)"
   ]
  },
  {
   "cell_type": "code",
   "execution_count": 76,
   "metadata": {
    "colab": {
     "base_uri": "https://localhost:8080/"
    },
    "executionInfo": {
     "elapsed": 338,
     "status": "ok",
     "timestamp": 1707967356604,
     "user": {
      "displayName": "Henry Si",
      "userId": "17719448117276295977"
     },
     "user_tz": -480
    },
    "id": "thlBYRPr_A1v",
    "outputId": "fc20249d-7e15-42a0-efdb-360ee9ef0a13"
   },
   "outputs": [
    {
     "data": {
      "text/plain": [
       "array([0.7037037 , 0.90647482, 0.51851852, 0.3       , 0.9380531 ,\n",
       "       0.3       , 0.66666667, 0.94690265, 0.87121212, 0.7979798 ,\n",
       "       0.5       , 0.87857143, 0.80434783, 0.1       , 0.7       ,\n",
       "       0.5       , 0.1       , 0.76923077, 0.93939394, 0.93617021])"
      ]
     },
     "execution_count": 76,
     "metadata": {},
     "output_type": "execute_result"
    }
   ],
   "source": [
    "recall = np.diag(conf_matrix) / np.sum(conf_matrix, axis=1)\n",
    "recall"
   ]
  },
  {
   "cell_type": "code",
   "execution_count": 77,
   "metadata": {
    "colab": {
     "base_uri": "https://localhost:8080/"
    },
    "executionInfo": {
     "elapsed": 366,
     "status": "ok",
     "timestamp": 1707967361415,
     "user": {
      "displayName": "Henry Si",
      "userId": "17719448117276295977"
     },
     "user_tz": -480
    },
    "id": "7tJOpyIs_EEQ",
    "outputId": "65f2d82b-66ac-4251-e206-9e83a9d1b5c8"
   },
   "outputs": [
    {
     "data": {
      "text/plain": [
       "array([0.83823529, 0.88732394, 0.48275862, 0.6       , 0.98148148,\n",
       "       0.25      , 0.75      , 0.98165138, 0.91269841, 0.67811159,\n",
       "       0.5625    , 0.92481203, 0.93434343, 0.07142857, 0.5       ,\n",
       "       0.5       , 0.07142857, 0.90909091, 0.83783784, 0.87417219])"
      ]
     },
     "execution_count": 77,
     "metadata": {},
     "output_type": "execute_result"
    }
   ],
   "source": [
    "# axis=0 means the sum will be calculated along the vertical axis (column-wise)\n",
    "# axis=1 means the sum is calculated along the horizontal axis (row-wise)\n",
    "precision = np.diag(conf_matrix) / np.sum(conf_matrix, axis=0)\n",
    "precision = np.nan_to_num(precision, nan=0)  # assuming there is a NaN then replace with 0\n",
    "precision\n",
    "\n",
    "# Use this if there is no NaN\n",
    "# precision = np.diag(conf_matrix) / np.sum(conf_matrix, axis=0)\n",
    "# precision"
   ]
  },
  {
   "cell_type": "code",
   "execution_count": 78,
   "metadata": {
    "colab": {
     "base_uri": "https://localhost:8080/"
    },
    "executionInfo": {
     "elapsed": 309,
     "status": "ok",
     "timestamp": 1707967378575,
     "user": {
      "displayName": "Henry Si",
      "userId": "17719448117276295977"
     },
     "user_tz": -480
    },
    "id": "duxXLPe-_HfE",
    "outputId": "df05ee6c-66bb-4b1c-b25b-e678105e799f"
   },
   "outputs": [
    {
     "name": "stdout",
     "output_type": "stream",
     "text": [
      "Model recall score is 65.89%\n"
     ]
    }
   ],
   "source": [
    "avg_recall = np.mean(recall)\n",
    "print(f'Model recall score is {avg_recall:.2%}')"
   ]
  },
  {
   "cell_type": "code",
   "execution_count": 79,
   "metadata": {
    "colab": {
     "base_uri": "https://localhost:8080/"
    },
    "executionInfo": {
     "elapsed": 336,
     "status": "ok",
     "timestamp": 1707967385255,
     "user": {
      "displayName": "Henry Si",
      "userId": "17719448117276295977"
     },
     "user_tz": -480
    },
    "id": "OIcvMvM0_KpW",
    "outputId": "20030d2b-3850-45a8-b1bf-57545da77b8c"
   },
   "outputs": [
    {
     "name": "stdout",
     "output_type": "stream",
     "text": [
      "Model precision score is 67.74%\n",
      "Model f score is 66.80%\n"
     ]
    }
   ],
   "source": [
    "avg_precision = np.mean(precision)\n",
    "print(f'Model precision score is {avg_precision:.2%}')\n",
    "\n",
    "f1_score = 2 * (avg_precision * avg_recall) / (avg_precision + avg_recall)\n",
    "print(f'Model f score is {f1_score:.2%}')\n",
    "\n",
    "# f1_score_numpy = np.mean(2 * class_precision * class_recall / (class_precision + class_recall))\n",
    "# print(f'f1_score_numpy: {f1_score_numpy}')"
   ]
  },
  {
   "cell_type": "markdown",
   "metadata": {},
   "source": [
    "#### USING SKLEARN CLASSIFICATION REPORT"
   ]
  },
  {
   "cell_type": "code",
   "execution_count": 80,
   "metadata": {},
   "outputs": [
    {
     "name": "stdout",
     "output_type": "stream",
     "text": [
      "                            precision    recall  f1-score   support\n",
      "      Kalimantan_Pontianak     0.9817     0.9469     0.964      113\n",
      "                   Cirebon     0.9815     0.9381     0.9593     113\n",
      "         Yogyakarta_Tambal     0.8742     0.9362     0.9041     141\n",
      "         Papua_Cendrawasih     0.9248     0.8786     0.9011     140\n",
      "                      Bali     0.8873     0.9065     0.8968     139\n",
      "Kulon Progo_Geblek Renteng     0.9127     0.8712     0.8915     132\n",
      "    Yogyakarta_Sekar Jagad     0.8378     0.9394     0.8857     132\n",
      "                      Pati     0.9343     0.8043     0.8645     230\n",
      "         Yogyakarta_Kawung     0.9091     0.7692     0.8333     26\n",
      "                      Aceh     0.8382     0.7037     0.7651     81\n",
      "                    Madura     0.6781     0.798      0.7332     198\n",
      "          Kalimantan_Dayak     0.75       0.6667     0.7059     18\n",
      "            Solo_Sidoluhur     0.5        0.7        0.5833     10\n",
      "       Maluku_Pala Cengkeh     0.5625     0.5        0.5294     18\n",
      "                    Betawi     0.4828     0.5185     0.5        27\n",
      "                Solo_Sogan     0.5        0.5        0.5        10\n",
      "                    Ciamis     0.6        0.3        0.4        10\n",
      "                     Garut     0.25       0.3        0.2727     10\n",
      "                Pekalongan     0.0714     0.1        0.0833     10\n",
      "     Tasikmalaya_Priyangan     0.0714     0.1        0.0833     10\n",
      "\n",
      "                  accuracy                         0.8342      1568\n",
      "                 macro avg     0.6774    0.6589    0.6628      1568\n",
      "              weighted avg     0.8458    0.8342    0.8372      1568\n"
     ]
    }
   ],
   "source": [
    "import re\n",
    "\n",
    "# Define a function to convert float to percentage\n",
    "def convert_to_percentage(value):\n",
    "    # return f\"{value * 100:.2f}%\"\n",
    "    return f\"{value}\"\n",
    "# Generate the classification report\n",
    "report = classification_report(y_test_labels, predictions.argmax(axis=1), target_names=LABEL_NAMES, zero_division=0, digits=4)\n",
    "\n",
    "# Separate the report into class metrics and summary metrics\n",
    "lines = report.split('\\n')\n",
    "class_metrics = []\n",
    "summary_metrics = []\n",
    "headings = None\n",
    "\n",
    "# Iterate through each line in the report\n",
    "for line in lines:\n",
    "    # Check for headings\n",
    "    if 'precision' in line and 'recall' in line and 'f1-score' in line and 'support' in line:\n",
    "        headings = line\n",
    "    \n",
    "    # Check for summary metrics\n",
    "    elif any(summary_key in line for summary_key in ['accuracy', 'macro avg', 'weighted avg']):\n",
    "        summary_metrics.append(line)\n",
    "    else:\n",
    "        # Separate class metric lines\n",
    "        if line.strip():\n",
    "            match = re.search(r\"^([\\w\\s]+)\\s+([\\d.]+)\\s+([\\d.]+)\\s+([\\d.]+)\\s+(\\d+)\", line)\n",
    "            if match:\n",
    "                label = match.group(1)\n",
    "                precision = float(match.group(2))\n",
    "                recall = float(match.group(3))\n",
    "                f1_score = float(match.group(4))\n",
    "                support = int(match.group(5))\n",
    "                class_metrics.append((label, precision, recall, f1_score, support))\n",
    "# Sort class metrics by F1-score in descending order\n",
    "class_metrics.sort(key=lambda x: x[3], reverse=True)\n",
    "\n",
    "# Combine sorted class metrics and summary metrics\n",
    "final_report = []\n",
    "if headings:\n",
    "    final_report.append(headings)\n",
    "\n",
    "# Add sorted class metrics with percentages to the report\n",
    "for label, precision, recall, f1_score, support in class_metrics:\n",
    "    precision_percentage = convert_to_percentage(precision)\n",
    "    recall_percentage = convert_to_percentage(recall)\n",
    "    f1_score_percentage = convert_to_percentage(f1_score)\n",
    "    final_report.append(f\"{label:<30} {precision_percentage:<10} {recall_percentage:<10} {f1_score_percentage:<10} {support}\")\n",
    "\n",
    "# Add an extra blank line before the summary metrics\n",
    "final_report.append('')\n",
    "\n",
    "# Add summary metrics at the bottom\n",
    "final_report.extend(summary_metrics)\n",
    "\n",
    "# Join the report lines and print\n",
    "print('\\n'.join(final_report))"
   ]
  },
  {
   "cell_type": "markdown",
   "metadata": {},
   "source": [
    "#### USING MANUAL"
   ]
  },
  {
   "cell_type": "code",
   "execution_count": 81,
   "metadata": {},
   "outputs": [
    {
     "name": "stdout",
     "output_type": "stream",
     "text": [
      "Class                          Precision    Recall       F1 Score     Support     \n",
      "------------------------------------------------------------------------------\n",
      "Kalimantan_Pontianak           98.17%       94.69%       96.40%       113         \n",
      "Cirebon                        98.15%       93.81%       95.93%       113         \n",
      "Yogyakarta_Tambal              87.42%       93.62%       90.41%       141         \n",
      "Papua_Cendrawasih              92.48%       87.86%       90.11%       140         \n",
      "Bali                           88.73%       90.65%       89.68%       139         \n",
      "Kulon Progo_Geblek Renteng     91.27%       87.12%       89.15%       132         \n",
      "Yogyakarta_Sekar Jagad         83.78%       93.94%       88.57%       132         \n",
      "Pati                           93.43%       80.43%       86.45%       230         \n",
      "Yogyakarta_Kawung              90.91%       76.92%       83.33%       26          \n",
      "Aceh                           83.82%       70.37%       76.51%       81          \n",
      "Madura                         67.81%       79.80%       73.32%       198         \n",
      "Kalimantan_Dayak               75.00%       66.67%       70.59%       18          \n",
      "Solo_Sidoluhur                 50.00%       70.00%       58.33%       10          \n",
      "Maluku_Pala Cengkeh            56.25%       50.00%       52.94%       18          \n",
      "Betawi                         48.28%       51.85%       50.00%       27          \n",
      "Solo_Sogan                     50.00%       50.00%       50.00%       10          \n",
      "Ciamis                         60.00%       30.00%       40.00%       10          \n",
      "Garut                          25.00%       30.00%       27.27%       10          \n",
      "Pekalongan                     7.14%        10.00%       8.33%        10          \n",
      "Tasikmalaya_Priyangan          7.14%        10.00%       8.33%        10          \n",
      "\n",
      "\n",
      "accuracy                                                 83.42%       1568\n",
      "macro avg                      67.74%       65.89%       66.28%       1568\n",
      "weighted avg                   84.58%       83.42%       83.72%       1568\n",
      "\n",
      "Overall Metrics:\n",
      "Recall: 65.89%\n",
      "Precision: 67.74%\n",
      "Overall F1 Score: 66.80%\n"
     ]
    }
   ],
   "source": [
    "# ============ then compared with the manual one that we had before Precision, Recall, F1, and modified a bit with Support  ========\n",
    "\n",
    "# Calculate metrics per class and add support\n",
    "metrics_per_class = []\n",
    "for i in range(len(LABEL_NAMES)):\n",
    "    recall = conf_matrix[i, i] / np.sum(conf_matrix[i, :])\n",
    "    precision = conf_matrix[i, i] / np.sum(conf_matrix[:, i])\n",
    "    f1_score = 2 * (precision * recall) / (precision + recall) if (precision + recall) != 0 else 0\n",
    "    \n",
    "    # Calculate support for each class, support is the number of images per class\n",
    "    support = np.sum(conf_matrix[i, :])  # Support is the sum of the row [i] in the confusion matrix\n",
    "    \n",
    "    # Add metrics and support to the list\n",
    "    metrics_per_class.append({\n",
    "        'Class': LABEL_NAMES[i],\n",
    "        'Precision': precision,\n",
    "        'Recall': recall,\n",
    "        'F1 Score': f1_score,\n",
    "        'Support': support\n",
    "    })\n",
    "\n",
    "# Sort metrics by F1 Score\n",
    "metrics_per_class_sorted = sorted(metrics_per_class, key=lambda x: x['F1 Score'], reverse=True)\n",
    "# To print metrics for each class including support\n",
    "print(\"{:<30} {:<12} {:<12} {:<12} {:<12}\".format('Class', 'Precision', 'Recall', 'F1 Score', 'Support'))\n",
    "print(\"-\" * 78)\n",
    "for metric in metrics_per_class_sorted:\n",
    "    print(\"{:<30} {:<12.2%} {:<12.2%} {:<12.2%} {:<12}\".format(\n",
    "        metric['Class'], metric['Precision'], metric['Recall'], metric['F1 Score'], metric['Support']))\n",
    "\n",
    "# Calculate overall F1 Score using the standard equation\n",
    "overall_precision = np.mean([metric['Precision'] for metric in metrics_per_class])\n",
    "overall_recall = np.mean([metric['Recall'] for metric in metrics_per_class])\n",
    "overall_f1_score = 2 * (overall_precision * overall_recall) / (overall_precision + overall_recall) if (overall_precision + overall_recall) != 0 else 0\n",
    "\n",
    "# =================\n",
    "# Adding Accuracy, Macro avg and Weighted avg \n",
    "# Total number of observations (number of classes x no. images / perclass)\n",
    "total_observations = np.sum(conf_matrix)\n",
    "\n",
    "# Calculate accuracy\n",
    "accuracy = np.sum(np.diag(conf_matrix)) / total_observations\n",
    "\n",
    "# Calculate macro average\n",
    "macro_avg_precision = np.mean([metric['Precision'] for metric in metrics_per_class])\n",
    "macro_avg_recall = np.mean([metric['Recall'] for metric in metrics_per_class])\n",
    "macro_avg_f1 = np.mean([metric['F1 Score'] for metric in metrics_per_class])\n",
    "\n",
    "# Calculate weighted average\n",
    "weighted_avg_precision = 0\n",
    "weighted_avg_recall = 0\n",
    "weighted_avg_f1 = 0\n",
    "\n",
    "\n",
    "for i, metric in enumerate(metrics_per_class):\n",
    "    support = np.sum(conf_matrix[i, :])\n",
    "    weight = support / total_observations\n",
    "    \n",
    "    weighted_avg_precision += metric['Precision'] * weight\n",
    "    weighted_avg_recall += metric['Recall'] * weight\n",
    "    weighted_avg_f1 += metric['F1 Score'] * weight\n",
    "\n",
    "print(\"\\n\")\n",
    "# print(f\"{'':<24} {'precision':>12} {'recall':>12} {'f1-score':>12}\")\n",
    "# print(f\"{'accuracy':<45}{accuracy:>12.2%}\")\n",
    "print(f\"{'accuracy':<25}{'':>26.4}{accuracy:>12.2%} {total_observations:>10}\")\n",
    "print(f\"{'macro avg':<25}{macro_avg_precision:>12.2%} {macro_avg_recall:>12.2%} {macro_avg_f1:>12.2%} {total_observations:>10}\")\n",
    "print(f\"{'weighted avg':<25}{weighted_avg_precision:>12.2%} {weighted_avg_recall:>12.2%} {weighted_avg_f1:>12.2%} {total_observations:>10}\")\n",
    "\n",
    "# =================\n",
    "\n",
    "print(\"\\nOverall Metrics:\")\n",
    "print(f\"Recall: {overall_recall:.2%}\")\n",
    "print(f\"Precision: {overall_precision:.2%}\")\n",
    "print(f\"Overall F1 Score: {overall_f1_score:.2%}\")"
   ]
  },
  {
   "cell_type": "markdown",
   "metadata": {},
   "source": [
    "#### COMPARISON MANUAL VS CLASSIFICATION"
   ]
  },
  {
   "cell_type": "code",
   "execution_count": 82,
   "metadata": {},
   "outputs": [
    {
     "name": "stdout",
     "output_type": "stream",
     "text": [
      "Class                      Precision  Recall     F1 Score   Support                                precision    recall  f1-score   support\n",
      "----------------------------------------------------------------------       Kalimantan_Pontianak     98.17%     94.69%     96.40%     113\n",
      "Kalimantan_Pontianak       98.17%     94.69%     96.40%     113                           Cirebon     98.15%     93.81%     95.93%     113\n",
      "Cirebon                    98.15%     93.81%     95.93%     113                 Yogyakarta_Tambal     87.42%     93.62%     90.41%     141\n",
      "Yogyakarta_Tambal          87.42%     93.62%     90.41%     141                 Papua_Cendrawasih     92.48%     87.86%     90.11%     140\n",
      "Papua_Cendrawasih          92.48%     87.86%     90.11%     140                              Bali     88.73%     90.65%     89.68%     139\n",
      "Bali                       88.73%     90.65%     89.68%     139        Kulon Progo_Geblek Renteng     91.27%     87.12%     89.15%     132\n",
      "Kulon Progo_Geblek Renteng 91.27%     87.12%     89.15%     132            Yogyakarta_Sekar Jagad     83.78%     93.94%     88.57%     132\n",
      "Yogyakarta_Sekar Jagad     83.78%     93.94%     88.57%     132                              Pati     93.43%     80.43%     86.45%     230\n",
      "Pati                       93.43%     80.43%     86.45%     230                 Yogyakarta_Kawung     90.91%     76.92%     83.33%     26\n",
      "Yogyakarta_Kawung          90.91%     76.92%     83.33%     26                               Aceh     83.82%     70.37%     76.51%     81\n",
      "Aceh                       83.82%     70.37%     76.51%     81                             Madura     67.81%     79.80%     73.32%     198\n",
      "Madura                     67.81%     79.80%     73.32%     198                  Kalimantan_Dayak     75.00%     66.67%     70.59%     18\n",
      "Kalimantan_Dayak           75.00%     66.67%     70.59%     18                     Solo_Sidoluhur     50.00%     70.00%     58.33%     10\n",
      "Solo_Sidoluhur             50.00%     70.00%     58.33%     10                Maluku_Pala Cengkeh     56.25%     50.00%     52.94%     18\n",
      "Maluku_Pala Cengkeh        56.25%     50.00%     52.94%     18                             Betawi     48.28%     51.85%     50.00%     27\n",
      "Betawi                     48.28%     51.85%     50.00%     27                         Solo_Sogan     50.00%     50.00%     50.00%     10\n",
      "Solo_Sogan                 50.00%     50.00%     50.00%     10                             Ciamis     60.00%     30.00%     40.00%     10\n",
      "Ciamis                     60.00%     30.00%     40.00%     10                              Garut     25.00%     30.00%     27.27%     10\n",
      "Garut                      25.00%     30.00%     27.27%     10                         Pekalongan     7.14%      10.00%     8.33%      10\n",
      "Pekalongan                 7.14%      10.00%     8.33%      10              Tasikmalaya_Priyangan     7.14%      10.00%     8.33%      10\n",
      "Tasikmalaya_Priyangan      7.14%      10.00%     8.33%      10         \n",
      "                                                                               accuracy                         0.8342      1568\n",
      "                                                                              macro avg     0.6774    0.6589    0.6628      1568\n",
      "                                                                           weighted avg     0.8458    0.8342    0.8372      1568\n"
     ]
    }
   ],
   "source": [
    "# Calculate metrics per class and add support\n",
    "metrics_per_class = []\n",
    "for i in range(len(LABEL_NAMES)):\n",
    "    recall = conf_matrix[i, i] / np.sum(conf_matrix[i, :])\n",
    "    precision = conf_matrix[i, i] / np.sum(conf_matrix[:, i])\n",
    "    f1_score = 2 * (precision * recall) / (precision + recall) if (precision + recall) != 0 else 0\n",
    "    \n",
    "    # Calculate support for each class\n",
    "    support = np.sum(conf_matrix[i, :])  # Support is the sum of the row i in the confusion matrix\n",
    "    \n",
    "    # Add metrics and support to the list\n",
    "    metrics_per_class.append({\n",
    "        'Class': LABEL_NAMES[i],\n",
    "        'Precision': precision,\n",
    "        'Recall': recall,\n",
    "        'F1 Score': f1_score,\n",
    "        'Support': support\n",
    "    })\n",
    "\n",
    "# Sort metrics by F1 Score\n",
    "metrics_per_class_sorted = sorted(metrics_per_class, key=lambda x: x['F1 Score'], reverse=True)\n",
    "\n",
    "# Prepare output for the first part\n",
    "output_left = []\n",
    "output_left.append(\"{:<26} {:<10} {:<10} {:<10} {:<10}\".format('Class', 'Precision', 'Recall', 'F1 Score', 'Support'))\n",
    "output_left.append(\"-\" * 70)\n",
    "for metric in metrics_per_class_sorted:\n",
    "    output_left.append(\"{:<26} {:<10.2%} {:<10.2%} {:<10.2%} {:<10}\".format(\n",
    "        metric['Class'], metric['Precision'], metric['Recall'], metric['F1 Score'], metric['Support']))\n",
    "\n",
    "output_left.append(\"\\n\")\n",
    "\n",
    "# Calculate overall F1 Score using the standard equation\n",
    "overall_precision = np.mean([metric['Precision'] for metric in metrics_per_class])\n",
    "overall_recall = np.mean([metric['Recall'] for metric in metrics_per_class])\n",
    "overall_f1_score = 2 * (overall_precision * overall_recall) / (overall_precision + overall_recall) if (overall_precision + overall_recall) != 0 else 0\n",
    "# Adding Accuracy, Macro avg and Weighted avg\n",
    "total_observations = np.sum(conf_matrix)\n",
    "\n",
    "accuracy = np.sum(np.diag(conf_matrix)) / total_observations\n",
    "\n",
    "macro_avg_precision = np.mean([metric['Precision'] for metric in metrics_per_class])\n",
    "macro_avg_recall = np.mean([metric['Recall'] for metric in metrics_per_class])\n",
    "macro_avg_f1 = np.mean([metric['F1 Score'] for metric in metrics_per_class])\n",
    "\n",
    "weighted_avg_precision = 0\n",
    "weighted_avg_recall = 0\n",
    "weighted_avg_f1 = 0\n",
    "\n",
    "for i, metric in enumerate(metrics_per_class):\n",
    "    support = np.sum(conf_matrix[i, :])\n",
    "    weight = support / total_observations\n",
    "    \n",
    "    weighted_avg_precision += metric['Precision'] * weight\n",
    "    weighted_avg_recall += metric['Recall'] * weight\n",
    "    weighted_avg_f1 += metric['F1 Score'] * weight\n",
    "\n",
    "output_left.append(\"\\n\")\n",
    "output_left.append(f\"{'accuracy':<25}{'':>26.4}{accuracy:>12.2%} {total_observations:>10}\")\n",
    "output_left.append(f\"{'macro avg':<25}{macro_avg_precision:>12.2%} {macro_avg_recall:>12.2%} {macro_avg_f1:>12.2%} {total_observations:>10}\")\n",
    "output_left.append(f\"{'weighted avg':<25}{weighted_avg_precision:>12.2%} {weighted_avg_recall:>12.2%} {weighted_avg_f1:>12.2%} {total_observations:>10}\")\n",
    "\n",
    "output_left.append(\"\\nOverall Metrics:\")\n",
    "output_left.append(f\"Recall: {overall_recall:.2%}\")\n",
    "output_left.append(f\"Precision: {overall_precision:.2%}\")\n",
    "output_left.append(f\"Overall F1 Score: {overall_f1_score:.2%}\")\n",
    "output_left = \"\\n\".join(output_left)\n",
    "\n",
    "# Define a function to convert float to percentage\n",
    "def convert_to_percentage(value):\n",
    "    return f\"{value * 100:.2f}%\"\n",
    "\n",
    "# Generate the classification report\n",
    "report = classification_report(y_test_labels, predictions.argmax(axis=1), target_names=LABEL_NAMES, zero_division=0, digits=4)\n",
    "\n",
    "# Separate the report into class metrics and summary metrics\n",
    "lines = report.split('\\n')\n",
    "class_metrics = []\n",
    "summary_metrics = []\n",
    "headings = None\n",
    "\n",
    "# Iterate through each line in the report\n",
    "for line in lines:\n",
    "    # Check for headings\n",
    "    if 'precision' in line and 'recall' in line and 'f1-score' in line and 'support' in line:\n",
    "        headings = line\n",
    "    \n",
    "    # Check for summary metrics\n",
    "    elif any(summary_key in line for summary_key in ['accuracy', 'macro avg', 'weighted avg']):\n",
    "        summary_metrics.append(line)\n",
    "    else:\n",
    "        # Separate class metric lines\n",
    "        if line.strip():\n",
    "            match = re.search(r\"^([\\w\\s]+)\\s+([\\d.]+)\\s+([\\d.]+)\\s+([\\d.]+)\\s+(\\d+)\", line)\n",
    "            if match:\n",
    "                label = match.group(1)\n",
    "                precision = float(match.group(2))\n",
    "                recall = float(match.group(3))\n",
    "                f1_score = float(match.group(4))\n",
    "                support = int(match.group(5))\n",
    "                class_metrics.append((label, precision, recall, f1_score, support))\n",
    "\n",
    "# Sort class metrics by F1-score in descending order\n",
    "class_metrics.sort(key=lambda x: x[3], reverse=True)\n",
    "\n",
    "# Prepare output for the second part\n",
    "output_right = []\n",
    "if headings:\n",
    "    output_right.append(headings)\n",
    "\n",
    "# Add sorted class metrics with percentages to the report\n",
    "for label, precision, recall, f1_score, support in class_metrics:\n",
    "    precision_percentage = convert_to_percentage(precision)\n",
    "    recall_percentage = convert_to_percentage(recall)\n",
    "    f1_score_percentage = convert_to_percentage(f1_score)\n",
    "    output_right.append(f\"{label:<30} {precision_percentage:<10} {recall_percentage:<10} {f1_score_percentage:<10} {support}\")\n",
    "\n",
    "# Add an extra blank line before the summary metrics\n",
    "output_right.append('')\n",
    "\n",
    "# Add summary metrics at the bottom\n",
    "output_right.extend(summary_metrics)\n",
    "\n",
    "# Convert output_right to a single string\n",
    "output_right = \"\\n\".join(output_right)\n",
    "\n",
    "# Combine the two outputs and print side by side\n",
    "import subprocess\n",
    "\n",
    "# Create a string with the combined output for the left and right parts\n",
    "combined_output = '\\n'.join(f\"{l:60} {r}\" for l, r in zip(output_left.split('\\n'), output_right.split('\\n')))\n",
    "\n",
    "# Print the combined output in two columns\n",
    "print(combined_output)"
   ]
  }
 ],
 "metadata": {
  "colab": {
   "authorship_tag": "ABX9TyP24dTbyMJaPaRu8wIlLodT",
   "provenance": [
    {
     "file_id": "1SEprQwc0DKAcOJJ1G5eXq8S1iP61IZMr",
     "timestamp": 1708336429531
    },
    {
     "file_id": "1heBOHdcTsqmNd1ElI_6KSby-WDZhDtj5",
     "timestamp": 1707813485946
    }
   ]
  },
  "kernelspec": {
   "display_name": "Python 3 (ipykernel)",
   "language": "python",
   "name": "python3"
  },
  "language_info": {
   "codemirror_mode": {
    "name": "ipython",
    "version": 3
   },
   "file_extension": ".py",
   "mimetype": "text/x-python",
   "name": "python",
   "nbconvert_exporter": "python",
   "pygments_lexer": "ipython3",
   "version": "3.10.12"
  }
 },
 "nbformat": 4,
 "nbformat_minor": 4
}
