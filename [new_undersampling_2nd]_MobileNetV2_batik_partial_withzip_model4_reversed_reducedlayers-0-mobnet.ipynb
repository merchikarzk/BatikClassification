{
 "cells": [
  {
   "cell_type": "code",
   "execution_count": 1,
   "metadata": {
    "executionInfo": {
     "elapsed": 608,
     "status": "ok",
     "timestamp": 1708405742502,
     "user": {
      "displayName": "Henry Si",
      "userId": "17719448117276295977"
     },
     "user_tz": -480
    },
    "id": "0CoFPyu93R3q"
   },
   "outputs": [
    {
     "name": "stderr",
     "output_type": "stream",
     "text": [
      "2024-06-07 15:01:01.450381: I tensorflow/core/platform/cpu_feature_guard.cc:182] This TensorFlow binary is optimized to use available CPU instructions in performance-critical operations.\n",
      "To enable the following instructions: AVX2 FMA, in other operations, rebuild TensorFlow with the appropriate compiler flags.\n"
     ]
    }
   ],
   "source": [
    "# from google.colab import drive\n",
    "import zipfile\n",
    "import sys\n",
    "import h5py\n",
    "import numpy as np\n",
    "import os\n",
    "from PIL import Image\n",
    "import pandas as pd\n",
    "import logging\n",
    "import json\n",
    "import tensorflow as tf\n",
    "import itertools\n",
    "from tensorflow.keras.preprocessing.image import ImageDataGenerator\n",
    "from tensorflow.keras.optimizers import Adam\n",
    "from tensorflow.keras.layers import Conv2D, Dense, MaxPooling2D, Dropout, Flatten, BatchNormalization, Activation, GlobalAveragePooling2D\n",
    "from tensorflow.keras.models import Sequential\n",
    "from tensorflow.keras.metrics import Precision, Accuracy, Recall\n",
    "from tensorflow.keras.callbacks import EarlyStopping, ModelCheckpoint, Callback\n",
    "from tensorflow.keras.applications import MobileNet, MobileNetV2\n",
    "from tensorflow.keras import layers, Model\n",
    "from tensorflow.keras.applications.mobilenet_v2 import preprocess_input\n",
    "from tensorflow.keras.models import load_model\n",
    "\n",
    "# import keras\n",
    "from keras.utils import to_categorical\n",
    "from keras.models import load_model\n",
    "from keras.preprocessing.image import array_to_img\n",
    "# from keras.callbacks import EarlyStopping, ModelCheckpoint, Callback\n",
    "# from keras.applications.mobilenet_v2 import MobileNetV2, preprocess_input\n",
    "\n",
    "# import sklearn\n",
    "from sklearn.metrics import classification_report\n",
    "from sklearn.metrics import precision_score, accuracy_score, f1_score, recall_score, confusion_matrix\n",
    "from sklearn.preprocessing import OneHotEncoder\n",
    "\n",
    "# import matplotlib\n",
    "%matplotlib inline\n",
    "import matplotlib.image as mpimg\n",
    "import matplotlib.pyplot as plt\n",
    "import seaborn as sns\n",
    "\n",
    "import csv\n",
    "import visualkeras\n",
    "np.random.seed(42)"
   ]
  },
  {
   "cell_type": "code",
   "execution_count": null,
   "metadata": {
    "colab": {
     "base_uri": "https://localhost:8080/"
    },
    "executionInfo": {
     "elapsed": 531,
     "status": "ok",
     "timestamp": 1708347056463,
     "user": {
      "displayName": "Henry Si",
      "userId": "17719448117276295977"
     },
     "user_tz": -480
    },
    "id": "ehxXM0T9WL_A",
    "outputId": "856fe9c8-3252-42c9-bfd3-b57997945c50"
   },
   "outputs": [],
   "source": [
    "print(\"Python version:\", sys.version) # needs to import sys\n",
    "print(\"Numpy version:\", np.__version__)\n",
    "print(\"Pillow version:\", Image.__version__)\n",
    "print(\"pandas version:\", pd.__version__)\n",
    "print(\"h5py version:\", h5py.__version__)\n",
    "print(\"TensorFlow version:\", tf.__version__)\n",
    "# print(\"Itertools version:\", itertools.__version__)  # part of python library\n",
    "# print(\"Keras version:\", keras.__version__)  # needs to import keras\n",
    "# print(\"sklearn version:\", sklearn.__version__)  # needs to import sklearn\n",
    "# print(\"matplotlib version:\", matplotlib.__version__)  # needs to import matplotlib\n",
    "print(\"seaborn version:\", sns.__version__)"
   ]
  },
  {
   "cell_type": "markdown",
   "metadata": {
    "id": "A5Od3aoCxPaL"
   },
   "source": [
    "# Create Constants"
   ]
  },
  {
   "cell_type": "code",
   "execution_count": 2,
   "metadata": {
    "executionInfo": {
     "elapsed": 11,
     "status": "ok",
     "timestamp": 1708405762563,
     "user": {
      "displayName": "Henry Si",
      "userId": "17719448117276295977"
     },
     "user_tz": -480
    },
    "id": "Jy9Bqgd602Iq"
   },
   "outputs": [],
   "source": [
    "# LABEL_NAMES = ['Aceh_Pintu_Aceh', 'Bali_Barong', 'Bali_Merak', 'DKI_Ondel_Ondel', 'JawaBarat_Megamendung', 'JawaTimur_Pring', 'Kalimantan_Dayak', 'Lampung_Gajah', 'Madura_Mataketeran', 'Maluku_Pala', 'NTB_Lumbung', 'Papua_Asmat', 'Papua_Cendrawasih', 'Papua_Tifa', 'Solo_Parang', 'SulawesiSelatan_Lontara', 'SumateraBarat_Rumah_Minang', 'SumateraUtara_Boraspati', 'Yogyakarta_Kawung', 'Yogyakarta_Parang']\n",
    "# LABEL_NAMES = ['Aceh PintuAceh', 'Bali Barong', 'Bali Merak', 'DKI OndelOndel', 'JawaBarat Megamendung', 'JawaTimur Pring', 'Kalimantan Dayak', 'Lampung Gajah', 'Madura Mataketeran', 'Maluku Pala', 'NTB Lumbung', 'Papua Asmat', 'Papua Cendrawasih', 'Papua Tifa', 'Solo Parang', 'SulawesiSelatan Lontara', 'SumateraBarat Rumah Minang', 'SumateraUtara Boraspati', 'Yogyakarta Kawung', 'Yogyakarta Parang']\n",
    "LABEL_NAMES = ['Aceh', 'Bali', 'Betawi', 'Ciamis', 'Cirebon', 'Garut', 'Kalimantan_Dayak', 'Kalimantan_Pontianak', 'Kulon Progo_Geblek Renteng', 'Madura', 'Maluku_Pala Cengkeh', 'Papua_Cendrawasih', 'Pati', 'Pekalongan', 'Solo_Sidoluhur', 'Solo_Sogan', 'Tasikmalaya_Priyangan', 'Yogyakarta_Kawung', 'Yogyakarta_Sekar Jagad', 'Yogyakarta Tambal']\n",
    "IMAGE_WIDTH = 224\n",
    "IMAGE_HEIGHT = 224\n",
    "IMAGE_PIXELS = IMAGE_WIDTH * IMAGE_HEIGHT\n",
    "COLOR_CHANNELS = 3\n",
    "TOTAL_INPUTS = IMAGE_PIXELS * COLOR_CHANNELS\n",
    "NO_CLASSES = 20\n",
    "BATCH_SIZE = 32\n",
    "\n",
    "VALIDATION_SIZE = 6\n",
    "TESTING_SIZE = 8\n"
   ]
  },
  {
   "cell_type": "markdown",
   "metadata": {
    "id": "DGBSN6zST49V"
   },
   "source": [
    "# Data Gathering"
   ]
  },
  {
   "cell_type": "code",
   "execution_count": 3,
   "metadata": {
    "colab": {
     "base_uri": "https://localhost:8080/"
    },
    "executionInfo": {
     "elapsed": 438,
     "status": "ok",
     "timestamp": 1708405770725,
     "user": {
      "displayName": "Henry Si",
      "userId": "17719448117276295977"
     },
     "user_tz": -480
    },
    "id": "B15AAJIJCoZE",
    "outputId": "7d85be45-c01d-4b1e-fd74-443a75b83256"
   },
   "outputs": [
    {
     "name": "stdout",
     "output_type": "stream",
     "text": [
      "Found 12817 images belonging to 20 classes.\n",
      "Found 1266 images belonging to 20 classes.\n",
      "Found 1582 images belonging to 20 classes.\n",
      "Class labels:\n",
      "{'Aceh': 0, 'Bali': 1, 'Betawi': 2, 'Ciamis': 3, 'Cirebon': 4, 'Garut': 5, 'Kalimantan_Dayak': 6, 'Kalimantan_Pontianak': 7, 'Kulon Progo_Geblek Renteng': 8, 'Madura': 9, 'Maluku_Pala Cengkeh': 10, 'Papua_Cendrawasih': 11, 'Pati': 12, 'Pekalongan': 13, 'Solo_Sidoluhur': 14, 'Solo_Sogan': 15, 'Tasikmalaya_Priyangan': 16, 'Yogyakarta_Kawung': 17, 'Yogyakarta_Sekar Jagad': 18, 'Yogyakarta_Tambal': 19}\n"
     ]
    }
   ],
   "source": [
    "# Directory containing the data\n",
    "# DATA_DIR = \"/content/aug_batik_v2\"\n",
    "DATA_DIR = \"/Users/merchika/chikaData/TA/another_dataset/undersampling_augmented_dataset\"\n",
    "\n",
    "# rescale pixel values to [0, 1] at later stage\n",
    "# common_datagen = ImageDataGenerator()\n",
    "\n",
    "common_datagen = ImageDataGenerator()\n",
    "\n",
    "# Set up data generators for training, validation, and testing\n",
    "train_generator = common_datagen.flow_from_directory(\n",
    "    directory=os.path.join(DATA_DIR, \"train\"),\n",
    "    target_size=(IMAGE_HEIGHT, IMAGE_WIDTH),  # Set the target image size\n",
    "    color_mode='rgb', # Set color mode to RGB\n",
    "    class_mode='categorical'  # For multi classes\n",
    ")\n",
    "\n",
    "validation_generator = common_datagen.flow_from_directory(\n",
    "    directory=os.path.join(DATA_DIR, \"validation\"),\n",
    "    target_size=(IMAGE_HEIGHT, IMAGE_WIDTH),\n",
    "    color_mode='rgb', # Set color mode to RGB\n",
    "    class_mode='categorical'\n",
    ")\n",
    "\n",
    "test_generator = common_datagen.flow_from_directory(\n",
    "    directory=os.path.join(DATA_DIR, \"test\"),\n",
    "    target_size=(IMAGE_HEIGHT, IMAGE_WIDTH),\n",
    "    color_mode='rgb', # Set color mode to RGB\n",
    "    class_mode='categorical'\n",
    ")\n",
    "\n",
    "# Print class labels\n",
    "print(\"Class labels:\")\n",
    "print(train_generator.class_indices)"
   ]
  },
  {
   "cell_type": "markdown",
   "metadata": {
    "id": "VEtm_WgRz-yf"
   },
   "source": [
    "# Data Exploration"
   ]
  },
  {
   "cell_type": "markdown",
   "metadata": {
    "id": "A2dawAb2Ciaa"
   },
   "source": [
    "## Train Dataset"
   ]
  },
  {
   "cell_type": "code",
   "execution_count": 4,
   "metadata": {
    "colab": {
     "base_uri": "https://localhost:8080/"
    },
    "executionInfo": {
     "elapsed": 640,
     "status": "ok",
     "timestamp": 1708405782655,
     "user": {
      "displayName": "Henry Si",
      "userId": "17719448117276295977"
     },
     "user_tz": -480
    },
    "id": "moKj8eI53SQe",
    "outputId": "099578db-4bbc-48d0-9aa0-ef40dfd9603a"
   },
   "outputs": [
    {
     "name": "stdout",
     "output_type": "stream",
     "text": [
      "Number of images: 12817\n",
      "Number of classes:20\n"
     ]
    }
   ],
   "source": [
    "num_images = train_generator.n\n",
    "num_classes = train_generator.num_classes\n",
    "print(f\"Number of images: {train_generator.n}\")\n",
    "print(f\"Number of classes:{train_generator.num_classes}\")"
   ]
  },
  {
   "cell_type": "code",
   "execution_count": 5,
   "metadata": {
    "colab": {
     "base_uri": "https://localhost:8080/"
    },
    "executionInfo": {
     "elapsed": 557,
     "status": "ok",
     "timestamp": 1708405787049,
     "user": {
      "displayName": "Henry Si",
      "userId": "17719448117276295977"
     },
     "user_tz": -480
    },
    "id": "bhXWIbl7fcZZ",
    "outputId": "bebe40a8-5ae5-4f45-e85d-dbe943a85b7e"
   },
   "outputs": [
    {
     "name": "stdout",
     "output_type": "stream",
     "text": [
      "Class names: {0: 'Aceh', 1: 'Bali', 2: 'Betawi', 3: 'Ciamis', 4: 'Cirebon', 5: 'Garut', 6: 'Kalimantan_Dayak', 7: 'Kalimantan_Pontianak', 8: 'Kulon Progo_Geblek Renteng', 9: 'Madura', 10: 'Maluku_Pala Cengkeh', 11: 'Papua_Cendrawasih', 12: 'Pati', 13: 'Pekalongan', 14: 'Solo_Sidoluhur', 15: 'Solo_Sogan', 16: 'Tasikmalaya_Priyangan', 17: 'Yogyakarta_Kawung', 18: 'Yogyakarta_Sekar Jagad', 19: 'Yogyakarta_Tambal'}\n"
     ]
    }
   ],
   "source": [
    "class_indices = train_generator.class_indices\n",
    "y_train_class_names = {v: k for k, v in class_indices.items()}\n",
    "print(\"Class names:\", y_train_class_names)"
   ]
  },
  {
   "cell_type": "code",
   "execution_count": 6,
   "metadata": {
    "colab": {
     "base_uri": "https://localhost:8080/"
    },
    "executionInfo": {
     "elapsed": 12,
     "status": "ok",
     "timestamp": 1708405789549,
     "user": {
      "displayName": "Henry Si",
      "userId": "17719448117276295977"
     },
     "user_tz": -480
    },
    "id": "Wifg15prLRhS",
    "outputId": "404ea4c4-3047-4c94-a0f0-a3eb2f05f7b4"
   },
   "outputs": [
    {
     "name": "stdout",
     "output_type": "stream",
     "text": [
      "['Aceh', 'Bali', 'Betawi', 'Ciamis', 'Cirebon', 'Garut', 'Kalimantan_Dayak', 'Kalimantan_Pontianak', 'Kulon Progo_Geblek Renteng', 'Madura', 'Maluku_Pala Cengkeh', 'Papua_Cendrawasih', 'Pati', 'Pekalongan', 'Solo_Sidoluhur', 'Solo_Sogan', 'Tasikmalaya_Priyangan', 'Yogyakarta_Kawung', 'Yogyakarta_Sekar Jagad', 'Yogyakarta_Tambal']\n"
     ]
    }
   ],
   "source": [
    "num_classes = len(class_indices)\n",
    "y_train_labels = [y_train_class_names[i] for i in range(num_classes)]\n",
    "print(y_train_labels)"
   ]
  },
  {
   "cell_type": "code",
   "execution_count": 7,
   "metadata": {
    "colab": {
     "base_uri": "https://localhost:8080/"
    },
    "executionInfo": {
     "elapsed": 10817,
     "status": "ok",
     "timestamp": 1708405802732,
     "user": {
      "displayName": "Henry Si",
      "userId": "17719448117276295977"
     },
     "user_tz": -480
    },
    "id": "_iO0Y9zLZqns",
    "outputId": "1161e90a-d5bd-4a24-8ad5-1ee8aec99c8e"
   },
   "outputs": [
    {
     "name": "stdout",
     "output_type": "stream",
     "text": [
      "x_train shape: (12817, 224, 224, 3)\n",
      "y_train shape: (12817, 20)\n"
     ]
    }
   ],
   "source": [
    "x_train_all = []\n",
    "y_train_all = []\n",
    "\n",
    "# Looping\n",
    "for _ in range(num_images // BATCH_SIZE + 1):\n",
    "    x_batch, y_batch = next(train_generator)\n",
    "    x_train_all.append(x_batch)\n",
    "    y_train_all.append(y_batch)\n",
    "\n",
    "# Concatenate\n",
    "x_train = np.concatenate(x_train_all, axis=0)\n",
    "y_train = np.concatenate(y_train_all, axis=0)\n",
    "\n",
    "# Display the shapes of x and y_train\n",
    "print(\"x_train shape:\", x_train.shape)\n",
    "print(\"y_train shape:\", y_train.shape)"
   ]
  },
  {
   "cell_type": "code",
   "execution_count": 8,
   "metadata": {
    "colab": {
     "base_uri": "https://localhost:8080/"
    },
    "executionInfo": {
     "elapsed": 16,
     "status": "ok",
     "timestamp": 1708405810900,
     "user": {
      "displayName": "Henry Si",
      "userId": "17719448117276295977"
     },
     "user_tz": -480
    },
    "id": "ac_l0uZ5eXLx",
    "outputId": "953a8cd5-c1b2-4a2d-8d09-08497aef5a90"
   },
   "outputs": [
    {
     "name": "stdout",
     "output_type": "stream",
     "text": [
      "images = 12817 \t| width = 224 \t| height = 224 \t| channels = 3 \t\n"
     ]
    }
   ],
   "source": [
    "no_images, x, y, c = x_train.shape\n",
    "print(f\"images = {no_images} \\t| width = {x} \\t| height = {y} \\t| channels = {c} \\t\")"
   ]
  },
  {
   "cell_type": "markdown",
   "metadata": {
    "id": "orij-kxOCU_L"
   },
   "source": [
    "## Validation Dataset"
   ]
  },
  {
   "cell_type": "code",
   "execution_count": 9,
   "metadata": {
    "colab": {
     "base_uri": "https://localhost:8080/"
    },
    "executionInfo": {
     "elapsed": 745,
     "status": "ok",
     "timestamp": 1708405849979,
     "user": {
      "displayName": "Henry Si",
      "userId": "17719448117276295977"
     },
     "user_tz": -480
    },
    "id": "H4iUN1xpBvKJ",
    "outputId": "9b60618b-02fe-4178-810c-690a48b06914"
   },
   "outputs": [
    {
     "name": "stdout",
     "output_type": "stream",
     "text": [
      "Number of images: 1266\n",
      "Number of classes:20\n"
     ]
    }
   ],
   "source": [
    "val_num_images = validation_generator.n\n",
    "val_num_classes = validation_generator.num_classes\n",
    "print(f\"Number of images: {validation_generator.n}\")\n",
    "print(f\"Number of classes:{validation_generator.num_classes}\")"
   ]
  },
  {
   "cell_type": "code",
   "execution_count": 10,
   "metadata": {
    "colab": {
     "base_uri": "https://localhost:8080/"
    },
    "executionInfo": {
     "elapsed": 17,
     "status": "ok",
     "timestamp": 1708405858020,
     "user": {
      "displayName": "Henry Si",
      "userId": "17719448117276295977"
     },
     "user_tz": -480
    },
    "id": "xphwlOTfnINQ",
    "outputId": "edb395e4-4e80-47ac-cc6e-a6a9ca18f918"
   },
   "outputs": [
    {
     "name": "stdout",
     "output_type": "stream",
     "text": [
      "Class names: {0: 'Aceh', 1: 'Bali', 2: 'Betawi', 3: 'Ciamis', 4: 'Cirebon', 5: 'Garut', 6: 'Kalimantan_Dayak', 7: 'Kalimantan_Pontianak', 8: 'Kulon Progo_Geblek Renteng', 9: 'Madura', 10: 'Maluku_Pala Cengkeh', 11: 'Papua_Cendrawasih', 12: 'Pati', 13: 'Pekalongan', 14: 'Solo_Sidoluhur', 15: 'Solo_Sogan', 16: 'Tasikmalaya_Priyangan', 17: 'Yogyakarta_Kawung', 18: 'Yogyakarta_Sekar Jagad', 19: 'Yogyakarta_Tambal'}\n"
     ]
    }
   ],
   "source": [
    "class_indices = validation_generator.class_indices\n",
    "y_val_class_names = {v: k for k, v in class_indices.items()}\n",
    "print(\"Class names:\", y_val_class_names)"
   ]
  },
  {
   "cell_type": "code",
   "execution_count": 11,
   "metadata": {
    "colab": {
     "base_uri": "https://localhost:8080/"
    },
    "executionInfo": {
     "elapsed": 450,
     "status": "ok",
     "timestamp": 1708405865378,
     "user": {
      "displayName": "Henry Si",
      "userId": "17719448117276295977"
     },
     "user_tz": -480
    },
    "id": "am22y0-AZXi0",
    "outputId": "5283077d-f750-4b55-ef82-f2c39a367ddd"
   },
   "outputs": [
    {
     "name": "stdout",
     "output_type": "stream",
     "text": [
      "['Aceh', 'Bali', 'Betawi', 'Ciamis', 'Cirebon', 'Garut', 'Kalimantan_Dayak', 'Kalimantan_Pontianak', 'Kulon Progo_Geblek Renteng', 'Madura', 'Maluku_Pala Cengkeh', 'Papua_Cendrawasih', 'Pati', 'Pekalongan', 'Solo_Sidoluhur', 'Solo_Sogan', 'Tasikmalaya_Priyangan', 'Yogyakarta_Kawung', 'Yogyakarta_Sekar Jagad', 'Yogyakarta_Tambal']\n"
     ]
    }
   ],
   "source": [
    "num_classes = len(class_indices)\n",
    "y_val_labels = [y_val_class_names[i] for i in range(num_classes)]\n",
    "print(y_val_labels)"
   ]
  },
  {
   "cell_type": "code",
   "execution_count": 12,
   "metadata": {
    "colab": {
     "base_uri": "https://localhost:8080/"
    },
    "executionInfo": {
     "elapsed": 2137,
     "status": "ok",
     "timestamp": 1708405891664,
     "user": {
      "displayName": "Henry Si",
      "userId": "17719448117276295977"
     },
     "user_tz": -480
    },
    "id": "xfAu5ciPDIn0",
    "outputId": "f2baa635-485b-4877-870b-69af5f0275d1"
   },
   "outputs": [
    {
     "name": "stdout",
     "output_type": "stream",
     "text": [
      "x_val shape: (1266, 224, 224, 3)\n",
      "y_val shape: (1266, 20)\n"
     ]
    }
   ],
   "source": [
    "x_val_all = []\n",
    "y_val_all = []\n",
    "\n",
    "# print(val_num_images)\n",
    "# print(val_num_images // BATCH_SIZE + 1)\n",
    "\n",
    "# Looping\n",
    "for _ in range(val_num_images // BATCH_SIZE + 1):\n",
    "    x_val_batch, y_val_batch = next(validation_generator)\n",
    "    x_val_all.append(x_val_batch)\n",
    "    y_val_all.append(y_val_batch)\n",
    "\n",
    "# Concatenate\n",
    "x_val = np.concatenate(x_val_all, axis=0)\n",
    "y_val = np.concatenate(y_val_all, axis=0)\n",
    "\n",
    "# Display the shapes of x and y_train\n",
    "print(\"x_val shape:\", x_val.shape)\n",
    "print(\"y_val shape:\", y_val.shape)"
   ]
  },
  {
   "cell_type": "code",
   "execution_count": 13,
   "metadata": {
    "colab": {
     "base_uri": "https://localhost:8080/"
    },
    "executionInfo": {
     "elapsed": 568,
     "status": "ok",
     "timestamp": 1708405911063,
     "user": {
      "displayName": "Henry Si",
      "userId": "17719448117276295977"
     },
     "user_tz": -480
    },
    "id": "H4RvE3TyBvSP",
    "outputId": "b88b2b8d-45f6-407b-ffd9-531daf4510db"
   },
   "outputs": [
    {
     "name": "stdout",
     "output_type": "stream",
     "text": [
      "images = 1266 \t| width = 224 \t| height = 224 \t| channels = 3 \t\n"
     ]
    }
   ],
   "source": [
    "no_images, x, y, c = x_val.shape\n",
    "print(f\"images = {no_images} \\t| width = {x} \\t| height = {y} \\t| channels = {c} \\t\")"
   ]
  },
  {
   "cell_type": "markdown",
   "metadata": {
    "id": "FhMMni2SOuIO"
   },
   "source": [
    "## Test Dataset"
   ]
  },
  {
   "cell_type": "code",
   "execution_count": 14,
   "metadata": {
    "colab": {
     "base_uri": "https://localhost:8080/"
    },
    "executionInfo": {
     "elapsed": 438,
     "status": "ok",
     "timestamp": 1708405928638,
     "user": {
      "displayName": "Henry Si",
      "userId": "17719448117276295977"
     },
     "user_tz": -480
    },
    "id": "KhBbpBv2OsRM",
    "outputId": "4c9c0539-d9ec-4964-90e8-703096d15876"
   },
   "outputs": [
    {
     "name": "stdout",
     "output_type": "stream",
     "text": [
      "Number of images: 1582\n",
      "Number of classes:20\n"
     ]
    }
   ],
   "source": [
    "test_num_images = test_generator.n\n",
    "test_num_classes = test_generator.num_classes\n",
    "print(f\"Number of images: {test_generator.n}\")\n",
    "print(f\"Number of classes:{test_generator.num_classes}\")"
   ]
  },
  {
   "cell_type": "code",
   "execution_count": 15,
   "metadata": {
    "colab": {
     "base_uri": "https://localhost:8080/"
    },
    "executionInfo": {
     "elapsed": 16,
     "status": "ok",
     "timestamp": 1708405935842,
     "user": {
      "displayName": "Henry Si",
      "userId": "17719448117276295977"
     },
     "user_tz": -480
    },
    "id": "LXlWaexYnmEZ",
    "outputId": "d91ab418-e5df-4a6a-8356-8ea8859ebd7b"
   },
   "outputs": [
    {
     "name": "stdout",
     "output_type": "stream",
     "text": [
      "Class names: {0: 'Aceh', 1: 'Bali', 2: 'Betawi', 3: 'Ciamis', 4: 'Cirebon', 5: 'Garut', 6: 'Kalimantan_Dayak', 7: 'Kalimantan_Pontianak', 8: 'Kulon Progo_Geblek Renteng', 9: 'Madura', 10: 'Maluku_Pala Cengkeh', 11: 'Papua_Cendrawasih', 12: 'Pati', 13: 'Pekalongan', 14: 'Solo_Sidoluhur', 15: 'Solo_Sogan', 16: 'Tasikmalaya_Priyangan', 17: 'Yogyakarta_Kawung', 18: 'Yogyakarta_Sekar Jagad', 19: 'Yogyakarta_Tambal'}\n"
     ]
    }
   ],
   "source": [
    "class_indices = test_generator.class_indices\n",
    "y_test_class_names = {v: k for k, v in class_indices.items()}\n",
    "print(\"Class names:\", y_test_class_names)"
   ]
  },
  {
   "cell_type": "code",
   "execution_count": 16,
   "metadata": {
    "colab": {
     "base_uri": "https://localhost:8080/"
    },
    "executionInfo": {
     "elapsed": 448,
     "status": "ok",
     "timestamp": 1708405946072,
     "user": {
      "displayName": "Henry Si",
      "userId": "17719448117276295977"
     },
     "user_tz": -480
    },
    "id": "2iiywvb8ZzS9",
    "outputId": "846169a4-4632-408f-96a8-2f1750afe0a6"
   },
   "outputs": [
    {
     "name": "stdout",
     "output_type": "stream",
     "text": [
      "['Aceh', 'Bali', 'Betawi', 'Ciamis', 'Cirebon', 'Garut', 'Kalimantan_Dayak', 'Kalimantan_Pontianak', 'Kulon Progo_Geblek Renteng', 'Madura', 'Maluku_Pala Cengkeh', 'Papua_Cendrawasih', 'Pati', 'Pekalongan', 'Solo_Sidoluhur', 'Solo_Sogan', 'Tasikmalaya_Priyangan', 'Yogyakarta_Kawung', 'Yogyakarta_Sekar Jagad', 'Yogyakarta_Tambal']\n"
     ]
    }
   ],
   "source": [
    "num_classes = len(class_indices)\n",
    "y_test_labels = [y_test_class_names[i] for i in range(num_classes)]\n",
    "print(y_train_labels)"
   ]
  },
  {
   "cell_type": "code",
   "execution_count": 17,
   "metadata": {
    "colab": {
     "base_uri": "https://localhost:8080/"
    },
    "executionInfo": {
     "elapsed": 3658,
     "status": "ok",
     "timestamp": 1708405973174,
     "user": {
      "displayName": "Henry Si",
      "userId": "17719448117276295977"
     },
     "user_tz": -480
    },
    "id": "GVeouqNmYT39",
    "outputId": "5600d901-c283-40e8-ad18-1c0f56eac63b"
   },
   "outputs": [
    {
     "name": "stdout",
     "output_type": "stream",
     "text": [
      "x_test shape: (1568, 224, 224, 3)\n",
      "y_test shape: (1568, 20)\n"
     ]
    }
   ],
   "source": [
    "x_test_all = []\n",
    "y_test_all = []\n",
    "# print(test_num_images)\n",
    "# print(test_num_images // BATCH_SIZE + 1)\n",
    "\n",
    "# TO TEST: Calculate the total number of images in the test dataset as alternative\n",
    "# total_test_samples = len(test_generator.filenames)\n",
    "# print(total_test_samples)\n",
    "\n",
    "# Looping CAREFUL WITH + 1, either using total_test_samples or test_num_images, same issue\n",
    "# for _ in range(total_test_samples // BATCH_SIZE ):\n",
    "# for _ in range(test_num_images // BATCH_SIZE + 1):\n",
    "for _ in range(test_num_images // BATCH_SIZE):\n",
    "    x_test_batch, y_test_batch = next(test_generator)\n",
    "    x_test_all.append(x_test_batch)\n",
    "    y_test_all.append(y_test_batch)\n",
    "\n",
    "# Concatenate\n",
    "x_test = np.concatenate(x_test_all, axis=0)\n",
    "y_test = np.concatenate(y_test_all, axis=0)\n",
    "\n",
    "# Display the shapes of x and y_train\n",
    "print(\"x_test shape:\", x_test.shape)\n",
    "print(\"y_test shape:\", y_test.shape)"
   ]
  },
  {
   "cell_type": "code",
   "execution_count": 18,
   "metadata": {
    "colab": {
     "base_uri": "https://localhost:8080/"
    },
    "executionInfo": {
     "elapsed": 495,
     "status": "ok",
     "timestamp": 1708404921206,
     "user": {
      "displayName": "Henry Si",
      "userId": "17719448117276295977"
     },
     "user_tz": -480
    },
    "id": "j_hch-gltKPY",
    "outputId": "339a5833-8284-4a2a-f165-d69ccd13f376"
   },
   "outputs": [
    {
     "name": "stdout",
     "output_type": "stream",
     "text": [
      "images = 1266 \t| width = 224 \t| height = 224 \t| channels = 3 \t\n"
     ]
    }
   ],
   "source": [
    "no_images, x, y, c = x_val.shape\n",
    "print(f\"images = {no_images} \\t| width = {x} \\t| height = {y} \\t| channels = {c} \\t\")"
   ]
  },
  {
   "cell_type": "markdown",
   "metadata": {
    "id": "Q_SNT3_L0NyC",
    "jp-MarkdownHeadingCollapsed": true
   },
   "source": [
    "## View Image"
   ]
  },
  {
   "cell_type": "code",
   "execution_count": null,
   "metadata": {
    "colab": {
     "base_uri": "https://localhost:8080/",
     "height": 241
    },
    "executionInfo": {
     "elapsed": 770,
     "status": "ok",
     "timestamp": 1708344885503,
     "user": {
      "displayName": "Henry Si",
      "userId": "17719448117276295977"
     },
     "user_tz": -480
    },
    "id": "eNZheNMh3ch9",
    "outputId": "d89b7aad-6271-4d83-e4b2-2c101a2f6590"
   },
   "outputs": [],
   "source": [
    "pic = array_to_img(x_train[7])\n",
    "display(pic)"
   ]
  },
  {
   "cell_type": "code",
   "execution_count": null,
   "metadata": {
    "colab": {
     "base_uri": "https://localhost:8080/",
     "height": 35
    },
    "executionInfo": {
     "elapsed": 426,
     "status": "ok",
     "timestamp": 1708344890306,
     "user": {
      "displayName": "Henry Si",
      "userId": "17719448117276295977"
     },
     "user_tz": -480
    },
    "id": "Sa08UwRl1rV4",
    "outputId": "12a28c77-1b38-4698-b8a4-7ea12d29040a"
   },
   "outputs": [],
   "source": [
    "# LABEL_NAMES[y_train[7]]  # used only if only non scalar index\n",
    "LABEL_NAMES[np.argmax(y_train[7])]"
   ]
  },
  {
   "cell_type": "code",
   "execution_count": null,
   "metadata": {
    "colab": {
     "base_uri": "https://localhost:8080/",
     "height": 241
    },
    "executionInfo": {
     "elapsed": 28,
     "status": "ok",
     "timestamp": 1708344917242,
     "user": {
      "displayName": "Henry Si",
      "userId": "17719448117276295977"
     },
     "user_tz": -480
    },
    "id": "RS5PPZ5k1lxj",
    "outputId": "64632756-2d4d-4f2b-c152-760f1f6cec71"
   },
   "outputs": [],
   "source": [
    "pic = array_to_img(x_val[27])\n",
    "display(pic)"
   ]
  },
  {
   "cell_type": "code",
   "execution_count": null,
   "metadata": {
    "colab": {
     "base_uri": "https://localhost:8080/",
     "height": 35
    },
    "executionInfo": {
     "elapsed": 450,
     "status": "ok",
     "timestamp": 1708344920905,
     "user": {
      "displayName": "Henry Si",
      "userId": "17719448117276295977"
     },
     "user_tz": -480
    },
    "id": "unT1esGFDJii",
    "outputId": "216ac3c5-8cef-4886-b544-665336d6cdd3"
   },
   "outputs": [],
   "source": [
    "# LABEL_NAMES[y_val[27]]\n",
    "LABEL_NAMES[np.argmax(y_val[27])]"
   ]
  },
  {
   "cell_type": "code",
   "execution_count": null,
   "metadata": {
    "colab": {
     "base_uri": "https://localhost:8080/",
     "height": 241
    },
    "executionInfo": {
     "elapsed": 897,
     "status": "ok",
     "timestamp": 1708344925551,
     "user": {
      "displayName": "Henry Si",
      "userId": "17719448117276295977"
     },
     "user_tz": -480
    },
    "id": "EHZ5U2EHMG9n",
    "outputId": "948eae0b-1370-40af-a5a7-3ff2f4584778"
   },
   "outputs": [],
   "source": [
    "pic = array_to_img(x_test[99])\n",
    "display(pic)"
   ]
  },
  {
   "cell_type": "code",
   "execution_count": null,
   "metadata": {
    "colab": {
     "base_uri": "https://localhost:8080/",
     "height": 35
    },
    "executionInfo": {
     "elapsed": 22,
     "status": "ok",
     "timestamp": 1708344928269,
     "user": {
      "displayName": "Henry Si",
      "userId": "17719448117276295977"
     },
     "user_tz": -480
    },
    "id": "m8KaUyUfcgVX",
    "outputId": "b3403470-4238-492a-b600-464da6430cd3"
   },
   "outputs": [],
   "source": [
    "# LABEL_NAMES[y_test[99]]\n",
    "LABEL_NAMES[np.argmax(y_test[99])]"
   ]
  },
  {
   "cell_type": "markdown",
   "metadata": {},
   "source": [
    "## Preprocessing MUST BE RUN for transfer learning"
   ]
  },
  {
   "cell_type": "code",
   "execution_count": 19,
   "metadata": {},
   "outputs": [],
   "source": [
    "x_train_preprocessed = preprocess_input(x_train)"
   ]
  },
  {
   "cell_type": "code",
   "execution_count": 20,
   "metadata": {},
   "outputs": [
    {
     "name": "stdout",
     "output_type": "stream",
     "text": [
      "x_train shape (preprocessed): (12817, 224, 224, 3)\n",
      "y_train shape: (12817, 20)\n"
     ]
    }
   ],
   "source": [
    "print(\"x_train shape (preprocessed):\", x_train_preprocessed.shape)\n",
    "print(\"y_train shape:\", y_train.shape)"
   ]
  },
  {
   "cell_type": "code",
   "execution_count": 21,
   "metadata": {},
   "outputs": [
    {
     "name": "stdout",
     "output_type": "stream",
     "text": [
      "x_val shape (preprocessed): (1266, 224, 224, 3)\n",
      "y_val shape: (1266, 20)\n"
     ]
    }
   ],
   "source": [
    "x_val_preprocessed = preprocess_input(x_val)\n",
    "print(\"x_val shape (preprocessed):\", x_val_preprocessed.shape)\n",
    "print(\"y_val shape:\", y_val.shape)"
   ]
  },
  {
   "cell_type": "code",
   "execution_count": 22,
   "metadata": {},
   "outputs": [
    {
     "name": "stdout",
     "output_type": "stream",
     "text": [
      "x_test shape (preprocessed): (1568, 224, 224, 3)\n",
      "y_test shape: (1568, 20)\n"
     ]
    }
   ],
   "source": [
    "x_test_preprocessed = preprocess_input(x_test)\n",
    "print(\"x_test shape (preprocessed):\", x_test_preprocessed.shape)\n",
    "print(\"y_test shape:\", y_test.shape)"
   ]
  },
  {
   "cell_type": "code",
   "execution_count": null,
   "metadata": {
    "colab": {
     "base_uri": "https://localhost:8080/"
    },
    "executionInfo": {
     "elapsed": 402,
     "status": "ok",
     "timestamp": 1707964700068,
     "user": {
      "displayName": "Henry Si",
      "userId": "17719448117276295977"
     },
     "user_tz": -480
    },
    "id": "cFj5V8Arusua",
    "outputId": "fe97d1cb-4b36-47c5-9a16-9d5bcbacbf60"
   },
   "outputs": [],
   "source": [
    "x_train[0][0][0]"
   ]
  },
  {
   "cell_type": "code",
   "execution_count": null,
   "metadata": {
    "colab": {
     "base_uri": "https://localhost:8080/"
    },
    "executionInfo": {
     "elapsed": 21,
     "status": "ok",
     "timestamp": 1707964705536,
     "user": {
      "displayName": "Henry Si",
      "userId": "17719448117276295977"
     },
     "user_tz": -480
    },
    "id": "p_c2_UfUuIMI",
    "outputId": "c0ffedc4-32f9-4031-84ef-d9b825f97b7e"
   },
   "outputs": [],
   "source": [
    "x_train[0][0]"
   ]
  },
  {
   "cell_type": "code",
   "execution_count": null,
   "metadata": {
    "colab": {
     "base_uri": "https://localhost:8080/"
    },
    "executionInfo": {
     "elapsed": 18,
     "status": "ok",
     "timestamp": 1707964708961,
     "user": {
      "displayName": "Henry Si",
      "userId": "17719448117276295977"
     },
     "user_tz": -480
    },
    "id": "t6sqKgO2vQUG",
    "outputId": "13b56389-7100-4658-c2e1-f4fcfab63ab9"
   },
   "outputs": [],
   "source": [
    "x_train[0][0][0][0]"
   ]
  },
  {
   "cell_type": "code",
   "execution_count": null,
   "metadata": {
    "colab": {
     "base_uri": "https://localhost:8080/"
    },
    "executionInfo": {
     "elapsed": 308,
     "status": "ok",
     "timestamp": 1707964711707,
     "user": {
      "displayName": "Henry Si",
      "userId": "17719448117276295977"
     },
     "user_tz": -480
    },
    "id": "a9wxZX2Rvd_g",
    "outputId": "182c9e41-b5f2-4477-e452-b628cc4e623c"
   },
   "outputs": [],
   "source": [
    "x_val[0][0][0]"
   ]
  },
  {
   "cell_type": "code",
   "execution_count": null,
   "metadata": {
    "colab": {
     "base_uri": "https://localhost:8080/"
    },
    "executionInfo": {
     "elapsed": 15,
     "status": "ok",
     "timestamp": 1707964715673,
     "user": {
      "displayName": "Henry Si",
      "userId": "17719448117276295977"
     },
     "user_tz": -480
    },
    "id": "JHABou0Bwb8b",
    "outputId": "50b81f9d-560e-470f-af93-70aec56547af"
   },
   "outputs": [],
   "source": [
    "x_test[0][0][0]"
   ]
  },
  {
   "cell_type": "markdown",
   "metadata": {
    "id": "CPhtaKaUM5zm"
   },
   "source": [
    "# Normalization"
   ]
  },
  {
   "cell_type": "code",
   "execution_count": 23,
   "metadata": {},
   "outputs": [],
   "source": [
    "x_train_normalized, x_validation_normalized, x_test_normalized = x_train_preprocessed, x_val_preprocessed, x_test_preprocessed"
   ]
  },
  {
   "cell_type": "code",
   "execution_count": null,
   "metadata": {
    "colab": {
     "base_uri": "https://localhost:8080/"
    },
    "executionInfo": {
     "elapsed": 413,
     "status": "ok",
     "timestamp": 1708345056784,
     "user": {
      "displayName": "Henry Si",
      "userId": "17719448117276295977"
     },
     "user_tz": -480
    },
    "id": "-WJWh-cjBbkr",
    "outputId": "47330f3e-0cc7-4f51-d901-770b43a26177"
   },
   "outputs": [],
   "source": [
    "# x_train_normalized.shape"
   ]
  },
  {
   "cell_type": "code",
   "execution_count": null,
   "metadata": {
    "colab": {
     "base_uri": "https://localhost:8080/"
    },
    "executionInfo": {
     "elapsed": 442,
     "status": "ok",
     "timestamp": 1708345076632,
     "user": {
      "displayName": "Henry Si",
      "userId": "17719448117276295977"
     },
     "user_tz": -480
    },
    "id": "ujl4XMytDJoT",
    "outputId": "cf6da3c3-a129-4085-c845-669a44d1d6d3"
   },
   "outputs": [],
   "source": [
    "# x_validation_normalized.shape"
   ]
  },
  {
   "cell_type": "markdown",
   "metadata": {
    "id": "0qYnOLUk-IhA",
    "jp-MarkdownHeadingCollapsed": true
   },
   "source": [
    "# Plotting Images"
   ]
  },
  {
   "cell_type": "code",
   "execution_count": null,
   "metadata": {
    "colab": {
     "base_uri": "https://localhost:8080/",
     "height": 280
    },
    "executionInfo": {
     "elapsed": 455,
     "status": "error",
     "timestamp": 1708345131639,
     "user": {
      "displayName": "Henry Si",
      "userId": "17719448117276295977"
     },
     "user_tz": -480
    },
    "id": "KWorogZc-Nb-",
    "outputId": "5030d31e-6eca-4b3d-e34d-c8061529bd02"
   },
   "outputs": [],
   "source": [
    "pic = array_to_img(x_train_normalized[7])\n",
    "display(pic)"
   ]
  },
  {
   "cell_type": "code",
   "execution_count": null,
   "metadata": {
    "colab": {
     "base_uri": "https://localhost:8080/",
     "height": 211
    },
    "executionInfo": {
     "elapsed": 563,
     "status": "error",
     "timestamp": 1708344977149,
     "user": {
      "displayName": "Henry Si",
      "userId": "17719448117276295977"
     },
     "user_tz": -480
    },
    "id": "werwYkNESTli",
    "outputId": "f35ee9ec-287d-470c-e0a6-da3bc62a00e7"
   },
   "outputs": [],
   "source": [
    "# Fetch random images and corresponding labels directly not from generator\n",
    "random_images = x_train_normalized\n",
    "train_labels = y_train\n",
    "\n",
    "shuffle_indices = np.random.permutation(random_images.shape[0])\n",
    "random_images = random_images[shuffle_indices]\n",
    "train_labels = train_labels[shuffle_indices]\n",
    "\n",
    "\n",
    "# If Get class names from the dictionary mapping class indices to class names\n",
    "# class_names = [y_train_class_names[np.argmax(label)] for label in train_labels]\n",
    "\n",
    "# To Get class names from LABEL_NAMES using the labels\n",
    "class_names = [LABEL_NAMES[np.argmax(label)] for label in train_labels]\n",
    "\n",
    "\n",
    "fig, axes = plt.subplots(4, 5, figsize=(10, 10))\n",
    "axes = axes.ravel()\n",
    "\n",
    "# Fetch\n",
    "for i in range(20):\n",
    "  axes[i].imshow(random_images[i])\n",
    "  # axes[i].set_title(class_names[np.argmax(train_labels[i])], fontsize=6) # only use when using argmax\n",
    "  # axes[i].set_title(class_names[train_labels[i]], fontsize=6)\n",
    "  axes[i].set_title(class_names[i], fontsize=6)\n",
    "  axes[i].axis('off')\n",
    "\n",
    "plt.tight_layout()\n",
    "plt.show()\n"
   ]
  },
  {
   "cell_type": "code",
   "execution_count": null,
   "metadata": {
    "colab": {
     "base_uri": "https://localhost:8080/",
     "height": 1000
    },
    "executionInfo": {
     "elapsed": 1761,
     "status": "error",
     "timestamp": 1707965182245,
     "user": {
      "displayName": "Henry Si",
      "userId": "17719448117276295977"
     },
     "user_tz": -480
    },
    "id": "YwwtOaJlqFU7",
    "outputId": "1bd8e68d-e6ea-41a4-ddf7-53f1e6d86b94"
   },
   "outputs": [],
   "source": [
    "# FETCHING 1 IMAGE PER CLASS\n",
    "\n",
    "# Fetch random images and corresponding labels from Train Generator\n",
    "random_images = x_train_normalized\n",
    "train_labels = y_train\n",
    "\n",
    "# Initialize a dictionary to keep track of selected classes\n",
    "selected_classes = {}\n",
    "\n",
    "# Shuffle the images and labels\n",
    "shuffle_indices = np.random.permutation(random_images.shape[0])\n",
    "random_images = random_images[shuffle_indices]\n",
    "train_labels = train_labels[shuffle_indices]\n",
    "\n",
    "# Iterate over the shuffled data to select one image per class\n",
    "selected_images = []\n",
    "selected_labels = []\n",
    "for i in range(random_images.shape[0]):\n",
    "    label_index = np.argmax(train_labels[i])\n",
    "    if label_index not in selected_classes:\n",
    "        # Add the image and label to the selected data\n",
    "        selected_images.append(random_images[i])\n",
    "        selected_labels.append(train_labels[i])\n",
    "        # Mark the class as selected\n",
    "        selected_classes[label_index] = True\n",
    "\n",
    "    # If one image per class has been selected, break the loop\n",
    "    if len(selected_images) == len(LABEL_NAMES):\n",
    "        break\n",
    "\n",
    "# Convert the selected images and labels to numpy arrays\n",
    "selected_images = np.array(selected_images)\n",
    "selected_labels = np.array(selected_labels)\n",
    "\n",
    "# If to get class names from the dictionary mapping class indices to class names (or from folder)\n",
    "# class_names = [y_train_class_names[np.argmax(label)] for label in train_labels]\n",
    "\n",
    "# Get class names from LABEL_NAMES using the labels\n",
    "class_names = [LABEL_NAMES[np.argmax(label)] for label in selected_labels]\n",
    "\n",
    "# Plot the images\n",
    "fig, axes = plt.subplots(4, 5, figsize=(10, 10))\n",
    "axes = axes.ravel()\n",
    "\n",
    "# Plot each image with its corresponding class name\n",
    "for i in range(selected_images.shape[0]):\n",
    "    axes[i].imshow(selected_images[i])\n",
    "    # axes[i].set_title(class_names[np.argmax(train_labels[i])], fontsize=6) # only use when using argmax\n",
    "    # axes[i].set_title(class_names[train_labels[i]], fontsize=6)\n",
    "    axes[i].set_title(class_names[i], fontsize=6)\n",
    "    axes[i].axis('off')\n",
    "\n",
    "plt.tight_layout()\n",
    "plt.show()"
   ]
  },
  {
   "cell_type": "markdown",
   "metadata": {
    "id": "-dXMZFL_O2pV",
    "jp-MarkdownHeadingCollapsed": true
   },
   "source": [
    "## Assuming y_train and y_val are one-hot encoded, convert them to integer indices - ONLY run this if it is needed"
   ]
  },
  {
   "cell_type": "code",
   "execution_count": null,
   "metadata": {
    "id": "zgS_5NYBO8bg"
   },
   "outputs": [],
   "source": [
    "y_train_indices = np.argmax(y_train_normalized, axis=1)\n",
    "y_val_indices = np.argmax(y_validation_normalized, axis=1)\n",
    "y_test_indices = np.argmax(y_test_normalized, axis=1)"
   ]
  },
  {
   "cell_type": "markdown",
   "metadata": {
    "id": "OLUYi7BfUTFa",
    "jp-MarkdownHeadingCollapsed": true
   },
   "source": [
    "## ONLY RUN this if Images need to put back to original sizes in tuple"
   ]
  },
  {
   "cell_type": "code",
   "execution_count": null,
   "metadata": {
    "colab": {
     "base_uri": "https://localhost:8080/"
    },
    "executionInfo": {
     "elapsed": 469,
     "status": "ok",
     "timestamp": 1707748991705,
     "user": {
      "displayName": "Henry Si",
      "userId": "17719448117276295977"
     },
     "user_tz": -480
    },
    "id": "WqCgb7MXwsgM",
    "outputId": "9d4ce925-5165-4996-b45b-eaff9be96c4c"
   },
   "outputs": [],
   "source": [
    "original_image_shape = (IMAGE_WIDTH, IMAGE_HEIGHT, COLOR_CHANNELS)\n",
    "\n",
    "x_train_original_shape = x_train.reshape(x_train.shape[0], *original_image_shape)\n",
    "x_val_original_shape = x_validation.reshape(len(x_validation), *original_image_shape)\n",
    "x_test_original_shape = x_test.reshape(len(x_test), *original_image_shape)\n",
    "print(x_train_original_shape.shape)\n",
    "print(\"Shape of x_train_original_shape:\", x_train_original_shape.shape)\n",
    "\n",
    "# Assuming the needs to reshape it back to get (None, IMAGE_HEIGHT, IMAGE_WIDTH,COLOR_CHANNELS)\n",
    "x_train_normalized = x_train_normalized.reshape(-1, IMAGE_HEIGHT, IMAGE_WIDTH, COLOR_CHANNELS)\n",
    "x_validation_normalized = x_validation_normalized.reshape(-1, IMAGE_HEIGHT, IMAGE_WIDTH, COLOR_CHANNELS)\n",
    "x_test_normalized = x_test_normalized.reshape(-1, IMAGE_HEIGHT, IMAGE_WIDTH, COLOR_CHANNELS)"
   ]
  },
  {
   "cell_type": "code",
   "execution_count": null,
   "metadata": {},
   "outputs": [],
   "source": [
    "26*8*20"
   ]
  },
  {
   "cell_type": "markdown",
   "metadata": {
    "id": "rDejxR78TdtR"
   },
   "source": [
    "# Modelling - Using MobileNetV2 Architecture"
   ]
  },
  {
   "cell_type": "code",
   "execution_count": 24,
   "metadata": {},
   "outputs": [
    {
     "name": "stdout",
     "output_type": "stream",
     "text": [
      "Model: \"mobilenetv2_1.00_224\"\n",
      "__________________________________________________________________________________________________\n",
      " Layer (type)                Output Shape                 Param #   Connected to                  \n",
      "==================================================================================================\n",
      " input_1 (InputLayer)        [(None, 224, 224, 3)]        0         []                            \n",
      "                                                                                                  \n",
      " Conv1 (Conv2D)              (None, 112, 112, 32)         864       ['input_1[0][0]']             \n",
      "                                                                                                  \n",
      " bn_Conv1 (BatchNormalizati  (None, 112, 112, 32)         128       ['Conv1[0][0]']               \n",
      " on)                                                                                              \n",
      "                                                                                                  \n",
      " Conv1_relu (ReLU)           (None, 112, 112, 32)         0         ['bn_Conv1[0][0]']            \n",
      "                                                                                                  \n",
      " expanded_conv_depthwise (D  (None, 112, 112, 32)         288       ['Conv1_relu[0][0]']          \n",
      " epthwiseConv2D)                                                                                  \n",
      "                                                                                                  \n",
      " expanded_conv_depthwise_BN  (None, 112, 112, 32)         128       ['expanded_conv_depthwise[0][0\n",
      "  (BatchNormalization)                                              ]']                           \n",
      "                                                                                                  \n",
      " expanded_conv_depthwise_re  (None, 112, 112, 32)         0         ['expanded_conv_depthwise_BN[0\n",
      " lu (ReLU)                                                          ][0]']                        \n",
      "                                                                                                  \n",
      " expanded_conv_project (Con  (None, 112, 112, 16)         512       ['expanded_conv_depthwise_relu\n",
      " v2D)                                                               [0][0]']                      \n",
      "                                                                                                  \n",
      " expanded_conv_project_BN (  (None, 112, 112, 16)         64        ['expanded_conv_project[0][0]'\n",
      " BatchNormalization)                                                ]                             \n",
      "                                                                                                  \n",
      " block_1_expand (Conv2D)     (None, 112, 112, 96)         1536      ['expanded_conv_project_BN[0][\n",
      "                                                                    0]']                          \n",
      "                                                                                                  \n",
      " block_1_expand_BN (BatchNo  (None, 112, 112, 96)         384       ['block_1_expand[0][0]']      \n",
      " rmalization)                                                                                     \n",
      "                                                                                                  \n",
      " block_1_expand_relu (ReLU)  (None, 112, 112, 96)         0         ['block_1_expand_BN[0][0]']   \n",
      "                                                                                                  \n",
      " block_1_pad (ZeroPadding2D  (None, 113, 113, 96)         0         ['block_1_expand_relu[0][0]'] \n",
      " )                                                                                                \n",
      "                                                                                                  \n",
      " block_1_depthwise (Depthwi  (None, 56, 56, 96)           864       ['block_1_pad[0][0]']         \n",
      " seConv2D)                                                                                        \n",
      "                                                                                                  \n",
      " block_1_depthwise_BN (Batc  (None, 56, 56, 96)           384       ['block_1_depthwise[0][0]']   \n",
      " hNormalization)                                                                                  \n",
      "                                                                                                  \n",
      " block_1_depthwise_relu (Re  (None, 56, 56, 96)           0         ['block_1_depthwise_BN[0][0]']\n",
      " LU)                                                                                              \n",
      "                                                                                                  \n",
      " block_1_project (Conv2D)    (None, 56, 56, 24)           2304      ['block_1_depthwise_relu[0][0]\n",
      "                                                                    ']                            \n",
      "                                                                                                  \n",
      " block_1_project_BN (BatchN  (None, 56, 56, 24)           96        ['block_1_project[0][0]']     \n",
      " ormalization)                                                                                    \n",
      "                                                                                                  \n",
      " block_2_expand (Conv2D)     (None, 56, 56, 144)          3456      ['block_1_project_BN[0][0]']  \n",
      "                                                                                                  \n",
      " block_2_expand_BN (BatchNo  (None, 56, 56, 144)          576       ['block_2_expand[0][0]']      \n",
      " rmalization)                                                                                     \n",
      "                                                                                                  \n",
      " block_2_expand_relu (ReLU)  (None, 56, 56, 144)          0         ['block_2_expand_BN[0][0]']   \n",
      "                                                                                                  \n",
      " block_2_depthwise (Depthwi  (None, 56, 56, 144)          1296      ['block_2_expand_relu[0][0]'] \n",
      " seConv2D)                                                                                        \n",
      "                                                                                                  \n",
      " block_2_depthwise_BN (Batc  (None, 56, 56, 144)          576       ['block_2_depthwise[0][0]']   \n",
      " hNormalization)                                                                                  \n",
      "                                                                                                  \n",
      " block_2_depthwise_relu (Re  (None, 56, 56, 144)          0         ['block_2_depthwise_BN[0][0]']\n",
      " LU)                                                                                              \n",
      "                                                                                                  \n",
      " block_2_project (Conv2D)    (None, 56, 56, 24)           3456      ['block_2_depthwise_relu[0][0]\n",
      "                                                                    ']                            \n",
      "                                                                                                  \n",
      " block_2_project_BN (BatchN  (None, 56, 56, 24)           96        ['block_2_project[0][0]']     \n",
      " ormalization)                                                                                    \n",
      "                                                                                                  \n",
      " block_2_add (Add)           (None, 56, 56, 24)           0         ['block_1_project_BN[0][0]',  \n",
      "                                                                     'block_2_project_BN[0][0]']  \n",
      "                                                                                                  \n",
      " block_3_expand (Conv2D)     (None, 56, 56, 144)          3456      ['block_2_add[0][0]']         \n",
      "                                                                                                  \n",
      " block_3_expand_BN (BatchNo  (None, 56, 56, 144)          576       ['block_3_expand[0][0]']      \n",
      " rmalization)                                                                                     \n",
      "                                                                                                  \n",
      " block_3_expand_relu (ReLU)  (None, 56, 56, 144)          0         ['block_3_expand_BN[0][0]']   \n",
      "                                                                                                  \n",
      " block_3_pad (ZeroPadding2D  (None, 57, 57, 144)          0         ['block_3_expand_relu[0][0]'] \n",
      " )                                                                                                \n",
      "                                                                                                  \n",
      " block_3_depthwise (Depthwi  (None, 28, 28, 144)          1296      ['block_3_pad[0][0]']         \n",
      " seConv2D)                                                                                        \n",
      "                                                                                                  \n",
      " block_3_depthwise_BN (Batc  (None, 28, 28, 144)          576       ['block_3_depthwise[0][0]']   \n",
      " hNormalization)                                                                                  \n",
      "                                                                                                  \n",
      " block_3_depthwise_relu (Re  (None, 28, 28, 144)          0         ['block_3_depthwise_BN[0][0]']\n",
      " LU)                                                                                              \n",
      "                                                                                                  \n",
      " block_3_project (Conv2D)    (None, 28, 28, 32)           4608      ['block_3_depthwise_relu[0][0]\n",
      "                                                                    ']                            \n",
      "                                                                                                  \n",
      " block_3_project_BN (BatchN  (None, 28, 28, 32)           128       ['block_3_project[0][0]']     \n",
      " ormalization)                                                                                    \n",
      "                                                                                                  \n",
      " block_4_expand (Conv2D)     (None, 28, 28, 192)          6144      ['block_3_project_BN[0][0]']  \n",
      "                                                                                                  \n",
      " block_4_expand_BN (BatchNo  (None, 28, 28, 192)          768       ['block_4_expand[0][0]']      \n",
      " rmalization)                                                                                     \n",
      "                                                                                                  \n",
      " block_4_expand_relu (ReLU)  (None, 28, 28, 192)          0         ['block_4_expand_BN[0][0]']   \n",
      "                                                                                                  \n",
      " block_4_depthwise (Depthwi  (None, 28, 28, 192)          1728      ['block_4_expand_relu[0][0]'] \n",
      " seConv2D)                                                                                        \n",
      "                                                                                                  \n",
      " block_4_depthwise_BN (Batc  (None, 28, 28, 192)          768       ['block_4_depthwise[0][0]']   \n",
      " hNormalization)                                                                                  \n",
      "                                                                                                  \n",
      " block_4_depthwise_relu (Re  (None, 28, 28, 192)          0         ['block_4_depthwise_BN[0][0]']\n",
      " LU)                                                                                              \n",
      "                                                                                                  \n",
      " block_4_project (Conv2D)    (None, 28, 28, 32)           6144      ['block_4_depthwise_relu[0][0]\n",
      "                                                                    ']                            \n",
      "                                                                                                  \n",
      " block_4_project_BN (BatchN  (None, 28, 28, 32)           128       ['block_4_project[0][0]']     \n",
      " ormalization)                                                                                    \n",
      "                                                                                                  \n",
      " block_4_add (Add)           (None, 28, 28, 32)           0         ['block_3_project_BN[0][0]',  \n",
      "                                                                     'block_4_project_BN[0][0]']  \n",
      "                                                                                                  \n",
      " block_5_expand (Conv2D)     (None, 28, 28, 192)          6144      ['block_4_add[0][0]']         \n",
      "                                                                                                  \n",
      " block_5_expand_BN (BatchNo  (None, 28, 28, 192)          768       ['block_5_expand[0][0]']      \n",
      " rmalization)                                                                                     \n",
      "                                                                                                  \n",
      " block_5_expand_relu (ReLU)  (None, 28, 28, 192)          0         ['block_5_expand_BN[0][0]']   \n",
      "                                                                                                  \n",
      " block_5_depthwise (Depthwi  (None, 28, 28, 192)          1728      ['block_5_expand_relu[0][0]'] \n",
      " seConv2D)                                                                                        \n",
      "                                                                                                  \n",
      " block_5_depthwise_BN (Batc  (None, 28, 28, 192)          768       ['block_5_depthwise[0][0]']   \n",
      " hNormalization)                                                                                  \n",
      "                                                                                                  \n",
      " block_5_depthwise_relu (Re  (None, 28, 28, 192)          0         ['block_5_depthwise_BN[0][0]']\n",
      " LU)                                                                                              \n",
      "                                                                                                  \n",
      " block_5_project (Conv2D)    (None, 28, 28, 32)           6144      ['block_5_depthwise_relu[0][0]\n",
      "                                                                    ']                            \n",
      "                                                                                                  \n",
      " block_5_project_BN (BatchN  (None, 28, 28, 32)           128       ['block_5_project[0][0]']     \n",
      " ormalization)                                                                                    \n",
      "                                                                                                  \n",
      " block_5_add (Add)           (None, 28, 28, 32)           0         ['block_4_add[0][0]',         \n",
      "                                                                     'block_5_project_BN[0][0]']  \n",
      "                                                                                                  \n",
      " block_6_expand (Conv2D)     (None, 28, 28, 192)          6144      ['block_5_add[0][0]']         \n",
      "                                                                                                  \n",
      " block_6_expand_BN (BatchNo  (None, 28, 28, 192)          768       ['block_6_expand[0][0]']      \n",
      " rmalization)                                                                                     \n",
      "                                                                                                  \n",
      " block_6_expand_relu (ReLU)  (None, 28, 28, 192)          0         ['block_6_expand_BN[0][0]']   \n",
      "                                                                                                  \n",
      " block_6_pad (ZeroPadding2D  (None, 29, 29, 192)          0         ['block_6_expand_relu[0][0]'] \n",
      " )                                                                                                \n",
      "                                                                                                  \n",
      " block_6_depthwise (Depthwi  (None, 14, 14, 192)          1728      ['block_6_pad[0][0]']         \n",
      " seConv2D)                                                                                        \n",
      "                                                                                                  \n",
      " block_6_depthwise_BN (Batc  (None, 14, 14, 192)          768       ['block_6_depthwise[0][0]']   \n",
      " hNormalization)                                                                                  \n",
      "                                                                                                  \n",
      " block_6_depthwise_relu (Re  (None, 14, 14, 192)          0         ['block_6_depthwise_BN[0][0]']\n",
      " LU)                                                                                              \n",
      "                                                                                                  \n",
      " block_6_project (Conv2D)    (None, 14, 14, 64)           12288     ['block_6_depthwise_relu[0][0]\n",
      "                                                                    ']                            \n",
      "                                                                                                  \n",
      " block_6_project_BN (BatchN  (None, 14, 14, 64)           256       ['block_6_project[0][0]']     \n",
      " ormalization)                                                                                    \n",
      "                                                                                                  \n",
      " block_7_expand (Conv2D)     (None, 14, 14, 384)          24576     ['block_6_project_BN[0][0]']  \n",
      "                                                                                                  \n",
      " block_7_expand_BN (BatchNo  (None, 14, 14, 384)          1536      ['block_7_expand[0][0]']      \n",
      " rmalization)                                                                                     \n",
      "                                                                                                  \n",
      " block_7_expand_relu (ReLU)  (None, 14, 14, 384)          0         ['block_7_expand_BN[0][0]']   \n",
      "                                                                                                  \n",
      " block_7_depthwise (Depthwi  (None, 14, 14, 384)          3456      ['block_7_expand_relu[0][0]'] \n",
      " seConv2D)                                                                                        \n",
      "                                                                                                  \n",
      " block_7_depthwise_BN (Batc  (None, 14, 14, 384)          1536      ['block_7_depthwise[0][0]']   \n",
      " hNormalization)                                                                                  \n",
      "                                                                                                  \n",
      " block_7_depthwise_relu (Re  (None, 14, 14, 384)          0         ['block_7_depthwise_BN[0][0]']\n",
      " LU)                                                                                              \n",
      "                                                                                                  \n",
      " block_7_project (Conv2D)    (None, 14, 14, 64)           24576     ['block_7_depthwise_relu[0][0]\n",
      "                                                                    ']                            \n",
      "                                                                                                  \n",
      " block_7_project_BN (BatchN  (None, 14, 14, 64)           256       ['block_7_project[0][0]']     \n",
      " ormalization)                                                                                    \n",
      "                                                                                                  \n",
      " block_7_add (Add)           (None, 14, 14, 64)           0         ['block_6_project_BN[0][0]',  \n",
      "                                                                     'block_7_project_BN[0][0]']  \n",
      "                                                                                                  \n",
      " block_8_expand (Conv2D)     (None, 14, 14, 384)          24576     ['block_7_add[0][0]']         \n",
      "                                                                                                  \n",
      " block_8_expand_BN (BatchNo  (None, 14, 14, 384)          1536      ['block_8_expand[0][0]']      \n",
      " rmalization)                                                                                     \n",
      "                                                                                                  \n",
      " block_8_expand_relu (ReLU)  (None, 14, 14, 384)          0         ['block_8_expand_BN[0][0]']   \n",
      "                                                                                                  \n",
      " block_8_depthwise (Depthwi  (None, 14, 14, 384)          3456      ['block_8_expand_relu[0][0]'] \n",
      " seConv2D)                                                                                        \n",
      "                                                                                                  \n",
      " block_8_depthwise_BN (Batc  (None, 14, 14, 384)          1536      ['block_8_depthwise[0][0]']   \n",
      " hNormalization)                                                                                  \n",
      "                                                                                                  \n",
      " block_8_depthwise_relu (Re  (None, 14, 14, 384)          0         ['block_8_depthwise_BN[0][0]']\n",
      " LU)                                                                                              \n",
      "                                                                                                  \n",
      " block_8_project (Conv2D)    (None, 14, 14, 64)           24576     ['block_8_depthwise_relu[0][0]\n",
      "                                                                    ']                            \n",
      "                                                                                                  \n",
      " block_8_project_BN (BatchN  (None, 14, 14, 64)           256       ['block_8_project[0][0]']     \n",
      " ormalization)                                                                                    \n",
      "                                                                                                  \n",
      " block_8_add (Add)           (None, 14, 14, 64)           0         ['block_7_add[0][0]',         \n",
      "                                                                     'block_8_project_BN[0][0]']  \n",
      "                                                                                                  \n",
      " block_9_expand (Conv2D)     (None, 14, 14, 384)          24576     ['block_8_add[0][0]']         \n",
      "                                                                                                  \n",
      " block_9_expand_BN (BatchNo  (None, 14, 14, 384)          1536      ['block_9_expand[0][0]']      \n",
      " rmalization)                                                                                     \n",
      "                                                                                                  \n",
      " block_9_expand_relu (ReLU)  (None, 14, 14, 384)          0         ['block_9_expand_BN[0][0]']   \n",
      "                                                                                                  \n",
      " block_9_depthwise (Depthwi  (None, 14, 14, 384)          3456      ['block_9_expand_relu[0][0]'] \n",
      " seConv2D)                                                                                        \n",
      "                                                                                                  \n",
      " block_9_depthwise_BN (Batc  (None, 14, 14, 384)          1536      ['block_9_depthwise[0][0]']   \n",
      " hNormalization)                                                                                  \n",
      "                                                                                                  \n",
      " block_9_depthwise_relu (Re  (None, 14, 14, 384)          0         ['block_9_depthwise_BN[0][0]']\n",
      " LU)                                                                                              \n",
      "                                                                                                  \n",
      " block_9_project (Conv2D)    (None, 14, 14, 64)           24576     ['block_9_depthwise_relu[0][0]\n",
      "                                                                    ']                            \n",
      "                                                                                                  \n",
      " block_9_project_BN (BatchN  (None, 14, 14, 64)           256       ['block_9_project[0][0]']     \n",
      " ormalization)                                                                                    \n",
      "                                                                                                  \n",
      " block_9_add (Add)           (None, 14, 14, 64)           0         ['block_8_add[0][0]',         \n",
      "                                                                     'block_9_project_BN[0][0]']  \n",
      "                                                                                                  \n",
      " block_10_expand (Conv2D)    (None, 14, 14, 384)          24576     ['block_9_add[0][0]']         \n",
      "                                                                                                  \n",
      " block_10_expand_BN (BatchN  (None, 14, 14, 384)          1536      ['block_10_expand[0][0]']     \n",
      " ormalization)                                                                                    \n",
      "                                                                                                  \n",
      " block_10_expand_relu (ReLU  (None, 14, 14, 384)          0         ['block_10_expand_BN[0][0]']  \n",
      " )                                                                                                \n",
      "                                                                                                  \n",
      " block_10_depthwise (Depthw  (None, 14, 14, 384)          3456      ['block_10_expand_relu[0][0]']\n",
      " iseConv2D)                                                                                       \n",
      "                                                                                                  \n",
      " block_10_depthwise_BN (Bat  (None, 14, 14, 384)          1536      ['block_10_depthwise[0][0]']  \n",
      " chNormalization)                                                                                 \n",
      "                                                                                                  \n",
      " block_10_depthwise_relu (R  (None, 14, 14, 384)          0         ['block_10_depthwise_BN[0][0]'\n",
      " eLU)                                                               ]                             \n",
      "                                                                                                  \n",
      " block_10_project (Conv2D)   (None, 14, 14, 96)           36864     ['block_10_depthwise_relu[0][0\n",
      "                                                                    ]']                           \n",
      "                                                                                                  \n",
      " block_10_project_BN (Batch  (None, 14, 14, 96)           384       ['block_10_project[0][0]']    \n",
      " Normalization)                                                                                   \n",
      "                                                                                                  \n",
      " block_11_expand (Conv2D)    (None, 14, 14, 576)          55296     ['block_10_project_BN[0][0]'] \n",
      "                                                                                                  \n",
      " block_11_expand_BN (BatchN  (None, 14, 14, 576)          2304      ['block_11_expand[0][0]']     \n",
      " ormalization)                                                                                    \n",
      "                                                                                                  \n",
      " block_11_expand_relu (ReLU  (None, 14, 14, 576)          0         ['block_11_expand_BN[0][0]']  \n",
      " )                                                                                                \n",
      "                                                                                                  \n",
      " block_11_depthwise (Depthw  (None, 14, 14, 576)          5184      ['block_11_expand_relu[0][0]']\n",
      " iseConv2D)                                                                                       \n",
      "                                                                                                  \n",
      " block_11_depthwise_BN (Bat  (None, 14, 14, 576)          2304      ['block_11_depthwise[0][0]']  \n",
      " chNormalization)                                                                                 \n",
      "                                                                                                  \n",
      " block_11_depthwise_relu (R  (None, 14, 14, 576)          0         ['block_11_depthwise_BN[0][0]'\n",
      " eLU)                                                               ]                             \n",
      "                                                                                                  \n",
      " block_11_project (Conv2D)   (None, 14, 14, 96)           55296     ['block_11_depthwise_relu[0][0\n",
      "                                                                    ]']                           \n",
      "                                                                                                  \n",
      " block_11_project_BN (Batch  (None, 14, 14, 96)           384       ['block_11_project[0][0]']    \n",
      " Normalization)                                                                                   \n",
      "                                                                                                  \n",
      " block_11_add (Add)          (None, 14, 14, 96)           0         ['block_10_project_BN[0][0]', \n",
      "                                                                     'block_11_project_BN[0][0]'] \n",
      "                                                                                                  \n",
      " block_12_expand (Conv2D)    (None, 14, 14, 576)          55296     ['block_11_add[0][0]']        \n",
      "                                                                                                  \n",
      " block_12_expand_BN (BatchN  (None, 14, 14, 576)          2304      ['block_12_expand[0][0]']     \n",
      " ormalization)                                                                                    \n",
      "                                                                                                  \n",
      " block_12_expand_relu (ReLU  (None, 14, 14, 576)          0         ['block_12_expand_BN[0][0]']  \n",
      " )                                                                                                \n",
      "                                                                                                  \n",
      " block_12_depthwise (Depthw  (None, 14, 14, 576)          5184      ['block_12_expand_relu[0][0]']\n",
      " iseConv2D)                                                                                       \n",
      "                                                                                                  \n",
      " block_12_depthwise_BN (Bat  (None, 14, 14, 576)          2304      ['block_12_depthwise[0][0]']  \n",
      " chNormalization)                                                                                 \n",
      "                                                                                                  \n",
      " block_12_depthwise_relu (R  (None, 14, 14, 576)          0         ['block_12_depthwise_BN[0][0]'\n",
      " eLU)                                                               ]                             \n",
      "                                                                                                  \n",
      " block_12_project (Conv2D)   (None, 14, 14, 96)           55296     ['block_12_depthwise_relu[0][0\n",
      "                                                                    ]']                           \n",
      "                                                                                                  \n",
      " block_12_project_BN (Batch  (None, 14, 14, 96)           384       ['block_12_project[0][0]']    \n",
      " Normalization)                                                                                   \n",
      "                                                                                                  \n",
      " block_12_add (Add)          (None, 14, 14, 96)           0         ['block_11_add[0][0]',        \n",
      "                                                                     'block_12_project_BN[0][0]'] \n",
      "                                                                                                  \n",
      " block_13_expand (Conv2D)    (None, 14, 14, 576)          55296     ['block_12_add[0][0]']        \n",
      "                                                                                                  \n",
      " block_13_expand_BN (BatchN  (None, 14, 14, 576)          2304      ['block_13_expand[0][0]']     \n",
      " ormalization)                                                                                    \n",
      "                                                                                                  \n",
      " block_13_expand_relu (ReLU  (None, 14, 14, 576)          0         ['block_13_expand_BN[0][0]']  \n",
      " )                                                                                                \n",
      "                                                                                                  \n",
      " block_13_pad (ZeroPadding2  (None, 15, 15, 576)          0         ['block_13_expand_relu[0][0]']\n",
      " D)                                                                                               \n",
      "                                                                                                  \n",
      " block_13_depthwise (Depthw  (None, 7, 7, 576)            5184      ['block_13_pad[0][0]']        \n",
      " iseConv2D)                                                                                       \n",
      "                                                                                                  \n",
      " block_13_depthwise_BN (Bat  (None, 7, 7, 576)            2304      ['block_13_depthwise[0][0]']  \n",
      " chNormalization)                                                                                 \n",
      "                                                                                                  \n",
      " block_13_depthwise_relu (R  (None, 7, 7, 576)            0         ['block_13_depthwise_BN[0][0]'\n",
      " eLU)                                                               ]                             \n",
      "                                                                                                  \n",
      " block_13_project (Conv2D)   (None, 7, 7, 160)            92160     ['block_13_depthwise_relu[0][0\n",
      "                                                                    ]']                           \n",
      "                                                                                                  \n",
      " block_13_project_BN (Batch  (None, 7, 7, 160)            640       ['block_13_project[0][0]']    \n",
      " Normalization)                                                                                   \n",
      "                                                                                                  \n",
      " block_14_expand (Conv2D)    (None, 7, 7, 960)            153600    ['block_13_project_BN[0][0]'] \n",
      "                                                                                                  \n",
      " block_14_expand_BN (BatchN  (None, 7, 7, 960)            3840      ['block_14_expand[0][0]']     \n",
      " ormalization)                                                                                    \n",
      "                                                                                                  \n",
      " block_14_expand_relu (ReLU  (None, 7, 7, 960)            0         ['block_14_expand_BN[0][0]']  \n",
      " )                                                                                                \n",
      "                                                                                                  \n",
      " block_14_depthwise (Depthw  (None, 7, 7, 960)            8640      ['block_14_expand_relu[0][0]']\n",
      " iseConv2D)                                                                                       \n",
      "                                                                                                  \n",
      " block_14_depthwise_BN (Bat  (None, 7, 7, 960)            3840      ['block_14_depthwise[0][0]']  \n",
      " chNormalization)                                                                                 \n",
      "                                                                                                  \n",
      " block_14_depthwise_relu (R  (None, 7, 7, 960)            0         ['block_14_depthwise_BN[0][0]'\n",
      " eLU)                                                               ]                             \n",
      "                                                                                                  \n",
      " block_14_project (Conv2D)   (None, 7, 7, 160)            153600    ['block_14_depthwise_relu[0][0\n",
      "                                                                    ]']                           \n",
      "                                                                                                  \n",
      " block_14_project_BN (Batch  (None, 7, 7, 160)            640       ['block_14_project[0][0]']    \n",
      " Normalization)                                                                                   \n",
      "                                                                                                  \n",
      " block_14_add (Add)          (None, 7, 7, 160)            0         ['block_13_project_BN[0][0]', \n",
      "                                                                     'block_14_project_BN[0][0]'] \n",
      "                                                                                                  \n",
      " block_15_expand (Conv2D)    (None, 7, 7, 960)            153600    ['block_14_add[0][0]']        \n",
      "                                                                                                  \n",
      " block_15_expand_BN (BatchN  (None, 7, 7, 960)            3840      ['block_15_expand[0][0]']     \n",
      " ormalization)                                                                                    \n",
      "                                                                                                  \n",
      " block_15_expand_relu (ReLU  (None, 7, 7, 960)            0         ['block_15_expand_BN[0][0]']  \n",
      " )                                                                                                \n",
      "                                                                                                  \n",
      " block_15_depthwise (Depthw  (None, 7, 7, 960)            8640      ['block_15_expand_relu[0][0]']\n",
      " iseConv2D)                                                                                       \n",
      "                                                                                                  \n",
      " block_15_depthwise_BN (Bat  (None, 7, 7, 960)            3840      ['block_15_depthwise[0][0]']  \n",
      " chNormalization)                                                                                 \n",
      "                                                                                                  \n",
      " block_15_depthwise_relu (R  (None, 7, 7, 960)            0         ['block_15_depthwise_BN[0][0]'\n",
      " eLU)                                                               ]                             \n",
      "                                                                                                  \n",
      " block_15_project (Conv2D)   (None, 7, 7, 160)            153600    ['block_15_depthwise_relu[0][0\n",
      "                                                                    ]']                           \n",
      "                                                                                                  \n",
      " block_15_project_BN (Batch  (None, 7, 7, 160)            640       ['block_15_project[0][0]']    \n",
      " Normalization)                                                                                   \n",
      "                                                                                                  \n",
      " block_15_add (Add)          (None, 7, 7, 160)            0         ['block_14_add[0][0]',        \n",
      "                                                                     'block_15_project_BN[0][0]'] \n",
      "                                                                                                  \n",
      " block_16_expand (Conv2D)    (None, 7, 7, 960)            153600    ['block_15_add[0][0]']        \n",
      "                                                                                                  \n",
      " block_16_expand_BN (BatchN  (None, 7, 7, 960)            3840      ['block_16_expand[0][0]']     \n",
      " ormalization)                                                                                    \n",
      "                                                                                                  \n",
      " block_16_expand_relu (ReLU  (None, 7, 7, 960)            0         ['block_16_expand_BN[0][0]']  \n",
      " )                                                                                                \n",
      "                                                                                                  \n",
      " block_16_depthwise (Depthw  (None, 7, 7, 960)            8640      ['block_16_expand_relu[0][0]']\n",
      " iseConv2D)                                                                                       \n",
      "                                                                                                  \n",
      " block_16_depthwise_BN (Bat  (None, 7, 7, 960)            3840      ['block_16_depthwise[0][0]']  \n",
      " chNormalization)                                                                                 \n",
      "                                                                                                  \n",
      " block_16_depthwise_relu (R  (None, 7, 7, 960)            0         ['block_16_depthwise_BN[0][0]'\n",
      " eLU)                                                               ]                             \n",
      "                                                                                                  \n",
      " block_16_project (Conv2D)   (None, 7, 7, 320)            307200    ['block_16_depthwise_relu[0][0\n",
      "                                                                    ]']                           \n",
      "                                                                                                  \n",
      " block_16_project_BN (Batch  (None, 7, 7, 320)            1280      ['block_16_project[0][0]']    \n",
      " Normalization)                                                                                   \n",
      "                                                                                                  \n",
      " Conv_1 (Conv2D)             (None, 7, 7, 1280)           409600    ['block_16_project_BN[0][0]'] \n",
      "                                                                                                  \n",
      " Conv_1_bn (BatchNormalizat  (None, 7, 7, 1280)           5120      ['Conv_1[0][0]']              \n",
      " ion)                                                                                             \n",
      "                                                                                                  \n",
      " out_relu (ReLU)             (None, 7, 7, 1280)           0         ['Conv_1_bn[0][0]']           \n",
      "                                                                                                  \n",
      "==================================================================================================\n",
      "Total params: 2257984 (8.61 MB)\n",
      "Trainable params: 2223872 (8.48 MB)\n",
      "Non-trainable params: 34112 (133.25 KB)\n",
      "__________________________________________________________________________________________________\n"
     ]
    }
   ],
   "source": [
    "tf.random.set_seed(42)\n",
    "# mobilenet_model_1 = tf.keras.applications.mobilenet_v2.MobileNetV2()\n",
    "mobilenet_model_1 = tf.keras.applications.mobilenet_v2.MobileNetV2(weights='imagenet',\n",
    "                                                                   include_top=False,\n",
    "                   input_shape=(IMAGE_WIDTH, IMAGE_HEIGHT, COLOR_CHANNELS))\n",
    "mobilenet_model_1.summary()"
   ]
  },
  {
   "cell_type": "markdown",
   "metadata": {},
   "source": [
    "### To double check layers with summary"
   ]
  },
  {
   "cell_type": "code",
   "execution_count": 25,
   "metadata": {},
   "outputs": [
    {
     "name": "stdout",
     "output_type": "stream",
     "text": [
      "Number of layers: 154\n",
      "Total number of parameters: 2257984\n",
      "Total trainable parameters: 2223872\n",
      "Total non-trainable parameters: 34112\n"
     ]
    }
   ],
   "source": [
    "total_params = mobilenet_model_1.count_params()\n",
    "num_layers = len(mobilenet_model_1.layers)\n",
    "print(\"Number of layers:\", num_layers)\n",
    "print(\"Total number of parameters:\", total_params)\n",
    "\n",
    "trainable_params = sum([tf.keras.backend.count_params(p) for p in mobilenet_model_1.trainable_weights])\n",
    "non_trainable_params = sum([tf.keras.backend.count_params(p) for p in mobilenet_model_1.non_trainable_weights])\n",
    "\n",
    "print(\"Total trainable parameters:\", trainable_params)\n",
    "print(\"Total non-trainable parameters:\", non_trainable_params)"
   ]
  },
  {
   "cell_type": "markdown",
   "metadata": {
    "id": "jWGw7HFgmcQ7"
   },
   "source": [
    "## Data shape final checking that need to be `tie-up` with modelling"
   ]
  },
  {
   "cell_type": "code",
   "execution_count": 26,
   "metadata": {
    "colab": {
     "base_uri": "https://localhost:8080/"
    },
    "executionInfo": {
     "elapsed": 618,
     "status": "ok",
     "timestamp": 1708345662671,
     "user": {
      "displayName": "Henry Si",
      "userId": "17719448117276295977"
     },
     "user_tz": -480
    },
    "id": "qdMOaME5rvPC",
    "outputId": "60188c75-b589-497e-d6e9-3e868bf7b009"
   },
   "outputs": [
    {
     "data": {
      "text/plain": [
       "(12669, 224, 224, 3)"
      ]
     },
     "execution_count": 26,
     "metadata": {},
     "output_type": "execute_result"
    }
   ],
   "source": [
    "x_train_normalized.shape"
   ]
  },
  {
   "cell_type": "code",
   "execution_count": 27,
   "metadata": {
    "colab": {
     "base_uri": "https://localhost:8080/"
    },
    "executionInfo": {
     "elapsed": 26,
     "status": "ok",
     "timestamp": 1708345182718,
     "user": {
      "displayName": "Henry Si",
      "userId": "17719448117276295977"
     },
     "user_tz": -480
    },
    "id": "x4MCCPQ1sque",
    "outputId": "3bc6264a-d207-4a86-e336-6735bd652e56"
   },
   "outputs": [
    {
     "data": {
      "text/plain": [
       "(12669, 20)"
      ]
     },
     "execution_count": 27,
     "metadata": {},
     "output_type": "execute_result"
    }
   ],
   "source": [
    "y_train.shape"
   ]
  },
  {
   "cell_type": "code",
   "execution_count": 28,
   "metadata": {
    "colab": {
     "base_uri": "https://localhost:8080/"
    },
    "executionInfo": {
     "elapsed": 515,
     "status": "ok",
     "timestamp": 1708345666080,
     "user": {
      "displayName": "Henry Si",
      "userId": "17719448117276295977"
     },
     "user_tz": -480
    },
    "id": "u54bDYqGqFK8",
    "outputId": "7b0bd1d4-c562-4790-a930-b908a7647622"
   },
   "outputs": [
    {
     "data": {
      "text/plain": [
       "(1266, 224, 224, 3)"
      ]
     },
     "execution_count": 28,
     "metadata": {},
     "output_type": "execute_result"
    }
   ],
   "source": [
    "x_validation_normalized.shape"
   ]
  },
  {
   "cell_type": "code",
   "execution_count": 29,
   "metadata": {
    "colab": {
     "base_uri": "https://localhost:8080/",
     "height": 141
    },
    "executionInfo": {
     "elapsed": 36,
     "status": "error",
     "timestamp": 1708345271716,
     "user": {
      "displayName": "Henry Si",
      "userId": "17719448117276295977"
     },
     "user_tz": -480
    },
    "id": "TInnje_vqFiG",
    "outputId": "629e7a9f-2ff6-4d18-d3d2-abce4b21fd93"
   },
   "outputs": [
    {
     "data": {
      "text/plain": [
       "(1266, 20)"
      ]
     },
     "execution_count": 29,
     "metadata": {},
     "output_type": "execute_result"
    }
   ],
   "source": [
    "y_val.shape"
   ]
  },
  {
   "cell_type": "markdown",
   "metadata": {},
   "source": [
    "## Self-Defined MobileNetv2"
   ]
  },
  {
   "cell_type": "markdown",
   "metadata": {},
   "source": [
    "#### To instruct: loaded layers for not trainable (non-trainable) BUT all weights are intact"
   ]
  },
  {
   "cell_type": "code",
   "execution_count": 26,
   "metadata": {},
   "outputs": [],
   "source": [
    "# The last x layers (weight layers) to be updated during training: none, above those will be false (exlcuded)\n",
    "for layer in mobilenet_model_1.layers:\n",
    "    layer.trainable = False\n",
    "\n",
    "# mobilenet_model_1.summary()"
   ]
  },
  {
   "cell_type": "markdown",
   "metadata": {},
   "source": [
    "#### Manual"
   ]
  },
  {
   "cell_type": "markdown",
   "metadata": {},
   "source": [
    "#### Flatten the output of the MobileNetV2 model, through Global Average Pooling(GAP)"
   ]
  },
  {
   "cell_type": "code",
   "execution_count": 27,
   "metadata": {},
   "outputs": [
    {
     "name": "stdout",
     "output_type": "stream",
     "text": [
      "Model: \"model\"\n",
      "__________________________________________________________________________________________________\n",
      " Layer (type)                Output Shape                 Param #   Connected to                  \n",
      "==================================================================================================\n",
      " input_1 (InputLayer)        [(None, 224, 224, 3)]        0         []                            \n",
      "                                                                                                  \n",
      " Conv1 (Conv2D)              (None, 112, 112, 32)         864       ['input_1[0][0]']             \n",
      "                                                                                                  \n",
      " bn_Conv1 (BatchNormalizati  (None, 112, 112, 32)         128       ['Conv1[0][0]']               \n",
      " on)                                                                                              \n",
      "                                                                                                  \n",
      " Conv1_relu (ReLU)           (None, 112, 112, 32)         0         ['bn_Conv1[0][0]']            \n",
      "                                                                                                  \n",
      " expanded_conv_depthwise (D  (None, 112, 112, 32)         288       ['Conv1_relu[0][0]']          \n",
      " epthwiseConv2D)                                                                                  \n",
      "                                                                                                  \n",
      " expanded_conv_depthwise_BN  (None, 112, 112, 32)         128       ['expanded_conv_depthwise[0][0\n",
      "  (BatchNormalization)                                              ]']                           \n",
      "                                                                                                  \n",
      " expanded_conv_depthwise_re  (None, 112, 112, 32)         0         ['expanded_conv_depthwise_BN[0\n",
      " lu (ReLU)                                                          ][0]']                        \n",
      "                                                                                                  \n",
      " expanded_conv_project (Con  (None, 112, 112, 16)         512       ['expanded_conv_depthwise_relu\n",
      " v2D)                                                               [0][0]']                      \n",
      "                                                                                                  \n",
      " expanded_conv_project_BN (  (None, 112, 112, 16)         64        ['expanded_conv_project[0][0]'\n",
      " BatchNormalization)                                                ]                             \n",
      "                                                                                                  \n",
      " block_1_expand (Conv2D)     (None, 112, 112, 96)         1536      ['expanded_conv_project_BN[0][\n",
      "                                                                    0]']                          \n",
      "                                                                                                  \n",
      " block_1_expand_BN (BatchNo  (None, 112, 112, 96)         384       ['block_1_expand[0][0]']      \n",
      " rmalization)                                                                                     \n",
      "                                                                                                  \n",
      " block_1_expand_relu (ReLU)  (None, 112, 112, 96)         0         ['block_1_expand_BN[0][0]']   \n",
      "                                                                                                  \n",
      " block_1_pad (ZeroPadding2D  (None, 113, 113, 96)         0         ['block_1_expand_relu[0][0]'] \n",
      " )                                                                                                \n",
      "                                                                                                  \n",
      " block_1_depthwise (Depthwi  (None, 56, 56, 96)           864       ['block_1_pad[0][0]']         \n",
      " seConv2D)                                                                                        \n",
      "                                                                                                  \n",
      " block_1_depthwise_BN (Batc  (None, 56, 56, 96)           384       ['block_1_depthwise[0][0]']   \n",
      " hNormalization)                                                                                  \n",
      "                                                                                                  \n",
      " block_1_depthwise_relu (Re  (None, 56, 56, 96)           0         ['block_1_depthwise_BN[0][0]']\n",
      " LU)                                                                                              \n",
      "                                                                                                  \n",
      " block_1_project (Conv2D)    (None, 56, 56, 24)           2304      ['block_1_depthwise_relu[0][0]\n",
      "                                                                    ']                            \n",
      "                                                                                                  \n",
      " block_1_project_BN (BatchN  (None, 56, 56, 24)           96        ['block_1_project[0][0]']     \n",
      " ormalization)                                                                                    \n",
      "                                                                                                  \n",
      " block_2_expand (Conv2D)     (None, 56, 56, 144)          3456      ['block_1_project_BN[0][0]']  \n",
      "                                                                                                  \n",
      " block_2_expand_BN (BatchNo  (None, 56, 56, 144)          576       ['block_2_expand[0][0]']      \n",
      " rmalization)                                                                                     \n",
      "                                                                                                  \n",
      " block_2_expand_relu (ReLU)  (None, 56, 56, 144)          0         ['block_2_expand_BN[0][0]']   \n",
      "                                                                                                  \n",
      " block_2_depthwise (Depthwi  (None, 56, 56, 144)          1296      ['block_2_expand_relu[0][0]'] \n",
      " seConv2D)                                                                                        \n",
      "                                                                                                  \n",
      " block_2_depthwise_BN (Batc  (None, 56, 56, 144)          576       ['block_2_depthwise[0][0]']   \n",
      " hNormalization)                                                                                  \n",
      "                                                                                                  \n",
      " block_2_depthwise_relu (Re  (None, 56, 56, 144)          0         ['block_2_depthwise_BN[0][0]']\n",
      " LU)                                                                                              \n",
      "                                                                                                  \n",
      " block_2_project (Conv2D)    (None, 56, 56, 24)           3456      ['block_2_depthwise_relu[0][0]\n",
      "                                                                    ']                            \n",
      "                                                                                                  \n",
      " block_2_project_BN (BatchN  (None, 56, 56, 24)           96        ['block_2_project[0][0]']     \n",
      " ormalization)                                                                                    \n",
      "                                                                                                  \n",
      " block_2_add (Add)           (None, 56, 56, 24)           0         ['block_1_project_BN[0][0]',  \n",
      "                                                                     'block_2_project_BN[0][0]']  \n",
      "                                                                                                  \n",
      " block_3_expand (Conv2D)     (None, 56, 56, 144)          3456      ['block_2_add[0][0]']         \n",
      "                                                                                                  \n",
      " block_3_expand_BN (BatchNo  (None, 56, 56, 144)          576       ['block_3_expand[0][0]']      \n",
      " rmalization)                                                                                     \n",
      "                                                                                                  \n",
      " block_3_expand_relu (ReLU)  (None, 56, 56, 144)          0         ['block_3_expand_BN[0][0]']   \n",
      "                                                                                                  \n",
      " block_3_pad (ZeroPadding2D  (None, 57, 57, 144)          0         ['block_3_expand_relu[0][0]'] \n",
      " )                                                                                                \n",
      "                                                                                                  \n",
      " block_3_depthwise (Depthwi  (None, 28, 28, 144)          1296      ['block_3_pad[0][0]']         \n",
      " seConv2D)                                                                                        \n",
      "                                                                                                  \n",
      " block_3_depthwise_BN (Batc  (None, 28, 28, 144)          576       ['block_3_depthwise[0][0]']   \n",
      " hNormalization)                                                                                  \n",
      "                                                                                                  \n",
      " block_3_depthwise_relu (Re  (None, 28, 28, 144)          0         ['block_3_depthwise_BN[0][0]']\n",
      " LU)                                                                                              \n",
      "                                                                                                  \n",
      " block_3_project (Conv2D)    (None, 28, 28, 32)           4608      ['block_3_depthwise_relu[0][0]\n",
      "                                                                    ']                            \n",
      "                                                                                                  \n",
      " block_3_project_BN (BatchN  (None, 28, 28, 32)           128       ['block_3_project[0][0]']     \n",
      " ormalization)                                                                                    \n",
      "                                                                                                  \n",
      " block_4_expand (Conv2D)     (None, 28, 28, 192)          6144      ['block_3_project_BN[0][0]']  \n",
      "                                                                                                  \n",
      " block_4_expand_BN (BatchNo  (None, 28, 28, 192)          768       ['block_4_expand[0][0]']      \n",
      " rmalization)                                                                                     \n",
      "                                                                                                  \n",
      " block_4_expand_relu (ReLU)  (None, 28, 28, 192)          0         ['block_4_expand_BN[0][0]']   \n",
      "                                                                                                  \n",
      " block_4_depthwise (Depthwi  (None, 28, 28, 192)          1728      ['block_4_expand_relu[0][0]'] \n",
      " seConv2D)                                                                                        \n",
      "                                                                                                  \n",
      " block_4_depthwise_BN (Batc  (None, 28, 28, 192)          768       ['block_4_depthwise[0][0]']   \n",
      " hNormalization)                                                                                  \n",
      "                                                                                                  \n",
      " block_4_depthwise_relu (Re  (None, 28, 28, 192)          0         ['block_4_depthwise_BN[0][0]']\n",
      " LU)                                                                                              \n",
      "                                                                                                  \n",
      " block_4_project (Conv2D)    (None, 28, 28, 32)           6144      ['block_4_depthwise_relu[0][0]\n",
      "                                                                    ']                            \n",
      "                                                                                                  \n",
      " block_4_project_BN (BatchN  (None, 28, 28, 32)           128       ['block_4_project[0][0]']     \n",
      " ormalization)                                                                                    \n",
      "                                                                                                  \n",
      " block_4_add (Add)           (None, 28, 28, 32)           0         ['block_3_project_BN[0][0]',  \n",
      "                                                                     'block_4_project_BN[0][0]']  \n",
      "                                                                                                  \n",
      " block_5_expand (Conv2D)     (None, 28, 28, 192)          6144      ['block_4_add[0][0]']         \n",
      "                                                                                                  \n",
      " block_5_expand_BN (BatchNo  (None, 28, 28, 192)          768       ['block_5_expand[0][0]']      \n",
      " rmalization)                                                                                     \n",
      "                                                                                                  \n",
      " block_5_expand_relu (ReLU)  (None, 28, 28, 192)          0         ['block_5_expand_BN[0][0]']   \n",
      "                                                                                                  \n",
      " block_5_depthwise (Depthwi  (None, 28, 28, 192)          1728      ['block_5_expand_relu[0][0]'] \n",
      " seConv2D)                                                                                        \n",
      "                                                                                                  \n",
      " block_5_depthwise_BN (Batc  (None, 28, 28, 192)          768       ['block_5_depthwise[0][0]']   \n",
      " hNormalization)                                                                                  \n",
      "                                                                                                  \n",
      " block_5_depthwise_relu (Re  (None, 28, 28, 192)          0         ['block_5_depthwise_BN[0][0]']\n",
      " LU)                                                                                              \n",
      "                                                                                                  \n",
      " block_5_project (Conv2D)    (None, 28, 28, 32)           6144      ['block_5_depthwise_relu[0][0]\n",
      "                                                                    ']                            \n",
      "                                                                                                  \n",
      " block_5_project_BN (BatchN  (None, 28, 28, 32)           128       ['block_5_project[0][0]']     \n",
      " ormalization)                                                                                    \n",
      "                                                                                                  \n",
      " block_5_add (Add)           (None, 28, 28, 32)           0         ['block_4_add[0][0]',         \n",
      "                                                                     'block_5_project_BN[0][0]']  \n",
      "                                                                                                  \n",
      " block_6_expand (Conv2D)     (None, 28, 28, 192)          6144      ['block_5_add[0][0]']         \n",
      "                                                                                                  \n",
      " block_6_expand_BN (BatchNo  (None, 28, 28, 192)          768       ['block_6_expand[0][0]']      \n",
      " rmalization)                                                                                     \n",
      "                                                                                                  \n",
      " block_6_expand_relu (ReLU)  (None, 28, 28, 192)          0         ['block_6_expand_BN[0][0]']   \n",
      "                                                                                                  \n",
      " block_6_pad (ZeroPadding2D  (None, 29, 29, 192)          0         ['block_6_expand_relu[0][0]'] \n",
      " )                                                                                                \n",
      "                                                                                                  \n",
      " block_6_depthwise (Depthwi  (None, 14, 14, 192)          1728      ['block_6_pad[0][0]']         \n",
      " seConv2D)                                                                                        \n",
      "                                                                                                  \n",
      " block_6_depthwise_BN (Batc  (None, 14, 14, 192)          768       ['block_6_depthwise[0][0]']   \n",
      " hNormalization)                                                                                  \n",
      "                                                                                                  \n",
      " block_6_depthwise_relu (Re  (None, 14, 14, 192)          0         ['block_6_depthwise_BN[0][0]']\n",
      " LU)                                                                                              \n",
      "                                                                                                  \n",
      " block_6_project (Conv2D)    (None, 14, 14, 64)           12288     ['block_6_depthwise_relu[0][0]\n",
      "                                                                    ']                            \n",
      "                                                                                                  \n",
      " block_6_project_BN (BatchN  (None, 14, 14, 64)           256       ['block_6_project[0][0]']     \n",
      " ormalization)                                                                                    \n",
      "                                                                                                  \n",
      " block_7_expand (Conv2D)     (None, 14, 14, 384)          24576     ['block_6_project_BN[0][0]']  \n",
      "                                                                                                  \n",
      " block_7_expand_BN (BatchNo  (None, 14, 14, 384)          1536      ['block_7_expand[0][0]']      \n",
      " rmalization)                                                                                     \n",
      "                                                                                                  \n",
      " block_7_expand_relu (ReLU)  (None, 14, 14, 384)          0         ['block_7_expand_BN[0][0]']   \n",
      "                                                                                                  \n",
      " block_7_depthwise (Depthwi  (None, 14, 14, 384)          3456      ['block_7_expand_relu[0][0]'] \n",
      " seConv2D)                                                                                        \n",
      "                                                                                                  \n",
      " block_7_depthwise_BN (Batc  (None, 14, 14, 384)          1536      ['block_7_depthwise[0][0]']   \n",
      " hNormalization)                                                                                  \n",
      "                                                                                                  \n",
      " block_7_depthwise_relu (Re  (None, 14, 14, 384)          0         ['block_7_depthwise_BN[0][0]']\n",
      " LU)                                                                                              \n",
      "                                                                                                  \n",
      " block_7_project (Conv2D)    (None, 14, 14, 64)           24576     ['block_7_depthwise_relu[0][0]\n",
      "                                                                    ']                            \n",
      "                                                                                                  \n",
      " block_7_project_BN (BatchN  (None, 14, 14, 64)           256       ['block_7_project[0][0]']     \n",
      " ormalization)                                                                                    \n",
      "                                                                                                  \n",
      " block_7_add (Add)           (None, 14, 14, 64)           0         ['block_6_project_BN[0][0]',  \n",
      "                                                                     'block_7_project_BN[0][0]']  \n",
      "                                                                                                  \n",
      " block_8_expand (Conv2D)     (None, 14, 14, 384)          24576     ['block_7_add[0][0]']         \n",
      "                                                                                                  \n",
      " block_8_expand_BN (BatchNo  (None, 14, 14, 384)          1536      ['block_8_expand[0][0]']      \n",
      " rmalization)                                                                                     \n",
      "                                                                                                  \n",
      " block_8_expand_relu (ReLU)  (None, 14, 14, 384)          0         ['block_8_expand_BN[0][0]']   \n",
      "                                                                                                  \n",
      " block_8_depthwise (Depthwi  (None, 14, 14, 384)          3456      ['block_8_expand_relu[0][0]'] \n",
      " seConv2D)                                                                                        \n",
      "                                                                                                  \n",
      " block_8_depthwise_BN (Batc  (None, 14, 14, 384)          1536      ['block_8_depthwise[0][0]']   \n",
      " hNormalization)                                                                                  \n",
      "                                                                                                  \n",
      " block_8_depthwise_relu (Re  (None, 14, 14, 384)          0         ['block_8_depthwise_BN[0][0]']\n",
      " LU)                                                                                              \n",
      "                                                                                                  \n",
      " block_8_project (Conv2D)    (None, 14, 14, 64)           24576     ['block_8_depthwise_relu[0][0]\n",
      "                                                                    ']                            \n",
      "                                                                                                  \n",
      " block_8_project_BN (BatchN  (None, 14, 14, 64)           256       ['block_8_project[0][0]']     \n",
      " ormalization)                                                                                    \n",
      "                                                                                                  \n",
      " block_8_add (Add)           (None, 14, 14, 64)           0         ['block_7_add[0][0]',         \n",
      "                                                                     'block_8_project_BN[0][0]']  \n",
      "                                                                                                  \n",
      " block_9_expand (Conv2D)     (None, 14, 14, 384)          24576     ['block_8_add[0][0]']         \n",
      "                                                                                                  \n",
      " block_9_expand_BN (BatchNo  (None, 14, 14, 384)          1536      ['block_9_expand[0][0]']      \n",
      " rmalization)                                                                                     \n",
      "                                                                                                  \n",
      " block_9_expand_relu (ReLU)  (None, 14, 14, 384)          0         ['block_9_expand_BN[0][0]']   \n",
      "                                                                                                  \n",
      " block_9_depthwise (Depthwi  (None, 14, 14, 384)          3456      ['block_9_expand_relu[0][0]'] \n",
      " seConv2D)                                                                                        \n",
      "                                                                                                  \n",
      " block_9_depthwise_BN (Batc  (None, 14, 14, 384)          1536      ['block_9_depthwise[0][0]']   \n",
      " hNormalization)                                                                                  \n",
      "                                                                                                  \n",
      " block_9_depthwise_relu (Re  (None, 14, 14, 384)          0         ['block_9_depthwise_BN[0][0]']\n",
      " LU)                                                                                              \n",
      "                                                                                                  \n",
      " block_9_project (Conv2D)    (None, 14, 14, 64)           24576     ['block_9_depthwise_relu[0][0]\n",
      "                                                                    ']                            \n",
      "                                                                                                  \n",
      " block_9_project_BN (BatchN  (None, 14, 14, 64)           256       ['block_9_project[0][0]']     \n",
      " ormalization)                                                                                    \n",
      "                                                                                                  \n",
      " block_9_add (Add)           (None, 14, 14, 64)           0         ['block_8_add[0][0]',         \n",
      "                                                                     'block_9_project_BN[0][0]']  \n",
      "                                                                                                  \n",
      " block_10_expand (Conv2D)    (None, 14, 14, 384)          24576     ['block_9_add[0][0]']         \n",
      "                                                                                                  \n",
      " block_10_expand_BN (BatchN  (None, 14, 14, 384)          1536      ['block_10_expand[0][0]']     \n",
      " ormalization)                                                                                    \n",
      "                                                                                                  \n",
      " block_10_expand_relu (ReLU  (None, 14, 14, 384)          0         ['block_10_expand_BN[0][0]']  \n",
      " )                                                                                                \n",
      "                                                                                                  \n",
      " block_10_depthwise (Depthw  (None, 14, 14, 384)          3456      ['block_10_expand_relu[0][0]']\n",
      " iseConv2D)                                                                                       \n",
      "                                                                                                  \n",
      " block_10_depthwise_BN (Bat  (None, 14, 14, 384)          1536      ['block_10_depthwise[0][0]']  \n",
      " chNormalization)                                                                                 \n",
      "                                                                                                  \n",
      " block_10_depthwise_relu (R  (None, 14, 14, 384)          0         ['block_10_depthwise_BN[0][0]'\n",
      " eLU)                                                               ]                             \n",
      "                                                                                                  \n",
      " block_10_project (Conv2D)   (None, 14, 14, 96)           36864     ['block_10_depthwise_relu[0][0\n",
      "                                                                    ]']                           \n",
      "                                                                                                  \n",
      " block_10_project_BN (Batch  (None, 14, 14, 96)           384       ['block_10_project[0][0]']    \n",
      " Normalization)                                                                                   \n",
      "                                                                                                  \n",
      " block_11_expand (Conv2D)    (None, 14, 14, 576)          55296     ['block_10_project_BN[0][0]'] \n",
      "                                                                                                  \n",
      " block_11_expand_BN (BatchN  (None, 14, 14, 576)          2304      ['block_11_expand[0][0]']     \n",
      " ormalization)                                                                                    \n",
      "                                                                                                  \n",
      " block_11_expand_relu (ReLU  (None, 14, 14, 576)          0         ['block_11_expand_BN[0][0]']  \n",
      " )                                                                                                \n",
      "                                                                                                  \n",
      " block_11_depthwise (Depthw  (None, 14, 14, 576)          5184      ['block_11_expand_relu[0][0]']\n",
      " iseConv2D)                                                                                       \n",
      "                                                                                                  \n",
      " block_11_depthwise_BN (Bat  (None, 14, 14, 576)          2304      ['block_11_depthwise[0][0]']  \n",
      " chNormalization)                                                                                 \n",
      "                                                                                                  \n",
      " block_11_depthwise_relu (R  (None, 14, 14, 576)          0         ['block_11_depthwise_BN[0][0]'\n",
      " eLU)                                                               ]                             \n",
      "                                                                                                  \n",
      " block_11_project (Conv2D)   (None, 14, 14, 96)           55296     ['block_11_depthwise_relu[0][0\n",
      "                                                                    ]']                           \n",
      "                                                                                                  \n",
      " block_11_project_BN (Batch  (None, 14, 14, 96)           384       ['block_11_project[0][0]']    \n",
      " Normalization)                                                                                   \n",
      "                                                                                                  \n",
      " block_11_add (Add)          (None, 14, 14, 96)           0         ['block_10_project_BN[0][0]', \n",
      "                                                                     'block_11_project_BN[0][0]'] \n",
      "                                                                                                  \n",
      " block_12_expand (Conv2D)    (None, 14, 14, 576)          55296     ['block_11_add[0][0]']        \n",
      "                                                                                                  \n",
      " block_12_expand_BN (BatchN  (None, 14, 14, 576)          2304      ['block_12_expand[0][0]']     \n",
      " ormalization)                                                                                    \n",
      "                                                                                                  \n",
      " block_12_expand_relu (ReLU  (None, 14, 14, 576)          0         ['block_12_expand_BN[0][0]']  \n",
      " )                                                                                                \n",
      "                                                                                                  \n",
      " block_12_depthwise (Depthw  (None, 14, 14, 576)          5184      ['block_12_expand_relu[0][0]']\n",
      " iseConv2D)                                                                                       \n",
      "                                                                                                  \n",
      " block_12_depthwise_BN (Bat  (None, 14, 14, 576)          2304      ['block_12_depthwise[0][0]']  \n",
      " chNormalization)                                                                                 \n",
      "                                                                                                  \n",
      " block_12_depthwise_relu (R  (None, 14, 14, 576)          0         ['block_12_depthwise_BN[0][0]'\n",
      " eLU)                                                               ]                             \n",
      "                                                                                                  \n",
      " block_12_project (Conv2D)   (None, 14, 14, 96)           55296     ['block_12_depthwise_relu[0][0\n",
      "                                                                    ]']                           \n",
      "                                                                                                  \n",
      " block_12_project_BN (Batch  (None, 14, 14, 96)           384       ['block_12_project[0][0]']    \n",
      " Normalization)                                                                                   \n",
      "                                                                                                  \n",
      " block_12_add (Add)          (None, 14, 14, 96)           0         ['block_11_add[0][0]',        \n",
      "                                                                     'block_12_project_BN[0][0]'] \n",
      "                                                                                                  \n",
      " block_13_expand (Conv2D)    (None, 14, 14, 576)          55296     ['block_12_add[0][0]']        \n",
      "                                                                                                  \n",
      " block_13_expand_BN (BatchN  (None, 14, 14, 576)          2304      ['block_13_expand[0][0]']     \n",
      " ormalization)                                                                                    \n",
      "                                                                                                  \n",
      " block_13_expand_relu (ReLU  (None, 14, 14, 576)          0         ['block_13_expand_BN[0][0]']  \n",
      " )                                                                                                \n",
      "                                                                                                  \n",
      " block_13_pad (ZeroPadding2  (None, 15, 15, 576)          0         ['block_13_expand_relu[0][0]']\n",
      " D)                                                                                               \n",
      "                                                                                                  \n",
      " block_13_depthwise (Depthw  (None, 7, 7, 576)            5184      ['block_13_pad[0][0]']        \n",
      " iseConv2D)                                                                                       \n",
      "                                                                                                  \n",
      " block_13_depthwise_BN (Bat  (None, 7, 7, 576)            2304      ['block_13_depthwise[0][0]']  \n",
      " chNormalization)                                                                                 \n",
      "                                                                                                  \n",
      " block_13_depthwise_relu (R  (None, 7, 7, 576)            0         ['block_13_depthwise_BN[0][0]'\n",
      " eLU)                                                               ]                             \n",
      "                                                                                                  \n",
      " block_13_project (Conv2D)   (None, 7, 7, 160)            92160     ['block_13_depthwise_relu[0][0\n",
      "                                                                    ]']                           \n",
      "                                                                                                  \n",
      " block_13_project_BN (Batch  (None, 7, 7, 160)            640       ['block_13_project[0][0]']    \n",
      " Normalization)                                                                                   \n",
      "                                                                                                  \n",
      " block_14_expand (Conv2D)    (None, 7, 7, 960)            153600    ['block_13_project_BN[0][0]'] \n",
      "                                                                                                  \n",
      " block_14_expand_BN (BatchN  (None, 7, 7, 960)            3840      ['block_14_expand[0][0]']     \n",
      " ormalization)                                                                                    \n",
      "                                                                                                  \n",
      " block_14_expand_relu (ReLU  (None, 7, 7, 960)            0         ['block_14_expand_BN[0][0]']  \n",
      " )                                                                                                \n",
      "                                                                                                  \n",
      " block_14_depthwise (Depthw  (None, 7, 7, 960)            8640      ['block_14_expand_relu[0][0]']\n",
      " iseConv2D)                                                                                       \n",
      "                                                                                                  \n",
      " block_14_depthwise_BN (Bat  (None, 7, 7, 960)            3840      ['block_14_depthwise[0][0]']  \n",
      " chNormalization)                                                                                 \n",
      "                                                                                                  \n",
      " block_14_depthwise_relu (R  (None, 7, 7, 960)            0         ['block_14_depthwise_BN[0][0]'\n",
      " eLU)                                                               ]                             \n",
      "                                                                                                  \n",
      " block_14_project (Conv2D)   (None, 7, 7, 160)            153600    ['block_14_depthwise_relu[0][0\n",
      "                                                                    ]']                           \n",
      "                                                                                                  \n",
      " block_14_project_BN (Batch  (None, 7, 7, 160)            640       ['block_14_project[0][0]']    \n",
      " Normalization)                                                                                   \n",
      "                                                                                                  \n",
      " block_14_add (Add)          (None, 7, 7, 160)            0         ['block_13_project_BN[0][0]', \n",
      "                                                                     'block_14_project_BN[0][0]'] \n",
      "                                                                                                  \n",
      " block_15_expand (Conv2D)    (None, 7, 7, 960)            153600    ['block_14_add[0][0]']        \n",
      "                                                                                                  \n",
      " block_15_expand_BN (BatchN  (None, 7, 7, 960)            3840      ['block_15_expand[0][0]']     \n",
      " ormalization)                                                                                    \n",
      "                                                                                                  \n",
      " block_15_expand_relu (ReLU  (None, 7, 7, 960)            0         ['block_15_expand_BN[0][0]']  \n",
      " )                                                                                                \n",
      "                                                                                                  \n",
      " block_15_depthwise (Depthw  (None, 7, 7, 960)            8640      ['block_15_expand_relu[0][0]']\n",
      " iseConv2D)                                                                                       \n",
      "                                                                                                  \n",
      " block_15_depthwise_BN (Bat  (None, 7, 7, 960)            3840      ['block_15_depthwise[0][0]']  \n",
      " chNormalization)                                                                                 \n",
      "                                                                                                  \n",
      " block_15_depthwise_relu (R  (None, 7, 7, 960)            0         ['block_15_depthwise_BN[0][0]'\n",
      " eLU)                                                               ]                             \n",
      "                                                                                                  \n",
      " block_15_project (Conv2D)   (None, 7, 7, 160)            153600    ['block_15_depthwise_relu[0][0\n",
      "                                                                    ]']                           \n",
      "                                                                                                  \n",
      " block_15_project_BN (Batch  (None, 7, 7, 160)            640       ['block_15_project[0][0]']    \n",
      " Normalization)                                                                                   \n",
      "                                                                                                  \n",
      " block_15_add (Add)          (None, 7, 7, 160)            0         ['block_14_add[0][0]',        \n",
      "                                                                     'block_15_project_BN[0][0]'] \n",
      "                                                                                                  \n",
      " block_16_expand (Conv2D)    (None, 7, 7, 960)            153600    ['block_15_add[0][0]']        \n",
      "                                                                                                  \n",
      " block_16_expand_BN (BatchN  (None, 7, 7, 960)            3840      ['block_16_expand[0][0]']     \n",
      " ormalization)                                                                                    \n",
      "                                                                                                  \n",
      " block_16_expand_relu (ReLU  (None, 7, 7, 960)            0         ['block_16_expand_BN[0][0]']  \n",
      " )                                                                                                \n",
      "                                                                                                  \n",
      " block_16_depthwise (Depthw  (None, 7, 7, 960)            8640      ['block_16_expand_relu[0][0]']\n",
      " iseConv2D)                                                                                       \n",
      "                                                                                                  \n",
      " block_16_depthwise_BN (Bat  (None, 7, 7, 960)            3840      ['block_16_depthwise[0][0]']  \n",
      " chNormalization)                                                                                 \n",
      "                                                                                                  \n",
      " block_16_depthwise_relu (R  (None, 7, 7, 960)            0         ['block_16_depthwise_BN[0][0]'\n",
      " eLU)                                                               ]                             \n",
      "                                                                                                  \n",
      " block_16_project (Conv2D)   (None, 7, 7, 320)            307200    ['block_16_depthwise_relu[0][0\n",
      "                                                                    ]']                           \n",
      "                                                                                                  \n",
      " block_16_project_BN (Batch  (None, 7, 7, 320)            1280      ['block_16_project[0][0]']    \n",
      " Normalization)                                                                                   \n",
      "                                                                                                  \n",
      " Conv_1 (Conv2D)             (None, 7, 7, 1280)           409600    ['block_16_project_BN[0][0]'] \n",
      "                                                                                                  \n",
      " Conv_1_bn (BatchNormalizat  (None, 7, 7, 1280)           5120      ['Conv_1[0][0]']              \n",
      " ion)                                                                                             \n",
      "                                                                                                  \n",
      " out_relu (ReLU)             (None, 7, 7, 1280)           0         ['Conv_1_bn[0][0]']           \n",
      "                                                                                                  \n",
      " global_average_pooling2d (  (None, 1280)                 0         ['out_relu[0][0]']            \n",
      " GlobalAveragePooling2D)                                                                          \n",
      "                                                                                                  \n",
      " dense (Dense)               (None, 1024)                 1311744   ['global_average_pooling2d[0][\n",
      "                                                                    0]']                          \n",
      "                                                                                                  \n",
      " dropout (Dropout)           (None, 1024)                 0         ['dense[0][0]']               \n",
      "                                                                                                  \n",
      " dense_1 (Dense)             (None, 20)                   20500     ['dropout[0][0]']             \n",
      "                                                                                                  \n",
      "==================================================================================================\n",
      "Total params: 3590228 (13.70 MB)\n",
      "Trainable params: 1332244 (5.08 MB)\n",
      "Non-trainable params: 2257984 (8.61 MB)\n",
      "__________________________________________________________________________________________________\n"
     ]
    }
   ],
   "source": [
    "# Define input layer\n",
    "inputs = mobilenet_model_1.input\n",
    "\n",
    "x = mobilenet_model_1.output\n",
    "\n",
    "# Add a global average pooling layer to reduce the spatial dimensions\n",
    "# x = Flatten()(x)\n",
    "x = GlobalAveragePooling2D()(x)\n",
    "x = Dense(1024, activation='relu')(x)\n",
    "x = Dropout(0.3)(x)\n",
    "\n",
    "# Add the output layer with softmax activation for classification\n",
    "outputs = tf.keras.layers.Dense(20, activation='softmax')(x)\n",
    "\n",
    "# Define the model with inputs and outputs\n",
    "model_4_1 = tf.keras.Model(inputs=inputs, outputs=outputs)\n",
    "\n",
    "model_4_1.summary()"
   ]
  },
  {
   "cell_type": "code",
   "execution_count": 28,
   "metadata": {},
   "outputs": [
    {
     "name": "stdout",
     "output_type": "stream",
     "text": [
      "Number of layers: 158\n",
      "Total number of parameters: 3590228\n",
      "Total trainable parameters: 1332244\n",
      "Total non-trainable parameters: 2257984\n"
     ]
    }
   ],
   "source": [
    "total_params = model_4_1.count_params()\n",
    "num_layers = len(model_4_1.layers)\n",
    "print(\"Number of layers:\", num_layers)\n",
    "print(\"Total number of parameters:\", total_params)\n",
    "\n",
    "trainable_params = sum([tf.keras.backend.count_params(p) for p in model_4_1.trainable_weights])\n",
    "non_trainable_params = sum([tf.keras.backend.count_params(p) for p in model_4_1.non_trainable_weights])\n",
    "\n",
    "print(\"Total trainable parameters:\", trainable_params)\n",
    "print(\"Total non-trainable parameters:\", non_trainable_params)"
   ]
  },
  {
   "cell_type": "code",
   "execution_count": 29,
   "metadata": {},
   "outputs": [],
   "source": [
    "# Initialize counters for different types of layers\n",
    "num_conv_layers = 0\n",
    "num_pooling_layers = 0\n",
    "num_fc_layers = 0\n",
    "num_padding_layers = 0\n",
    "num_batch_norm_layers = 0\n",
    "num_activation_layers = 0\n",
    "num_input_layers = 0\n",
    "num_dropout_layers = 0\n",
    "num_reshape_layers = 0\n",
    "num_flatten_layers = 0\n",
    "num_permute_layers = 0\n",
    "num_concat_layers = 0\n",
    "num_add_layers = 0\n",
    "num_average_layers = 0\n",
    "num_multiply_layers = 0\n",
    "num_relu_layers = 0"
   ]
  },
  {
   "cell_type": "code",
   "execution_count": 30,
   "metadata": {},
   "outputs": [],
   "source": [
    "# Dictionary to count different types of pooling layers\n",
    "pooling_layers_count = {\n",
    "    'MaxPooling2D': 0,\n",
    "    'AveragePooling2D': 0,\n",
    "    'GlobalMaxPooling2D': 0,\n",
    "    'GlobalAveragePooling2D': 0\n",
    "}"
   ]
  },
  {
   "cell_type": "code",
   "execution_count": 31,
   "metadata": {},
   "outputs": [],
   "source": [
    "# Iterate through the layers and count the types\n",
    "for layer in model_4_1.layers:  # Note the change here to iterate through model_7_1 layers\n",
    "    if isinstance(layer, tf.keras.layers.InputLayer):\n",
    "        num_input_layers += 1\n",
    "    elif isinstance(layer, tf.keras.layers.Conv2D):\n",
    "        num_conv_layers += 1\n",
    "    elif isinstance(layer, tf.keras.layers.MaxPooling2D):\n",
    "        num_pooling_layers += 1\n",
    "        pooling_layers_count['MaxPooling2D'] += 1\n",
    "    elif isinstance(layer, tf.keras.layers.AveragePooling2D):\n",
    "        num_pooling_layers += 1\n",
    "        pooling_layers_count['AveragePooling2D'] += 1\n",
    "    elif isinstance(layer, tf.keras.layers.GlobalMaxPooling2D):\n",
    "        num_pooling_layers += 1\n",
    "        pooling_layers_count['GlobalMaxPooling2D'] += 1\n",
    "    elif isinstance(layer, tf.keras.layers.GlobalAveragePooling2D):\n",
    "        num_pooling_layers += 1\n",
    "        pooling_layers_count['GlobalAveragePooling2D'] += 1\n",
    "    elif isinstance(layer, tf.keras.layers.Dense):\n",
    "        num_fc_layers += 1\n",
    "    elif isinstance(layer, tf.keras.layers.ZeroPadding2D):\n",
    "        num_padding_layers += 1\n",
    "    elif isinstance(layer, tf.keras.layers.BatchNormalization):\n",
    "        num_batch_norm_layers += 1\n",
    "    elif isinstance(layer, tf.keras.layers.Activation):\n",
    "        num_activation_layers += 1\n",
    "    elif isinstance(layer, tf.keras.layers.Dropout):\n",
    "        num_dropout_layers += 1\n",
    "    elif isinstance(layer, tf.keras.layers.Reshape):\n",
    "        num_reshape_layers += 1\n",
    "    elif isinstance(layer, tf.keras.layers.Flatten):\n",
    "        num_flatten_layers += 1\n",
    "    elif isinstance(layer, tf.keras.layers.Permute):\n",
    "        num_permute_layers += 1\n",
    "    elif isinstance(layer, tf.keras.layers.Concatenate):\n",
    "        num_concat_layers += 1\n",
    "    elif isinstance(layer, tf.keras.layers.Add):\n",
    "        num_add_layers += 1\n",
    "    elif isinstance(layer, tf.keras.layers.Average):\n",
    "        num_average_layers += 1\n",
    "    elif isinstance(layer, tf.keras.layers.Multiply):\n",
    "        num_multiply_layers += 1\n",
    "    elif isinstance(layer, tf.keras.layers.ReLU):\n",
    "        num_relu_layers += 1"
   ]
  },
  {
   "cell_type": "code",
   "execution_count": 32,
   "metadata": {},
   "outputs": [],
   "source": [
    "# Count the total number of layers and parameters\n",
    "total_params = model_4_1.count_params()\n",
    "num_layers = len(model_4_1.layers)\n",
    "trainable_params = sum([tf.keras.backend.count_params(p) for p in model_4_1.trainable_weights])\n",
    "non_trainable_params = sum([tf.keras.backend.count_params(p) for p in model_4_1.non_trainable_weights])"
   ]
  },
  {
   "cell_type": "code",
   "execution_count": 33,
   "metadata": {},
   "outputs": [
    {
     "name": "stdout",
     "output_type": "stream",
     "text": [
      "Total number of parameters: 3590228\n",
      "Total trainable parameters: 1332244\n",
      "Total non-trainable parameters: 2257984\n",
      "\n",
      "Number of convolutional layers: 35\n",
      "Number of pooling layers: 1\n",
      "Number of MaxPooling2D layers: 0\n",
      "Number of AveragePooling2D layers: 0\n",
      "Number of GlobalMaxPooling2D layers: 0\n",
      "Number of GlobalAveragePooling2D layers: 1\n",
      "Number of fully connected (Dense) layers: 2\n",
      "Number of padding layers: 4\n",
      "Number of batch normalization layers: 52\n",
      "Number of activation layers: 0\n",
      "Number of input layers: 1\n",
      "Number of dropout layers: 1\n",
      "Number of reshape layers: 0\n",
      "Number of flatten layers: 0\n",
      "Number of permute layers: 0\n",
      "Number of concatenate layers: 0\n",
      "Number of add layers: 10\n",
      "Number of average layers: 0\n",
      "Number of multiply layers: 0\n",
      "Number of ReLU layers: 35\n",
      "Number of layers: 158\n"
     ]
    }
   ],
   "source": [
    "# Print the counts\n",
    "print(\"Total number of parameters:\", total_params)\n",
    "print(\"Total trainable parameters:\", trainable_params)\n",
    "print(\"Total non-trainable parameters:\", non_trainable_params)\n",
    "print(\"\\nNumber of convolutional layers:\", num_conv_layers)\n",
    "print(\"Number of pooling layers:\", num_pooling_layers)\n",
    "for pooling_type, count in pooling_layers_count.items():\n",
    "    print(f\"Number of {pooling_type} layers:\", count)\n",
    "print(\"Number of fully connected (Dense) layers:\", num_fc_layers)\n",
    "print(\"Number of padding layers:\", num_padding_layers)\n",
    "print(\"Number of batch normalization layers:\", num_batch_norm_layers)\n",
    "print(\"Number of activation layers:\", num_activation_layers)\n",
    "print(\"Number of input layers:\", num_input_layers)\n",
    "print(\"Number of dropout layers:\", num_dropout_layers)\n",
    "print(\"Number of reshape layers:\", num_reshape_layers)\n",
    "print(\"Number of flatten layers:\", num_flatten_layers)\n",
    "print(\"Number of permute layers:\", num_permute_layers)\n",
    "print(\"Number of concatenate layers:\", num_concat_layers)\n",
    "print(\"Number of add layers:\", num_add_layers)\n",
    "print(\"Number of average layers:\", num_average_layers)\n",
    "print(\"Number of multiply layers:\", num_multiply_layers)\n",
    "print(\"Number of ReLU layers:\", num_relu_layers)\n",
    "print(\"Number of layers:\", num_layers)"
   ]
  },
  {
   "cell_type": "markdown",
   "metadata": {
    "id": "2-iU7OrZmt8C"
   },
   "source": [
    "# Compile"
   ]
  },
  {
   "cell_type": "code",
   "execution_count": 34,
   "metadata": {
    "executionInfo": {
     "elapsed": 16,
     "status": "ok",
     "timestamp": 1708405522159,
     "user": {
      "displayName": "Henry Si",
      "userId": "17719448117276295977"
     },
     "user_tz": -480
    },
    "id": "IYaeIWfcUFlf"
   },
   "outputs": [],
   "source": [
    "# optimizer = tf.keras.optimizers.Adam(learning_rate=0.0001)\n",
    "# optimizer = tf.keras.optimizers.RMSprop(learning_rate=0.001)  # Testing Optimizer Adjust the learning rate \n",
    "model_4_1.compile(optimizer = 'Adam',\n",
    "              loss = 'categorical_crossentropy',\n",
    "              metrics = ['accuracy'])"
   ]
  },
  {
   "cell_type": "markdown",
   "metadata": {
    "id": "iZt37Kz9Lv4g"
   },
   "source": [
    "# 1st Training"
   ]
  },
  {
   "cell_type": "markdown",
   "metadata": {},
   "source": [
    "# Fit Model"
   ]
  },
  {
   "cell_type": "markdown",
   "metadata": {},
   "source": [
    "## Add new folder first inside the google COLAB like `saved_models`"
   ]
  },
  {
   "cell_type": "markdown",
   "metadata": {},
   "source": [
    "### Using Logging Method and passed into callback"
   ]
  },
  {
   "cell_type": "code",
   "execution_count": 35,
   "metadata": {},
   "outputs": [],
   "source": [
    "class SaveHistoryCallback(Callback):\n",
    "    # def __init__(self, model_name):  # with model_name\n",
    "    def __init__(self):    # without model_name\n",
    "        super(SaveHistoryCallback, self).__init__()\n",
    "        self.base_path = '/Users/merchika/chikaData/TA/assets/new_json'  # Define the base path here - JNB\n",
    "        # self.base_path = '/content/saved_models/'  # Define the base path here - COLAB\n",
    "        # self.model_name = aug_cnn_model1  # Could be omitted if not needed\n",
    "\n",
    "    def on_epoch_end(self, epoch, logs=None):\n",
    "        if logs is None:\n",
    "            logs = {}\n",
    "        # file_path = os.path.join(self.base_path, f'{self.model_name}_history.json')  # if using model name\n",
    "        file_path = os.path.join(self.base_path, 'NEW_UNDERSAMPLING_MOBILENETV2_model_2.json')\n",
    "        with open(file_path, 'a') as file:\n",
    "            json.dump(logs, file)\n",
    "            file.write('\\n')"
   ]
  },
  {
   "cell_type": "code",
   "execution_count": 36,
   "metadata": {},
   "outputs": [
    {
     "name": "stdout",
     "output_type": "stream",
     "text": [
      "Epoch 1/20\n",
      "401/401 [==============================] - ETA: 0s - loss: 1.2472 - accuracy: 0.6270"
     ]
    },
    {
     "name": "stderr",
     "output_type": "stream",
     "text": [
      "/Users/merchika/anaconda3/envs/bachelorThesis/lib/python3.10/site-packages/keras/src/engine/training.py:3103: UserWarning: You are saving your model as an HDF5 file via `model.save()`. This file format is considered legacy. We recommend using instead the native Keras format, e.g. `model.save('my_model.keras')`.\n",
      "  saving_api.save_model(\n"
     ]
    },
    {
     "name": "stdout",
     "output_type": "stream",
     "text": [
      "401/401 [==============================] - 1388s 3s/step - loss: 1.2472 - accuracy: 0.6270 - val_loss: 0.9466 - val_accuracy: 0.7117\n",
      "Epoch 2/20\n",
      "401/401 [==============================] - 1409s 4s/step - loss: 0.5642 - accuracy: 0.8257 - val_loss: 0.8109 - val_accuracy: 0.7725\n",
      "Epoch 3/20\n",
      "401/401 [==============================] - 936s 2s/step - loss: 0.3515 - accuracy: 0.8917 - val_loss: 0.7145 - val_accuracy: 0.8104\n",
      "Epoch 4/20\n",
      "401/401 [==============================] - 449s 1s/step - loss: 0.2653 - accuracy: 0.9151 - val_loss: 0.6982 - val_accuracy: 0.8254\n",
      "Epoch 5/20\n",
      "401/401 [==============================] - 424s 1s/step - loss: 0.2103 - accuracy: 0.9361 - val_loss: 0.7501 - val_accuracy: 0.8136\n",
      "Epoch 6/20\n",
      "401/401 [==============================] - 422s 1s/step - loss: 0.1604 - accuracy: 0.9494 - val_loss: 0.8148 - val_accuracy: 0.8112\n",
      "Epoch 7/20\n",
      "401/401 [==============================] - 423s 1s/step - loss: 0.1660 - accuracy: 0.9466 - val_loss: 0.7627 - val_accuracy: 0.8199\n",
      "Epoch 8/20\n",
      "401/401 [==============================] - 424s 1s/step - loss: 0.1435 - accuracy: 0.9547 - val_loss: 0.7363 - val_accuracy: 0.8357\n",
      "Epoch 8: early stopping\n",
      "CPU times: user 2h 8min 1s, sys: 1h 3min 1s, total: 3h 11min 3s\n",
      "Wall time: 1h 40min 31s\n"
     ]
    }
   ],
   "source": [
    "%%time\n",
    "EPOCHS = 20\n",
    "\n",
    "# Define the path to save the model\n",
    "# filepath = '/content/saved_models/hist4_aug_model.h5'\n",
    "# filepath='/Users/hendrysi/Data_w/Dev/py/machine_learning/batik/hist1_w_improvement_{epoch:02d}_{val_accuracy:.2f}.hdf5'\n",
    "\n",
    "filepath='/Users/merchika/chikaData/TA/assets/new_models/NEW_UNDERSAMPLING_MOBILENETV2_model_2.h5'\n",
    "\n",
    "checkpoint_callback = ModelCheckpoint(filepath, monitor='val_accuracy', verbose=0, save_best_only=True, mode='max')\n",
    "# checkpoint_callback = ModelCheckpoint(filepath, save_best_only=True)\n",
    "                                      \n",
    "# Define EarlyStop\n",
    "# early_stop = EarlyStopping(monitor='val_loss', patience=8, verbose=1, restore_best_weights=True)\n",
    "early_stop = EarlyStopping(monitor='val_loss', patience=4, verbose=1)\n",
    "\n",
    "# Pass the model name when instantiating SaveHistoryCallback\n",
    "# save_history_callback = SaveHistoryCallback(model_name='aug_cnn')\n",
    "save_history_callback = SaveHistoryCallback()\n",
    "\n",
    "# Define callbacks\n",
    "callbacks = [checkpoint_callback, early_stop, save_history_callback]\n",
    "\n",
    "# Train the model\n",
    "history1 = model_4_1.fit(x_train_normalized, y_train,\n",
    "                      batch_size=BATCH_SIZE, verbose=1,\n",
    "                      epochs=EPOCHS, callbacks=callbacks,\n",
    "                      validation_data=(x_validation_normalized, y_val))\n",
    "\n",
    "# model.save('/Users/hendrysi/Data_w/Dev/py/machine_learning/batik/hist1_aug_model.h5')\n",
    "# model.save('/content/saved_models/hist1_aug_model.h5')"
   ]
  },
  {
   "cell_type": "markdown",
   "metadata": {
    "id": "0i7CK9Pmm2KZ"
   },
   "source": [
    "## Plotting Graphs - Right After Training"
   ]
  },
  {
   "cell_type": "code",
   "execution_count": 37,
   "metadata": {
    "colab": {
     "base_uri": "https://localhost:8080/",
     "height": 927
    },
    "executionInfo": {
     "elapsed": 882,
     "status": "ok",
     "timestamp": 1707966828254,
     "user": {
      "displayName": "Henry Si",
      "userId": "17719448117276295977"
     },
     "user_tz": -480
    },
    "id": "vSAjTzuq81KW",
    "outputId": "5985cc1f-9b45-41fa-f65a-0abe771af015"
   },
   "outputs": [
    {
     "data": {
      "image/png": "[encoded data removed]",
      "text/plain": [
       "<Figure size 1200x600 with 2 Axes>"
      ]
     },
     "metadata": {},
     "output_type": "display_data"
    }
   ],
   "source": [
    "acc = history1.history['accuracy']\n",
    "val_acc = history1.history['val_accuracy']\n",
    "loss = history1.history['loss']\n",
    "val_loss = history1.history['val_loss']\n",
    "\n",
    "epochs = range(len(acc))\n",
    "\n",
    "fig, axs = plt.subplots(1, 2, figsize=(12, 6))\n",
    "\n",
    "# To plot side-by-side graph\n",
    "# Plot accuracy\n",
    "axs[0].plot(epochs, acc, 'g', label='Training accuracy')\n",
    "axs[0].plot(epochs, val_acc, 'orange', label='Validation accuracy')\n",
    "axs[0].set_title('Training and Validation Accuracy')\n",
    "axs[0].set_xlabel('Epochs')\n",
    "axs[0].set_ylabel('Accuracy')\n",
    "axs[0].legend()\n",
    "\n",
    "# Plot loss\n",
    "axs[1].plot(epochs, loss, 'g', label='Training loss')\n",
    "axs[1].plot(epochs, val_loss, 'orange', label='Validation loss')\n",
    "axs[1].set_title('Training and Validation Loss')\n",
    "axs[1].set_xlabel('Epochs')\n",
    "axs[1].set_ylabel('Loss')\n",
    "axs[1].legend()\n",
    "\n",
    "plt.tight_layout()\n",
    "plt.show()\n",
    "\n",
    "# # To plot top down graph\n",
    "# plt.plot(epochs, acc, 'b')\n",
    "# plt.plot(epochs, val_acc, 'g')\n",
    "# plt.title('Training and Validation Accuracy CNN Augmented')\n",
    "# plt.ylabel('accuracy')\n",
    "# plt.xlabel('epoch')\n",
    "# plt.legend(['train', 'val'], loc='upper left')\n",
    "# plt.show()\n",
    "\n",
    "# plt.plot(epochs, loss, 'b')\n",
    "# plt.plot(epochs, val_loss, 'r')\n",
    "# plt.ylabel('loss')\n",
    "# plt.xlabel('epoch')\n",
    "# plt.legend(['train', 'val'], loc='upper left')\n",
    "# plt.title('Training and Validation Loss CNN Augmented')\n",
    "# plt.show()"
   ]
  },
  {
   "cell_type": "markdown",
   "metadata": {},
   "source": [
    "# Re-Plotting Graph Without running fit or using saved json"
   ]
  },
  {
   "cell_type": "code",
   "execution_count": 38,
   "metadata": {},
   "outputs": [
    {
     "data": {
      "image/png": "[encoded data removed]",
      "text/plain": [
       "<Figure size 1200x600 with 2 Axes>"
      ]
     },
     "metadata": {},
     "output_type": "display_data"
    }
   ],
   "source": [
    "# Load the training history data from the JSON files\n",
    "# history_file1 = '/content/saved_models/aug_cnn_history1.json'  # COLAB\n",
    "history_file1 = '/Users/merchika/chikaData/TA/assets/new_json/NEW_UNDERSAMPLING_MOBILENETV2_model_2.json'  # Jupyter NB\n",
    "\n",
    "def load_history_data(file_path):\n",
    "    with open(file_path, 'r') as file:\n",
    "        history_data = [json.loads(line) for line in file]\n",
    "    return history_data\n",
    "\n",
    "history_data1 = load_history_data(history_file1)\n",
    "# print(history_data1)\n",
    "\n",
    "# Extract metrics data from the first training session\n",
    "acc_1 = [epoch['accuracy'] for epoch in history_data1]\n",
    "val_acc_1 = [epoch['val_accuracy'] for epoch in history_data1]\n",
    "loss_1 = [epoch['loss'] for epoch in history_data1]\n",
    "val_loss_1 = [epoch['val_loss'] for epoch in history_data1]\n",
    "epochs_1 = range(1, len(acc_1) + 1)\n",
    "\n",
    "fig, axs = plt.subplots(1, 2, figsize=(12, 6))\n",
    "\n",
    "# To plot side-by-side graph\n",
    "# Plot accuracy\n",
    "axs[0].plot(epochs_1, acc_1, 'g', label='Training accuracy')\n",
    "axs[0].plot(epochs_1, val_acc_1, 'orange', label='Validation accuracy')\n",
    "axs[0].set_title('Training and Validation Accuracy')\n",
    "axs[0].set_xlabel('Epochs')\n",
    "axs[0].set_ylabel('Accuracy')\n",
    "axs[0].legend()\n",
    "\n",
    "# Plot loss\n",
    "axs[1].plot(epochs_1, loss_1, 'g', label='Training loss')\n",
    "axs[1].plot(epochs_1, val_loss_1, 'orange', label='Validation loss')\n",
    "axs[1].set_title('Training and Validation Loss')\n",
    "axs[1].set_xlabel('Epochs')\n",
    "axs[1].set_ylabel('Loss')\n",
    "axs[1].legend()\n",
    "\n",
    "plt.tight_layout()\n",
    "\n",
    "save_path = '/Users/merchika/chikaData/TA/assets/image/NEW_UNDERSAMPLING_MOBILENETV2_model_1.png'\n",
    "plt.savefig(save_path)\n",
    "\n",
    "plt.show()\n",
    "\n",
    "# # To plot top down graph\n",
    "# # Plot accuracy\n",
    "# plt.plot(epochs_1, acc_1, 'b', label='Training accuracy')\n",
    "# plt.plot(epochs_1, val_acc_1, 'g', label='Validation accuracy')\n",
    "# plt.title('Training and Validation Accuracy')\n",
    "# plt.xlabel('Epochs')\n",
    "# plt.ylabel('Accuracy')\n",
    "# plt.legend()\n",
    "# plt.show()\n",
    "\n",
    "# # Plot loss\n",
    "# plt.plot(epochs_1, loss_1, 'b', label='Training loss')\n",
    "# plt.plot(epochs_1, val_loss_1, 'r', label='Validation loss')\n",
    "# plt.title('Training and Validation Loss')\n",
    "# plt.xlabel('Epochs')\n",
    "# plt.ylabel('Loss')\n",
    "# plt.legend()\n",
    "# plt.show()"
   ]
  },
  {
   "cell_type": "markdown",
   "metadata": {
    "jp-MarkdownHeadingCollapsed": true
   },
   "source": [
    "# Predictions"
   ]
  },
  {
   "cell_type": "code",
   "execution_count": null,
   "metadata": {
    "colab": {
     "base_uri": "https://localhost:8080/"
    },
    "executionInfo": {
     "elapsed": 324,
     "status": "ok",
     "timestamp": 1707967002480,
     "user": {
      "displayName": "Henry Si",
      "userId": "17719448117276295977"
     },
     "user_tz": -480
    },
    "id": "jzUM3hyD81ha",
    "outputId": "79199c32-81ec-469b-9f14-21ca9f312bb3"
   },
   "outputs": [],
   "source": [
    "x_validation_normalized.shape"
   ]
  },
  {
   "cell_type": "code",
   "execution_count": null,
   "metadata": {
    "colab": {
     "base_uri": "https://localhost:8080/"
    },
    "executionInfo": {
     "elapsed": 14,
     "status": "ok",
     "timestamp": 1707967041321,
     "user": {
      "displayName": "Henry Si",
      "userId": "17719448117276295977"
     },
     "user_tz": -480
    },
    "id": "xmgpu7AUxJ8l",
    "outputId": "b6381c36-0b10-446a-a981-0313a28b9a4e"
   },
   "outputs": [],
   "source": [
    "x_validation_normalized[0].shape"
   ]
  },
  {
   "cell_type": "code",
   "execution_count": null,
   "metadata": {},
   "outputs": [],
   "source": [
    "224*224*3"
   ]
  },
  {
   "cell_type": "code",
   "execution_count": null,
   "metadata": {
    "colab": {
     "base_uri": "https://localhost:8080/"
    },
    "executionInfo": {
     "elapsed": 372,
     "status": "ok",
     "timestamp": 1707967189180,
     "user": {
      "displayName": "Henry Si",
      "userId": "17719448117276295977"
     },
     "user_tz": -480
    },
    "id": "hZUVqXHN888l",
    "outputId": "af67a65c-aec5-43b9-b2b1-308250b99645"
   },
   "outputs": [],
   "source": [
    "# Checking validation accuracy\n",
    "np.set_printoptions(precision=3)\n",
    "my_test = np.expand_dims(x_validation_normalized[0], axis=0)\n",
    "my_test.shape"
   ]
  },
  {
   "cell_type": "code",
   "execution_count": null,
   "metadata": {
    "colab": {
     "base_uri": "https://localhost:8080/"
    },
    "executionInfo": {
     "elapsed": 20,
     "status": "ok",
     "timestamp": 1707967191987,
     "user": {
      "displayName": "Henry Si",
      "userId": "17719448117276295977"
     },
     "user_tz": -480
    },
    "id": "JmQD-ttj89h6",
    "outputId": "f3194b41-159e-49e5-a996-9b7f4e5702ff"
   },
   "outputs": [],
   "source": [
    "model_3_1.predict(my_test)"
   ]
  },
  {
   "cell_type": "code",
   "execution_count": null,
   "metadata": {
    "colab": {
     "base_uri": "https://localhost:8080/"
    },
    "executionInfo": {
     "elapsed": 317,
     "status": "ok",
     "timestamp": 1707967199582,
     "user": {
      "displayName": "Henry Si",
      "userId": "17719448117276295977"
     },
     "user_tz": -480
    },
    "id": "ssIKpCTV9KJW",
    "outputId": "4cea61e5-3732-447b-a670-2b83bcf14f52"
   },
   "outputs": [],
   "source": [
    "model_3_1.predict(my_test).sum()"
   ]
  },
  {
   "cell_type": "code",
   "execution_count": null,
   "metadata": {
    "id": "cR2Ua4AE9KmY"
   },
   "outputs": [],
   "source": [
    "np.set_printoptions(precision=3)"
   ]
  },
  {
   "cell_type": "code",
   "execution_count": null,
   "metadata": {
    "colab": {
     "base_uri": "https://localhost:8080/"
    },
    "executionInfo": {
     "elapsed": 861,
     "status": "ok",
     "timestamp": 1707967213697,
     "user": {
      "displayName": "Henry Si",
      "userId": "17719448117276295977"
     },
     "user_tz": -480
    },
    "id": "YzJ4EBAB9fch",
    "outputId": "1221be4a-f71d-477d-8ea5-3e3b3008e197"
   },
   "outputs": [],
   "source": [
    "# all prob. for validation\n",
    "model_3_1.predict(x_validation_normalized)"
   ]
  },
  {
   "cell_type": "code",
   "execution_count": null,
   "metadata": {
    "colab": {
     "base_uri": "https://localhost:8080/"
    },
    "executionInfo": {
     "elapsed": 485,
     "status": "ok",
     "timestamp": 1707967218544,
     "user": {
      "displayName": "Henry Si",
      "userId": "17719448117276295977"
     },
     "user_tz": -480
    },
    "id": "3VQlK_sZ9lQS",
    "outputId": "10307e51-0bc6-4494-ea2b-29ca202d73b1"
   },
   "outputs": [],
   "source": [
    "# To check number of classes prediction\n",
    "model_3_1.predict(x_validation_normalized).shape"
   ]
  },
  {
   "cell_type": "code",
   "execution_count": null,
   "metadata": {},
   "outputs": [],
   "source": [
    "# prob. for validation for the class\n",
    "# model.predict_classes(my_test) # predict_classes function has been removed from tf version 2.0\n",
    "\n",
    "# axis=1, it means that the operation (in this case, argmax()) is applied along the columns of the array.\n",
    "# axis=0 is applied along the rows of the array (axis=0 means that the function will find the index of the maximum value). \n",
    "class_predictions = model_3_1.predict(my_test)\n",
    "predicted_classes = np.argmax(class_predictions, axis=1)\n",
    "print(predicted_classes)"
   ]
  },
  {
   "cell_type": "code",
   "execution_count": null,
   "metadata": {
    "colab": {
     "base_uri": "https://localhost:8080/"
    },
    "executionInfo": {
     "elapsed": 320,
     "status": "ok",
     "timestamp": 1707967222098,
     "user": {
      "displayName": "Henry Si",
      "userId": "17719448117276295977"
     },
     "user_tz": -480
    },
    "id": "nVIo1Uq79qAK",
    "outputId": "5f638bcf-c1d2-47b1-dded-294b1835602f"
   },
   "outputs": [],
   "source": [
    "# or simplified with below\n",
    "# np.argmax(model.predict(my_test), axis=1)"
   ]
  },
  {
   "cell_type": "code",
   "execution_count": null,
   "metadata": {},
   "outputs": [],
   "source": [
    "print(y_val.dtype)"
   ]
  },
  {
   "cell_type": "code",
   "execution_count": null,
   "metadata": {
    "colab": {
     "base_uri": "https://localhost:8080/"
    },
    "executionInfo": {
     "elapsed": 444,
     "status": "ok",
     "timestamp": 1707967231820,
     "user": {
      "displayName": "Henry Si",
      "userId": "17719448117276295977"
     },
     "user_tz": -480
    },
    "id": "XCHqm2rM9xrA",
    "outputId": "7dfa4fcd-8694-4fff-9a51-ede6fe5ca760"
   },
   "outputs": [],
   "source": [
    "np.argmax(y_val[0])"
   ]
  },
  {
   "cell_type": "code",
   "execution_count": null,
   "metadata": {},
   "outputs": [],
   "source": [
    "class_label = np.uint8(np.argmax(y_val[0]))\n",
    "print(class_label)"
   ]
  },
  {
   "cell_type": "code",
   "execution_count": null,
   "metadata": {},
   "outputs": [],
   "source": [
    "if y_val.dtype == np.float32:\n",
    "    print(\"Labels are not one-hot encoded.\")\n",
    "    class_index = np.argmax(y_val[0])\n",
    "    predicted_label = np.array([class_index], dtype=np.uint8)\n",
    "    print(predicted_label) "
   ]
  },
  {
   "cell_type": "markdown",
   "metadata": {
    "id": "M-FUl2Ia94eB"
   },
   "source": [
    "## Actual vs Predicted (Predict for the first 10 images)"
   ]
  },
  {
   "cell_type": "code",
   "execution_count": null,
   "metadata": {},
   "outputs": [],
   "source": [
    "# Initialize lists to store actual and predicted labels\n",
    "actual_labels = []\n",
    "predicted_labels = []\n",
    "\n",
    "# Iterate over the first 10 images in the validation set\n",
    "for i in range(10):\n",
    "    # Get the input image for prediction\n",
    "    input_image = np.expand_dims(x_validation_normalized[i], axis=0)\n",
    "    \n",
    "    # Predict the class probabilities for the input image\n",
    "    raw_predictions = model_3_1.predict(input_image)\n",
    "    \n",
    "    # Get the predicted class index\n",
    "    predicted_class_index = np.argmax(raw_predictions, axis=1)[0]\n",
    "    \n",
    "    # Get the actual class label\n",
    "    actual_class_index = np.argmax(y_val[i])\n",
    "    \n",
    "    # Append the actual and predicted labels to the lists\n",
    "    actual_labels.append(actual_class_index)\n",
    "    predicted_labels.append(predicted_class_index)\n",
    "\n",
    "# Print the actual and predicted labels for the first 10 images\n",
    "# print(f\"Actual labels: {actual_labels} vs. Predicted labels: {predicted_labels}\")\n",
    "# print(\"Predicted labels:\", predicted_labels)\n",
    "for i in range(10):\n",
    "    print(f\"For Validation {i + 1}: Actual label: {actual_labels[i]} vs. Predicted label: {predicted_labels[i]}\")"
   ]
  },
  {
   "cell_type": "markdown",
   "metadata": {
    "id": "C5m7rTF5-PXw"
   },
   "source": [
    "## To check details actual vs predicted"
   ]
  },
  {
   "cell_type": "markdown",
   "metadata": {
    "colab": {
     "base_uri": "https://localhost:8080/"
    },
    "executionInfo": {
     "elapsed": 3492,
     "status": "ok",
     "timestamp": 1707967259182,
     "user": {
      "displayName": "Henry Si",
      "userId": "17719448117276295977"
     },
     "user_tz": -480
    },
    "id": "j-uExqvncuVd",
    "outputId": "73590f06-6f7b-4937-9713-5c91be4637a5"
   },
   "source": [
    "## Actual vs Predicted with x samples (Validation dataset - By Classes)"
   ]
  },
  {
   "cell_type": "code",
   "execution_count": null,
   "metadata": {
    "id": "kj4DOtLacInp"
   },
   "outputs": [],
   "source": [
    "# Define the number of samples to use for each class\n",
    "num_samples_per_class = 7\n",
    "\n",
    "# Initialize a dictionary to store actual and predicted labels for each class\n",
    "class_labels = {i: {'actual': [], 'predicted': []} for i in range(num_classes)}\n",
    "\n",
    "# Iterate over each class\n",
    "for class_index in range(num_classes):\n",
    "    # Initialize a counter for the number of samples predicted for the current class\n",
    "    num_samples_predicted = 0\n",
    "    \n",
    "    # Iterate over all samples\n",
    "    for i in range(len(y_val)):\n",
    "        # Check if the actual label matches the current class index\n",
    "        if np.argmax(y_val[i]) == class_index:\n",
    "            # Get the input image for prediction\n",
    "            input_image = np.expand_dims(x_validation_normalized[i], axis=0)\n",
    "            \n",
    "            # Predict the class probabilities for the input image\n",
    "            raw_predictions = model_3_1.predict(input_image, verbose=0)\n",
    "            \n",
    "            # Get the predicted class index\n",
    "            predicted_class_index = np.argmax(raw_predictions, axis=1)[0]\n",
    "            \n",
    "            # Append the actual and predicted labels to the lists for the current class\n",
    "            class_labels[class_index]['actual'].append(class_index)\n",
    "            class_labels[class_index]['predicted'].append(predicted_class_index)\n",
    "            \n",
    "            # Increment the counter for the number of samples predicted for the current class\n",
    "            num_samples_predicted += 1\n",
    "            \n",
    "            # Break out of the loop if the desired number of samples is reached for the current class\n",
    "            if num_samples_predicted >= num_samples_per_class:\n",
    "                break\n",
    "\n",
    "# Print the actual and predicted labels for each class\n",
    "for class_index in range(num_classes):\n",
    "    actual_labels = class_labels[class_index]['actual']\n",
    "    predicted_labels = class_labels[class_index]['predicted']\n",
    "    class_name = LABEL_NAMES[class_index]  # Get the class name\n",
    "    print(f\"Class {class_name}:\")\n",
    "    for actual, predicted in zip(actual_labels, predicted_labels):\n",
    "        print(f\"Actual label: {actual} vs. Predicted label: {predicted}\")"
   ]
  },
  {
   "cell_type": "markdown",
   "metadata": {},
   "source": [
    "## Actual vs Predicted with all samples (Validation dataset - By Classes)"
   ]
  },
  {
   "cell_type": "code",
   "execution_count": null,
   "metadata": {},
   "outputs": [],
   "source": [
    "# # Initialize a dictionary to store actual and predicted labels for each class\n",
    "# class_labels = {i: {'actual': [], 'predicted': []} for i in range(num_classes)}\n",
    "\n",
    "# # Iterate over each class\n",
    "# for class_index in range(num_classes):\n",
    "#     # Iterate over all samples\n",
    "#     for i in range(len(y_val)):\n",
    "#         # Check if the actual label matches the current class index\n",
    "#         if np.argmax(y_val[i]) == class_index:\n",
    "#             # Get the input image for prediction\n",
    "#             input_image = np.expand_dims(x_validation_normalized[i], axis=0)\n",
    "            \n",
    "#             # Predict the class probabilities for the input image\n",
    "#             raw_predictions = model_3_1.predict(input_image, verbose=0)\n",
    "            \n",
    "#             # Get the predicted class index\n",
    "#             predicted_class_index = np.argmax(raw_predictions, axis=1)[0]\n",
    "            \n",
    "#             # Append the actual and predicted labels to the lists for the current class\n",
    "#             class_labels[class_index]['actual'].append(class_index)\n",
    "#             class_labels[class_index]['predicted'].append(predicted_class_index)\n",
    "\n",
    "# # Print the actual and predicted labels for each class\n",
    "# for class_index in range(num_classes):\n",
    "#     actual_labels = class_labels[class_index]['actual']\n",
    "#     predicted_labels = class_labels[class_index]['predicted']\n",
    "#     class_name = LABEL_NAMES[class_index]  # Get the class name\n",
    "#     print(f\"Class {class_name}:\")\n",
    "#     for actual, predicted in zip(actual_labels, predicted_labels):\n",
    "#         print(f\"Actual label: {actual} vs. Predicted label: {predicted}\")"
   ]
  },
  {
   "cell_type": "markdown",
   "metadata": {},
   "source": [
    "### Actual vs Predicted with x samples (Test Dataset- By classes)"
   ]
  },
  {
   "cell_type": "code",
   "execution_count": null,
   "metadata": {},
   "outputs": [],
   "source": [
    "# Define the number of samples to use for each class\n",
    "num_samples_per_class = 7\n",
    "\n",
    "# Initialize a dictionary to store actual and predicted labels for each class\n",
    "class_labels = {i: {'actual': [], 'predicted': []} for i in range(num_classes)}\n",
    "\n",
    "# Iterate over each class\n",
    "for class_index in range(num_classes):\n",
    "    # Initialize a counter for the number of samples predicted for the current class\n",
    "    num_samples_predicted = 0\n",
    "    \n",
    "    # Iterate over all samples\n",
    "    for i in range(len(y_test)):\n",
    "        # Check if the actual label matches the current class index\n",
    "        if np.argmax(y_test[i]) == class_index:\n",
    "            # Get the input image for prediction\n",
    "            input_image = np.expand_dims(x_test_normalized[i], axis=0)\n",
    "            \n",
    "            # Predict the class probabilities for the input image\n",
    "            raw_predictions = model_3_1.predict(input_image, verbose=0)\n",
    "            \n",
    "            # Get the predicted class index\n",
    "            predicted_class_index = np.argmax(raw_predictions, axis=1)[0]\n",
    "            \n",
    "            # Append the actual and predicted labels to the lists for the current class\n",
    "            class_labels[class_index]['actual'].append(class_index)\n",
    "            class_labels[class_index]['predicted'].append(predicted_class_index)\n",
    "            \n",
    "            # Increment the counter for the number of samples predicted for the current class\n",
    "            num_samples_predicted += 1\n",
    "            \n",
    "            # Break out of the loop if the desired number of samples is reached for the current class\n",
    "            if num_samples_predicted >= num_samples_per_class:\n",
    "                break\n",
    "\n",
    "# Print the actual and predicted labels for each class\n",
    "for class_index in range(num_classes):\n",
    "    actual_labels = class_labels[class_index]['actual']\n",
    "    predicted_labels = class_labels[class_index]['predicted']\n",
    "    class_name = LABEL_NAMES[class_index]  # Get the class name\n",
    "    print(f\"Class {class_name}:\")\n",
    "    for actual, predicted in zip(actual_labels, predicted_labels):\n",
    "        print(f\"Actual label: {actual} vs. Predicted label: {predicted}\")"
   ]
  },
  {
   "cell_type": "markdown",
   "metadata": {
    "colab": {
     "base_uri": "https://localhost:8080/"
    },
    "executionInfo": {
     "elapsed": 3015,
     "status": "ok",
     "timestamp": 1707894436436,
     "user": {
      "displayName": "Henry Si",
      "userId": "17719448117276295977"
     },
     "user_tz": -480
    },
    "id": "EYAca1kT-JYo",
    "jp-MarkdownHeadingCollapsed": true,
    "outputId": "02bcfad2-48d2-43ba-d02d-66b3f908f4de"
   },
   "source": [
    "# Evaluation"
   ]
  },
  {
   "cell_type": "markdown",
   "metadata": {},
   "source": [
    "## Validation Dataset"
   ]
  },
  {
   "cell_type": "code",
   "execution_count": 39,
   "metadata": {},
   "outputs": [
    {
     "data": {
      "text/plain": [
       "['loss', 'accuracy']"
      ]
     },
     "execution_count": 39,
     "metadata": {},
     "output_type": "execute_result"
    }
   ],
   "source": [
    "model_4_1.metrics_names"
   ]
  },
  {
   "cell_type": "code",
   "execution_count": 40,
   "metadata": {},
   "outputs": [
    {
     "name": "stdout",
     "output_type": "stream",
     "text": [
      "40/40 [==============================] - 37s 921ms/step - loss: 0.7363 - accuracy: 0.8357\n",
      "Val loss : 0.736 and the Val accuracy: 83.57%\n"
     ]
    }
   ],
   "source": [
    "test_loss, test_accuracy = model_4_1.evaluate(x_validation_normalized, y_val)\n",
    "print(f\"Val loss : {test_loss:0.3} and the Val accuracy: {test_accuracy:0.2%}\")"
   ]
  },
  {
   "cell_type": "markdown",
   "metadata": {},
   "source": [
    "## Test Dataset"
   ]
  },
  {
   "cell_type": "code",
   "execution_count": 41,
   "metadata": {
    "colab": {
     "base_uri": "https://localhost:8080/"
    },
    "executionInfo": {
     "elapsed": 508,
     "status": "ok",
     "timestamp": 1707967265861,
     "user": {
      "displayName": "Henry Si",
      "userId": "17719448117276295977"
     },
     "user_tz": -480
    },
    "id": "nZy0XIE9-ZlB",
    "outputId": "77db39b2-d87a-4aad-8f8c-6e8ebb14574c"
   },
   "outputs": [
    {
     "data": {
      "text/plain": [
       "['loss', 'accuracy']"
      ]
     },
     "execution_count": 41,
     "metadata": {},
     "output_type": "execute_result"
    }
   ],
   "source": [
    "model_4_1.metrics_names"
   ]
  },
  {
   "cell_type": "code",
   "execution_count": 42,
   "metadata": {
    "colab": {
     "base_uri": "https://localhost:8080/"
    },
    "executionInfo": {
     "elapsed": 961,
     "status": "ok",
     "timestamp": 1707967272806,
     "user": {
      "displayName": "Henry Si",
      "userId": "17719448117276295977"
     },
     "user_tz": -480
    },
    "id": "ZIv0wDdF-erU",
    "outputId": "e3d5129d-7eac-4f91-d121-11518a260c85"
   },
   "outputs": [
    {
     "name": "stdout",
     "output_type": "stream",
     "text": [
      "49/49 [==============================] - 50s 1s/step - loss: 0.7327 - accuracy: 0.8112\n",
      "Test loss : 0.733 and the test accuracy: 81.12%\n"
     ]
    }
   ],
   "source": [
    "test_loss, test_accuracy = model_4_1.evaluate(x_test_normalized, y_test)\n",
    "print(f\"Test loss : {test_loss:0.3} and the test accuracy: {test_accuracy:0.2%}\")"
   ]
  },
  {
   "cell_type": "code",
   "execution_count": 43,
   "metadata": {
    "colab": {
     "base_uri": "https://localhost:8080/"
    },
    "executionInfo": {
     "elapsed": 508,
     "status": "ok",
     "timestamp": 1707967265861,
     "user": {
      "displayName": "Henry Si",
      "userId": "17719448117276295977"
     },
     "user_tz": -480
    },
    "id": "nZy0XIE9-ZlB",
    "outputId": "77db39b2-d87a-4aad-8f8c-6e8ebb14574c"
   },
   "outputs": [
    {
     "data": {
      "text/plain": [
       "['loss', 'accuracy']"
      ]
     },
     "execution_count": 43,
     "metadata": {},
     "output_type": "execute_result"
    }
   ],
   "source": [
    "model_4_1.metrics_names"
   ]
  },
  {
   "cell_type": "code",
   "execution_count": 44,
   "metadata": {
    "colab": {
     "base_uri": "https://localhost:8080/"
    },
    "executionInfo": {
     "elapsed": 961,
     "status": "ok",
     "timestamp": 1707967272806,
     "user": {
      "displayName": "Henry Si",
      "userId": "17719448117276295977"
     },
     "user_tz": -480
    },
    "id": "ZIv0wDdF-erU",
    "outputId": "e3d5129d-7eac-4f91-d121-11518a260c85"
   },
   "outputs": [
    {
     "name": "stdout",
     "output_type": "stream",
     "text": [
      "401/401 [==============================] - 414s 1s/step - loss: 0.0846 - accuracy: 0.9743\n",
      "Test loss : 0.0846 and the test accuracy: 97.43%\n"
     ]
    }
   ],
   "source": [
    "test_loss, test_accuracy = model_4_1.evaluate(x_train_normalized, y_train)\n",
    "print(f\"Test loss : {test_loss:0.3} and the test accuracy: {test_accuracy:0.2%}\")"
   ]
  },
  {
   "cell_type": "markdown",
   "metadata": {},
   "source": [
    "## Test Accuracies - By Classes ( Without Tables)"
   ]
  },
  {
   "cell_type": "code",
   "execution_count": 45,
   "metadata": {},
   "outputs": [
    {
     "name": "stdout",
     "output_type": "stream",
     "text": [
      "Overall test loss : 0.733 and the overall test accuracy: 81.12%\n",
      "Class Aceh: Test loss: 0.687, Test accuracy: 74.07%\n",
      "Class Bali: Test loss: 0.576, Test accuracy: 86.33%\n",
      "Class Betawi: Test loss: 1.443, Test accuracy: 55.56%\n",
      "Class Ciamis: Test loss: 3.711, Test accuracy: 30.00%\n",
      "Class Cirebon: Test loss: 0.148, Test accuracy: 93.81%\n",
      "Class Garut: Test loss: 4.235, Test accuracy: 20.00%\n",
      "Class Kalimantan_Dayak: Test loss: 1.063, Test accuracy: 83.33%\n",
      "Class Kalimantan_Pontianak: Test loss: 0.087, Test accuracy: 97.35%\n",
      "Class Kulon Progo_Geblek Renteng: Test loss: 0.305, Test accuracy: 92.42%\n",
      "Class Madura: Test loss: 0.952, Test accuracy: 70.71%\n",
      "Class Maluku_Pala Cengkeh: Test loss: 2.020, Test accuracy: 33.33%\n",
      "Class Papua_Cendrawasih: Test loss: 0.585, Test accuracy: 78.57%\n",
      "Class Pati: Test loss: 0.567, Test accuracy: 85.22%\n",
      "Class Pekalongan: Test loss: 6.158, Test accuracy: 20.00%\n",
      "Class Solo_Sidoluhur: Test loss: 1.667, Test accuracy: 70.00%\n",
      "Class Solo_Sogan: Test loss: 5.039, Test accuracy: 20.00%\n",
      "Class Tasikmalaya_Priyangan: Test loss: 5.647, Test accuracy: 20.00%\n",
      "Class Yogyakarta_Kawung: Test loss: 1.883, Test accuracy: 61.54%\n",
      "Class Yogyakarta_Sekar Jagad: Test loss: 0.495, Test accuracy: 88.64%\n",
      "Class Yogyakarta Tambal: Test loss: 0.512, Test accuracy: 85.82%\n"
     ]
    }
   ],
   "source": [
    "# Initialize dictionaries to store metrics for each class\n",
    "class_metrics = {class_name: {'loss': 0.0, 'accuracy': 0.0} for class_name in LABEL_NAMES}\n",
    "\n",
    "# Evaluate the model on the test data\n",
    "test_metrics = model_4_1.evaluate(x_test_normalized, y_test, verbose=0)\n",
    "\n",
    "# Extract the loss and accuracy values from the test metrics\n",
    "test_loss = test_metrics[0]\n",
    "test_accuracy = test_metrics[1]\n",
    "\n",
    "# Print overall test metrics\n",
    "print(f\"Overall test loss : {test_loss:0.3} and the overall test accuracy: {test_accuracy:0.2%}\")\n",
    "\n",
    "# Calculate metrics for each class\n",
    "for i, class_name in enumerate(LABEL_NAMES):\n",
    "    # Get indices of test samples belonging to the current class\n",
    "    class_indices = np.where(np.argmax(y_test, axis=1) == i)[0]\n",
    "    \n",
    "    # Select test data and labels for the current class\n",
    "    x_class_test = x_test_normalized[class_indices]\n",
    "    y_class_test = y_test[class_indices]\n",
    "    \n",
    "    # Evaluate the model on the test data for the current class\n",
    "    class_metrics[class_name]['loss'], class_metrics[class_name]['accuracy'] = model_4_1.evaluate(x_class_test, y_class_test, verbose=0)\n",
    "    \n",
    "    # Print metrics for the current class\n",
    "    print(f\"Class {class_name}: Test loss: {class_metrics[class_name]['loss']:.3f}, Test accuracy: {class_metrics[class_name]['accuracy']:.2%}\")"
   ]
  },
  {
   "cell_type": "markdown",
   "metadata": {},
   "source": [
    "## Test Accuracies - By Classes (With Table)"
   ]
  },
  {
   "cell_type": "code",
   "execution_count": 46,
   "metadata": {},
   "outputs": [
    {
     "name": "stdout",
     "output_type": "stream",
     "text": [
      "Test Metrics for Each Class:\n",
      "Class                          Test Loss       Test Accuracy  \n",
      "------------------------------------------------------------\n",
      "Aceh                           0.687           74.07%         \n",
      "Bali                           0.576           86.33%         \n",
      "Betawi                         1.443           55.56%         \n",
      "Ciamis                         3.711           30.00%         \n",
      "Cirebon                        0.148           93.81%         \n",
      "Garut                          4.235           20.00%         \n",
      "Kalimantan_Dayak               1.063           83.33%         \n",
      "Kalimantan_Pontianak           0.087           97.35%         \n",
      "Kulon Progo_Geblek Renteng     0.305           92.42%         \n",
      "Madura                         0.952           70.71%         \n",
      "Maluku_Pala Cengkeh            2.020           33.33%         \n",
      "Papua_Cendrawasih              0.585           78.57%         \n",
      "Pati                           0.567           85.22%         \n",
      "Pekalongan                     6.158           20.00%         \n",
      "Solo_Sidoluhur                 1.667           70.00%         \n",
      "Solo_Sogan                     5.039           20.00%         \n",
      "Tasikmalaya_Priyangan          5.647           20.00%         \n",
      "Yogyakarta_Kawung              1.883           61.54%         \n",
      "Yogyakarta_Sekar Jagad         0.495           88.64%         \n",
      "Yogyakarta Tambal              0.512           85.82%         \n",
      "\n",
      "Overall Test Metrics:\n",
      "Overall test loss : 1.89 and the overall test accuracy: 63.33%\n"
     ]
    }
   ],
   "source": [
    "# Initialize dictionaries to store metrics for each class\n",
    "class_metrics = {class_name: {'loss': 0.0, 'accuracy': 0.0} for class_name in LABEL_NAMES}\n",
    "\n",
    "# Initialize lists to store overall test loss and accuracy for each class\n",
    "overall_test_loss = []\n",
    "overall_test_accuracy = []\n",
    "\n",
    "# Calculate metrics for each class\n",
    "for i, class_name in enumerate(LABEL_NAMES):\n",
    "    # Get indices of test samples belonging to the current class\n",
    "    class_indices = np.where(np.argmax(y_test, axis=1) == i)[0]\n",
    "    \n",
    "    # Select test data and labels for the current class\n",
    "    x_class_test = x_test_normalized[class_indices]\n",
    "    y_class_test = y_test[class_indices]\n",
    "    \n",
    "    # Evaluate the model on the test data for the current class\n",
    "    class_metrics[class_name]['loss'], class_metrics[class_name]['accuracy'] = model_4_1.evaluate(x_class_test, y_class_test, verbose=0)\n",
    "    \n",
    "    # Append metrics to overall lists\n",
    "    overall_test_loss.append(class_metrics[class_name]['loss'])\n",
    "    overall_test_accuracy.append(class_metrics[class_name]['accuracy'])\n",
    "\n",
    "# Print table for metrics for each class\n",
    "print(\"Test Metrics for Each Class:\")\n",
    "print(\"{:<30} {:<15} {:<15}\".format(\"Class\", \"Test Loss\", \"Test Accuracy\"))\n",
    "print(\"-\" * 60)\n",
    "for class_name in LABEL_NAMES:\n",
    "    print(\"{:<30} {:<15.3f} {:<15.2%}\".format(class_name, class_metrics[class_name]['loss'], class_metrics[class_name]['accuracy']))\n",
    "\n",
    "# Print overall test metrics\n",
    "print(\"\\nOverall Test Metrics:\")\n",
    "print(f\"Overall test loss : {np.mean(overall_test_loss):0.3} and the overall test accuracy: {np.mean(overall_test_accuracy):0.2%}\")"
   ]
  },
  {
   "cell_type": "markdown",
   "metadata": {},
   "source": [
    "## Test Accuracies - By Classes (With Table - Grouped by Test Acc.)"
   ]
  },
  {
   "cell_type": "code",
   "execution_count": 47,
   "metadata": {},
   "outputs": [
    {
     "name": "stdout",
     "output_type": "stream",
     "text": [
      "Test Metrics for Each Class (Sorted by Test Accuracy):\n",
      "Class                          Test Loss       Test Accuracy  \n",
      "------------------------------------------------------------\n",
      "Kalimantan_Pontianak           0.087           97.35%         \n",
      "Cirebon                        0.148           93.81%         \n",
      "Kulon Progo_Geblek Renteng     0.305           92.42%         \n",
      "Yogyakarta_Sekar Jagad         0.495           88.64%         \n",
      "Bali                           0.576           86.33%         \n",
      "Yogyakarta Tambal              0.512           85.82%         \n",
      "Pati                           0.567           85.22%         \n",
      "Kalimantan_Dayak               1.063           83.33%         \n",
      "Papua_Cendrawasih              0.585           78.57%         \n",
      "Aceh                           0.687           74.07%         \n",
      "Madura                         0.952           70.71%         \n",
      "Solo_Sidoluhur                 1.667           70.00%         \n",
      "Yogyakarta_Kawung              1.883           61.54%         \n",
      "Betawi                         1.443           55.56%         \n",
      "Maluku_Pala Cengkeh            2.020           33.33%         \n",
      "Ciamis                         3.711           30.00%         \n",
      "Garut                          4.235           20.00%         \n",
      "Pekalongan                     6.158           20.00%         \n",
      "Solo_Sogan                     5.039           20.00%         \n",
      "Tasikmalaya_Priyangan          5.647           20.00%         \n",
      "\n",
      "Overall Test Metrics:\n",
      "Overall test loss: 1.889 and the overall test accuracy: 63.33%\n"
     ]
    }
   ],
   "source": [
    "# Initialize dictionaries to store metrics for each class\n",
    "class_metrics = {class_name: {'loss': 0.0, 'accuracy': 0.0} for class_name in LABEL_NAMES}\n",
    "\n",
    "# Initialize lists to store overall test loss and accuracy for each class\n",
    "overall_test_loss = []\n",
    "overall_test_accuracy = []\n",
    "\n",
    "# Calculate metrics for each class\n",
    "for i, class_name in enumerate(LABEL_NAMES):\n",
    "    # Get indices of test samples belonging to the current class\n",
    "    class_indices = np.where(np.argmax(y_test, axis=1) == i)[0]\n",
    "    \n",
    "    # Select test data and labels for the current class\n",
    "    x_class_test = x_test_normalized[class_indices]\n",
    "    y_class_test = y_test[class_indices]\n",
    "    \n",
    "    # Evaluate the model on the test data for the current class  \n",
    "    class_metrics[class_name]['loss'], class_metrics[class_name]['accuracy'] = model_4_1.evaluate(x_class_test, y_class_test, verbose=0)\n",
    "\n",
    "    # Append metrics to overall lists\n",
    "    overall_test_loss.append(class_metrics[class_name]['loss'])\n",
    "    overall_test_accuracy.append(class_metrics[class_name]['accuracy'])\n",
    "\n",
    "# Sort class metrics by test accuracy\n",
    "sorted_class_metrics = sorted(class_metrics.items(), key=lambda x: x[1]['accuracy'], reverse=True)\n",
    "\n",
    "# Print table for metrics for each class sorted by test accuracy\n",
    "print(\"Test Metrics for Each Class (Sorted by Test Accuracy):\")\n",
    "print(\"{:<30} {:<15} {:<15}\".format(\"Class\", \"Test Loss\", \"Test Accuracy\"))\n",
    "print(\"-\" * 60)\n",
    "for class_name, metrics in sorted_class_metrics:\n",
    "    print(\"{:<30} {:<15.3f} {:<15.2%}\".format(class_name, metrics['loss'], metrics['accuracy']))\n",
    "\n",
    "# Print overall test metrics\n",
    "print(\"\\nOverall Test Metrics:\")\n",
    "print(f\"Overall test loss: {np.mean(overall_test_loss):.3f} and the overall test accuracy: {np.mean(overall_test_accuracy):.2%}\")"
   ]
  },
  {
   "cell_type": "markdown",
   "metadata": {},
   "source": [
    "# Confusion Matrix"
   ]
  },
  {
   "cell_type": "code",
   "execution_count": 48,
   "metadata": {
    "colab": {
     "base_uri": "https://localhost:8080/"
    },
    "executionInfo": {
     "elapsed": 936,
     "status": "ok",
     "timestamp": 1707967277880,
     "user": {
      "displayName": "Henry Si",
      "userId": "17719448117276295977"
     },
     "user_tz": -480
    },
    "id": "Ejpx7pME-mXM",
    "outputId": "9246ae3c-2275-47d7-edfe-4ea35f60acab"
   },
   "outputs": [
    {
     "name": "stdout",
     "output_type": "stream",
     "text": [
      "49/49 [==============================] - 54s 1s/step\n"
     ]
    }
   ],
   "source": [
    "predictions = model_4_1.predict(x_test_normalized)\n",
    "y_test_labels = np.argmax(y_test, axis=1)\n",
    "conf_matrix = confusion_matrix(y_true=y_test_labels, y_pred=predictions.argmax(axis=1))"
   ]
  },
  {
   "cell_type": "code",
   "execution_count": 49,
   "metadata": {
    "colab": {
     "base_uri": "https://localhost:8080/"
    },
    "executionInfo": {
     "elapsed": 407,
     "status": "ok",
     "timestamp": 1707967281284,
     "user": {
      "displayName": "Henry Si",
      "userId": "17719448117276295977"
     },
     "user_tz": -480
    },
    "id": "lWEmZLf4-pZz",
    "outputId": "4f962403-74e8-4732-b5c8-9758a0566ccd"
   },
   "outputs": [
    {
     "data": {
      "text/plain": [
       "(20, 20)"
      ]
     },
     "execution_count": 49,
     "metadata": {},
     "output_type": "execute_result"
    }
   ],
   "source": [
    "conf_matrix.shape"
   ]
  },
  {
   "cell_type": "code",
   "execution_count": 50,
   "metadata": {
    "id": "cQNoEDQA-r-9"
   },
   "outputs": [],
   "source": [
    "nr_rows = conf_matrix.shape[0]\n",
    "nr_cols = conf_matrix.shape[1]"
   ]
  },
  {
   "cell_type": "code",
   "execution_count": 51,
   "metadata": {},
   "outputs": [
    {
     "data": {
      "text/plain": [
       "40.0"
      ]
     },
     "execution_count": 51,
     "metadata": {},
     "output_type": "execute_result"
    }
   ],
   "source": [
    "1280/32"
   ]
  },
  {
   "cell_type": "code",
   "execution_count": 52,
   "metadata": {
    "colab": {
     "base_uri": "https://localhost:8080/",
     "height": 647
    },
    "executionInfo": {
     "elapsed": 1055,
     "status": "ok",
     "timestamp": 1707967290944,
     "user": {
      "displayName": "Henry Si",
      "userId": "17719448117276295977"
     },
     "user_tz": -480
    },
    "id": "wG27a0bb-zmU",
    "outputId": "131a133c-88ab-420e-c1c5-972fc32130d9"
   },
   "outputs": [
    {
     "data": {
      "image/png": "[encoded data removed]",
      "text/plain": [
       "<Figure size 665x665 with 2 Axes>"
      ]
     },
     "metadata": {},
     "output_type": "display_data"
    }
   ],
   "source": [
    "plt.figure(figsize=(7,7), dpi=95)\n",
    "plt.imshow(conf_matrix, cmap=plt.cm.Blues)\n",
    "\n",
    "plt.title('Confusion Matrix', fontsize=9)\n",
    "plt.ylabel('Actual Labels', fontsize=6)\n",
    "plt.xlabel('Predicted Labels', fontsize=6)\n",
    "\n",
    "\n",
    "tick_marks = np.arange(test_num_classes)\n",
    "plt.yticks(tick_marks, LABEL_NAMES, fontsize=6)\n",
    "plt.xticks(tick_marks, LABEL_NAMES, fontsize=6, rotation=85)\n",
    "\n",
    "plt.colorbar()\n",
    "\n",
    "for i, j in itertools.product(range(nr_rows), range(nr_cols)):\n",
    "    plt.text(j, i, conf_matrix[i, j], horizontalalignment='center',\n",
    "            color='white' if conf_matrix[i, j] > conf_matrix.max()/2 else 'black')\n",
    "\n",
    "\n",
    "plt.show()"
   ]
  },
  {
   "cell_type": "markdown",
   "metadata": {
    "id": "Ls_L2TWt-5CG"
   },
   "source": [
    "## True Positive, Recall, Precision, F1-Score"
   ]
  },
  {
   "cell_type": "code",
   "execution_count": 53,
   "metadata": {
    "colab": {
     "base_uri": "https://localhost:8080/"
    },
    "executionInfo": {
     "elapsed": 483,
     "status": "ok",
     "timestamp": 1707967338975,
     "user": {
      "displayName": "Henry Si",
      "userId": "17719448117276295977"
     },
     "user_tz": -480
    },
    "id": "6664tEW1-3hc",
    "outputId": "535eb4a6-60cb-4145-c42e-526b3cf14a2c"
   },
   "outputs": [
    {
     "data": {
      "text/plain": [
       "array([ 60, 120,  15,   3, 106,   2,  15, 110, 122, 140,   6, 110, 196,\n",
       "         2,   7,   2,   2,  16, 117, 121])"
      ]
     },
     "execution_count": 53,
     "metadata": {},
     "output_type": "execute_result"
    }
   ],
   "source": [
    "np.diag(conf_matrix)"
   ]
  },
  {
   "cell_type": "code",
   "execution_count": 54,
   "metadata": {
    "colab": {
     "base_uri": "https://localhost:8080/"
    },
    "executionInfo": {
     "elapsed": 338,
     "status": "ok",
     "timestamp": 1707967356604,
     "user": {
      "displayName": "Henry Si",
      "userId": "17719448117276295977"
     },
     "user_tz": -480
    },
    "id": "thlBYRPr_A1v",
    "outputId": "fc20249d-7e15-42a0-efdb-360ee9ef0a13"
   },
   "outputs": [
    {
     "data": {
      "text/plain": [
       "array([0.74074074, 0.86330935, 0.55555556, 0.3       , 0.9380531 ,\n",
       "       0.2       , 0.83333333, 0.97345133, 0.92424242, 0.70707071,\n",
       "       0.33333333, 0.78571429, 0.85217391, 0.2       , 0.7       ,\n",
       "       0.2       , 0.2       , 0.61538462, 0.88636364, 0.85815603])"
      ]
     },
     "execution_count": 54,
     "metadata": {},
     "output_type": "execute_result"
    }
   ],
   "source": [
    "recall = np.diag(conf_matrix) / np.sum(conf_matrix, axis=1)\n",
    "recall"
   ]
  },
  {
   "cell_type": "code",
   "execution_count": 55,
   "metadata": {
    "colab": {
     "base_uri": "https://localhost:8080/"
    },
    "executionInfo": {
     "elapsed": 366,
     "status": "ok",
     "timestamp": 1707967361415,
     "user": {
      "displayName": "Henry Si",
      "userId": "17719448117276295977"
     },
     "user_tz": -480
    },
    "id": "7tJOpyIs_EEQ",
    "outputId": "65f2d82b-66ac-4251-e206-9e83a9d1b5c8"
   },
   "outputs": [
    {
     "data": {
      "text/plain": [
       "array([0.63829787, 0.86330935, 0.42857143, 0.375     , 0.97247706,\n",
       "       0.33333333, 0.42857143, 0.94017094, 0.84722222, 0.72164948,\n",
       "       0.5       , 0.90909091, 0.88288288, 0.0952381 , 0.53846154,\n",
       "       0.28571429, 0.15384615, 0.8       , 0.90697674, 0.9379845 ])"
      ]
     },
     "execution_count": 55,
     "metadata": {},
     "output_type": "execute_result"
    }
   ],
   "source": [
    "# axis=0 means the sum will be calculated along the vertical axis (column-wise)\n",
    "# axis=1 means the sum is calculated along the horizontal axis (row-wise)\n",
    "precision = np.diag(conf_matrix) / np.sum(conf_matrix, axis=0)\n",
    "precision = np.nan_to_num(precision, nan=0)  # assuming there is a NaN then replace with 0\n",
    "precision\n",
    "\n",
    "# Use this if there is no NaN\n",
    "# precision = np.diag(conf_matrix) / np.sum(conf_matrix, axis=0)\n",
    "# precision"
   ]
  },
  {
   "cell_type": "code",
   "execution_count": 56,
   "metadata": {
    "colab": {
     "base_uri": "https://localhost:8080/"
    },
    "executionInfo": {
     "elapsed": 309,
     "status": "ok",
     "timestamp": 1707967378575,
     "user": {
      "displayName": "Henry Si",
      "userId": "17719448117276295977"
     },
     "user_tz": -480
    },
    "id": "duxXLPe-_HfE",
    "outputId": "df05ee6c-66bb-4b1c-b25b-e678105e799f"
   },
   "outputs": [
    {
     "name": "stdout",
     "output_type": "stream",
     "text": [
      "Model recall score is 63.33%\n"
     ]
    }
   ],
   "source": [
    "avg_recall = np.mean(recall)\n",
    "print(f'Model recall score is {avg_recall:.2%}')"
   ]
  },
  {
   "cell_type": "code",
   "execution_count": 57,
   "metadata": {
    "colab": {
     "base_uri": "https://localhost:8080/"
    },
    "executionInfo": {
     "elapsed": 336,
     "status": "ok",
     "timestamp": 1707967385255,
     "user": {
      "displayName": "Henry Si",
      "userId": "17719448117276295977"
     },
     "user_tz": -480
    },
    "id": "OIcvMvM0_KpW",
    "outputId": "20030d2b-3850-45a8-b1bf-57545da77b8c"
   },
   "outputs": [
    {
     "name": "stdout",
     "output_type": "stream",
     "text": [
      "Model precision score is 62.79%\n",
      "Model f score is 63.06%\n"
     ]
    }
   ],
   "source": [
    "avg_precision = np.mean(precision)\n",
    "print(f'Model precision score is {avg_precision:.2%}')\n",
    "\n",
    "f1_score = 2 * (avg_precision * avg_recall) / (avg_precision + avg_recall)\n",
    "print(f'Model f score is {f1_score:.2%}')\n",
    "\n",
    "# f1_score_numpy = np.mean(2 * class_precision * class_recall / (class_precision + class_recall))\n",
    "# print(f'f1_score_numpy: {f1_score_numpy}')"
   ]
  },
  {
   "cell_type": "code",
   "execution_count": 58,
   "metadata": {},
   "outputs": [
    {
     "name": "stdout",
     "output_type": "stream",
     "text": [
      "Class                          Recall          Precision       F1 Score       \n",
      "---------------------------------------------------------------------------\n",
      "Kalimantan_Pontianak           97.35%          94.02%          95.65%         \n",
      "Cirebon                        93.81%          97.25%          95.50%         \n",
      "Yogyakarta_Sekar Jagad         88.64%          90.70%          89.66%         \n",
      "Yogyakarta Tambal              85.82%          93.80%          89.63%         \n",
      "Kulon Progo_Geblek Renteng     92.42%          84.72%          88.41%         \n",
      "Pati                           85.22%          88.29%          86.73%         \n",
      "Bali                           86.33%          86.33%          86.33%         \n",
      "Papua_Cendrawasih              78.57%          90.91%          84.29%         \n",
      "Madura                         70.71%          72.16%          71.43%         \n",
      "Yogyakarta_Kawung              61.54%          80.00%          69.57%         \n",
      "Aceh                           74.07%          63.83%          68.57%         \n",
      "Solo_Sidoluhur                 70.00%          53.85%          60.87%         \n",
      "Kalimantan_Dayak               83.33%          42.86%          56.60%         \n",
      "Betawi                         55.56%          42.86%          48.39%         \n",
      "Maluku_Pala Cengkeh            33.33%          50.00%          40.00%         \n",
      "Ciamis                         30.00%          37.50%          33.33%         \n",
      "Garut                          20.00%          33.33%          25.00%         \n",
      "Solo_Sogan                     20.00%          28.57%          23.53%         \n",
      "Tasikmalaya_Priyangan          20.00%          15.38%          17.39%         \n",
      "Pekalongan                     20.00%          9.52%           12.90%         \n",
      "\n",
      "Overall Metrics:\n",
      "Recall: 63.33%\n",
      "Precision: 62.79%\n",
      "Overall F1 Score: 63.06%\n"
     ]
    }
   ],
   "source": [
    "# Calculate precision, recall, and F1 score for each class\n",
    "\n",
    "metrics_per_class = []\n",
    "for i in range(len(LABEL_NAMES)):\n",
    "    recall = conf_matrix[i, i] / np.sum(conf_matrix[i, :])\n",
    "    precision = conf_matrix[i, i] / np.sum(conf_matrix[:, i])\n",
    "    f1_score = 2 * (precision * recall) / (precision + recall) if (precision + recall) != 0 else 0\n",
    "    \n",
    "    metrics_per_class.append({'Class': LABEL_NAMES[i], 'Recall': recall, 'Precision': precision, 'F1 Score': f1_score})\n",
    "\n",
    "# Sort metrics by F1 Score\n",
    "metrics_per_class_sorted = sorted(metrics_per_class, key=lambda x: x['F1 Score'], reverse=True)\n",
    "\n",
    "# Print metrics for each class\n",
    "print(\"{:<30} {:<15} {:<15} {:<15}\".format('Class', 'Recall', 'Precision', 'F1 Score'))\n",
    "print(\"-\" * 75)\n",
    "for metric in metrics_per_class_sorted:\n",
    "    print(\"{:<30} {:<15.2%} {:<15.2%} {:<15.2%}\".format(metric['Class'], metric['Recall'], metric['Precision'], metric['F1 Score']))\n",
    "\n",
    "# Calculate overall F1 Score using the standard equation\n",
    "overall_precision = np.mean([metric['Precision'] for metric in metrics_per_class])\n",
    "overall_recall = np.mean([metric['Recall'] for metric in metrics_per_class])\n",
    "overall_f1_score = 2 * (overall_precision * overall_recall) / (overall_precision + overall_recall) if (overall_precision + overall_recall) != 0 else 0\n",
    "\n",
    "print(\"\\nOverall Metrics:\")\n",
    "print(f'Recall: {avg_recall:.2%}')\n",
    "print(f'Precision: {avg_precision:.2%}')\n",
    "print(f'Overall F1 Score: {overall_f1_score:.2%}')"
   ]
  },
  {
   "cell_type": "markdown",
   "metadata": {},
   "source": [
    "## LOAD MODEL CLASSIFICATION REPORT"
   ]
  },
  {
   "cell_type": "markdown",
   "metadata": {},
   "source": [
    "### Evaluation - Save results to csv to reuse on later stage"
   ]
  },
  {
   "cell_type": "code",
   "execution_count": 59,
   "metadata": {},
   "outputs": [],
   "source": [
    "# def save_results_to_csv(file_path, model_name, phase, loss, accuracy):\n",
    "#     # Check if file exists\n",
    "#     try:\n",
    "#         with open(file_path, 'x', newline='') as csvfile:\n",
    "#             writer = csv.writer(csvfile)\n",
    "#             writer.writerow(['Model', 'Phase', 'Loss', 'Accuracy'])\n",
    "#     except FileExistsError:\n",
    "#         pass\n",
    "\n",
    "#     # Append the results\n",
    "#     with open(file_path, 'a', newline='') as csvfile:\n",
    "#         writer = csv.writer(csvfile)\n",
    "#         writer.writerow([model_name, phase, f\"{loss:.4f}\", f\"{accuracy:.2%}\"])\n",
    "\n",
    "# # Load model\n",
    "# model_name = 'Undersampling_MobileNetV2'\n",
    "next1_model = load_model('/Users/merchika/chikaData/TA/assets/new_models/NEW_UNDERSAMPLING_MOBILENETV2_model_2.h5')\n",
    "\n",
    "# # Define file path\n",
    "# file_path = '/Users/merchika/chikaData/TA/assets/csv/undersampling/mobilenetv2_accuracy_loss_result.csv'"
   ]
  },
  {
   "cell_type": "markdown",
   "metadata": {},
   "source": [
    "#### Train Dataset Phase"
   ]
  },
  {
   "cell_type": "code",
   "execution_count": 60,
   "metadata": {},
   "outputs": [
    {
     "name": "stdout",
     "output_type": "stream",
     "text": [
      "401/401 [==============================] - 415s 1s/step - loss: 0.0846 - accuracy: 0.9743\n",
      "Train loss : 0.0846 and the Train accuracy: 97.43%\n"
     ]
    }
   ],
   "source": [
    "train_loss, train_accuracy = next1_model.evaluate(x_train_normalized, y_train)\n",
    "print(f\"Train loss : {train_loss:0.3} and the Train accuracy: {train_accuracy:0.2%}\")\n",
    "\n",
    "#save_results_to_csv(file_path, model_name, 'Train', train_loss, train_accuracy)"
   ]
  },
  {
   "cell_type": "markdown",
   "metadata": {},
   "source": [
    "#### Validation Dataset Phase"
   ]
  },
  {
   "cell_type": "code",
   "execution_count": 61,
   "metadata": {},
   "outputs": [
    {
     "name": "stdout",
     "output_type": "stream",
     "text": [
      "40/40 [==============================] - 42s 1s/step - loss: 0.7363 - accuracy: 0.8357\n",
      "Val loss : 0.736 and the Val accuracy: 83.57%\n"
     ]
    }
   ],
   "source": [
    "val_loss, val_accuracy = next1_model.evaluate(x_validation_normalized, y_val)\n",
    "print(f\"Val loss : {val_loss:0.3} and the Val accuracy: {val_accuracy:0.2%}\")\n",
    "\n",
    "# save_results_to_csv(file_path, model_name, 'Validation', val_loss, val_accuracy)"
   ]
  },
  {
   "cell_type": "markdown",
   "metadata": {},
   "source": [
    "#### Test Dataset Phase"
   ]
  },
  {
   "cell_type": "code",
   "execution_count": 62,
   "metadata": {},
   "outputs": [
    {
     "name": "stdout",
     "output_type": "stream",
     "text": [
      "49/49 [==============================] - 51s 1s/step - loss: 0.7327 - accuracy: 0.8112\n",
      "Test loss : 0.733 and the Test accuracy: 81.12%\n"
     ]
    }
   ],
   "source": [
    "test_loss, test_accuracy = next1_model.evaluate(x_test_normalized, y_test)\n",
    "print(f\"Test loss : {test_loss:0.3} and the Test accuracy: {test_accuracy:0.2%}\")\n",
    "\n",
    "# save_results_to_csv(file_path, model_name, 'Test', test_loss, test_accuracy)"
   ]
  },
  {
   "cell_type": "markdown",
   "metadata": {},
   "source": [
    "***"
   ]
  },
  {
   "cell_type": "code",
   "execution_count": 24,
   "metadata": {},
   "outputs": [],
   "source": [
    "previous_model = load_model('/Users/merchika/chikaData/TA/assets/new_models/NEW_UNDERSAMPLING_MOBILENETV2_model_2.h5')"
   ]
  },
  {
   "cell_type": "code",
   "execution_count": 25,
   "metadata": {},
   "outputs": [
    {
     "name": "stdout",
     "output_type": "stream",
     "text": [
      "49/49 [==============================] - 147s 3s/step - loss: 0.7407 - accuracy: 0.8119\n",
      "Test loss: 0.741 and the test accuracy:  81.186%\n"
     ]
    }
   ],
   "source": [
    "np.set_printoptions(precision=3)\n",
    "test_loss,test_accuracy = previous_model.evaluate(x_test_normalized, y_test)\n",
    "print(f\"Test loss: {test_loss:0.3} and the test accuracy: {test_accuracy: 0.3%}\")"
   ]
  },
  {
   "cell_type": "code",
   "execution_count": 26,
   "metadata": {},
   "outputs": [
    {
     "name": "stdout",
     "output_type": "stream",
     "text": [
      "1/1 [==============================] - 2s 2s/step\n",
      "1/1 [==============================] - 0s 138ms/step\n",
      "1/1 [==============================] - 0s 171ms/step\n",
      "1/1 [==============================] - 0s 136ms/step\n",
      "1/1 [==============================] - 0s 128ms/step\n",
      "1/1 [==============================] - 0s 136ms/step\n",
      "1/1 [==============================] - 0s 136ms/step\n",
      "1/1 [==============================] - 0s 128ms/step\n",
      "1/1 [==============================] - 0s 161ms/step\n",
      "1/1 [==============================] - 0s 148ms/step\n",
      "For Validation 1: Actual label: 7 vs. Predicted label: 7\n",
      "For Validation 2: Actual label: 9 vs. Predicted label: 9\n",
      "For Validation 3: Actual label: 18 vs. Predicted label: 1\n",
      "For Validation 4: Actual label: 9 vs. Predicted label: 9\n",
      "For Validation 5: Actual label: 5 vs. Predicted label: 19\n",
      "For Validation 6: Actual label: 9 vs. Predicted label: 9\n",
      "For Validation 7: Actual label: 0 vs. Predicted label: 9\n",
      "For Validation 8: Actual label: 9 vs. Predicted label: 9\n",
      "For Validation 9: Actual label: 12 vs. Predicted label: 12\n",
      "For Validation 10: Actual label: 0 vs. Predicted label: 0\n"
     ]
    }
   ],
   "source": [
    "# Initialize lists to store actual and predicted labels\n",
    "actual_labels = []\n",
    "predicted_labels = []\n",
    "\n",
    "# Iterate over the first 10 images in the validation set\n",
    "for i in range(10):\n",
    "    # Get the input image for prediction\n",
    "    input_image = np.expand_dims(x_validation_normalized[i], axis=0)\n",
    "    \n",
    "    # Predict the class probabilities for the input image\n",
    "    raw_predictions = previous_model.predict(input_image)\n",
    "    \n",
    "    # Get the predicted class index\n",
    "    predicted_class_index = np.argmax(raw_predictions, axis=1)[0]\n",
    "    \n",
    "    # Get the actual class label\n",
    "    actual_class_index = np.argmax(y_val[i])\n",
    "    \n",
    "    # Append the actual and predicted labels to the lists\n",
    "    actual_labels.append(actual_class_index)\n",
    "    predicted_labels.append(predicted_class_index)\n",
    "\n",
    "# Print the actual and predicted labels for the first 10 images\n",
    "# print(f\"Actual labels: {actual_labels} vs. Predicted labels: {predicted_labels}\")\n",
    "# print(\"Predicted labels:\", predicted_labels)\n",
    "for i in range(10):\n",
    "    print(f\"For Validation {i + 1}: Actual label: {actual_labels[i]} vs. Predicted label: {predicted_labels[i]}\")"
   ]
  },
  {
   "cell_type": "markdown",
   "metadata": {},
   "source": [
    "***"
   ]
  },
  {
   "cell_type": "code",
   "execution_count": 63,
   "metadata": {},
   "outputs": [],
   "source": [
    "# Save class metrics to CSV\n",
    "file_path = '/Users/merchika/chikaData/TA/assets/csv/new/new_mobilenetv2_undersampling_classes_test_accy_2.csv'  # Change to path\n",
    "dataset_type = 'Undersampling Dataset'  # Update with used dataset type\n",
    "model_architecture = 'MobileNetV2'  # Update with used model architecture\n",
    "\n",
    "def save_class_metrics_to_csv(file_path, dataset_type, model_architecture, sorted_class_metrics):\n",
    "    # Check if file exists\n",
    "    try:\n",
    "        with open(file_path, 'x', newline='') as csvfile:\n",
    "            writer = csv.writer(csvfile)\n",
    "            writer.writerow(['Dataset_Type', 'Model_Architecture', 'Class', 'Test_Loss', 'Test_Accuracy'])\n",
    "    except FileExistsError:\n",
    "        pass\n",
    "\n",
    "# Append sorted class metrics to the CSV file so that the same like print output\n",
    "with open(file_path, 'a', newline='') as csvfile:\n",
    "    writer = csv.writer(csvfile)\n",
    "    for class_name, metrics in sorted_class_metrics:\n",
    "        writer.writerow([\n",
    "            dataset_type,\n",
    "            model_architecture,\n",
    "            class_name,\n",
    "            f\"{metrics['loss']:.4f}\",\n",
    "            f\"{metrics['accuracy']:.2%}\"\n",
    "        ])"
   ]
  },
  {
   "cell_type": "code",
   "execution_count": 64,
   "metadata": {},
   "outputs": [
    {
     "name": "stdout",
     "output_type": "stream",
     "text": [
      "Test Metrics for Each Class (Sorted by Test Accuracy):\n",
      "Class                          Test Loss       Test Accuracy  \n",
      "------------------------------------------------------------\n",
      "Kalimantan_Pontianak           0.087           97.35%         \n",
      "Cirebon                        0.148           93.81%         \n",
      "Kulon Progo_Geblek Renteng     0.305           92.42%         \n",
      "Yogyakarta_Sekar Jagad         0.495           88.64%         \n",
      "Bali                           0.576           86.33%         \n",
      "Yogyakarta Tambal              0.512           85.82%         \n",
      "Pati                           0.567           85.22%         \n",
      "Kalimantan_Dayak               1.063           83.33%         \n",
      "Papua_Cendrawasih              0.585           78.57%         \n",
      "Aceh                           0.687           74.07%         \n",
      "Madura                         0.952           70.71%         \n",
      "Solo_Sidoluhur                 1.667           70.00%         \n",
      "Yogyakarta_Kawung              1.883           61.54%         \n",
      "Betawi                         1.443           55.56%         \n",
      "Maluku_Pala Cengkeh            2.020           33.33%         \n",
      "Ciamis                         3.711           30.00%         \n",
      "Garut                          4.235           20.00%         \n",
      "Pekalongan                     6.158           20.00%         \n",
      "Solo_Sogan                     5.039           20.00%         \n",
      "Tasikmalaya_Priyangan          5.647           20.00%         \n",
      "\n",
      "Overall Test Metrics:\n",
      "Overall test loss: 1.889 and the overall test accuracy: 63.33%\n"
     ]
    }
   ],
   "source": [
    "# Initialize dictionaries to store metrics for each class\n",
    "class_metrics = {class_name: {'loss': 0.0, 'accuracy': 0.0} for class_name in LABEL_NAMES}\n",
    "\n",
    "# Initialize lists to store overall test loss and accuracy for each class\n",
    "overall_test_loss = []\n",
    "overall_test_accuracy = []\n",
    "\n",
    "# Calculate metrics for each class\n",
    "for i, class_name in enumerate(LABEL_NAMES):\n",
    "    # Get indices of test samples belonging to the current class\n",
    "    class_indices = np.where(np.argmax(y_test, axis=1) == i)[0]\n",
    "    \n",
    "    # Select test data and labels for the current class\n",
    "    x_class_test = x_test_normalized[class_indices]\n",
    "    y_class_test = y_test[class_indices]\n",
    "    \n",
    "    # Evaluate the model on the test data for the current class  \n",
    "    class_metrics[class_name]['loss'], class_metrics[class_name]['accuracy'] = next1_model.evaluate(x_class_test, y_class_test, verbose=0)\n",
    "    \n",
    "    # Append metrics to overall lists\n",
    "    overall_test_loss.append(class_metrics[class_name]['loss'])\n",
    "    overall_test_accuracy.append(class_metrics[class_name]['accuracy'])\n",
    "\n",
    "# Sort class metrics by test accuracy\n",
    "sorted_class_metrics = sorted(class_metrics.items(), key=lambda x: x[1]['accuracy'], reverse=True)\n",
    "\n",
    "# Print table for metrics for each class sorted by test accuracy\n",
    "print(\"Test Metrics for Each Class (Sorted by Test Accuracy):\")\n",
    "print(\"{:<30} {:<15} {:<15}\".format(\"Class\", \"Test Loss\", \"Test Accuracy\"))\n",
    "print(\"-\" * 60)\n",
    "for class_name, metrics in sorted_class_metrics:\n",
    "    print(\"{:<30} {:<15.3f} {:<15.2%}\".format(class_name, metrics['loss'], metrics['accuracy']))\n",
    "\n",
    "# Print overall test metrics\n",
    "print(\"\\nOverall Test Metrics:\")\n",
    "print(f\"Overall test loss: {np.mean(overall_test_loss):.3f} and the overall test accuracy: {np.mean(overall_test_accuracy):.2%}\")\n",
    "\n",
    "save_class_metrics_to_csv(file_path, dataset_type, model_architecture, sorted_class_metrics)"
   ]
  },
  {
   "cell_type": "code",
   "execution_count": 65,
   "metadata": {},
   "outputs": [
    {
     "name": "stdout",
     "output_type": "stream",
     "text": [
      "49/49 [==============================] - 47s 934ms/step\n"
     ]
    }
   ],
   "source": [
    "predictions = next1_model.predict(x_test_normalized)\n",
    "y_test_labels = np.argmax(y_test, axis=1)\n",
    "conf_matrix = confusion_matrix(y_true=y_test_labels, y_pred=predictions.argmax(axis=1))"
   ]
  },
  {
   "cell_type": "code",
   "execution_count": 66,
   "metadata": {},
   "outputs": [],
   "source": [
    "nr_rows = conf_matrix.shape[0]\n",
    "nr_cols = conf_matrix.shape[1]"
   ]
  },
  {
   "cell_type": "markdown",
   "metadata": {},
   "source": [
    "## Test Accuracies - By Classes (With Table - Grouped by Test Acc.) - Save to CSV"
   ]
  },
  {
   "cell_type": "code",
   "execution_count": 67,
   "metadata": {},
   "outputs": [],
   "source": [
    "# Save class metrics to CSV\n",
    "file_path = '/Users/merchika/chikaData/TA/assets/csv/new/new_mobilenetv2_undersampling_classes_test_accy_2.csv'  # Change to path\n",
    "dataset_type = 'Undersampling Dataset'  # Update with used dataset type\n",
    "model_architecture = 'MobileNetV2'  # Update with used model architecture\n",
    "\n",
    "def save_metrics_to_csv(file_path, dataset_type, model_architecture, sorted_metrics, overall_metrics):\n",
    "    # Check if file exists\n",
    "    try:\n",
    "        with open(file_path, 'x', newline='') as csvfile:\n",
    "            writer = csv.writer(csvfile)\n",
    "            writer.writerow(['Dataset_Type', 'Model_Architecture', 'Class', 'Recall', 'Precision', 'F1 Score'])\n",
    "    except FileExistsError:\n",
    "        pass\n",
    "\n",
    "    # Append sorted class metrics to the CSV file\n",
    "    with open(file_path, 'a', newline='') as csvfile:\n",
    "        writer = csv.writer(csvfile)\n",
    "        for metric in sorted_metrics:\n",
    "            writer.writerow([\n",
    "                dataset_type,\n",
    "                model_architecture,\n",
    "                metric['Class'],\n",
    "                f\"{metric['Recall']:.2%}\",\n",
    "                f\"{metric['Precision']:.2%}\",\n",
    "                f\"{metric['F1 Score']:.2%}\"\n",
    "            ])\n",
    "\n",
    "        # Add a blank row before the overall metrics\n",
    "        writer.writerow([])\n",
    "\n",
    "        # Append overall metrics\n",
    "        writer.writerow([\n",
    "            dataset_type,\n",
    "            model_architecture,\n",
    "            'Overall',\n",
    "            f\"{overall_metrics['Recall']:.2%}\",\n",
    "            f\"{overall_metrics['Precision']:.2%}\",\n",
    "            f\"{overall_metrics['F1 Score']:.2%}\"\n",
    "        ])"
   ]
  },
  {
   "cell_type": "code",
   "execution_count": 68,
   "metadata": {},
   "outputs": [
    {
     "name": "stdout",
     "output_type": "stream",
     "text": [
      "Class                          Recall          Precision       F1 Score       \n",
      "---------------------------------------------------------------------------\n",
      "Kalimantan_Pontianak           97.35%          94.02%          95.65%         \n",
      "Cirebon                        93.81%          97.25%          95.50%         \n",
      "Yogyakarta_Sekar Jagad         88.64%          90.70%          89.66%         \n",
      "Yogyakarta Tambal              85.82%          93.80%          89.63%         \n",
      "Kulon Progo_Geblek Renteng     92.42%          84.72%          88.41%         \n",
      "Pati                           85.22%          88.29%          86.73%         \n",
      "Bali                           86.33%          86.33%          86.33%         \n",
      "Papua_Cendrawasih              78.57%          90.91%          84.29%         \n",
      "Madura                         70.71%          72.16%          71.43%         \n",
      "Yogyakarta_Kawung              61.54%          80.00%          69.57%         \n",
      "Aceh                           74.07%          63.83%          68.57%         \n",
      "Solo_Sidoluhur                 70.00%          53.85%          60.87%         \n",
      "Kalimantan_Dayak               83.33%          42.86%          56.60%         \n",
      "Betawi                         55.56%          42.86%          48.39%         \n",
      "Maluku_Pala Cengkeh            33.33%          50.00%          40.00%         \n",
      "Ciamis                         30.00%          37.50%          33.33%         \n",
      "Garut                          20.00%          33.33%          25.00%         \n",
      "Solo_Sogan                     20.00%          28.57%          23.53%         \n",
      "Tasikmalaya_Priyangan          20.00%          15.38%          17.39%         \n",
      "Pekalongan                     20.00%          9.52%           12.90%         \n",
      "\n",
      "Overall Metrics:\n",
      "Recall: 63.33%\n",
      "Precision: 62.79%\n",
      "Overall F1 Score: 63.06%\n"
     ]
    }
   ],
   "source": [
    "# Initialize dictionaries to store metrics for each class\n",
    "metrics_per_class = []\n",
    "for i in range(len(LABEL_NAMES)):\n",
    "    recall = conf_matrix[i, i] / np.sum(conf_matrix[i, :])\n",
    "    precision = conf_matrix[i, i] / np.sum(conf_matrix[:, i])\n",
    "    f1_score = 2 * (precision * recall) / (precision + recall) if (precision + recall) != 0 else 0\n",
    "    \n",
    "    metrics_per_class.append({'Class': LABEL_NAMES[i], 'Recall': recall, 'Precision': precision, 'F1 Score': f1_score})\n",
    "\n",
    "# Sort metrics by F1 Score\n",
    "metrics_per_class_sorted = sorted(metrics_per_class, key=lambda x: x['F1 Score'], reverse=True)\n",
    "\n",
    "# Print metrics for each class\n",
    "print(\"{:<30} {:<15} {:<15} {:<15}\".format('Class', 'Recall', 'Precision', 'F1 Score'))\n",
    "print(\"-\" * 75)\n",
    "for metric in metrics_per_class_sorted:\n",
    "    print(\"{:<30} {:<15.2%} {:<15.2%} {:<15.2%}\".format(metric['Class'], metric['Recall'], metric['Precision'], metric['F1 Score']))\n",
    "\n",
    "# Calculate overall metrics\n",
    "overall_precision = np.mean([metric['Precision'] for metric in metrics_per_class])\n",
    "overall_recall = np.mean([metric['Recall'] for metric in metrics_per_class])\n",
    "overall_f1_score = 2 * (overall_precision * overall_recall) / (overall_precision + overall_recall) if (overall_precision + overall_recall) != 0 else 0\n",
    "\n",
    "overall_metrics = {\n",
    "    'Recall': overall_recall,\n",
    "    'Precision': overall_precision,\n",
    "    'F1 Score': overall_f1_score\n",
    "}\n",
    "\n",
    "print(\"\\nOverall Metrics:\")\n",
    "print(f\"Recall: {overall_recall:.2%}\")\n",
    "print(f\"Precision: {overall_precision:.2%}\")\n",
    "print(f\"Overall F1 Score: {overall_f1_score:.2%}\")\n",
    "# Save sorted class metrics and overall metrics to CSV\n",
    "\n",
    "# Calling the function\n",
    "save_metrics_to_csv(file_path, dataset_type, model_architecture, metrics_per_class_sorted, overall_metrics)"
   ]
  },
  {
   "cell_type": "code",
   "execution_count": 69,
   "metadata": {},
   "outputs": [
    {
     "data": {
      "image/png": "[encoded data removed]",
      "text/plain": [
       "<Figure size 665x665 with 2 Axes>"
      ]
     },
     "metadata": {},
     "output_type": "display_data"
    }
   ],
   "source": [
    "plt.figure(figsize=(7,7), dpi=95)\n",
    "plt.imshow(conf_matrix, cmap=plt.cm.Blues)\n",
    "\n",
    "plt.title('Confusion Matrix', fontsize=9)\n",
    "plt.ylabel('Actual Labels', fontsize=6)\n",
    "plt.xlabel('Predicted Labels', fontsize=6)\n",
    "\n",
    "tick_marks = np.arange(test_num_classes)\n",
    "plt.yticks(tick_marks, LABEL_NAMES, fontsize=6)\n",
    "plt.xticks(tick_marks, LABEL_NAMES, fontsize=6, rotation=85)\n",
    "\n",
    "plt.colorbar()\n",
    "\n",
    "for i, j in itertools.product(range(nr_rows), range(nr_cols)):\n",
    "    plt.text(j, i, conf_matrix[i, j], horizontalalignment='center',\n",
    "            color='white' if conf_matrix[i, j] > conf_matrix.max()/2 else 'black')\n",
    "\n",
    "save_path = '/Users/merchika/chikaData/TA/assets/image/CONFUMATR_NEW_UNDERSAMPLING_MOBILENETV2_model_1.png'\n",
    "plt.savefig(save_path)\n",
    "\n",
    "plt.show()"
   ]
  },
  {
   "cell_type": "code",
   "execution_count": 70,
   "metadata": {},
   "outputs": [
    {
     "data": {
      "text/plain": [
       "array([ 60, 120,  15,   3, 106,   2,  15, 110, 122, 140,   6, 110, 196,\n",
       "         2,   7,   2,   2,  16, 117, 121])"
      ]
     },
     "execution_count": 70,
     "metadata": {},
     "output_type": "execute_result"
    }
   ],
   "source": [
    "np.diag(conf_matrix)"
   ]
  },
  {
   "cell_type": "code",
   "execution_count": 71,
   "metadata": {},
   "outputs": [
    {
     "data": {
      "text/plain": [
       "array([0.74074074, 0.86330935, 0.55555556, 0.3       , 0.9380531 ,\n",
       "       0.2       , 0.83333333, 0.97345133, 0.92424242, 0.70707071,\n",
       "       0.33333333, 0.78571429, 0.85217391, 0.2       , 0.7       ,\n",
       "       0.2       , 0.2       , 0.61538462, 0.88636364, 0.85815603])"
      ]
     },
     "execution_count": 71,
     "metadata": {},
     "output_type": "execute_result"
    }
   ],
   "source": [
    "recall = np.diag(conf_matrix) / np.sum(conf_matrix, axis=1)\n",
    "recall"
   ]
  },
  {
   "cell_type": "code",
   "execution_count": 72,
   "metadata": {},
   "outputs": [
    {
     "data": {
      "text/plain": [
       "array([0.63829787, 0.86330935, 0.42857143, 0.375     , 0.97247706,\n",
       "       0.33333333, 0.42857143, 0.94017094, 0.84722222, 0.72164948,\n",
       "       0.5       , 0.90909091, 0.88288288, 0.0952381 , 0.53846154,\n",
       "       0.28571429, 0.15384615, 0.8       , 0.90697674, 0.9379845 ])"
      ]
     },
     "execution_count": 72,
     "metadata": {},
     "output_type": "execute_result"
    }
   ],
   "source": [
    "precision = np.diag(conf_matrix) / np.sum(conf_matrix, axis=0)\n",
    "precision = np.nan_to_num(precision, nan=0)  # assuming there is a NaN then replace with 0\n",
    "precision"
   ]
  },
  {
   "cell_type": "code",
   "execution_count": 73,
   "metadata": {},
   "outputs": [
    {
     "name": "stdout",
     "output_type": "stream",
     "text": [
      "Model recall score is 63.33%\n"
     ]
    }
   ],
   "source": [
    "avg_recall = np.mean(recall)\n",
    "print(f'Model recall score is {avg_recall:.2%}')"
   ]
  },
  {
   "cell_type": "code",
   "execution_count": 74,
   "metadata": {},
   "outputs": [
    {
     "name": "stdout",
     "output_type": "stream",
     "text": [
      "Model precision score is 62.79%\n",
      "Model f score is 63.06%\n"
     ]
    }
   ],
   "source": [
    "avg_precision = np.mean(precision)\n",
    "print(f'Model precision score is {avg_precision:.2%}')\n",
    "\n",
    "f1_score = 2 * (avg_precision * avg_recall) / (avg_precision + avg_recall)\n",
    "print(f'Model f score is {f1_score:.2%}')"
   ]
  },
  {
   "cell_type": "markdown",
   "metadata": {},
   "source": [
    "#### USING SKLEARN CLASSIFICATION REPORT\n"
   ]
  },
  {
   "cell_type": "code",
   "execution_count": 75,
   "metadata": {},
   "outputs": [
    {
     "name": "stdout",
     "output_type": "stream",
     "text": [
      "                            precision    recall  f1-score   support\n",
      "      Kalimantan_Pontianak     0.9402     0.9735     0.9565     113\n",
      "                   Cirebon     0.9725     0.9381     0.955      113\n",
      "    Yogyakarta_Sekar Jagad     0.907      0.8864     0.8966     132\n",
      "         Yogyakarta Tambal     0.938      0.8582     0.8963     141\n",
      "Kulon Progo_Geblek Renteng     0.8472     0.9242     0.8841     132\n",
      "                      Pati     0.8829     0.8522     0.8673     230\n",
      "                      Bali     0.8633     0.8633     0.8633     139\n",
      "         Papua_Cendrawasih     0.9091     0.7857     0.8429     140\n",
      "                    Madura     0.7216     0.7071     0.7143     198\n",
      "         Yogyakarta_Kawung     0.8        0.6154     0.6957     26\n",
      "                      Aceh     0.6383     0.7407     0.6857     81\n",
      "            Solo_Sidoluhur     0.5385     0.7        0.6087     10\n",
      "          Kalimantan_Dayak     0.4286     0.8333     0.566      18\n",
      "                    Betawi     0.4286     0.5556     0.4839     27\n",
      "       Maluku_Pala Cengkeh     0.5        0.3333     0.4        18\n",
      "                    Ciamis     0.375      0.3        0.3333     10\n",
      "                     Garut     0.3333     0.2        0.25       10\n",
      "                Solo_Sogan     0.2857     0.2        0.2353     10\n",
      "     Tasikmalaya_Priyangan     0.1538     0.2        0.1739     10\n",
      "                Pekalongan     0.0952     0.2        0.129      10\n",
      "\n",
      "                  accuracy                         0.8112      1568\n",
      "                 macro avg     0.6279    0.6333    0.6219      1568\n",
      "              weighted avg     0.8238    0.8112    0.8149      1568\n"
     ]
    }
   ],
   "source": [
    "import re\n",
    "\n",
    "# Define a function to convert float to percentage\n",
    "def convert_to_percentage(value):\n",
    "    # return f\"{value * 100:.2f}%\"\n",
    "    return f\"{value}\"\n",
    "# Generate the classification report\n",
    "report = classification_report(y_test_labels, predictions.argmax(axis=1), target_names=LABEL_NAMES, zero_division=0, digits=4)\n",
    "\n",
    "# Separate the report into class metrics and summary metrics\n",
    "lines = report.split('\\n')\n",
    "class_metrics = []\n",
    "summary_metrics = []\n",
    "headings = None\n",
    "\n",
    "# Iterate through each line in the report\n",
    "for line in lines:\n",
    "    # Check for headings\n",
    "    if 'precision' in line and 'recall' in line and 'f1-score' in line and 'support' in line:\n",
    "        headings = line\n",
    "    \n",
    "    # Check for summary metrics\n",
    "    elif any(summary_key in line for summary_key in ['accuracy', 'macro avg', 'weighted avg']):\n",
    "        summary_metrics.append(line)\n",
    "    else:\n",
    "        # Separate class metric lines\n",
    "        if line.strip():\n",
    "            match = re.search(r\"^([\\w\\s]+)\\s+([\\d.]+)\\s+([\\d.]+)\\s+([\\d.]+)\\s+(\\d+)\", line)\n",
    "            if match:\n",
    "                label = match.group(1)\n",
    "                precision = float(match.group(2))\n",
    "                recall = float(match.group(3))\n",
    "                f1_score = float(match.group(4))\n",
    "                support = int(match.group(5))\n",
    "                class_metrics.append((label, precision, recall, f1_score, support))\n",
    "# Sort class metrics by F1-score in descending order\n",
    "class_metrics.sort(key=lambda x: x[3], reverse=True)\n",
    "\n",
    "# Combine sorted class metrics and summary metrics\n",
    "final_report = []\n",
    "if headings:\n",
    "    final_report.append(headings)\n",
    "\n",
    "# Add sorted class metrics with percentages to the report\n",
    "for label, precision, recall, f1_score, support in class_metrics:\n",
    "    precision_percentage = convert_to_percentage(precision)\n",
    "    recall_percentage = convert_to_percentage(recall)\n",
    "    f1_score_percentage = convert_to_percentage(f1_score)\n",
    "    final_report.append(f\"{label:<30} {precision_percentage:<10} {recall_percentage:<10} {f1_score_percentage:<10} {support}\")\n",
    "\n",
    "# Add an extra blank line before the summary metrics\n",
    "final_report.append('')\n",
    "\n",
    "# Add summary metrics at the bottom\n",
    "final_report.extend(summary_metrics)\n",
    "\n",
    "# Join the report lines and print\n",
    "print('\\n'.join(final_report))"
   ]
  },
  {
   "cell_type": "markdown",
   "metadata": {},
   "source": [
    "#### USING MANUAL"
   ]
  },
  {
   "cell_type": "code",
   "execution_count": 76,
   "metadata": {},
   "outputs": [
    {
     "name": "stdout",
     "output_type": "stream",
     "text": [
      "Class                          Precision    Recall       F1 Score     Support     \n",
      "------------------------------------------------------------------------------\n",
      "Kalimantan_Pontianak           94.02%       97.35%       95.65%       113         \n",
      "Cirebon                        97.25%       93.81%       95.50%       113         \n",
      "Yogyakarta_Sekar Jagad         90.70%       88.64%       89.66%       132         \n",
      "Yogyakarta Tambal              93.80%       85.82%       89.63%       141         \n",
      "Kulon Progo_Geblek Renteng     84.72%       92.42%       88.41%       132         \n",
      "Pati                           88.29%       85.22%       86.73%       230         \n",
      "Bali                           86.33%       86.33%       86.33%       139         \n",
      "Papua_Cendrawasih              90.91%       78.57%       84.29%       140         \n",
      "Madura                         72.16%       70.71%       71.43%       198         \n",
      "Yogyakarta_Kawung              80.00%       61.54%       69.57%       26          \n",
      "Aceh                           63.83%       74.07%       68.57%       81          \n",
      "Solo_Sidoluhur                 53.85%       70.00%       60.87%       10          \n",
      "Kalimantan_Dayak               42.86%       83.33%       56.60%       18          \n",
      "Betawi                         42.86%       55.56%       48.39%       27          \n",
      "Maluku_Pala Cengkeh            50.00%       33.33%       40.00%       18          \n",
      "Ciamis                         37.50%       30.00%       33.33%       10          \n",
      "Garut                          33.33%       20.00%       25.00%       10          \n",
      "Solo_Sogan                     28.57%       20.00%       23.53%       10          \n",
      "Tasikmalaya_Priyangan          15.38%       20.00%       17.39%       10          \n",
      "Pekalongan                     9.52%        20.00%       12.90%       10          \n",
      "\n",
      "\n",
      "accuracy                                                 81.12%       1568\n",
      "macro avg                      62.79%       63.33%       62.19%       1568\n",
      "weighted avg                   82.38%       81.12%       81.49%       1568\n",
      "\n",
      "Overall Metrics:\n",
      "Recall: 63.33%\n",
      "Precision: 62.79%\n",
      "Overall F1 Score: 63.06%\n"
     ]
    }
   ],
   "source": [
    "# ============ then compared with the manual one that we had before Precision, Recall, F1, and modified a bit with Support  ========\n",
    "\n",
    "# Calculate metrics per class and add support\n",
    "metrics_per_class = []\n",
    "for i in range(len(LABEL_NAMES)):\n",
    "    recall = conf_matrix[i, i] / np.sum(conf_matrix[i, :])\n",
    "    precision = conf_matrix[i, i] / np.sum(conf_matrix[:, i])\n",
    "    f1_score = 2 * (precision * recall) / (precision + recall) if (precision + recall) != 0 else 0\n",
    "    \n",
    "    # Calculate support for each class, support is the number of images per class\n",
    "    support = np.sum(conf_matrix[i, :])  # Support is the sum of the row [i] in the confusion matrix\n",
    "    \n",
    "    # Add metrics and support to the list\n",
    "    metrics_per_class.append({\n",
    "        'Class': LABEL_NAMES[i],\n",
    "        'Precision': precision,\n",
    "        'Recall': recall,\n",
    "        'F1 Score': f1_score,\n",
    "        'Support': support\n",
    "    })\n",
    "\n",
    "# Sort metrics by F1 Score\n",
    "metrics_per_class_sorted = sorted(metrics_per_class, key=lambda x: x['F1 Score'], reverse=True)\n",
    "# To print metrics for each class including support\n",
    "print(\"{:<30} {:<12} {:<12} {:<12} {:<12}\".format('Class', 'Precision', 'Recall', 'F1 Score', 'Support'))\n",
    "print(\"-\" * 78)\n",
    "for metric in metrics_per_class_sorted:\n",
    "    print(\"{:<30} {:<12.2%} {:<12.2%} {:<12.2%} {:<12}\".format(\n",
    "        metric['Class'], metric['Precision'], metric['Recall'], metric['F1 Score'], metric['Support']))\n",
    "\n",
    "# Calculate overall F1 Score using the standard equation\n",
    "overall_precision = np.mean([metric['Precision'] for metric in metrics_per_class])\n",
    "overall_recall = np.mean([metric['Recall'] for metric in metrics_per_class])\n",
    "overall_f1_score = 2 * (overall_precision * overall_recall) / (overall_precision + overall_recall) if (overall_precision + overall_recall) != 0 else 0\n",
    "\n",
    "# =================\n",
    "# Adding Accuracy, Macro avg and Weighted avg \n",
    "# Total number of observations (number of classes x no. images / perclass)\n",
    "total_observations = np.sum(conf_matrix)\n",
    "\n",
    "# Calculate accuracy\n",
    "accuracy = np.sum(np.diag(conf_matrix)) / total_observations\n",
    "\n",
    "# Calculate macro average\n",
    "macro_avg_precision = np.mean([metric['Precision'] for metric in metrics_per_class])\n",
    "macro_avg_recall = np.mean([metric['Recall'] for metric in metrics_per_class])\n",
    "macro_avg_f1 = np.mean([metric['F1 Score'] for metric in metrics_per_class])\n",
    "\n",
    "# Calculate weighted average\n",
    "weighted_avg_precision = 0\n",
    "weighted_avg_recall = 0\n",
    "weighted_avg_f1 = 0\n",
    "\n",
    "\n",
    "for i, metric in enumerate(metrics_per_class):\n",
    "    support = np.sum(conf_matrix[i, :])\n",
    "    weight = support / total_observations\n",
    "    \n",
    "    weighted_avg_precision += metric['Precision'] * weight\n",
    "    weighted_avg_recall += metric['Recall'] * weight\n",
    "    weighted_avg_f1 += metric['F1 Score'] * weight\n",
    "\n",
    "print(\"\\n\")\n",
    "# print(f\"{'':<24} {'precision':>12} {'recall':>12} {'f1-score':>12}\")\n",
    "# print(f\"{'accuracy':<45}{accuracy:>12.2%}\")\n",
    "print(f\"{'accuracy':<25}{'':>26.4}{accuracy:>12.2%} {total_observations:>10}\")\n",
    "print(f\"{'macro avg':<25}{macro_avg_precision:>12.2%} {macro_avg_recall:>12.2%} {macro_avg_f1:>12.2%} {total_observations:>10}\")\n",
    "print(f\"{'weighted avg':<25}{weighted_avg_precision:>12.2%} {weighted_avg_recall:>12.2%} {weighted_avg_f1:>12.2%} {total_observations:>10}\")\n",
    "\n",
    "# =================\n",
    "\n",
    "print(\"\\nOverall Metrics:\")\n",
    "print(f\"Recall: {overall_recall:.2%}\")\n",
    "print(f\"Precision: {overall_precision:.2%}\")\n",
    "print(f\"Overall F1 Score: {overall_f1_score:.2%}\")"
   ]
  },
  {
   "cell_type": "markdown",
   "metadata": {},
   "source": [
    "#### COMPARE CLASSIFICATION REPORT VS MANUAL"
   ]
  },
  {
   "cell_type": "code",
   "execution_count": 77,
   "metadata": {},
   "outputs": [
    {
     "name": "stdout",
     "output_type": "stream",
     "text": [
      "Class                      Precision  Recall     F1 Score   Support                                precision    recall  f1-score   support\n",
      "----------------------------------------------------------------------       Kalimantan_Pontianak     94.02%     97.35%     95.65%     113\n",
      "Kalimantan_Pontianak       94.02%     97.35%     95.65%     113                           Cirebon     97.25%     93.81%     95.50%     113\n",
      "Cirebon                    97.25%     93.81%     95.50%     113            Yogyakarta_Sekar Jagad     90.70%     88.64%     89.66%     132\n",
      "Yogyakarta_Sekar Jagad     90.70%     88.64%     89.66%     132                 Yogyakarta Tambal     93.80%     85.82%     89.63%     141\n",
      "Yogyakarta Tambal          93.80%     85.82%     89.63%     141        Kulon Progo_Geblek Renteng     84.72%     92.42%     88.41%     132\n",
      "Kulon Progo_Geblek Renteng 84.72%     92.42%     88.41%     132                              Pati     88.29%     85.22%     86.73%     230\n",
      "Pati                       88.29%     85.22%     86.73%     230                              Bali     86.33%     86.33%     86.33%     139\n",
      "Bali                       86.33%     86.33%     86.33%     139                 Papua_Cendrawasih     90.91%     78.57%     84.29%     140\n",
      "Papua_Cendrawasih          90.91%     78.57%     84.29%     140                            Madura     72.16%     70.71%     71.43%     198\n",
      "Madura                     72.16%     70.71%     71.43%     198                 Yogyakarta_Kawung     80.00%     61.54%     69.57%     26\n",
      "Yogyakarta_Kawung          80.00%     61.54%     69.57%     26                               Aceh     63.83%     74.07%     68.57%     81\n",
      "Aceh                       63.83%     74.07%     68.57%     81                     Solo_Sidoluhur     53.85%     70.00%     60.87%     10\n",
      "Solo_Sidoluhur             53.85%     70.00%     60.87%     10                   Kalimantan_Dayak     42.86%     83.33%     56.60%     18\n",
      "Kalimantan_Dayak           42.86%     83.33%     56.60%     18                             Betawi     42.86%     55.56%     48.39%     27\n",
      "Betawi                     42.86%     55.56%     48.39%     27                Maluku_Pala Cengkeh     50.00%     33.33%     40.00%     18\n",
      "Maluku_Pala Cengkeh        50.00%     33.33%     40.00%     18                             Ciamis     37.50%     30.00%     33.33%     10\n",
      "Ciamis                     37.50%     30.00%     33.33%     10                              Garut     33.33%     20.00%     25.00%     10\n",
      "Garut                      33.33%     20.00%     25.00%     10                         Solo_Sogan     28.57%     20.00%     23.53%     10\n",
      "Solo_Sogan                 28.57%     20.00%     23.53%     10              Tasikmalaya_Priyangan     15.38%     20.00%     17.39%     10\n",
      "Tasikmalaya_Priyangan      15.38%     20.00%     17.39%     10                         Pekalongan     9.52%      20.00%     12.90%     10\n",
      "Pekalongan                 9.52%      20.00%     12.90%     10         \n",
      "                                                                               accuracy                         0.8112      1568\n",
      "                                                                              macro avg     0.6279    0.6333    0.6219      1568\n",
      "                                                                           weighted avg     0.8238    0.8112    0.8149      1568\n"
     ]
    }
   ],
   "source": [
    "# Calculate metrics per class and add support\n",
    "metrics_per_class = []\n",
    "for i in range(len(LABEL_NAMES)):\n",
    "    recall = conf_matrix[i, i] / np.sum(conf_matrix[i, :])\n",
    "    precision = conf_matrix[i, i] / np.sum(conf_matrix[:, i])\n",
    "    f1_score = 2 * (precision * recall) / (precision + recall) if (precision + recall) != 0 else 0\n",
    "    \n",
    "    # Calculate support for each class\n",
    "    support = np.sum(conf_matrix[i, :])  # Support is the sum of the row i in the confusion matrix\n",
    "    \n",
    "    # Add metrics and support to the list\n",
    "    metrics_per_class.append({\n",
    "        'Class': LABEL_NAMES[i],\n",
    "        'Precision': precision,\n",
    "        'Recall': recall,\n",
    "        'F1 Score': f1_score,\n",
    "        'Support': support\n",
    "    })\n",
    "\n",
    "# Sort metrics by F1 Score\n",
    "metrics_per_class_sorted = sorted(metrics_per_class, key=lambda x: x['F1 Score'], reverse=True)\n",
    "\n",
    "# Prepare output for the first part\n",
    "output_left = []\n",
    "output_left.append(\"{:<26} {:<10} {:<10} {:<10} {:<10}\".format('Class', 'Precision', 'Recall', 'F1 Score', 'Support'))\n",
    "output_left.append(\"-\" * 70)\n",
    "for metric in metrics_per_class_sorted:\n",
    "    output_left.append(\"{:<26} {:<10.2%} {:<10.2%} {:<10.2%} {:<10}\".format(\n",
    "        metric['Class'], metric['Precision'], metric['Recall'], metric['F1 Score'], metric['Support']))\n",
    "\n",
    "output_left.append(\"\\n\")\n",
    "\n",
    "# Calculate overall F1 Score using the standard equation\n",
    "overall_precision = np.mean([metric['Precision'] for metric in metrics_per_class])\n",
    "overall_recall = np.mean([metric['Recall'] for metric in metrics_per_class])\n",
    "overall_f1_score = 2 * (overall_precision * overall_recall) / (overall_precision + overall_recall) if (overall_precision + overall_recall) != 0 else 0\n",
    "# Adding Accuracy, Macro avg and Weighted avg\n",
    "total_observations = np.sum(conf_matrix)\n",
    "\n",
    "accuracy = np.sum(np.diag(conf_matrix)) / total_observations\n",
    "\n",
    "macro_avg_precision = np.mean([metric['Precision'] for metric in metrics_per_class])\n",
    "macro_avg_recall = np.mean([metric['Recall'] for metric in metrics_per_class])\n",
    "macro_avg_f1 = np.mean([metric['F1 Score'] for metric in metrics_per_class])\n",
    "\n",
    "weighted_avg_precision = 0\n",
    "weighted_avg_recall = 0\n",
    "weighted_avg_f1 = 0\n",
    "\n",
    "for i, metric in enumerate(metrics_per_class):\n",
    "    support = np.sum(conf_matrix[i, :])\n",
    "    weight = support / total_observations\n",
    "    \n",
    "    weighted_avg_precision += metric['Precision'] * weight\n",
    "    weighted_avg_recall += metric['Recall'] * weight\n",
    "    weighted_avg_f1 += metric['F1 Score'] * weight\n",
    "\n",
    "output_left.append(\"\\n\")\n",
    "output_left.append(f\"{'accuracy':<25}{'':>26.4}{accuracy:>12.2%} {total_observations:>10}\")\n",
    "output_left.append(f\"{'macro avg':<25}{macro_avg_precision:>12.2%} {macro_avg_recall:>12.2%} {macro_avg_f1:>12.2%} {total_observations:>10}\")\n",
    "output_left.append(f\"{'weighted avg':<25}{weighted_avg_precision:>12.2%} {weighted_avg_recall:>12.2%} {weighted_avg_f1:>12.2%} {total_observations:>10}\")\n",
    "\n",
    "output_left.append(\"\\nOverall Metrics:\")\n",
    "output_left.append(f\"Recall: {overall_recall:.2%}\")\n",
    "output_left.append(f\"Precision: {overall_precision:.2%}\")\n",
    "output_left.append(f\"Overall F1 Score: {overall_f1_score:.2%}\")\n",
    "output_left = \"\\n\".join(output_left)\n",
    "\n",
    "# Define a function to convert float to percentage\n",
    "def convert_to_percentage(value):\n",
    "    return f\"{value * 100:.2f}%\"\n",
    "\n",
    "# Generate the classification report\n",
    "report = classification_report(y_test_labels, predictions.argmax(axis=1), target_names=LABEL_NAMES, zero_division=0, digits=4)\n",
    "\n",
    "# Separate the report into class metrics and summary metrics\n",
    "lines = report.split('\\n')\n",
    "class_metrics = []\n",
    "summary_metrics = []\n",
    "headings = None\n",
    "\n",
    "# Iterate through each line in the report\n",
    "for line in lines:\n",
    "    # Check for headings\n",
    "    if 'precision' in line and 'recall' in line and 'f1-score' in line and 'support' in line:\n",
    "        headings = line\n",
    "    \n",
    "    # Check for summary metrics\n",
    "    elif any(summary_key in line for summary_key in ['accuracy', 'macro avg', 'weighted avg']):\n",
    "        summary_metrics.append(line)\n",
    "    else:\n",
    "        # Separate class metric lines\n",
    "        if line.strip():\n",
    "            match = re.search(r\"^([\\w\\s]+)\\s+([\\d.]+)\\s+([\\d.]+)\\s+([\\d.]+)\\s+(\\d+)\", line)\n",
    "            if match:\n",
    "                label = match.group(1)\n",
    "                precision = float(match.group(2))\n",
    "                recall = float(match.group(3))\n",
    "                f1_score = float(match.group(4))\n",
    "                support = int(match.group(5))\n",
    "                class_metrics.append((label, precision, recall, f1_score, support))\n",
    "\n",
    "# Sort class metrics by F1-score in descending order\n",
    "class_metrics.sort(key=lambda x: x[3], reverse=True)\n",
    "\n",
    "# Prepare output for the second part\n",
    "output_right = []\n",
    "if headings:\n",
    "    output_right.append(headings)\n",
    "\n",
    "# Add sorted class metrics with percentages to the report\n",
    "for label, precision, recall, f1_score, support in class_metrics:\n",
    "    precision_percentage = convert_to_percentage(precision)\n",
    "    recall_percentage = convert_to_percentage(recall)\n",
    "    f1_score_percentage = convert_to_percentage(f1_score)\n",
    "    output_right.append(f\"{label:<30} {precision_percentage:<10} {recall_percentage:<10} {f1_score_percentage:<10} {support}\")\n",
    "\n",
    "# Add an extra blank line before the summary metrics\n",
    "output_right.append('')\n",
    "\n",
    "# Add summary metrics at the bottom\n",
    "output_right.extend(summary_metrics)\n",
    "\n",
    "# Convert output_right to a single string\n",
    "output_right = \"\\n\".join(output_right)\n",
    "\n",
    "# Combine the two outputs and print side by side\n",
    "import subprocess\n",
    "\n",
    "# Create a string with the combined output for the left and right parts\n",
    "combined_output = '\\n'.join(f\"{l:60} {r}\" for l, r in zip(output_left.split('\\n'), output_right.split('\\n')))\n",
    "\n",
    "# Print the combined output in two columns\n",
    "print(combined_output)"
   ]
  },
  {
   "cell_type": "markdown",
   "metadata": {},
   "source": [
    "## Predictions"
   ]
  },
  {
   "cell_type": "code",
   "execution_count": null,
   "metadata": {
    "id": "_1OOJsXtkXmj"
   },
   "outputs": [],
   "source": [
    "# next4_model = load_model('/content/saved_models/hist4_flat_raw_model.h5')\n",
    "next1_model = load_model('/Users/hendrysi/Data_w/Dev/py/machine_learning/batik/mobilenetv2_hist1_aug_model1_1.h5')"
   ]
  },
  {
   "cell_type": "code",
   "execution_count": null,
   "metadata": {
    "colab": {
     "base_uri": "https://localhost:8080/"
    },
    "executionInfo": {
     "elapsed": 889,
     "status": "ok",
     "timestamp": 1707968236550,
     "user": {
      "displayName": "Henry Si",
      "userId": "17719448117276295977"
     },
     "user_tz": -480
    },
    "id": "8mw5CsLx04dZ",
    "outputId": "43144399-fa4a-4b7a-8aed-e45d0d926da8"
   },
   "outputs": [],
   "source": [
    "np.set_printoptions(precision=3)\n",
    "test_loss, test_accuracy = next1_model.evaluate(x_test_normalized, y_test)\n",
    "print(f\"Test loss : {test_loss:0.3} and the test accuracy: {test_accuracy:0.3%}\")"
   ]
  },
  {
   "cell_type": "code",
   "execution_count": null,
   "metadata": {},
   "outputs": [],
   "source": [
    "print(x_validation_normalized.shape)\n",
    "print(x_test_normalized.shape)\n",
    "print(1020/32)\n",
    "print(1280/32)"
   ]
  },
  {
   "cell_type": "code",
   "execution_count": null,
   "metadata": {},
   "outputs": [],
   "source": [
    "# Initialize lists to store actual and predicted labels\n",
    "actual_labels = []\n",
    "predicted_labels = []\n",
    "\n",
    "# Iterate over the first 10 images in the validation set\n",
    "for i in range(10):\n",
    "    # Get the input image for prediction\n",
    "    input_image = np.expand_dims(x_validation_normalized[i], axis=0)\n",
    "    \n",
    "    # Predict the class probabilities for the input image\n",
    "    raw_predictions = next1_model.predict(input_image)\n",
    "    \n",
    "    # Get the predicted class index\n",
    "    predicted_class_index = np.argmax(raw_predictions, axis=1)[0]\n",
    "    \n",
    "    # Get the actual class label\n",
    "    actual_class_index = np.argmax(y_val[i])\n",
    "    \n",
    "    # Append the actual and predicted labels to the lists\n",
    "    actual_labels.append(actual_class_index)\n",
    "    predicted_labels.append(predicted_class_index)\n",
    "\n",
    "# Print the actual and predicted labels for the first 10 images\n",
    "# print(f\"Actual labels: {actual_labels} vs. Predicted labels: {predicted_labels}\")\n",
    "# print(\"Predicted labels:\", predicted_labels)\n",
    "for i in range(10):\n",
    "    print(f\"For Validation {i + 1}: Actual label: {actual_labels[i]} vs. Predicted label: {predicted_labels[i]}\")"
   ]
  },
  {
   "cell_type": "markdown",
   "metadata": {},
   "source": [
    "## Confusion Matrix"
   ]
  },
  {
   "cell_type": "code",
   "execution_count": null,
   "metadata": {},
   "outputs": [],
   "source": [
    "predictions = next1_model.predict(x_test_normalized)\n",
    "y_test_labels = np.argmax(y_test, axis=1)\n",
    "conf_matrix = confusion_matrix(y_true=y_test_labels, y_pred=predictions.argmax(axis=1))"
   ]
  },
  {
   "cell_type": "code",
   "execution_count": null,
   "metadata": {
    "colab": {
     "base_uri": "https://localhost:8080/"
    },
    "executionInfo": {
     "elapsed": 407,
     "status": "ok",
     "timestamp": 1707967281284,
     "user": {
      "displayName": "Henry Si",
      "userId": "17719448117276295977"
     },
     "user_tz": -480
    },
    "id": "lWEmZLf4-pZz",
    "outputId": "4f962403-74e8-4732-b5c8-9758a0566ccd"
   },
   "outputs": [],
   "source": [
    "conf_matrix.shape"
   ]
  },
  {
   "cell_type": "code",
   "execution_count": null,
   "metadata": {
    "id": "cQNoEDQA-r-9"
   },
   "outputs": [],
   "source": [
    "nr_rows = conf_matrix.shape[0]\n",
    "nr_cols = conf_matrix.shape[1]"
   ]
  },
  {
   "cell_type": "code",
   "execution_count": null,
   "metadata": {},
   "outputs": [],
   "source": [
    "1280/32"
   ]
  },
  {
   "cell_type": "code",
   "execution_count": null,
   "metadata": {
    "colab": {
     "base_uri": "https://localhost:8080/",
     "height": 647
    },
    "executionInfo": {
     "elapsed": 1055,
     "status": "ok",
     "timestamp": 1707967290944,
     "user": {
      "displayName": "Henry Si",
      "userId": "17719448117276295977"
     },
     "user_tz": -480
    },
    "id": "wG27a0bb-zmU",
    "outputId": "131a133c-88ab-420e-c1c5-972fc32130d9"
   },
   "outputs": [],
   "source": [
    "plt.figure(figsize=(7,7), dpi=95)\n",
    "plt.imshow(conf_matrix, cmap=plt.cm.Blues)\n",
    "\n",
    "plt.title('Confusion Matrix', fontsize=9)\n",
    "plt.ylabel('Actual Labels', fontsize=6)\n",
    "plt.xlabel('Predicted Labels', fontsize=6)\n",
    "\n",
    "tick_marks = np.arange(test_num_classes)\n",
    "plt.yticks(tick_marks, LABEL_NAMES, fontsize=6)\n",
    "plt.xticks(tick_marks, LABEL_NAMES, fontsize=6, rotation=85)\n",
    "\n",
    "plt.colorbar()\n",
    "\n",
    "for i, j in itertools.product(range(nr_rows), range(nr_cols)):\n",
    "    plt.text(j, i, conf_matrix[i, j], horizontalalignment='center',\n",
    "            color='white' if conf_matrix[i, j] > conf_matrix.max()/2 else 'black')\n",
    "\n",
    "plt.show()"
   ]
  },
  {
   "cell_type": "markdown",
   "metadata": {},
   "source": [
    "## True Positive, Recall, Precision, F1-Score"
   ]
  },
  {
   "cell_type": "code",
   "execution_count": null,
   "metadata": {
    "colab": {
     "base_uri": "https://localhost:8080/"
    },
    "executionInfo": {
     "elapsed": 483,
     "status": "ok",
     "timestamp": 1707967338975,
     "user": {
      "displayName": "Henry Si",
      "userId": "17719448117276295977"
     },
     "user_tz": -480
    },
    "id": "6664tEW1-3hc",
    "outputId": "535eb4a6-60cb-4145-c42e-526b3cf14a2c"
   },
   "outputs": [],
   "source": [
    "np.diag(conf_matrix)"
   ]
  },
  {
   "cell_type": "code",
   "execution_count": null,
   "metadata": {
    "colab": {
     "base_uri": "https://localhost:8080/"
    },
    "executionInfo": {
     "elapsed": 338,
     "status": "ok",
     "timestamp": 1707967356604,
     "user": {
      "displayName": "Henry Si",
      "userId": "17719448117276295977"
     },
     "user_tz": -480
    },
    "id": "thlBYRPr_A1v",
    "outputId": "fc20249d-7e15-42a0-efdb-360ee9ef0a13"
   },
   "outputs": [],
   "source": [
    "recall = np.diag(conf_matrix) / np.sum(conf_matrix, axis=1)\n",
    "recall"
   ]
  },
  {
   "cell_type": "code",
   "execution_count": null,
   "metadata": {
    "colab": {
     "base_uri": "https://localhost:8080/"
    },
    "executionInfo": {
     "elapsed": 366,
     "status": "ok",
     "timestamp": 1707967361415,
     "user": {
      "displayName": "Henry Si",
      "userId": "17719448117276295977"
     },
     "user_tz": -480
    },
    "id": "7tJOpyIs_EEQ",
    "outputId": "65f2d82b-66ac-4251-e206-9e83a9d1b5c8"
   },
   "outputs": [],
   "source": [
    "# axis=0 means the sum will be calculated along the vertical axis (column-wise)\n",
    "# axis=1 means the sum is calculated along the horizontal axis (row-wise)\n",
    "precision = np.diag(conf_matrix) / np.sum(conf_matrix, axis=0)\n",
    "precision = np.nan_to_num(precision, nan=0)  # assuming there is a NaN then replace with 0\n",
    "precision\n",
    "\n",
    "# Use this if there is no NaN\n",
    "# precision = np.diag(conf_matrix) / np.sum(conf_matrix, axis=0)\n",
    "# precision"
   ]
  },
  {
   "cell_type": "code",
   "execution_count": null,
   "metadata": {
    "colab": {
     "base_uri": "https://localhost:8080/"
    },
    "executionInfo": {
     "elapsed": 309,
     "status": "ok",
     "timestamp": 1707967378575,
     "user": {
      "displayName": "Henry Si",
      "userId": "17719448117276295977"
     },
     "user_tz": -480
    },
    "id": "duxXLPe-_HfE",
    "outputId": "df05ee6c-66bb-4b1c-b25b-e678105e799f"
   },
   "outputs": [],
   "source": [
    "avg_recall = np.mean(recall)\n",
    "print(f'Model recall score is {avg_recall:.2%}')"
   ]
  },
  {
   "cell_type": "code",
   "execution_count": null,
   "metadata": {
    "colab": {
     "base_uri": "https://localhost:8080/"
    },
    "executionInfo": {
     "elapsed": 336,
     "status": "ok",
     "timestamp": 1707967385255,
     "user": {
      "displayName": "Henry Si",
      "userId": "17719448117276295977"
     },
     "user_tz": -480
    },
    "id": "OIcvMvM0_KpW",
    "outputId": "20030d2b-3850-45a8-b1bf-57545da77b8c"
   },
   "outputs": [],
   "source": [
    "avg_precision = np.mean(precision)\n",
    "print(f'Model precision score is {avg_precision:.2%}')\n",
    "\n",
    "f1_score = 2 * (avg_precision * avg_recall) / (avg_precision + avg_recall)\n",
    "print(f'Model f score is {f1_score:.2%}')\n",
    "\n",
    "# f1_score_numpy = np.mean(2 * class_precision * class_recall / (class_precision + class_recall))\n",
    "# print(f'f1_score_numpy: {f1_score_numpy}')"
   ]
  },
  {
   "cell_type": "code",
   "execution_count": null,
   "metadata": {},
   "outputs": [],
   "source": [
    "# predictions = next1_model.predict(x_test_normalized)\n",
    "# y_test_labels = np.argmax(y_test, axis=1)\n",
    "# conf_matrix = confusion_matrix(y_true=y_test_labels, y_pred=predictions.argmax(axis=1))\n",
    "\n",
    "metrics_per_class = []\n",
    "for i in range(len(LABEL_NAMES)):\n",
    "    recall = conf_matrix[i, i] / np.sum(conf_matrix[i, :])\n",
    "    precision = conf_matrix[i, i] / np.sum(conf_matrix[:, i])\n",
    "    f1_score = 2 * (precision * recall) / (precision + recall) if (precision + recall) != 0 else 0\n",
    "    \n",
    "    metrics_per_class.append({'Class': LABEL_NAMES[i], 'Recall': recall, 'Precision': precision, 'F1 Score': f1_score})\n",
    "\n",
    "# Sort metrics by F1 Score\n",
    "metrics_per_class_sorted = sorted(metrics_per_class, key=lambda x: x['F1 Score'], reverse=True)\n",
    "\n",
    "# To print metrics for each class\n",
    "print(\"{:<30} {:<15} {:<15} {:<15}\".format('Class', 'Recall', 'Precision', 'F1 Score'))\n",
    "print(\"-\" * 75)\n",
    "for metric in metrics_per_class_sorted:\n",
    "    print(\"{:<30} {:<15.2%} {:<15.2%} {:<15.2%}\".format(metric['Class'], metric['Recall'], metric['Precision'], metric['F1 Score']))\n",
    "\n",
    "# Calculate overall F1 Score using the standard equation\n",
    "overall_precision = np.mean([metric['Precision'] for metric in metrics_per_class])\n",
    "overall_recall = np.mean([metric['Recall'] for metric in metrics_per_class])\n",
    "overall_f1_score = 2 * (overall_precision * overall_recall) / (overall_precision + overall_recall) if (overall_precision + overall_recall) != 0 else 0\n",
    "\n",
    "print(\"\\nOverall Metrics:\")\n",
    "print(f'Recall: {avg_recall:.2%}')\n",
    "print(f'Precision: {avg_precision:.2%}')\n",
    "print(f'Overall F1 Score: {overall_f1_score:.2%}')"
   ]
  },
  {
   "cell_type": "code",
   "execution_count": null,
   "metadata": {
    "colab": {
     "base_uri": "https://localhost:8080/",
     "height": 927
    },
    "executionInfo": {
     "elapsed": 862,
     "status": "ok",
     "timestamp": 1707969294129,
     "user": {
      "displayName": "Henry Si",
      "userId": "17719448117276295977"
     },
     "user_tz": -480
    },
    "id": "eCqD6FjsqUiD",
    "outputId": "900bb0c5-7633-4f55-e013-7062deb602e8"
   },
   "outputs": [],
   "source": [
    "# Load the training history data from the JSON files\n",
    "# history_file1 = '/content/saved_models/aug_cnn_history1.json'  # COLAB\n",
    "# history_file2 = '/content/saved_models/aug_cnn_history2.json'  # COLAB\n",
    "history_file1 = '/Users/hendrysi/Data_w/Dev/py/machine_learning/batik/aug_cnn_history1.json'  # Jupyter NB\n",
    "history_file2 = '/Users/hendrysi/Data_w/Dev/py/machine_learning/batik/aug_cnn_history2.json'  # Jupyter NB\n",
    "\n",
    "def load_history_data(file_path):\n",
    "    with open(file_path, 'r') as file:\n",
    "        history_data = [json.loads(line) for line in file]\n",
    "    return history_data\n",
    "\n",
    "history_data1 = load_history_data(history_file1)\n",
    "history_data2 = load_history_data(history_file2)\n",
    "# print(history_data1)\n",
    "# print(history_data2)\n",
    "\n",
    "# Extract metrics data from the first training session\n",
    "acc_1 = [epoch['accuracy'] for epoch in history_data1]\n",
    "val_acc_1 = [epoch['val_accuracy'] for epoch in history_data1]\n",
    "loss_1 = [epoch['loss'] for epoch in history_data1]\n",
    "val_loss_1 = [epoch['val_loss'] for epoch in history_data1]\n",
    "epochs_1 = range(1, len(acc_1) + 1)\n",
    "\n",
    "# Extract metrics data from the second training session\n",
    "acc_2 = [epoch['accuracy'] for epoch in history_data2]\n",
    "val_acc_2 = [epoch['val_accuracy'] for epoch in history_data2]\n",
    "loss_2 = [epoch['loss'] for epoch in history_data2]\n",
    "val_loss_2 = [epoch['val_loss'] for epoch in history_data2]\n",
    "epochs_2 = range(1, len(acc_2) + 1)\n",
    "\n",
    "# Combine the metrics data from both sessions\n",
    "combined_acc = acc_1 + acc_2\n",
    "combined_val_acc = val_acc_1 + val_acc_2\n",
    "combined_loss = loss_1 + loss_2\n",
    "combined_val_loss = val_loss_1 + val_loss_2\n",
    "combined_epochs = range(1, len(combined_acc) + 1)\n",
    "\n",
    "# To plot side-by-side graphs\n",
    "fig, axs = plt.subplots(1, 2, figsize=(12, 4))\n",
    "\n",
    "# Plot accuracy\n",
    "axs[0].plot(combined_epochs, combined_acc, 'g', label='Training accuracy')\n",
    "axs[0].plot(combined_epochs, combined_val_acc, 'orange', label='Validation accuracy')\n",
    "axs[0].set_title('Training and Validation Accuracy')\n",
    "axs[0].set_xlabel('Epochs')\n",
    "axs[0].set_ylabel('Accuracy')\n",
    "axs[0].legend()\n",
    "\n",
    "# Plot loss\n",
    "axs[1].plot(combined_epochs, combined_loss, 'g', label='Training loss')\n",
    "axs[1].plot(combined_epochs, combined_val_loss, 'orange', label='Validation loss')\n",
    "axs[1].set_title('Training and Validation Loss')\n",
    "axs[1].set_xlabel('Epochs')\n",
    "axs[1].set_ylabel('Loss')\n",
    "axs[1].legend()\n",
    "\n",
    "plt.tight_layout()\n",
    "plt.show()\n",
    "\n",
    "# To plot top down graphs\n",
    "# # Plot accuracy\n",
    "# plt.plot(combined_epochs, combined_acc, 'b', label='Training accuracy')\n",
    "# plt.plot(combined_epochs, combined_val_acc, 'g', label='Validation accuracy')\n",
    "# plt.title('Training and Validation Accuracy')\n",
    "# plt.xlabel('Epochs')\n",
    "# plt.ylabel('Accuracy')\n",
    "# plt.legend()\n",
    "# plt.show()\n",
    "\n",
    "# # Plot loss\n",
    "# plt.plot(combined_epochs, combined_loss, 'b', label='Training loss')\n",
    "# plt.plot(combined_epochs, combined_val_loss, 'r', label='Validation loss')\n",
    "# plt.title('Training and Validation Loss')\n",
    "# plt.xlabel('Epochs')\n",
    "# plt.ylabel('Loss')\n",
    "# plt.legend()\n",
    "# plt.show()"
   ]
  }
 ],
 "metadata": {
  "colab": {
   "authorship_tag": "ABX9TyP24dTbyMJaPaRu8wIlLodT",
   "provenance": [
    {
     "file_id": "1SEprQwc0DKAcOJJ1G5eXq8S1iP61IZMr",
     "timestamp": 1708336429531
    },
    {
     "file_id": "1heBOHdcTsqmNd1ElI_6KSby-WDZhDtj5",
     "timestamp": 1707813485946
    }
   ]
  },
  "kernelspec": {
   "display_name": "Python 3 (ipykernel)",
   "language": "python",
   "name": "python3"
  },
  "language_info": {
   "codemirror_mode": {
    "name": "ipython",
    "version": 3
   },
   "file_extension": ".py",
   "mimetype": "text/x-python",
   "name": "python",
   "nbconvert_exporter": "python",
   "pygments_lexer": "ipython3",
   "version": "3.10.12"
  }
 },
 "nbformat": 4,
 "nbformat_minor": 4
}
